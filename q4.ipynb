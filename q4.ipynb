{
  "metadata": {
    "kernelspec": {
      "language": "python",
      "display_name": "Python 3",
      "name": "python3"
    },
    "language_info": {
      "name": "python",
      "version": "3.7.12",
      "mimetype": "text/x-python",
      "codemirror_mode": {
        "name": "ipython",
        "version": 3
      },
      "pygments_lexer": "ipython3",
      "nbconvert_exporter": "python",
      "file_extension": ".py"
    },
    "colab": {
      "provenance": [],
      "include_colab_link": true
    },
    "accelerator": "GPU",
    "gpuClass": "standard"
  },
  "nbformat_minor": 0,
  "nbformat": 4,
  "cells": [
    {
      "cell_type": "markdown",
      "metadata": {
        "id": "view-in-github",
        "colab_type": "text"
      },
      "source": [
        "<a href=\"https://colab.research.google.com/github/WeiKuoLi/single_variable_dnn/blob/main/q4.ipynb\" target=\"_parent\"><img src=\"https://colab.research.google.com/assets/colab-badge.svg\" alt=\"Open In Colab\"/></a>"
      ]
    },
    {
      "cell_type": "code",
      "source": [
        "# This Python 3 environment comes with many helpful analytics libraries installed\n",
        "# It is defined by the kaggle/python Docker image: https://github.com/kaggle/docker-python\n",
        "# For example, here's several helpful packages to load\n",
        "\n",
        "import numpy as np # linear algebra\n",
        "import pandas as pd # data processing, CSV file I/O (e.g. pd.read_csv)\n",
        "\n",
        "# Input data files are available in the read-only \"../input/\" directory\n",
        "# For example, running this (by clicking run or pressing Shift+Enter) will list all files under the input directory\n",
        "\n",
        "import os\n",
        "for dirname, _, filenames in os.walk('/kaggle/input'):\n",
        "    for filename in filenames:\n",
        "        print(os.path.join(dirname, filename))\n",
        "\n",
        "# You can write up to 20GB to the current directory (/kaggle/working/) that gets preserved as output when you create a version using \"Save & Run All\" \n",
        "# You can also write temporary files to /kaggle/temp/, but they won't be saved outside of the current session"
      ],
      "metadata": {
        "_uuid": "8f2839f25d086af736a60e9eeb907d3b93b6e0e5",
        "_cell_guid": "b1076dfc-b9ad-4769-8c92-a6c4dae69d19",
        "execution": {
          "iopub.status.busy": "2022-11-28T15:40:17.915385Z",
          "iopub.execute_input": "2022-11-28T15:40:17.915768Z",
          "iopub.status.idle": "2022-11-28T15:40:17.925285Z",
          "shell.execute_reply.started": "2022-11-28T15:40:17.915736Z",
          "shell.execute_reply": "2022-11-28T15:40:17.923823Z"
        },
        "trusted": true,
        "id": "gda4B9pU9_eX"
      },
      "execution_count": 34,
      "outputs": []
    },
    {
      "cell_type": "code",
      "source": [
        "!mkdir /root/.kaggle\n",
        "!cp kaggle.json /root/.kaggle/\n",
        "!kaggle competitions download -c ml2022spring-hw1\n",
        "!ls /root"
      ],
      "metadata": {
        "colab": {
          "base_uri": "https://localhost:8080/"
        },
        "id": "BGwCrM8f-AU6",
        "outputId": "c3dcc630-1bb0-4144-b3d7-2398ad6e453a"
      },
      "execution_count": 35,
      "outputs": [
        {
          "output_type": "stream",
          "name": "stdout",
          "text": [
            "mkdir: cannot create directory ‘/root/.kaggle’: File exists\n",
            "cp: cannot stat 'kaggle.json': No such file or directory\n",
            "Traceback (most recent call last):\n",
            "  File \"/usr/local/bin/kaggle\", line 5, in <module>\n",
            "    from kaggle.cli import main\n",
            "  File \"/usr/local/lib/python3.8/dist-packages/kaggle/__init__.py\", line 23, in <module>\n",
            "    api.authenticate()\n",
            "  File \"/usr/local/lib/python3.8/dist-packages/kaggle/api/kaggle_api_extended.py\", line 164, in authenticate\n",
            "    raise IOError('Could not find {}. Make sure it\\'s located in'\n",
            "OSError: Could not find kaggle.json. Make sure it's located in /root/.kaggle. Or use the environment method.\n"
          ]
        }
      ]
    },
    {
      "cell_type": "code",
      "source": [
        "#!unzip *.zip"
      ],
      "metadata": {
        "id": "WwXshBmi_nMg"
      },
      "execution_count": 36,
      "outputs": []
    },
    {
      "cell_type": "code",
      "source": [
        " # Numerical Operations\n",
        "import math\n",
        "import numpy as np\n",
        "\n",
        "# Reading/Writing Data\n",
        "import pandas as pd\n",
        "import os\n",
        "import csv\n",
        "\n",
        "# For Progress Bar\n",
        "from tqdm import tqdm\n",
        "\n",
        "# Pytorch\n",
        "import torch \n",
        "import torch.nn as nn\n",
        "from torch.utils.data import Dataset, DataLoader, random_split\n",
        "\n",
        "# For plotting learning curve\n",
        "from torch.utils.tensorboard import SummaryWriter"
      ],
      "metadata": {
        "execution": {
          "iopub.status.busy": "2022-11-28T15:40:17.927782Z",
          "iopub.execute_input": "2022-11-28T15:40:17.928184Z",
          "iopub.status.idle": "2022-11-28T15:40:17.938025Z",
          "shell.execute_reply.started": "2022-11-28T15:40:17.928155Z",
          "shell.execute_reply": "2022-11-28T15:40:17.937134Z"
        },
        "trusted": true,
        "id": "22ftiw199_ea"
      },
      "execution_count": 37,
      "outputs": []
    },
    {
      "cell_type": "code",
      "source": [
        "import random\n",
        "my_x=np.arange(-1,1,0.002)\n",
        "my_y=np.arange(-1,1,0.002)\n",
        "for i in range(my_y.shape[0]):\n",
        "  my_y[i]=((math.sin(.4+7*my_x[i]))+.4)*(math.cos(.4+16*my_x[i]))+random.randint(-20,20)/50.0\n",
        "sampx=pd.DataFrame(my_x,columns=['x'])\n",
        "sampy=pd.DataFrame(my_y,columns=['y'])\n",
        "samp=pd.concat([sampx,sampy],axis=1).iloc[: , :]\n",
        "print(samp.head())\n",
        "samp.to_csv('sample.csv') "
      ],
      "metadata": {
        "colab": {
          "base_uri": "https://localhost:8080/"
        },
        "id": "R14u2gnj74gt",
        "outputId": "5bbc939c-02c7-48a2-c218-ca2671c39804"
      },
      "execution_count": 38,
      "outputs": [
        {
          "output_type": "stream",
          "name": "stdout",
          "text": [
            "       x         y\n",
            "0 -1.000  0.112056\n",
            "1 -0.998  0.059203\n",
            "2 -0.996 -0.353485\n",
            "3 -0.994 -0.085965\n",
            "4 -0.992  0.021806\n"
          ]
        }
      ]
    },
    {
      "cell_type": "code",
      "source": [
        "tmp = pd.read_csv('sample.csv').iloc[: , 1:]\n",
        "  \n",
        "import matplotlib.pyplot as plt\n",
        "tmp.plot(kind='scatter',x=\"x\",y=\"y\") # bar can be replaced by \n",
        "# scatter or line or even left as default\n",
        "plt.show()\n",
        "print(tmp.head())\n",
        "my_x=np.arange(-1,1,0.01)\n",
        "\n",
        "df_test = pd.DataFrame(my_x, columns = ['x' ])\n",
        "df_test.to_csv('test.csv')"
      ],
      "metadata": {
        "colab": {
          "base_uri": "https://localhost:8080/",
          "height": 383
        },
        "id": "1BHan3kdt9X5",
        "outputId": "29755a24-deb4-4d3e-ce78-3b5cdb304178"
      },
      "execution_count": 39,
      "outputs": [
        {
          "output_type": "display_data",
          "data": {
            "text/plain": [
              "<Figure size 432x288 with 1 Axes>"
            ],
            "image/png": "[encoded data removed]"
          },
          "metadata": {
            "needs_background": "light"
          }
        },
        {
          "output_type": "stream",
          "name": "stdout",
          "text": [
            "       x         y\n",
            "0 -1.000  0.112056\n",
            "1 -0.998  0.059203\n",
            "2 -0.996 -0.353485\n",
            "3 -0.994 -0.085965\n",
            "4 -0.992  0.021806\n"
          ]
        }
      ]
    },
    {
      "cell_type": "code",
      "source": [
        "def same_seed(seed): \n",
        "    '''Fixes random number generator seeds for reproducibility.'''\n",
        "    torch.backends.cudnn.deterministic = True\n",
        "    torch.backends.cudnn.benchmark = False\n",
        "    np.random.seed(seed)\n",
        "    torch.manual_seed(seed)\n",
        "    if torch.cuda.is_available():\n",
        "        torch.cuda.manual_seed_all(seed)\n",
        "\n",
        "def train_valid_split(data_set, valid_ratio, seed):\n",
        "    '''Split provided training data into training set and validation set'''\n",
        "    valid_set_size = int(valid_ratio * len(data_set)) \n",
        "    train_set_size = len(data_set) - valid_set_size\n",
        "    train_set, valid_set = random_split(data_set, [train_set_size, valid_set_size], generator=torch.Generator().manual_seed(seed))\n",
        "    return np.array(train_set), np.array(valid_set)\n",
        "\n",
        "def predict(test_loader, model, device):\n",
        "    model.eval() # Set your model to evaluation mode.\n",
        "    preds = []\n",
        "    for x in tqdm(test_loader):\n",
        "        x = x.to(device)                        \n",
        "        with torch.no_grad():                   \n",
        "            pred = model(x)                     \n",
        "            preds.append(pred.detach().cpu())   \n",
        "    preds = torch.cat(preds, dim=0).numpy()  \n",
        "    return preds"
      ],
      "metadata": {
        "execution": {
          "iopub.status.busy": "2022-11-28T15:40:17.939327Z",
          "iopub.execute_input": "2022-11-28T15:40:17.939584Z",
          "iopub.status.idle": "2022-11-28T15:40:17.953796Z",
          "shell.execute_reply.started": "2022-11-28T15:40:17.939560Z",
          "shell.execute_reply": "2022-11-28T15:40:17.952361Z"
        },
        "trusted": true,
        "id": "bope1ayM9_eb"
      },
      "execution_count": 40,
      "outputs": []
    },
    {
      "cell_type": "code",
      "source": [
        "class My_Dataset(Dataset):\n",
        "    '''\n",
        "    x: Features.\n",
        "    y: Targets, if none, do prediction.\n",
        "    '''\n",
        "    def __init__(self, x, y=None):\n",
        "        if y is None:\n",
        "            self.y = y\n",
        "        else:\n",
        "            self.y = torch.FloatTensor(y)\n",
        "        self.x = torch.FloatTensor(x)\n",
        "\n",
        "    def __getitem__(self, idx):\n",
        "        if self.y is None:\n",
        "            return self.x[idx]\n",
        "        else:\n",
        "            return self.x[idx], self.y[idx]\n",
        "\n",
        "    def __len__(self):\n",
        "        return len(self.x)"
      ],
      "metadata": {
        "execution": {
          "iopub.status.busy": "2022-11-28T15:40:17.955923Z",
          "iopub.execute_input": "2022-11-28T15:40:17.956725Z",
          "iopub.status.idle": "2022-11-28T15:40:17.968869Z",
          "shell.execute_reply.started": "2022-11-28T15:40:17.956680Z",
          "shell.execute_reply": "2022-11-28T15:40:17.966715Z"
        },
        "trusted": true,
        "id": "huNPelPe9_ec"
      },
      "execution_count": 41,
      "outputs": []
    },
    {
      "cell_type": "code",
      "source": [
        "class My_Model(nn.Module):\n",
        "    def __init__(self, input_dim):\n",
        "        super(My_Model, self).__init__()\n",
        "        # TODO: modify model's structure, be aware of dimensions. \n",
        "        self.layers = nn.Sequential(\n",
        "            nn.Linear(input_dim, 80),\n",
        "            nn.ReLU(),\n",
        "            nn.Linear(80, 10),\n",
        "            nn.ReLU(), \n",
        "            nn.Linear(10, 1)\n",
        "        )\n",
        "\n",
        "    def forward(self, x):\n",
        "        x = self.layers(x)\n",
        "        x = x.squeeze(1) # (B, 1) -> (B)\n",
        "        return x"
      ],
      "metadata": {
        "execution": {
          "iopub.status.busy": "2022-11-28T15:40:17.971740Z",
          "iopub.execute_input": "2022-11-28T15:40:17.972131Z",
          "iopub.status.idle": "2022-11-28T15:40:17.980760Z",
          "shell.execute_reply.started": "2022-11-28T15:40:17.972096Z",
          "shell.execute_reply": "2022-11-28T15:40:17.979374Z"
        },
        "trusted": true,
        "id": "8VaR_9229_ec"
      },
      "execution_count": 33,
      "outputs": []
    },
    {
      "cell_type": "code",
      "source": [
        "def select_feat(train_data, valid_data, test_data, select_all=True):\n",
        "    '''Selects useful features to perform regression'''\n",
        "    y_train, y_valid = train_data[:,-1], valid_data[:,-1]\n",
        "    raw_x_train, raw_x_valid, raw_x_test = train_data[:,:-1], valid_data[:,:-1], test_data\n",
        "\n",
        "    if select_all:\n",
        "        feat_idx = list(range(raw_x_train.shape[1]))\n",
        "    else:\n",
        "        feat_idx = [0] # TODO: Select suitable feature columns.\n",
        "        \n",
        "    print(feat_idx)\n",
        "    return raw_x_train[:,feat_idx], raw_x_valid[:,feat_idx], raw_x_test[:,feat_idx], y_train, y_valid\n"
      ],
      "metadata": {
        "execution": {
          "iopub.status.busy": "2022-11-28T15:40:17.982158Z",
          "iopub.execute_input": "2022-11-28T15:40:17.982453Z",
          "iopub.status.idle": "2022-11-28T15:40:17.996736Z",
          "shell.execute_reply.started": "2022-11-28T15:40:17.982428Z",
          "shell.execute_reply": "2022-11-28T15:40:17.995986Z"
        },
        "trusted": true,
        "id": "V_z-fZDc9_ed"
      },
      "execution_count": 42,
      "outputs": []
    },
    {
      "cell_type": "code",
      "source": [],
      "metadata": {
        "id": "DM6rqb5EiSLN"
      },
      "execution_count": 42,
      "outputs": []
    },
    {
      "cell_type": "code",
      "source": [
        "def trainer(train_loader, valid_loader, model, config, device):\n",
        "\n",
        "    criterion = nn.MSELoss(reduction='mean') # Define your loss function, do not modify this.\n",
        "\n",
        "    # Define your optimization algorithm. \n",
        "    # TODO: Please check https://pytorch.org/docs/stable/optim.html to get more available algorithms.\n",
        "    # TODO: L2 regularization (optimizer(weight decay...) or implement by your self).\n",
        "    #optimizer = torch.optim.SGD(model.parameters(), lr=config['learning_rate'], momentum=0.9) \n",
        "    optimizer = torch.optim.Adam(model.parameters())\n",
        "    #optimizer = torch.optim.Adam(model.parameters(),lr=0.0007,weight_decay=0.03)\n",
        "    writer = SummaryWriter() # Writer of tensoboard.\n",
        "    if not os.path.isdir('./models'):\n",
        "        os.mkdir('./models') # Create directory of saving models.\n",
        "\n",
        "    n_epochs, best_loss, step, early_stop_count = config['n_epochs'], math.inf, 0, 0\n",
        "\n",
        "    for epoch in range(n_epochs):\n",
        "        model.train() # Set your model to train mode.\n",
        "        loss_record = []\n",
        "\n",
        "        # tqdm is a package to visualize your training progress.\n",
        "        train_pbar = tqdm(train_loader, position=0, leave=True)\n",
        "\n",
        "        for x, y in train_pbar:\n",
        "            optimizer.zero_grad()               # Set gradient to zero.\n",
        "            x, y = x.to(device), y.to(device)   # Move your data to device. \n",
        "            pred = model(x)             \n",
        "            loss = criterion(pred, y)\n",
        "            loss.backward()                     # Compute gradient(backpropagation).\n",
        "            optimizer.step()                    # Update parameters.\n",
        "            step += 1\n",
        "            loss_record.append(loss.detach().item())\n",
        "            \n",
        "            # Display current epoch number and loss on tqdm progress bar.\n",
        "            train_pbar.set_description(f'Epoch [{epoch+1}/{n_epochs}]')\n",
        "            train_pbar.set_postfix({'loss': loss.detach().item()})\n",
        "\n",
        "        mean_train_loss = sum(loss_record)/len(loss_record)\n",
        "        writer.add_scalar('Loss/train', mean_train_loss, step)\n",
        "\n",
        "        model.eval() # Set your model to evaluation mode.\n",
        "        loss_record = []\n",
        "        for x, y in valid_loader:\n",
        "            x, y = x.to(device), y.to(device)\n",
        "            with torch.no_grad():\n",
        "                pred = model(x)\n",
        "                loss = criterion(pred, y)\n",
        "\n",
        "            loss_record.append(loss.item())\n",
        "            \n",
        "        mean_valid_loss = sum(loss_record)/len(loss_record)\n",
        "        print(f'Epoch [{epoch+1}/{n_epochs}]: Train loss: {mean_train_loss:.4f}, Valid loss: {mean_valid_loss:.4f}')\n",
        "        writer.add_scalar('Loss/valid', mean_valid_loss, step)\n",
        "\n",
        "        if mean_valid_loss < best_loss:\n",
        "            best_loss = mean_valid_loss\n",
        "            torch.save(model.state_dict(), config['save_path']) # Save your best model\n",
        "            print('Saving model with loss {:.3f}...'.format(best_loss))\n",
        "            early_stop_count = 0\n",
        "        else: \n",
        "            early_stop_count += 1\n",
        "\n",
        "        if early_stop_count >= config['early_stop']:\n",
        "            print('\\nModel is not improving, so we halt the training session.')\n",
        "            return"
      ],
      "metadata": {
        "execution": {
          "iopub.status.busy": "2022-11-28T15:40:17.998160Z",
          "iopub.execute_input": "2022-11-28T15:40:17.998460Z",
          "iopub.status.idle": "2022-11-28T15:40:18.015477Z",
          "shell.execute_reply.started": "2022-11-28T15:40:17.998428Z",
          "shell.execute_reply": "2022-11-28T15:40:18.013655Z"
        },
        "trusted": true,
        "id": "tI4OF5bf9_ed"
      },
      "execution_count": 43,
      "outputs": []
    },
    {
      "cell_type": "code",
      "source": [
        "device = 'cuda' if torch.cuda.is_available() else 'cpu'\n",
        "config = {\n",
        "    'seed': 5201314,      # Your seed number, you can pick your lucky number. :)\n",
        "    'select_all': True,   # Whether to use all features.\n",
        "    'valid_ratio': 0.2,   # validation_size = train_size * valid_ratio\n",
        "    'n_epochs': 3000,     # Number of epochs.            \n",
        "    'batch_size': 256, \n",
        "    'learning_rate': 1e-3,              \n",
        "    'early_stop': 40,    # If model has not improved for this many consecutive epochs, stop training.     \n",
        "    'save_path': './models/model.ckpt'  # Your model will be saved here.\n",
        "}"
      ],
      "metadata": {
        "execution": {
          "iopub.status.busy": "2022-11-28T15:40:18.167581Z",
          "iopub.execute_input": "2022-11-28T15:40:18.168197Z",
          "iopub.status.idle": "2022-11-28T15:40:18.173754Z",
          "shell.execute_reply.started": "2022-11-28T15:40:18.168156Z",
          "shell.execute_reply": "2022-11-28T15:40:18.172439Z"
        },
        "trusted": true,
        "id": "cLQYkDrf9_ee"
      },
      "execution_count": 44,
      "outputs": []
    },
    {
      "cell_type": "code",
      "source": [
        "!mkdir models\n",
        "!ls"
      ],
      "metadata": {
        "execution": {
          "iopub.status.busy": "2022-11-28T15:40:18.175565Z",
          "iopub.execute_input": "2022-11-28T15:40:18.175867Z",
          "iopub.status.idle": "2022-11-28T15:40:18.737102Z",
          "shell.execute_reply.started": "2022-11-28T15:40:18.175841Z",
          "shell.execute_reply": "2022-11-28T15:40:18.735417Z"
        },
        "trusted": true,
        "colab": {
          "base_uri": "https://localhost:8080/"
        },
        "id": "Gd1TVYN49_ee",
        "outputId": "b381ca52-4297-4d00-9ad1-6c42a69e7d73"
      },
      "execution_count": 45,
      "outputs": [
        {
          "output_type": "stream",
          "name": "stdout",
          "text": [
            "mkdir: cannot create directory ‘models’: File exists\n",
            "models\t\t       runs\t   sample_data\t   test.csv\n",
            "quant_test_matrix.csv  sample.csv  submission.csv\n"
          ]
        }
      ]
    },
    {
      "cell_type": "code",
      "source": [
        "# Set seed for reproducibility\n",
        "same_seed(config['seed'])\n",
        "\n",
        "\n",
        "# train_data size: 2699 x 118 (id + 37 states + 16 features x 5 days) \n",
        "# test_data size: 1078 x 117 (without last day's positive rate)\n",
        "train_data, test_data = pd.read_csv('sample.csv').iloc[: , 1:].values, pd.read_csv('test.csv').iloc[: , 1:].values\n",
        "print(pd.read_csv('./sample.csv').iloc[: , 1:] .head( ))\n",
        "train_data, valid_data = train_valid_split(train_data, config['valid_ratio'], config['seed'])\n",
        "\n",
        "# Print out the data size.\n",
        "print(f\"\"\"train_data size: {train_data.shape} \n",
        "valid_data size: {valid_data.shape} \n",
        "test_data size: {test_data.shape}\"\"\")\n",
        " \n",
        "\n",
        "#print(test_data)\n",
        "\n",
        "# Select features\n",
        "x_train, x_valid, x_test, y_train, y_valid = select_feat(train_data, valid_data, test_data, config['select_all'])\n",
        "\n",
        "# Print out the number of features.\n",
        "print(f'number of features: {x_train.shape[1]}')\n",
        "\n",
        "train_dataset, valid_dataset, test_dataset = My_Dataset(x_train, y_train), \\\n",
        "                                            My_Dataset(x_valid, y_valid), \\\n",
        "                                            My_Dataset(x_test)\n",
        "\n",
        "# Pytorch data loader loads pytorch dataset into batches.\n",
        "train_loader = DataLoader(train_dataset, batch_size=config['batch_size'], shuffle=True, pin_memory=True)\n",
        "valid_loader = DataLoader(valid_dataset, batch_size=config['batch_size'], shuffle=True, pin_memory=True)\n",
        "test_loader = DataLoader(test_dataset, batch_size=config['batch_size'], shuffle=False, pin_memory=True)"
      ],
      "metadata": {
        "execution": {
          "iopub.status.busy": "2022-11-28T15:40:19.019188Z",
          "iopub.execute_input": "2022-11-28T15:40:19.019484Z",
          "iopub.status.idle": "2022-11-28T15:40:19.103500Z",
          "shell.execute_reply.started": "2022-11-28T15:40:19.019456Z",
          "shell.execute_reply": "2022-11-28T15:40:19.102473Z"
        },
        "trusted": true,
        "colab": {
          "base_uri": "https://localhost:8080/"
        },
        "id": "rnqmpqnL9_ef",
        "outputId": "951022d8-bb4d-471d-f6b2-05229240f5e0"
      },
      "execution_count": 46,
      "outputs": [
        {
          "output_type": "stream",
          "name": "stdout",
          "text": [
            "       x         y\n",
            "0 -1.000  0.112056\n",
            "1 -0.998  0.059203\n",
            "2 -0.996 -0.353485\n",
            "3 -0.994 -0.085965\n",
            "4 -0.992  0.021806\n",
            "train_data size: (800, 2) \n",
            "valid_data size: (200, 2) \n",
            "test_data size: (200, 1)\n",
            "[0]\n",
            "number of features: 1\n"
          ]
        }
      ]
    },
    {
      "cell_type": "code",
      "source": [
        " \n",
        "train_data"
      ],
      "metadata": {
        "colab": {
          "base_uri": "https://localhost:8080/"
        },
        "id": "QnQv8X3f4ihV",
        "outputId": "39a3fa0a-3acb-4b89-9089-81e790880676"
      },
      "execution_count": 47,
      "outputs": [
        {
          "output_type": "execute_result",
          "data": {
            "text/plain": [
              "array([[-0.552     , -0.39166239],\n",
              "       [ 0.558     ,  0.37612774],\n",
              "       [ 0.462     ,  0.39549381],\n",
              "       ...,\n",
              "       [-0.836     ,  0.86452187],\n",
              "       [-0.876     ,  0.47990198],\n",
              "       [ 0.526     ,  0.51453629]])"
            ]
          },
          "metadata": {},
          "execution_count": 47
        }
      ]
    },
    {
      "cell_type": "code",
      "source": [
        "model = My_Model(input_dim=x_train.shape[1]).to(device) # put your model and data on the same computation device.\n",
        "trainer(train_loader, valid_loader, model, config, device)"
      ],
      "metadata": {
        "execution": {
          "iopub.status.busy": "2022-11-28T15:40:19.123917Z",
          "iopub.execute_input": "2022-11-28T15:40:19.124293Z",
          "iopub.status.idle": "2022-11-28T15:42:16.399679Z",
          "shell.execute_reply.started": "2022-11-28T15:40:19.124260Z",
          "shell.execute_reply": "2022-11-28T15:42:16.398441Z"
        },
        "trusted": true,
        "colab": {
          "base_uri": "https://localhost:8080/"
        },
        "id": "ae6GIdH59_eg",
        "outputId": "b2df61ea-89e3-4f96-b953-7789934c49ea"
      },
      "execution_count": 48,
      "outputs": [
        {
          "output_type": "stream",
          "name": "stderr",
          "text": [
            "Epoch [1/3000]: 100%|██████████| 4/4 [00:00<00:00, 94.53it/s, loss=0.306]\n"
          ]
        },
        {
          "output_type": "stream",
          "name": "stdout",
          "text": [
            "Epoch [1/3000]: Train loss: 0.3862, Valid loss: 0.4483\n",
            "Saving model with loss 0.448...\n"
          ]
        },
        {
          "output_type": "stream",
          "name": "stderr",
          "text": [
            "Epoch [2/3000]: 100%|██████████| 4/4 [00:00<00:00, 109.98it/s, loss=0.404]\n"
          ]
        },
        {
          "output_type": "stream",
          "name": "stdout",
          "text": [
            "Epoch [2/3000]: Train loss: 0.3951, Valid loss: 0.4309\n",
            "Saving model with loss 0.431...\n"
          ]
        },
        {
          "output_type": "stream",
          "name": "stderr",
          "text": [
            "Epoch [3/3000]: 100%|██████████| 4/4 [00:00<00:00, 114.36it/s, loss=0.417]\n"
          ]
        },
        {
          "output_type": "stream",
          "name": "stdout",
          "text": [
            "Epoch [3/3000]: Train loss: 0.3958, Valid loss: 0.4239\n",
            "Saving model with loss 0.424...\n"
          ]
        },
        {
          "output_type": "stream",
          "name": "stderr",
          "text": [
            "Epoch [4/3000]: 100%|██████████| 4/4 [00:00<00:00, 112.13it/s, loss=0.291]\n"
          ]
        },
        {
          "output_type": "stream",
          "name": "stdout",
          "text": [
            "Epoch [4/3000]: Train loss: 0.3685, Valid loss: 0.4237\n",
            "Saving model with loss 0.424...\n"
          ]
        },
        {
          "output_type": "stream",
          "name": "stderr",
          "text": [
            "Epoch [5/3000]: 100%|██████████| 4/4 [00:00<00:00, 119.54it/s, loss=0.291]\n"
          ]
        },
        {
          "output_type": "stream",
          "name": "stdout",
          "text": [
            "Epoch [5/3000]: Train loss: 0.3671, Valid loss: 0.4281\n"
          ]
        },
        {
          "output_type": "stream",
          "name": "stderr",
          "text": [
            "Epoch [6/3000]: 100%|██████████| 4/4 [00:00<00:00, 114.35it/s, loss=0.425]\n"
          ]
        },
        {
          "output_type": "stream",
          "name": "stdout",
          "text": [
            "Epoch [6/3000]: Train loss: 0.3947, Valid loss: 0.4341\n"
          ]
        },
        {
          "output_type": "stream",
          "name": "stderr",
          "text": [
            "Epoch [7/3000]: 100%|██████████| 4/4 [00:00<00:00, 112.22it/s, loss=0.365]\n"
          ]
        },
        {
          "output_type": "stream",
          "name": "stdout",
          "text": [
            "Epoch [7/3000]: Train loss: 0.3822, Valid loss: 0.4335\n"
          ]
        },
        {
          "output_type": "stream",
          "name": "stderr",
          "text": [
            "Epoch [8/3000]: 100%|██████████| 4/4 [00:00<00:00, 123.90it/s, loss=0.293]\n"
          ]
        },
        {
          "output_type": "stream",
          "name": "stdout",
          "text": [
            "Epoch [8/3000]: Train loss: 0.3652, Valid loss: 0.4282\n"
          ]
        },
        {
          "output_type": "stream",
          "name": "stderr",
          "text": [
            "Epoch [9/3000]: 100%|██████████| 4/4 [00:00<00:00, 106.83it/s, loss=0.345]\n"
          ]
        },
        {
          "output_type": "stream",
          "name": "stdout",
          "text": [
            "Epoch [9/3000]: Train loss: 0.3758, Valid loss: 0.4241\n"
          ]
        },
        {
          "output_type": "stream",
          "name": "stderr",
          "text": [
            "Epoch [10/3000]: 100%|██████████| 4/4 [00:00<00:00, 125.55it/s, loss=0.249]\n"
          ]
        },
        {
          "output_type": "stream",
          "name": "stdout",
          "text": [
            "Epoch [10/3000]: Train loss: 0.3542, Valid loss: 0.4241\n"
          ]
        },
        {
          "output_type": "stream",
          "name": "stderr",
          "text": [
            "Epoch [11/3000]: 100%|██████████| 4/4 [00:00<00:00, 111.34it/s, loss=0.344]\n"
          ]
        },
        {
          "output_type": "stream",
          "name": "stdout",
          "text": [
            "Epoch [11/3000]: Train loss: 0.3746, Valid loss: 0.4286\n"
          ]
        },
        {
          "output_type": "stream",
          "name": "stderr",
          "text": [
            "Epoch [12/3000]: 100%|██████████| 4/4 [00:00<00:00, 106.08it/s, loss=0.442]\n"
          ]
        },
        {
          "output_type": "stream",
          "name": "stdout",
          "text": [
            "Epoch [12/3000]: Train loss: 0.3957, Valid loss: 0.4307\n"
          ]
        },
        {
          "output_type": "stream",
          "name": "stderr",
          "text": [
            "Epoch [13/3000]: 100%|██████████| 4/4 [00:00<00:00, 90.85it/s, loss=0.308]\n"
          ]
        },
        {
          "output_type": "stream",
          "name": "stdout",
          "text": [
            "Epoch [13/3000]: Train loss: 0.3662, Valid loss: 0.4302\n"
          ]
        },
        {
          "output_type": "stream",
          "name": "stderr",
          "text": [
            "Epoch [14/3000]: 100%|██████████| 4/4 [00:00<00:00, 109.26it/s, loss=0.322]\n"
          ]
        },
        {
          "output_type": "stream",
          "name": "stdout",
          "text": [
            "Epoch [14/3000]: Train loss: 0.3686, Valid loss: 0.4276\n"
          ]
        },
        {
          "output_type": "stream",
          "name": "stderr",
          "text": [
            "Epoch [15/3000]: 100%|██████████| 4/4 [00:00<00:00, 111.92it/s, loss=0.389]\n"
          ]
        },
        {
          "output_type": "stream",
          "name": "stdout",
          "text": [
            "Epoch [15/3000]: Train loss: 0.3826, Valid loss: 0.4263\n"
          ]
        },
        {
          "output_type": "stream",
          "name": "stderr",
          "text": [
            "Epoch [16/3000]: 100%|██████████| 4/4 [00:00<00:00, 106.38it/s, loss=0.374]\n"
          ]
        },
        {
          "output_type": "stream",
          "name": "stdout",
          "text": [
            "Epoch [16/3000]: Train loss: 0.3787, Valid loss: 0.4235\n",
            "Saving model with loss 0.423...\n"
          ]
        },
        {
          "output_type": "stream",
          "name": "stderr",
          "text": [
            "Epoch [17/3000]: 100%|██████████| 4/4 [00:00<00:00, 104.35it/s, loss=0.414]\n"
          ]
        },
        {
          "output_type": "stream",
          "name": "stdout",
          "text": [
            "Epoch [17/3000]: Train loss: 0.3872, Valid loss: 0.4215\n",
            "Saving model with loss 0.422...\n"
          ]
        },
        {
          "output_type": "stream",
          "name": "stderr",
          "text": [
            "Epoch [18/3000]: 100%|██████████| 4/4 [00:00<00:00, 110.20it/s, loss=0.281]\n"
          ]
        },
        {
          "output_type": "stream",
          "name": "stdout",
          "text": [
            "Epoch [18/3000]: Train loss: 0.3571, Valid loss: 0.4203\n",
            "Saving model with loss 0.420...\n"
          ]
        },
        {
          "output_type": "stream",
          "name": "stderr",
          "text": [
            "Epoch [19/3000]: 100%|██████████| 4/4 [00:00<00:00, 115.54it/s, loss=0.463]\n"
          ]
        },
        {
          "output_type": "stream",
          "name": "stdout",
          "text": [
            "Epoch [19/3000]: Train loss: 0.3967, Valid loss: 0.4200\n",
            "Saving model with loss 0.420...\n"
          ]
        },
        {
          "output_type": "stream",
          "name": "stderr",
          "text": [
            "Epoch [20/3000]: 100%|██████████| 4/4 [00:00<00:00, 117.73it/s, loss=0.281]\n"
          ]
        },
        {
          "output_type": "stream",
          "name": "stdout",
          "text": [
            "Epoch [20/3000]: Train loss: 0.3566, Valid loss: 0.4195\n",
            "Saving model with loss 0.420...\n"
          ]
        },
        {
          "output_type": "stream",
          "name": "stderr",
          "text": [
            "Epoch [21/3000]: 100%|██████████| 4/4 [00:00<00:00, 104.45it/s, loss=0.344]\n"
          ]
        },
        {
          "output_type": "stream",
          "name": "stdout",
          "text": [
            "Epoch [21/3000]: Train loss: 0.3697, Valid loss: 0.4207\n"
          ]
        },
        {
          "output_type": "stream",
          "name": "stderr",
          "text": [
            "Epoch [22/3000]: 100%|██████████| 4/4 [00:00<00:00, 101.67it/s, loss=0.399]\n"
          ]
        },
        {
          "output_type": "stream",
          "name": "stdout",
          "text": [
            "Epoch [22/3000]: Train loss: 0.3807, Valid loss: 0.4200\n"
          ]
        },
        {
          "output_type": "stream",
          "name": "stderr",
          "text": [
            "Epoch [23/3000]: 100%|██████████| 4/4 [00:00<00:00, 99.26it/s, loss=0.4]\n"
          ]
        },
        {
          "output_type": "stream",
          "name": "stdout",
          "text": [
            "Epoch [23/3000]: Train loss: 0.3806, Valid loss: 0.4196\n"
          ]
        },
        {
          "output_type": "stream",
          "name": "stderr",
          "text": [
            "Epoch [24/3000]: 100%|██████████| 4/4 [00:00<00:00, 99.39it/s, loss=0.301]\n"
          ]
        },
        {
          "output_type": "stream",
          "name": "stdout",
          "text": [
            "Epoch [24/3000]: Train loss: 0.3582, Valid loss: 0.4198\n"
          ]
        },
        {
          "output_type": "stream",
          "name": "stderr",
          "text": [
            "Epoch [25/3000]: 100%|██████████| 4/4 [00:00<00:00, 106.05it/s, loss=0.479]\n"
          ]
        },
        {
          "output_type": "stream",
          "name": "stdout",
          "text": [
            "Epoch [25/3000]: Train loss: 0.3964, Valid loss: 0.4211\n"
          ]
        },
        {
          "output_type": "stream",
          "name": "stderr",
          "text": [
            "Epoch [26/3000]: 100%|██████████| 4/4 [00:00<00:00, 98.78it/s, loss=0.329]\n"
          ]
        },
        {
          "output_type": "stream",
          "name": "stdout",
          "text": [
            "Epoch [26/3000]: Train loss: 0.3633, Valid loss: 0.4200\n"
          ]
        },
        {
          "output_type": "stream",
          "name": "stderr",
          "text": [
            "Epoch [27/3000]: 100%|██████████| 4/4 [00:00<00:00, 91.33it/s, loss=0.359]\n"
          ]
        },
        {
          "output_type": "stream",
          "name": "stdout",
          "text": [
            "Epoch [27/3000]: Train loss: 0.3690, Valid loss: 0.4180\n",
            "Saving model with loss 0.418...\n"
          ]
        },
        {
          "output_type": "stream",
          "name": "stderr",
          "text": [
            "Epoch [28/3000]: 100%|██████████| 4/4 [00:00<00:00, 107.50it/s, loss=0.291]\n"
          ]
        },
        {
          "output_type": "stream",
          "name": "stdout",
          "text": [
            "Epoch [28/3000]: Train loss: 0.3535, Valid loss: 0.4160\n",
            "Saving model with loss 0.416...\n"
          ]
        },
        {
          "output_type": "stream",
          "name": "stderr",
          "text": [
            "Epoch [29/3000]: 100%|██████████| 4/4 [00:00<00:00, 90.18it/s, loss=0.231]\n"
          ]
        },
        {
          "output_type": "stream",
          "name": "stdout",
          "text": [
            "Epoch [29/3000]: Train loss: 0.3401, Valid loss: 0.4173\n"
          ]
        },
        {
          "output_type": "stream",
          "name": "stderr",
          "text": [
            "Epoch [30/3000]: 100%|██████████| 4/4 [00:00<00:00, 104.06it/s, loss=0.354]\n"
          ]
        },
        {
          "output_type": "stream",
          "name": "stdout",
          "text": [
            "Epoch [30/3000]: Train loss: 0.3663, Valid loss: 0.4171\n"
          ]
        },
        {
          "output_type": "stream",
          "name": "stderr",
          "text": [
            "Epoch [31/3000]: 100%|██████████| 4/4 [00:00<00:00, 105.30it/s, loss=0.472]\n"
          ]
        },
        {
          "output_type": "stream",
          "name": "stdout",
          "text": [
            "Epoch [31/3000]: Train loss: 0.3915, Valid loss: 0.4174\n"
          ]
        },
        {
          "output_type": "stream",
          "name": "stderr",
          "text": [
            "Epoch [32/3000]: 100%|██████████| 4/4 [00:00<00:00, 101.26it/s, loss=0.443]\n"
          ]
        },
        {
          "output_type": "stream",
          "name": "stdout",
          "text": [
            "Epoch [32/3000]: Train loss: 0.3843, Valid loss: 0.4139\n",
            "Saving model with loss 0.414...\n"
          ]
        },
        {
          "output_type": "stream",
          "name": "stderr",
          "text": [
            "Epoch [33/3000]: 100%|██████████| 4/4 [00:00<00:00, 98.13it/s, loss=0.418]"
          ]
        },
        {
          "output_type": "stream",
          "name": "stdout",
          "text": [
            "Epoch [33/3000]: Train loss: 0.3784, Valid loss: 0.4090\n"
          ]
        },
        {
          "output_type": "stream",
          "name": "stderr",
          "text": [
            "\n"
          ]
        },
        {
          "output_type": "stream",
          "name": "stdout",
          "text": [
            "Saving model with loss 0.409...\n"
          ]
        },
        {
          "output_type": "stream",
          "name": "stderr",
          "text": [
            "Epoch [34/3000]: 100%|██████████| 4/4 [00:00<00:00, 116.89it/s, loss=0.277]\n"
          ]
        },
        {
          "output_type": "stream",
          "name": "stdout",
          "text": [
            "Epoch [34/3000]: Train loss: 0.3474, Valid loss: 0.4083\n",
            "Saving model with loss 0.408...\n"
          ]
        },
        {
          "output_type": "stream",
          "name": "stderr",
          "text": [
            "Epoch [35/3000]: 100%|██████████| 4/4 [00:00<00:00, 111.23it/s, loss=0.369]\n"
          ]
        },
        {
          "output_type": "stream",
          "name": "stdout",
          "text": [
            "Epoch [35/3000]: Train loss: 0.3676, Valid loss: 0.4091\n"
          ]
        },
        {
          "output_type": "stream",
          "name": "stderr",
          "text": [
            "Epoch [36/3000]: 100%|██████████| 4/4 [00:00<00:00, 114.04it/s, loss=0.403]\n"
          ]
        },
        {
          "output_type": "stream",
          "name": "stdout",
          "text": [
            "Epoch [36/3000]: Train loss: 0.3739, Valid loss: 0.4083\n",
            "Saving model with loss 0.408...\n"
          ]
        },
        {
          "output_type": "stream",
          "name": "stderr",
          "text": [
            "Epoch [37/3000]: 100%|██████████| 4/4 [00:00<00:00, 99.23it/s, loss=0.345]\n"
          ]
        },
        {
          "output_type": "stream",
          "name": "stdout",
          "text": [
            "Epoch [37/3000]: Train loss: 0.3602, Valid loss: 0.4059\n",
            "Saving model with loss 0.406...\n"
          ]
        },
        {
          "output_type": "stream",
          "name": "stderr",
          "text": [
            "Epoch [38/3000]: 100%|██████████| 4/4 [00:00<00:00, 115.53it/s, loss=0.468]\n"
          ]
        },
        {
          "output_type": "stream",
          "name": "stdout",
          "text": [
            "Epoch [38/3000]: Train loss: 0.3866, Valid loss: 0.4056\n",
            "Saving model with loss 0.406...\n"
          ]
        },
        {
          "output_type": "stream",
          "name": "stderr",
          "text": [
            "Epoch [39/3000]: 100%|██████████| 4/4 [00:00<00:00, 109.26it/s, loss=0.323]\n"
          ]
        },
        {
          "output_type": "stream",
          "name": "stdout",
          "text": [
            "Epoch [39/3000]: Train loss: 0.3538, Valid loss: 0.4070\n"
          ]
        },
        {
          "output_type": "stream",
          "name": "stderr",
          "text": [
            "Epoch [40/3000]: 100%|██████████| 4/4 [00:00<00:00, 109.17it/s, loss=0.38]\n"
          ]
        },
        {
          "output_type": "stream",
          "name": "stdout",
          "text": [
            "Epoch [40/3000]: Train loss: 0.3657, Valid loss: 0.4063\n"
          ]
        },
        {
          "output_type": "stream",
          "name": "stderr",
          "text": [
            "Epoch [41/3000]: 100%|██████████| 4/4 [00:00<00:00, 124.16it/s, loss=0.396]\n"
          ]
        },
        {
          "output_type": "stream",
          "name": "stdout",
          "text": [
            "Epoch [41/3000]: Train loss: 0.3686, Valid loss: 0.4060\n"
          ]
        },
        {
          "output_type": "stream",
          "name": "stderr",
          "text": [
            "Epoch [42/3000]: 100%|██████████| 4/4 [00:00<00:00, 86.03it/s, loss=0.25]\n"
          ]
        },
        {
          "output_type": "stream",
          "name": "stdout",
          "text": [
            "Epoch [42/3000]: Train loss: 0.3355, Valid loss: 0.4055\n",
            "Saving model with loss 0.405...\n"
          ]
        },
        {
          "output_type": "stream",
          "name": "stderr",
          "text": [
            "Epoch [43/3000]: 100%|██████████| 4/4 [00:00<00:00, 105.73it/s, loss=0.316]"
          ]
        },
        {
          "output_type": "stream",
          "name": "stdout",
          "text": [
            "Epoch [43/3000]: Train loss: 0.3495, Valid loss: 0.4053\n"
          ]
        },
        {
          "output_type": "stream",
          "name": "stderr",
          "text": [
            "\n"
          ]
        },
        {
          "output_type": "stream",
          "name": "stdout",
          "text": [
            "Saving model with loss 0.405...\n"
          ]
        },
        {
          "output_type": "stream",
          "name": "stderr",
          "text": [
            "Epoch [44/3000]: 100%|██████████| 4/4 [00:00<00:00, 114.33it/s, loss=0.252]\n"
          ]
        },
        {
          "output_type": "stream",
          "name": "stdout",
          "text": [
            "Epoch [44/3000]: Train loss: 0.3350, Valid loss: 0.4061\n"
          ]
        },
        {
          "output_type": "stream",
          "name": "stderr",
          "text": [
            "Epoch [45/3000]: 100%|██████████| 4/4 [00:00<00:00, 93.27it/s, loss=0.306]\n"
          ]
        },
        {
          "output_type": "stream",
          "name": "stdout",
          "text": [
            "Epoch [45/3000]: Train loss: 0.3460, Valid loss: 0.4038\n",
            "Saving model with loss 0.404...\n"
          ]
        },
        {
          "output_type": "stream",
          "name": "stderr",
          "text": [
            "Epoch [46/3000]: 100%|██████████| 4/4 [00:00<00:00, 105.99it/s, loss=0.32]\n"
          ]
        },
        {
          "output_type": "stream",
          "name": "stdout",
          "text": [
            "Epoch [46/3000]: Train loss: 0.3477, Valid loss: 0.4029\n",
            "Saving model with loss 0.403...\n"
          ]
        },
        {
          "output_type": "stream",
          "name": "stderr",
          "text": [
            "Epoch [47/3000]: 100%|██████████| 4/4 [00:00<00:00, 91.35it/s, loss=0.578]\n"
          ]
        },
        {
          "output_type": "stream",
          "name": "stdout",
          "text": [
            "Epoch [47/3000]: Train loss: 0.4035, Valid loss: 0.4026\n",
            "Saving model with loss 0.403...\n"
          ]
        },
        {
          "output_type": "stream",
          "name": "stderr",
          "text": [
            "Epoch [48/3000]: 100%|██████████| 4/4 [00:00<00:00, 120.06it/s, loss=0.274]\n"
          ]
        },
        {
          "output_type": "stream",
          "name": "stdout",
          "text": [
            "Epoch [48/3000]: Train loss: 0.3368, Valid loss: 0.4045\n"
          ]
        },
        {
          "output_type": "stream",
          "name": "stderr",
          "text": [
            "Epoch [49/3000]: 100%|██████████| 4/4 [00:00<00:00, 103.33it/s, loss=0.346]\n"
          ]
        },
        {
          "output_type": "stream",
          "name": "stdout",
          "text": [
            "Epoch [49/3000]: Train loss: 0.3522, Valid loss: 0.4034\n"
          ]
        },
        {
          "output_type": "stream",
          "name": "stderr",
          "text": [
            "Epoch [50/3000]: 100%|██████████| 4/4 [00:00<00:00, 117.51it/s, loss=0.468]\n"
          ]
        },
        {
          "output_type": "stream",
          "name": "stdout",
          "text": [
            "Epoch [50/3000]: Train loss: 0.3778, Valid loss: 0.3970\n",
            "Saving model with loss 0.397...\n"
          ]
        },
        {
          "output_type": "stream",
          "name": "stderr",
          "text": [
            "Epoch [51/3000]: 100%|██████████| 4/4 [00:00<00:00, 96.58it/s, loss=0.294]\n"
          ]
        },
        {
          "output_type": "stream",
          "name": "stdout",
          "text": [
            "Epoch [51/3000]: Train loss: 0.3405, Valid loss: 0.3922\n",
            "Saving model with loss 0.392...\n"
          ]
        },
        {
          "output_type": "stream",
          "name": "stderr",
          "text": [
            "Epoch [52/3000]: 100%|██████████| 4/4 [00:00<00:00, 109.60it/s, loss=0.387]\n"
          ]
        },
        {
          "output_type": "stream",
          "name": "stdout",
          "text": [
            "Epoch [52/3000]: Train loss: 0.3619, Valid loss: 0.3925\n"
          ]
        },
        {
          "output_type": "stream",
          "name": "stderr",
          "text": [
            "Epoch [53/3000]: 100%|██████████| 4/4 [00:00<00:00, 113.96it/s, loss=0.396]\n"
          ]
        },
        {
          "output_type": "stream",
          "name": "stdout",
          "text": [
            "Epoch [53/3000]: Train loss: 0.3602, Valid loss: 0.3985\n"
          ]
        },
        {
          "output_type": "stream",
          "name": "stderr",
          "text": [
            "Epoch [54/3000]: 100%|██████████| 4/4 [00:00<00:00, 116.01it/s, loss=0.452]\n"
          ]
        },
        {
          "output_type": "stream",
          "name": "stdout",
          "text": [
            "Epoch [54/3000]: Train loss: 0.3724, Valid loss: 0.4065\n"
          ]
        },
        {
          "output_type": "stream",
          "name": "stderr",
          "text": [
            "Epoch [55/3000]: 100%|██████████| 4/4 [00:00<00:00, 97.14it/s, loss=0.192]\n"
          ]
        },
        {
          "output_type": "stream",
          "name": "stdout",
          "text": [
            "Epoch [55/3000]: Train loss: 0.3151, Valid loss: 0.3995\n"
          ]
        },
        {
          "output_type": "stream",
          "name": "stderr",
          "text": [
            "Epoch [56/3000]: 100%|██████████| 4/4 [00:00<00:00, 117.72it/s, loss=0.45]\n"
          ]
        },
        {
          "output_type": "stream",
          "name": "stdout",
          "text": [
            "Epoch [56/3000]: Train loss: 0.3700, Valid loss: 0.4003\n"
          ]
        },
        {
          "output_type": "stream",
          "name": "stderr",
          "text": [
            "Epoch [57/3000]: 100%|██████████| 4/4 [00:00<00:00, 100.79it/s, loss=0.421]\n"
          ]
        },
        {
          "output_type": "stream",
          "name": "stdout",
          "text": [
            "Epoch [57/3000]: Train loss: 0.3638, Valid loss: 0.3964\n"
          ]
        },
        {
          "output_type": "stream",
          "name": "stderr",
          "text": [
            "Epoch [58/3000]: 100%|██████████| 4/4 [00:00<00:00, 98.20it/s, loss=0.282]\n"
          ]
        },
        {
          "output_type": "stream",
          "name": "stdout",
          "text": [
            "Epoch [58/3000]: Train loss: 0.3319, Valid loss: 0.3904\n",
            "Saving model with loss 0.390...\n"
          ]
        },
        {
          "output_type": "stream",
          "name": "stderr",
          "text": [
            "Epoch [59/3000]: 100%|██████████| 4/4 [00:00<00:00, 107.65it/s, loss=0.371]\n"
          ]
        },
        {
          "output_type": "stream",
          "name": "stdout",
          "text": [
            "Epoch [59/3000]: Train loss: 0.3502, Valid loss: 0.3890\n",
            "Saving model with loss 0.389...\n"
          ]
        },
        {
          "output_type": "stream",
          "name": "stderr",
          "text": [
            "Epoch [60/3000]: 100%|██████████| 4/4 [00:00<00:00, 98.13it/s, loss=0.343]\n"
          ]
        },
        {
          "output_type": "stream",
          "name": "stdout",
          "text": [
            "Epoch [60/3000]: Train loss: 0.3436, Valid loss: 0.3882\n",
            "Saving model with loss 0.388...\n"
          ]
        },
        {
          "output_type": "stream",
          "name": "stderr",
          "text": [
            "Epoch [61/3000]: 100%|██████████| 4/4 [00:00<00:00, 133.22it/s, loss=0.23]\n"
          ]
        },
        {
          "output_type": "stream",
          "name": "stdout",
          "text": [
            "Epoch [61/3000]: Train loss: 0.3179, Valid loss: 0.3925\n"
          ]
        },
        {
          "output_type": "stream",
          "name": "stderr",
          "text": [
            "Epoch [62/3000]: 100%|██████████| 4/4 [00:00<00:00, 102.41it/s, loss=0.305]\n"
          ]
        },
        {
          "output_type": "stream",
          "name": "stdout",
          "text": [
            "Epoch [62/3000]: Train loss: 0.3340, Valid loss: 0.3959\n"
          ]
        },
        {
          "output_type": "stream",
          "name": "stderr",
          "text": [
            "Epoch [63/3000]: 100%|██████████| 4/4 [00:00<00:00, 94.43it/s, loss=0.507]\n"
          ]
        },
        {
          "output_type": "stream",
          "name": "stdout",
          "text": [
            "Epoch [63/3000]: Train loss: 0.3782, Valid loss: 0.3925\n"
          ]
        },
        {
          "output_type": "stream",
          "name": "stderr",
          "text": [
            "Epoch [64/3000]: 100%|██████████| 4/4 [00:00<00:00, 113.29it/s, loss=0.363]\n"
          ]
        },
        {
          "output_type": "stream",
          "name": "stdout",
          "text": [
            "Epoch [64/3000]: Train loss: 0.3455, Valid loss: 0.3855\n",
            "Saving model with loss 0.385...\n"
          ]
        },
        {
          "output_type": "stream",
          "name": "stderr",
          "text": [
            "Epoch [65/3000]: 100%|██████████| 4/4 [00:00<00:00, 93.88it/s, loss=0.381]\n"
          ]
        },
        {
          "output_type": "stream",
          "name": "stdout",
          "text": [
            "Epoch [65/3000]: Train loss: 0.3491, Valid loss: 0.3837\n",
            "Saving model with loss 0.384...\n"
          ]
        },
        {
          "output_type": "stream",
          "name": "stderr",
          "text": [
            "Epoch [66/3000]: 100%|██████████| 4/4 [00:00<00:00, 96.24it/s, loss=0.338]\n"
          ]
        },
        {
          "output_type": "stream",
          "name": "stdout",
          "text": [
            "Epoch [66/3000]: Train loss: 0.3384, Valid loss: 0.3874\n"
          ]
        },
        {
          "output_type": "stream",
          "name": "stderr",
          "text": [
            "Epoch [67/3000]: 100%|██████████| 4/4 [00:00<00:00, 85.97it/s, loss=0.262]\n"
          ]
        },
        {
          "output_type": "stream",
          "name": "stdout",
          "text": [
            "Epoch [67/3000]: Train loss: 0.3219, Valid loss: 0.3954\n"
          ]
        },
        {
          "output_type": "stream",
          "name": "stderr",
          "text": [
            "Epoch [68/3000]: 100%|██████████| 4/4 [00:00<00:00, 89.95it/s, loss=0.512]\n"
          ]
        },
        {
          "output_type": "stream",
          "name": "stdout",
          "text": [
            "Epoch [68/3000]: Train loss: 0.3778, Valid loss: 0.3936\n"
          ]
        },
        {
          "output_type": "stream",
          "name": "stderr",
          "text": [
            "Epoch [69/3000]: 100%|██████████| 4/4 [00:00<00:00, 90.24it/s, loss=0.327]\n"
          ]
        },
        {
          "output_type": "stream",
          "name": "stdout",
          "text": [
            "Epoch [69/3000]: Train loss: 0.3362, Valid loss: 0.3859\n"
          ]
        },
        {
          "output_type": "stream",
          "name": "stderr",
          "text": [
            "Epoch [70/3000]: 100%|██████████| 4/4 [00:00<00:00, 107.94it/s, loss=0.362]\n"
          ]
        },
        {
          "output_type": "stream",
          "name": "stdout",
          "text": [
            "Epoch [70/3000]: Train loss: 0.3424, Valid loss: 0.3801\n",
            "Saving model with loss 0.380...\n"
          ]
        },
        {
          "output_type": "stream",
          "name": "stderr",
          "text": [
            "Epoch [71/3000]: 100%|██████████| 4/4 [00:00<00:00, 103.88it/s, loss=0.437]\n"
          ]
        },
        {
          "output_type": "stream",
          "name": "stdout",
          "text": [
            "Epoch [71/3000]: Train loss: 0.3576, Valid loss: 0.3847\n"
          ]
        },
        {
          "output_type": "stream",
          "name": "stderr",
          "text": [
            "Epoch [72/3000]: 100%|██████████| 4/4 [00:00<00:00, 82.93it/s, loss=0.183]\n"
          ]
        },
        {
          "output_type": "stream",
          "name": "stdout",
          "text": [
            "Epoch [72/3000]: Train loss: 0.3012, Valid loss: 0.3879\n"
          ]
        },
        {
          "output_type": "stream",
          "name": "stderr",
          "text": [
            "Epoch [73/3000]: 100%|██████████| 4/4 [00:00<00:00, 93.78it/s, loss=0.215]\n"
          ]
        },
        {
          "output_type": "stream",
          "name": "stdout",
          "text": [
            "Epoch [73/3000]: Train loss: 0.3082, Valid loss: 0.3924\n"
          ]
        },
        {
          "output_type": "stream",
          "name": "stderr",
          "text": [
            "Epoch [74/3000]: 100%|██████████| 4/4 [00:00<00:00, 90.56it/s, loss=0.501]\n"
          ]
        },
        {
          "output_type": "stream",
          "name": "stdout",
          "text": [
            "Epoch [74/3000]: Train loss: 0.3707, Valid loss: 0.3861\n"
          ]
        },
        {
          "output_type": "stream",
          "name": "stderr",
          "text": [
            "Epoch [75/3000]: 100%|██████████| 4/4 [00:00<00:00, 103.46it/s, loss=0.367]\n"
          ]
        },
        {
          "output_type": "stream",
          "name": "stdout",
          "text": [
            "Epoch [75/3000]: Train loss: 0.3392, Valid loss: 0.3757\n",
            "Saving model with loss 0.376...\n"
          ]
        },
        {
          "output_type": "stream",
          "name": "stderr",
          "text": [
            "Epoch [76/3000]: 100%|██████████| 4/4 [00:00<00:00, 102.26it/s, loss=0.258]\n"
          ]
        },
        {
          "output_type": "stream",
          "name": "stdout",
          "text": [
            "Epoch [76/3000]: Train loss: 0.3207, Valid loss: 0.3736\n",
            "Saving model with loss 0.374...\n"
          ]
        },
        {
          "output_type": "stream",
          "name": "stderr",
          "text": [
            "Epoch [77/3000]: 100%|██████████| 4/4 [00:00<00:00, 102.72it/s, loss=0.397]\n"
          ]
        },
        {
          "output_type": "stream",
          "name": "stdout",
          "text": [
            "Epoch [77/3000]: Train loss: 0.3473, Valid loss: 0.3820\n"
          ]
        },
        {
          "output_type": "stream",
          "name": "stderr",
          "text": [
            "Epoch [78/3000]: 100%|██████████| 4/4 [00:00<00:00, 85.88it/s, loss=0.331]\n"
          ]
        },
        {
          "output_type": "stream",
          "name": "stdout",
          "text": [
            "Epoch [78/3000]: Train loss: 0.3303, Valid loss: 0.3927\n"
          ]
        },
        {
          "output_type": "stream",
          "name": "stderr",
          "text": [
            "Epoch [79/3000]: 100%|██████████| 4/4 [00:00<00:00, 124.58it/s, loss=0.358]\n"
          ]
        },
        {
          "output_type": "stream",
          "name": "stdout",
          "text": [
            "Epoch [79/3000]: Train loss: 0.3389, Valid loss: 0.3897\n"
          ]
        },
        {
          "output_type": "stream",
          "name": "stderr",
          "text": [
            "Epoch [80/3000]: 100%|██████████| 4/4 [00:00<00:00, 89.37it/s, loss=0.369]\n"
          ]
        },
        {
          "output_type": "stream",
          "name": "stdout",
          "text": [
            "Epoch [80/3000]: Train loss: 0.3393, Valid loss: 0.3793\n"
          ]
        },
        {
          "output_type": "stream",
          "name": "stderr",
          "text": [
            "Epoch [81/3000]: 100%|██████████| 4/4 [00:00<00:00, 122.46it/s, loss=0.359]\n"
          ]
        },
        {
          "output_type": "stream",
          "name": "stdout",
          "text": [
            "Epoch [81/3000]: Train loss: 0.3352, Valid loss: 0.3765\n"
          ]
        },
        {
          "output_type": "stream",
          "name": "stderr",
          "text": [
            "Epoch [82/3000]: 100%|██████████| 4/4 [00:00<00:00, 111.98it/s, loss=0.318]\n"
          ]
        },
        {
          "output_type": "stream",
          "name": "stdout",
          "text": [
            "Epoch [82/3000]: Train loss: 0.3259, Valid loss: 0.3781\n"
          ]
        },
        {
          "output_type": "stream",
          "name": "stderr",
          "text": [
            "Epoch [83/3000]: 100%|██████████| 4/4 [00:00<00:00, 116.56it/s, loss=0.315]\n"
          ]
        },
        {
          "output_type": "stream",
          "name": "stdout",
          "text": [
            "Epoch [83/3000]: Train loss: 0.3248, Valid loss: 0.3805\n"
          ]
        },
        {
          "output_type": "stream",
          "name": "stderr",
          "text": [
            "Epoch [84/3000]: 100%|██████████| 4/4 [00:00<00:00, 108.47it/s, loss=0.276]\n"
          ]
        },
        {
          "output_type": "stream",
          "name": "stdout",
          "text": [
            "Epoch [84/3000]: Train loss: 0.3158, Valid loss: 0.3757\n"
          ]
        },
        {
          "output_type": "stream",
          "name": "stderr",
          "text": [
            "Epoch [85/3000]: 100%|██████████| 4/4 [00:00<00:00, 113.90it/s, loss=0.249]\n"
          ]
        },
        {
          "output_type": "stream",
          "name": "stdout",
          "text": [
            "Epoch [85/3000]: Train loss: 0.3091, Valid loss: 0.3726\n",
            "Saving model with loss 0.373...\n"
          ]
        },
        {
          "output_type": "stream",
          "name": "stderr",
          "text": [
            "Epoch [86/3000]: 100%|██████████| 4/4 [00:00<00:00, 123.32it/s, loss=0.392]\n"
          ]
        },
        {
          "output_type": "stream",
          "name": "stdout",
          "text": [
            "Epoch [86/3000]: Train loss: 0.3398, Valid loss: 0.3785\n"
          ]
        },
        {
          "output_type": "stream",
          "name": "stderr",
          "text": [
            "Epoch [87/3000]: 100%|██████████| 4/4 [00:00<00:00, 94.77it/s, loss=0.355]\n"
          ]
        },
        {
          "output_type": "stream",
          "name": "stdout",
          "text": [
            "Epoch [87/3000]: Train loss: 0.3317, Valid loss: 0.3834\n"
          ]
        },
        {
          "output_type": "stream",
          "name": "stderr",
          "text": [
            "Epoch [88/3000]: 100%|██████████| 4/4 [00:00<00:00, 70.19it/s, loss=0.335]\n"
          ]
        },
        {
          "output_type": "stream",
          "name": "stdout",
          "text": [
            "Epoch [88/3000]: Train loss: 0.3270, Valid loss: 0.3776\n"
          ]
        },
        {
          "output_type": "stream",
          "name": "stderr",
          "text": [
            "Epoch [89/3000]: 100%|██████████| 4/4 [00:00<00:00, 118.80it/s, loss=0.256]\n"
          ]
        },
        {
          "output_type": "stream",
          "name": "stdout",
          "text": [
            "Epoch [89/3000]: Train loss: 0.3080, Valid loss: 0.3692\n",
            "Saving model with loss 0.369...\n"
          ]
        },
        {
          "output_type": "stream",
          "name": "stderr",
          "text": [
            "Epoch [90/3000]: 100%|██████████| 4/4 [00:00<00:00, 121.75it/s, loss=0.518]\n"
          ]
        },
        {
          "output_type": "stream",
          "name": "stdout",
          "text": [
            "Epoch [90/3000]: Train loss: 0.3648, Valid loss: 0.3692\n"
          ]
        },
        {
          "output_type": "stream",
          "name": "stderr",
          "text": [
            "Epoch [91/3000]: 100%|██████████| 4/4 [00:00<00:00, 110.76it/s, loss=0.207]\n"
          ]
        },
        {
          "output_type": "stream",
          "name": "stdout",
          "text": [
            "Epoch [91/3000]: Train loss: 0.2969, Valid loss: 0.3737\n"
          ]
        },
        {
          "output_type": "stream",
          "name": "stderr",
          "text": [
            "Epoch [92/3000]: 100%|██████████| 4/4 [00:00<00:00, 132.70it/s, loss=0.384]\n"
          ]
        },
        {
          "output_type": "stream",
          "name": "stdout",
          "text": [
            "Epoch [92/3000]: Train loss: 0.3347, Valid loss: 0.3705\n"
          ]
        },
        {
          "output_type": "stream",
          "name": "stderr",
          "text": [
            "Epoch [93/3000]: 100%|██████████| 4/4 [00:00<00:00, 122.75it/s, loss=0.568]\n"
          ]
        },
        {
          "output_type": "stream",
          "name": "stdout",
          "text": [
            "Epoch [93/3000]: Train loss: 0.3739, Valid loss: 0.3660\n",
            "Saving model with loss 0.366...\n"
          ]
        },
        {
          "output_type": "stream",
          "name": "stderr",
          "text": [
            "Epoch [94/3000]: 100%|██████████| 4/4 [00:00<00:00, 86.22it/s, loss=0.387]\n"
          ]
        },
        {
          "output_type": "stream",
          "name": "stdout",
          "text": [
            "Epoch [94/3000]: Train loss: 0.3341, Valid loss: 0.3640\n",
            "Saving model with loss 0.364...\n"
          ]
        },
        {
          "output_type": "stream",
          "name": "stderr",
          "text": [
            "Epoch [95/3000]: 100%|██████████| 4/4 [00:00<00:00, 125.51it/s, loss=0.419]\n"
          ]
        },
        {
          "output_type": "stream",
          "name": "stdout",
          "text": [
            "Epoch [95/3000]: Train loss: 0.3406, Valid loss: 0.3689\n"
          ]
        },
        {
          "output_type": "stream",
          "name": "stderr",
          "text": [
            "Epoch [96/3000]: 100%|██████████| 4/4 [00:00<00:00, 114.16it/s, loss=0.325]\n"
          ]
        },
        {
          "output_type": "stream",
          "name": "stdout",
          "text": [
            "Epoch [96/3000]: Train loss: 0.3201, Valid loss: 0.3678\n"
          ]
        },
        {
          "output_type": "stream",
          "name": "stderr",
          "text": [
            "Epoch [97/3000]: 100%|██████████| 4/4 [00:00<00:00, 114.52it/s, loss=0.404]\n"
          ]
        },
        {
          "output_type": "stream",
          "name": "stdout",
          "text": [
            "Epoch [97/3000]: Train loss: 0.3357, Valid loss: 0.3633\n",
            "Saving model with loss 0.363...\n"
          ]
        },
        {
          "output_type": "stream",
          "name": "stderr",
          "text": [
            "Epoch [98/3000]: 100%|██████████| 4/4 [00:00<00:00, 93.50it/s, loss=0.289]\n"
          ]
        },
        {
          "output_type": "stream",
          "name": "stdout",
          "text": [
            "Epoch [98/3000]: Train loss: 0.3111, Valid loss: 0.3610\n",
            "Saving model with loss 0.361...\n"
          ]
        },
        {
          "output_type": "stream",
          "name": "stderr",
          "text": [
            "Epoch [99/3000]: 100%|██████████| 4/4 [00:00<00:00, 95.35it/s, loss=0.309]\n"
          ]
        },
        {
          "output_type": "stream",
          "name": "stdout",
          "text": [
            "Epoch [99/3000]: Train loss: 0.3146, Valid loss: 0.3650\n"
          ]
        },
        {
          "output_type": "stream",
          "name": "stderr",
          "text": [
            "Epoch [100/3000]: 100%|██████████| 4/4 [00:00<00:00, 100.25it/s, loss=0.333]\n"
          ]
        },
        {
          "output_type": "stream",
          "name": "stdout",
          "text": [
            "Epoch [100/3000]: Train loss: 0.3186, Valid loss: 0.3633\n"
          ]
        },
        {
          "output_type": "stream",
          "name": "stderr",
          "text": [
            "Epoch [101/3000]: 100%|██████████| 4/4 [00:00<00:00, 114.60it/s, loss=0.247]\n"
          ]
        },
        {
          "output_type": "stream",
          "name": "stdout",
          "text": [
            "Epoch [101/3000]: Train loss: 0.2998, Valid loss: 0.3615\n"
          ]
        },
        {
          "output_type": "stream",
          "name": "stderr",
          "text": [
            "Epoch [102/3000]: 100%|██████████| 4/4 [00:00<00:00, 119.29it/s, loss=0.257]\n"
          ]
        },
        {
          "output_type": "stream",
          "name": "stdout",
          "text": [
            "Epoch [102/3000]: Train loss: 0.3022, Valid loss: 0.3637\n"
          ]
        },
        {
          "output_type": "stream",
          "name": "stderr",
          "text": [
            "Epoch [103/3000]: 100%|██████████| 4/4 [00:00<00:00, 105.30it/s, loss=0.318]\n"
          ]
        },
        {
          "output_type": "stream",
          "name": "stdout",
          "text": [
            "Epoch [103/3000]: Train loss: 0.3149, Valid loss: 0.3688\n"
          ]
        },
        {
          "output_type": "stream",
          "name": "stderr",
          "text": [
            "Epoch [104/3000]: 100%|██████████| 4/4 [00:00<00:00, 97.69it/s, loss=0.284]\n"
          ]
        },
        {
          "output_type": "stream",
          "name": "stdout",
          "text": [
            "Epoch [104/3000]: Train loss: 0.3072, Valid loss: 0.3677\n"
          ]
        },
        {
          "output_type": "stream",
          "name": "stderr",
          "text": [
            "Epoch [105/3000]: 100%|██████████| 4/4 [00:00<00:00, 105.19it/s, loss=0.187]\n"
          ]
        },
        {
          "output_type": "stream",
          "name": "stdout",
          "text": [
            "Epoch [105/3000]: Train loss: 0.2848, Valid loss: 0.3648\n"
          ]
        },
        {
          "output_type": "stream",
          "name": "stderr",
          "text": [
            "Epoch [106/3000]: 100%|██████████| 4/4 [00:00<00:00, 92.73it/s, loss=0.186]\n"
          ]
        },
        {
          "output_type": "stream",
          "name": "stdout",
          "text": [
            "Epoch [106/3000]: Train loss: 0.2838, Valid loss: 0.3686\n"
          ]
        },
        {
          "output_type": "stream",
          "name": "stderr",
          "text": [
            "Epoch [107/3000]: 100%|██████████| 4/4 [00:00<00:00, 76.87it/s, loss=0.324]\n"
          ]
        },
        {
          "output_type": "stream",
          "name": "stdout",
          "text": [
            "Epoch [107/3000]: Train loss: 0.3145, Valid loss: 0.3686\n"
          ]
        },
        {
          "output_type": "stream",
          "name": "stderr",
          "text": [
            "Epoch [108/3000]: 100%|██████████| 4/4 [00:00<00:00, 109.27it/s, loss=0.197]\n"
          ]
        },
        {
          "output_type": "stream",
          "name": "stdout",
          "text": [
            "Epoch [108/3000]: Train loss: 0.2856, Valid loss: 0.3628\n"
          ]
        },
        {
          "output_type": "stream",
          "name": "stderr",
          "text": [
            "Epoch [109/3000]: 100%|██████████| 4/4 [00:00<00:00, 111.25it/s, loss=0.502]\n"
          ]
        },
        {
          "output_type": "stream",
          "name": "stdout",
          "text": [
            "Epoch [109/3000]: Train loss: 0.3510, Valid loss: 0.3587\n",
            "Saving model with loss 0.359...\n"
          ]
        },
        {
          "output_type": "stream",
          "name": "stderr",
          "text": [
            "Epoch [110/3000]: 100%|██████████| 4/4 [00:00<00:00, 88.30it/s, loss=0.281]\n"
          ]
        },
        {
          "output_type": "stream",
          "name": "stdout",
          "text": [
            "Epoch [110/3000]: Train loss: 0.3025, Valid loss: 0.3519\n",
            "Saving model with loss 0.352...\n"
          ]
        },
        {
          "output_type": "stream",
          "name": "stderr",
          "text": [
            "Epoch [111/3000]: 100%|██████████| 4/4 [00:00<00:00, 104.12it/s, loss=0.363]\n"
          ]
        },
        {
          "output_type": "stream",
          "name": "stdout",
          "text": [
            "Epoch [111/3000]: Train loss: 0.3206, Valid loss: 0.3566\n"
          ]
        },
        {
          "output_type": "stream",
          "name": "stderr",
          "text": [
            "Epoch [112/3000]: 100%|██████████| 4/4 [00:00<00:00, 99.72it/s, loss=0.318]\n"
          ]
        },
        {
          "output_type": "stream",
          "name": "stdout",
          "text": [
            "Epoch [112/3000]: Train loss: 0.3112, Valid loss: 0.3775\n"
          ]
        },
        {
          "output_type": "stream",
          "name": "stderr",
          "text": [
            "Epoch [113/3000]: 100%|██████████| 4/4 [00:00<00:00, 105.85it/s, loss=0.26]\n"
          ]
        },
        {
          "output_type": "stream",
          "name": "stdout",
          "text": [
            "Epoch [113/3000]: Train loss: 0.3017, Valid loss: 0.3666\n"
          ]
        },
        {
          "output_type": "stream",
          "name": "stderr",
          "text": [
            "Epoch [114/3000]: 100%|██████████| 4/4 [00:00<00:00, 108.09it/s, loss=0.224]\n"
          ]
        },
        {
          "output_type": "stream",
          "name": "stdout",
          "text": [
            "Epoch [114/3000]: Train loss: 0.2889, Valid loss: 0.3522\n"
          ]
        },
        {
          "output_type": "stream",
          "name": "stderr",
          "text": [
            "Epoch [115/3000]: 100%|██████████| 4/4 [00:00<00:00, 111.83it/s, loss=0.25]\n"
          ]
        },
        {
          "output_type": "stream",
          "name": "stdout",
          "text": [
            "Epoch [115/3000]: Train loss: 0.2948, Valid loss: 0.3488\n",
            "Saving model with loss 0.349...\n"
          ]
        },
        {
          "output_type": "stream",
          "name": "stderr",
          "text": [
            "Epoch [116/3000]: 100%|██████████| 4/4 [00:00<00:00, 95.70it/s, loss=0.241]\n"
          ]
        },
        {
          "output_type": "stream",
          "name": "stdout",
          "text": [
            "Epoch [116/3000]: Train loss: 0.2913, Valid loss: 0.3529\n"
          ]
        },
        {
          "output_type": "stream",
          "name": "stderr",
          "text": [
            "Epoch [117/3000]: 100%|██████████| 4/4 [00:00<00:00, 74.59it/s, loss=0.385]\n"
          ]
        },
        {
          "output_type": "stream",
          "name": "stdout",
          "text": [
            "Epoch [117/3000]: Train loss: 0.3214, Valid loss: 0.3536\n"
          ]
        },
        {
          "output_type": "stream",
          "name": "stderr",
          "text": [
            "Epoch [118/3000]: 100%|██████████| 4/4 [00:00<00:00, 105.27it/s, loss=0.457]\n"
          ]
        },
        {
          "output_type": "stream",
          "name": "stdout",
          "text": [
            "Epoch [118/3000]: Train loss: 0.3371, Valid loss: 0.3519\n"
          ]
        },
        {
          "output_type": "stream",
          "name": "stderr",
          "text": [
            "Epoch [119/3000]: 100%|██████████| 4/4 [00:00<00:00, 103.70it/s, loss=0.316]\n"
          ]
        },
        {
          "output_type": "stream",
          "name": "stdout",
          "text": [
            "Epoch [119/3000]: Train loss: 0.3053, Valid loss: 0.3443\n",
            "Saving model with loss 0.344...\n"
          ]
        },
        {
          "output_type": "stream",
          "name": "stderr",
          "text": [
            "Epoch [120/3000]: 100%|██████████| 4/4 [00:00<00:00, 111.11it/s, loss=0.342]\n"
          ]
        },
        {
          "output_type": "stream",
          "name": "stdout",
          "text": [
            "Epoch [120/3000]: Train loss: 0.3127, Valid loss: 0.3449\n"
          ]
        },
        {
          "output_type": "stream",
          "name": "stderr",
          "text": [
            "Epoch [121/3000]: 100%|██████████| 4/4 [00:00<00:00, 109.01it/s, loss=0.212]\n"
          ]
        },
        {
          "output_type": "stream",
          "name": "stdout",
          "text": [
            "Epoch [121/3000]: Train loss: 0.2820, Valid loss: 0.3540\n"
          ]
        },
        {
          "output_type": "stream",
          "name": "stderr",
          "text": [
            "Epoch [122/3000]: 100%|██████████| 4/4 [00:00<00:00, 111.71it/s, loss=0.217]\n"
          ]
        },
        {
          "output_type": "stream",
          "name": "stdout",
          "text": [
            "Epoch [122/3000]: Train loss: 0.2828, Valid loss: 0.3542\n"
          ]
        },
        {
          "output_type": "stream",
          "name": "stderr",
          "text": [
            "Epoch [123/3000]: 100%|██████████| 4/4 [00:00<00:00, 111.15it/s, loss=0.237]\n"
          ]
        },
        {
          "output_type": "stream",
          "name": "stdout",
          "text": [
            "Epoch [123/3000]: Train loss: 0.2865, Valid loss: 0.3494\n"
          ]
        },
        {
          "output_type": "stream",
          "name": "stderr",
          "text": [
            "Epoch [124/3000]: 100%|██████████| 4/4 [00:00<00:00, 108.35it/s, loss=0.249]\n"
          ]
        },
        {
          "output_type": "stream",
          "name": "stdout",
          "text": [
            "Epoch [124/3000]: Train loss: 0.2881, Valid loss: 0.3440\n",
            "Saving model with loss 0.344...\n"
          ]
        },
        {
          "output_type": "stream",
          "name": "stderr",
          "text": [
            "Epoch [125/3000]: 100%|██████████| 4/4 [00:00<00:00, 93.94it/s, loss=0.227]\n"
          ]
        },
        {
          "output_type": "stream",
          "name": "stdout",
          "text": [
            "Epoch [125/3000]: Train loss: 0.2839, Valid loss: 0.3429\n",
            "Saving model with loss 0.343...\n"
          ]
        },
        {
          "output_type": "stream",
          "name": "stderr",
          "text": [
            "Epoch [126/3000]: 100%|██████████| 4/4 [00:00<00:00, 95.61it/s, loss=0.252]\n"
          ]
        },
        {
          "output_type": "stream",
          "name": "stdout",
          "text": [
            "Epoch [126/3000]: Train loss: 0.2884, Valid loss: 0.3528\n"
          ]
        },
        {
          "output_type": "stream",
          "name": "stderr",
          "text": [
            "Epoch [127/3000]: 100%|██████████| 4/4 [00:00<00:00, 100.40it/s, loss=0.377]\n"
          ]
        },
        {
          "output_type": "stream",
          "name": "stdout",
          "text": [
            "Epoch [127/3000]: Train loss: 0.3158, Valid loss: 0.3548\n"
          ]
        },
        {
          "output_type": "stream",
          "name": "stderr",
          "text": [
            "Epoch [128/3000]: 100%|██████████| 4/4 [00:00<00:00, 86.86it/s, loss=0.294]\n"
          ]
        },
        {
          "output_type": "stream",
          "name": "stdout",
          "text": [
            "Epoch [128/3000]: Train loss: 0.2971, Valid loss: 0.3462\n"
          ]
        },
        {
          "output_type": "stream",
          "name": "stderr",
          "text": [
            "Epoch [129/3000]: 100%|██████████| 4/4 [00:00<00:00, 96.65it/s, loss=0.254]\n"
          ]
        },
        {
          "output_type": "stream",
          "name": "stdout",
          "text": [
            "Epoch [129/3000]: Train loss: 0.2872, Valid loss: 0.3418\n",
            "Saving model with loss 0.342...\n"
          ]
        },
        {
          "output_type": "stream",
          "name": "stderr",
          "text": [
            "Epoch [130/3000]: 100%|██████████| 4/4 [00:00<00:00, 102.05it/s, loss=0.146]\n"
          ]
        },
        {
          "output_type": "stream",
          "name": "stdout",
          "text": [
            "Epoch [130/3000]: Train loss: 0.2649, Valid loss: 0.3393\n",
            "Saving model with loss 0.339...\n"
          ]
        },
        {
          "output_type": "stream",
          "name": "stderr",
          "text": [
            "Epoch [131/3000]: 100%|██████████| 4/4 [00:00<00:00, 101.43it/s, loss=0.253]\n"
          ]
        },
        {
          "output_type": "stream",
          "name": "stdout",
          "text": [
            "Epoch [131/3000]: Train loss: 0.2859, Valid loss: 0.3496\n"
          ]
        },
        {
          "output_type": "stream",
          "name": "stderr",
          "text": [
            "Epoch [132/3000]: 100%|██████████| 4/4 [00:00<00:00, 100.95it/s, loss=0.375]\n"
          ]
        },
        {
          "output_type": "stream",
          "name": "stdout",
          "text": [
            "Epoch [132/3000]: Train loss: 0.3135, Valid loss: 0.3546\n"
          ]
        },
        {
          "output_type": "stream",
          "name": "stderr",
          "text": [
            "Epoch [133/3000]: 100%|██████████| 4/4 [00:00<00:00, 110.68it/s, loss=0.385]\n"
          ]
        },
        {
          "output_type": "stream",
          "name": "stdout",
          "text": [
            "Epoch [133/3000]: Train loss: 0.3154, Valid loss: 0.3415\n"
          ]
        },
        {
          "output_type": "stream",
          "name": "stderr",
          "text": [
            "Epoch [134/3000]: 100%|██████████| 4/4 [00:00<00:00, 102.22it/s, loss=0.143]\n"
          ]
        },
        {
          "output_type": "stream",
          "name": "stdout",
          "text": [
            "Epoch [134/3000]: Train loss: 0.2610, Valid loss: 0.3328\n",
            "Saving model with loss 0.333...\n"
          ]
        },
        {
          "output_type": "stream",
          "name": "stderr",
          "text": [
            "Epoch [135/3000]: 100%|██████████| 4/4 [00:00<00:00, 90.34it/s, loss=0.278]\n"
          ]
        },
        {
          "output_type": "stream",
          "name": "stdout",
          "text": [
            "Epoch [135/3000]: Train loss: 0.2924, Valid loss: 0.3354\n"
          ]
        },
        {
          "output_type": "stream",
          "name": "stderr",
          "text": [
            "Epoch [136/3000]: 100%|██████████| 4/4 [00:00<00:00, 81.38it/s, loss=0.326]\n"
          ]
        },
        {
          "output_type": "stream",
          "name": "stdout",
          "text": [
            "Epoch [136/3000]: Train loss: 0.2994, Valid loss: 0.3530\n"
          ]
        },
        {
          "output_type": "stream",
          "name": "stderr",
          "text": [
            "Epoch [137/3000]: 100%|██████████| 4/4 [00:00<00:00, 97.26it/s, loss=0.274]\n"
          ]
        },
        {
          "output_type": "stream",
          "name": "stdout",
          "text": [
            "Epoch [137/3000]: Train loss: 0.2939, Valid loss: 0.3614\n"
          ]
        },
        {
          "output_type": "stream",
          "name": "stderr",
          "text": [
            "Epoch [138/3000]: 100%|██████████| 4/4 [00:00<00:00, 90.80it/s, loss=0.438]\n"
          ]
        },
        {
          "output_type": "stream",
          "name": "stdout",
          "text": [
            "Epoch [138/3000]: Train loss: 0.3285, Valid loss: 0.3377\n"
          ]
        },
        {
          "output_type": "stream",
          "name": "stderr",
          "text": [
            "Epoch [139/3000]: 100%|██████████| 4/4 [00:00<00:00, 94.04it/s, loss=0.485]\n"
          ]
        },
        {
          "output_type": "stream",
          "name": "stdout",
          "text": [
            "Epoch [139/3000]: Train loss: 0.3336, Valid loss: 0.3336\n"
          ]
        },
        {
          "output_type": "stream",
          "name": "stderr",
          "text": [
            "Epoch [140/3000]: 100%|██████████| 4/4 [00:00<00:00, 102.42it/s, loss=0.206]\n"
          ]
        },
        {
          "output_type": "stream",
          "name": "stdout",
          "text": [
            "Epoch [140/3000]: Train loss: 0.2727, Valid loss: 0.3376\n"
          ]
        },
        {
          "output_type": "stream",
          "name": "stderr",
          "text": [
            "Epoch [141/3000]: 100%|██████████| 4/4 [00:00<00:00, 103.39it/s, loss=0.264]\n"
          ]
        },
        {
          "output_type": "stream",
          "name": "stdout",
          "text": [
            "Epoch [141/3000]: Train loss: 0.2848, Valid loss: 0.3442\n"
          ]
        },
        {
          "output_type": "stream",
          "name": "stderr",
          "text": [
            "Epoch [142/3000]: 100%|██████████| 4/4 [00:00<00:00, 104.69it/s, loss=0.4]\n"
          ]
        },
        {
          "output_type": "stream",
          "name": "stdout",
          "text": [
            "Epoch [142/3000]: Train loss: 0.3137, Valid loss: 0.3358\n"
          ]
        },
        {
          "output_type": "stream",
          "name": "stderr",
          "text": [
            "Epoch [143/3000]: 100%|██████████| 4/4 [00:00<00:00, 110.11it/s, loss=0.257]\n"
          ]
        },
        {
          "output_type": "stream",
          "name": "stdout",
          "text": [
            "Epoch [143/3000]: Train loss: 0.2824, Valid loss: 0.3321\n",
            "Saving model with loss 0.332...\n"
          ]
        },
        {
          "output_type": "stream",
          "name": "stderr",
          "text": [
            "Epoch [144/3000]: 100%|██████████| 4/4 [00:00<00:00, 100.93it/s, loss=0.221]\n"
          ]
        },
        {
          "output_type": "stream",
          "name": "stdout",
          "text": [
            "Epoch [144/3000]: Train loss: 0.2735, Valid loss: 0.3327\n"
          ]
        },
        {
          "output_type": "stream",
          "name": "stderr",
          "text": [
            "Epoch [145/3000]: 100%|██████████| 4/4 [00:00<00:00, 78.08it/s, loss=0.312]\n"
          ]
        },
        {
          "output_type": "stream",
          "name": "stdout",
          "text": [
            "Epoch [145/3000]: Train loss: 0.2932, Valid loss: 0.3354\n"
          ]
        },
        {
          "output_type": "stream",
          "name": "stderr",
          "text": [
            "Epoch [146/3000]: 100%|██████████| 4/4 [00:00<00:00, 110.88it/s, loss=0.277]\n"
          ]
        },
        {
          "output_type": "stream",
          "name": "stdout",
          "text": [
            "Epoch [146/3000]: Train loss: 0.2847, Valid loss: 0.3475\n"
          ]
        },
        {
          "output_type": "stream",
          "name": "stderr",
          "text": [
            "Epoch [147/3000]: 100%|██████████| 4/4 [00:00<00:00, 86.01it/s, loss=0.185]\n"
          ]
        },
        {
          "output_type": "stream",
          "name": "stdout",
          "text": [
            "Epoch [147/3000]: Train loss: 0.2679, Valid loss: 0.3400\n"
          ]
        },
        {
          "output_type": "stream",
          "name": "stderr",
          "text": [
            "Epoch [148/3000]: 100%|██████████| 4/4 [00:00<00:00, 78.04it/s, loss=0.308]\n"
          ]
        },
        {
          "output_type": "stream",
          "name": "stdout",
          "text": [
            "Epoch [148/3000]: Train loss: 0.2931, Valid loss: 0.3276\n",
            "Saving model with loss 0.328...\n"
          ]
        },
        {
          "output_type": "stream",
          "name": "stderr",
          "text": [
            "Epoch [149/3000]: 100%|██████████| 4/4 [00:00<00:00, 109.33it/s, loss=0.27]\n"
          ]
        },
        {
          "output_type": "stream",
          "name": "stdout",
          "text": [
            "Epoch [149/3000]: Train loss: 0.2826, Valid loss: 0.3321\n"
          ]
        },
        {
          "output_type": "stream",
          "name": "stderr",
          "text": [
            "Epoch [150/3000]: 100%|██████████| 4/4 [00:00<00:00, 96.53it/s, loss=0.263]\n"
          ]
        },
        {
          "output_type": "stream",
          "name": "stdout",
          "text": [
            "Epoch [150/3000]: Train loss: 0.2795, Valid loss: 0.3330\n"
          ]
        },
        {
          "output_type": "stream",
          "name": "stderr",
          "text": [
            "Epoch [151/3000]: 100%|██████████| 4/4 [00:00<00:00, 129.20it/s, loss=0.417]\n"
          ]
        },
        {
          "output_type": "stream",
          "name": "stdout",
          "text": [
            "Epoch [151/3000]: Train loss: 0.3135, Valid loss: 0.3323\n"
          ]
        },
        {
          "output_type": "stream",
          "name": "stderr",
          "text": [
            "Epoch [152/3000]: 100%|██████████| 4/4 [00:00<00:00, 116.45it/s, loss=0.185]\n"
          ]
        },
        {
          "output_type": "stream",
          "name": "stdout",
          "text": [
            "Epoch [152/3000]: Train loss: 0.2620, Valid loss: 0.3269\n",
            "Saving model with loss 0.327...\n"
          ]
        },
        {
          "output_type": "stream",
          "name": "stderr",
          "text": [
            "Epoch [153/3000]: 100%|██████████| 4/4 [00:00<00:00, 125.74it/s, loss=0.202]\n"
          ]
        },
        {
          "output_type": "stream",
          "name": "stdout",
          "text": [
            "Epoch [153/3000]: Train loss: 0.2651, Valid loss: 0.3291\n"
          ]
        },
        {
          "output_type": "stream",
          "name": "stderr",
          "text": [
            "Epoch [154/3000]: 100%|██████████| 4/4 [00:00<00:00, 130.50it/s, loss=0.346]\n"
          ]
        },
        {
          "output_type": "stream",
          "name": "stdout",
          "text": [
            "Epoch [154/3000]: Train loss: 0.2968, Valid loss: 0.3270\n"
          ]
        },
        {
          "output_type": "stream",
          "name": "stderr",
          "text": [
            "Epoch [155/3000]: 100%|██████████| 4/4 [00:00<00:00, 114.72it/s, loss=0.335]\n"
          ]
        },
        {
          "output_type": "stream",
          "name": "stdout",
          "text": [
            "Epoch [155/3000]: Train loss: 0.2936, Valid loss: 0.3224\n",
            "Saving model with loss 0.322...\n"
          ]
        },
        {
          "output_type": "stream",
          "name": "stderr",
          "text": [
            "Epoch [156/3000]: 100%|██████████| 4/4 [00:00<00:00, 135.51it/s, loss=0.321]\n"
          ]
        },
        {
          "output_type": "stream",
          "name": "stdout",
          "text": [
            "Epoch [156/3000]: Train loss: 0.2908, Valid loss: 0.3252\n"
          ]
        },
        {
          "output_type": "stream",
          "name": "stderr",
          "text": [
            "Epoch [157/3000]: 100%|██████████| 4/4 [00:00<00:00, 114.49it/s, loss=0.23]\n"
          ]
        },
        {
          "output_type": "stream",
          "name": "stdout",
          "text": [
            "Epoch [157/3000]: Train loss: 0.2702, Valid loss: 0.3243\n"
          ]
        },
        {
          "output_type": "stream",
          "name": "stderr",
          "text": [
            "Epoch [158/3000]: 100%|██████████| 4/4 [00:00<00:00, 115.59it/s, loss=0.157]\n"
          ]
        },
        {
          "output_type": "stream",
          "name": "stdout",
          "text": [
            "Epoch [158/3000]: Train loss: 0.2535, Valid loss: 0.3234\n"
          ]
        },
        {
          "output_type": "stream",
          "name": "stderr",
          "text": [
            "Epoch [159/3000]: 100%|██████████| 4/4 [00:00<00:00, 81.19it/s, loss=0.164]\n"
          ]
        },
        {
          "output_type": "stream",
          "name": "stdout",
          "text": [
            "Epoch [159/3000]: Train loss: 0.2542, Valid loss: 0.3237\n"
          ]
        },
        {
          "output_type": "stream",
          "name": "stderr",
          "text": [
            "Epoch [160/3000]: 100%|██████████| 4/4 [00:00<00:00, 53.44it/s, loss=0.169]\n"
          ]
        },
        {
          "output_type": "stream",
          "name": "stdout",
          "text": [
            "Epoch [160/3000]: Train loss: 0.2552, Valid loss: 0.3282\n"
          ]
        },
        {
          "output_type": "stream",
          "name": "stderr",
          "text": [
            "Epoch [161/3000]: 100%|██████████| 4/4 [00:00<00:00, 106.53it/s, loss=0.305]\n"
          ]
        },
        {
          "output_type": "stream",
          "name": "stdout",
          "text": [
            "Epoch [161/3000]: Train loss: 0.2864, Valid loss: 0.3260\n"
          ]
        },
        {
          "output_type": "stream",
          "name": "stderr",
          "text": [
            "Epoch [162/3000]: 100%|██████████| 4/4 [00:00<00:00, 118.98it/s, loss=0.161]\n"
          ]
        },
        {
          "output_type": "stream",
          "name": "stdout",
          "text": [
            "Epoch [162/3000]: Train loss: 0.2533, Valid loss: 0.3225\n"
          ]
        },
        {
          "output_type": "stream",
          "name": "stderr",
          "text": [
            "Epoch [163/3000]: 100%|██████████| 4/4 [00:00<00:00, 82.45it/s, loss=0.446]\n"
          ]
        },
        {
          "output_type": "stream",
          "name": "stdout",
          "text": [
            "Epoch [163/3000]: Train loss: 0.3154, Valid loss: 0.3236\n"
          ]
        },
        {
          "output_type": "stream",
          "name": "stderr",
          "text": [
            "Epoch [164/3000]: 100%|██████████| 4/4 [00:00<00:00, 107.27it/s, loss=0.375]\n"
          ]
        },
        {
          "output_type": "stream",
          "name": "stdout",
          "text": [
            "Epoch [164/3000]: Train loss: 0.2991, Valid loss: 0.3234\n"
          ]
        },
        {
          "output_type": "stream",
          "name": "stderr",
          "text": [
            "Epoch [165/3000]: 100%|██████████| 4/4 [00:00<00:00, 112.69it/s, loss=0.36]\n"
          ]
        },
        {
          "output_type": "stream",
          "name": "stdout",
          "text": [
            "Epoch [165/3000]: Train loss: 0.2956, Valid loss: 0.3168\n",
            "Saving model with loss 0.317...\n"
          ]
        },
        {
          "output_type": "stream",
          "name": "stderr",
          "text": [
            "Epoch [166/3000]: 100%|██████████| 4/4 [00:00<00:00, 89.90it/s, loss=0.336]\n"
          ]
        },
        {
          "output_type": "stream",
          "name": "stdout",
          "text": [
            "Epoch [166/3000]: Train loss: 0.2895, Valid loss: 0.3169\n"
          ]
        },
        {
          "output_type": "stream",
          "name": "stderr",
          "text": [
            "Epoch [167/3000]: 100%|██████████| 4/4 [00:00<00:00, 93.69it/s, loss=0.284]\n"
          ]
        },
        {
          "output_type": "stream",
          "name": "stdout",
          "text": [
            "Epoch [167/3000]: Train loss: 0.2791, Valid loss: 0.3283\n"
          ]
        },
        {
          "output_type": "stream",
          "name": "stderr",
          "text": [
            "Epoch [168/3000]: 100%|██████████| 4/4 [00:00<00:00, 104.65it/s, loss=0.193]\n"
          ]
        },
        {
          "output_type": "stream",
          "name": "stdout",
          "text": [
            "Epoch [168/3000]: Train loss: 0.2596, Valid loss: 0.3308\n"
          ]
        },
        {
          "output_type": "stream",
          "name": "stderr",
          "text": [
            "Epoch [169/3000]: 100%|██████████| 4/4 [00:00<00:00, 87.27it/s, loss=0.269]\n"
          ]
        },
        {
          "output_type": "stream",
          "name": "stdout",
          "text": [
            "Epoch [169/3000]: Train loss: 0.2761, Valid loss: 0.3101\n",
            "Saving model with loss 0.310...\n"
          ]
        },
        {
          "output_type": "stream",
          "name": "stderr",
          "text": [
            "Epoch [170/3000]: 100%|██████████| 4/4 [00:00<00:00, 107.08it/s, loss=0.343]\n"
          ]
        },
        {
          "output_type": "stream",
          "name": "stdout",
          "text": [
            "Epoch [170/3000]: Train loss: 0.2902, Valid loss: 0.3094\n",
            "Saving model with loss 0.309...\n"
          ]
        },
        {
          "output_type": "stream",
          "name": "stderr",
          "text": [
            "Epoch [171/3000]: 100%|██████████| 4/4 [00:00<00:00, 102.73it/s, loss=0.348]\n"
          ]
        },
        {
          "output_type": "stream",
          "name": "stdout",
          "text": [
            "Epoch [171/3000]: Train loss: 0.2895, Valid loss: 0.3180\n"
          ]
        },
        {
          "output_type": "stream",
          "name": "stderr",
          "text": [
            "Epoch [172/3000]: 100%|██████████| 4/4 [00:00<00:00, 106.29it/s, loss=0.384]\n"
          ]
        },
        {
          "output_type": "stream",
          "name": "stdout",
          "text": [
            "Epoch [172/3000]: Train loss: 0.2974, Valid loss: 0.3164\n"
          ]
        },
        {
          "output_type": "stream",
          "name": "stderr",
          "text": [
            "Epoch [173/3000]: 100%|██████████| 4/4 [00:00<00:00, 114.61it/s, loss=0.213]\n"
          ]
        },
        {
          "output_type": "stream",
          "name": "stdout",
          "text": [
            "Epoch [173/3000]: Train loss: 0.2593, Valid loss: 0.3128\n"
          ]
        },
        {
          "output_type": "stream",
          "name": "stderr",
          "text": [
            "Epoch [174/3000]: 100%|██████████| 4/4 [00:00<00:00, 82.78it/s, loss=0.168]\n"
          ]
        },
        {
          "output_type": "stream",
          "name": "stdout",
          "text": [
            "Epoch [174/3000]: Train loss: 0.2492, Valid loss: 0.3136\n"
          ]
        },
        {
          "output_type": "stream",
          "name": "stderr",
          "text": [
            "Epoch [175/3000]: 100%|██████████| 4/4 [00:00<00:00, 107.95it/s, loss=0.406]\n"
          ]
        },
        {
          "output_type": "stream",
          "name": "stdout",
          "text": [
            "Epoch [175/3000]: Train loss: 0.3020, Valid loss: 0.3126\n"
          ]
        },
        {
          "output_type": "stream",
          "name": "stderr",
          "text": [
            "Epoch [176/3000]: 100%|██████████| 4/4 [00:00<00:00, 104.49it/s, loss=0.303]\n"
          ]
        },
        {
          "output_type": "stream",
          "name": "stdout",
          "text": [
            "Epoch [176/3000]: Train loss: 0.2776, Valid loss: 0.3058\n",
            "Saving model with loss 0.306...\n"
          ]
        },
        {
          "output_type": "stream",
          "name": "stderr",
          "text": [
            "Epoch [177/3000]: 100%|██████████| 4/4 [00:00<00:00, 106.47it/s, loss=0.226]\n"
          ]
        },
        {
          "output_type": "stream",
          "name": "stdout",
          "text": [
            "Epoch [177/3000]: Train loss: 0.2628, Valid loss: 0.3044\n",
            "Saving model with loss 0.304...\n"
          ]
        },
        {
          "output_type": "stream",
          "name": "stderr",
          "text": [
            "Epoch [178/3000]: 100%|██████████| 4/4 [00:00<00:00, 103.02it/s, loss=0.296]\n"
          ]
        },
        {
          "output_type": "stream",
          "name": "stdout",
          "text": [
            "Epoch [178/3000]: Train loss: 0.2761, Valid loss: 0.3125\n"
          ]
        },
        {
          "output_type": "stream",
          "name": "stderr",
          "text": [
            "Epoch [179/3000]: 100%|██████████| 4/4 [00:00<00:00, 104.41it/s, loss=0.323]\n"
          ]
        },
        {
          "output_type": "stream",
          "name": "stdout",
          "text": [
            "Epoch [179/3000]: Train loss: 0.2812, Valid loss: 0.3165\n"
          ]
        },
        {
          "output_type": "stream",
          "name": "stderr",
          "text": [
            "Epoch [180/3000]: 100%|██████████| 4/4 [00:00<00:00, 117.57it/s, loss=0.244]\n"
          ]
        },
        {
          "output_type": "stream",
          "name": "stdout",
          "text": [
            "Epoch [180/3000]: Train loss: 0.2638, Valid loss: 0.3102\n"
          ]
        },
        {
          "output_type": "stream",
          "name": "stderr",
          "text": [
            "Epoch [181/3000]: 100%|██████████| 4/4 [00:00<00:00, 64.30it/s, loss=0.408]\n"
          ]
        },
        {
          "output_type": "stream",
          "name": "stdout",
          "text": [
            "Epoch [181/3000]: Train loss: 0.2988, Valid loss: 0.3071\n"
          ]
        },
        {
          "output_type": "stream",
          "name": "stderr",
          "text": [
            "Epoch [182/3000]: 100%|██████████| 4/4 [00:00<00:00, 87.72it/s, loss=0.238]\n"
          ]
        },
        {
          "output_type": "stream",
          "name": "stdout",
          "text": [
            "Epoch [182/3000]: Train loss: 0.2621, Valid loss: 0.3102\n"
          ]
        },
        {
          "output_type": "stream",
          "name": "stderr",
          "text": [
            "Epoch [183/3000]: 100%|██████████| 4/4 [00:00<00:00, 96.67it/s, loss=0.342]\n"
          ]
        },
        {
          "output_type": "stream",
          "name": "stdout",
          "text": [
            "Epoch [183/3000]: Train loss: 0.2849, Valid loss: 0.3060\n"
          ]
        },
        {
          "output_type": "stream",
          "name": "stderr",
          "text": [
            "Epoch [184/3000]: 100%|██████████| 4/4 [00:00<00:00, 128.17it/s, loss=0.29]\n"
          ]
        },
        {
          "output_type": "stream",
          "name": "stdout",
          "text": [
            "Epoch [184/3000]: Train loss: 0.2728, Valid loss: 0.3104\n"
          ]
        },
        {
          "output_type": "stream",
          "name": "stderr",
          "text": [
            "Epoch [185/3000]: 100%|██████████| 4/4 [00:00<00:00, 107.66it/s, loss=0.246]\n"
          ]
        },
        {
          "output_type": "stream",
          "name": "stdout",
          "text": [
            "Epoch [185/3000]: Train loss: 0.2692, Valid loss: 0.3078\n"
          ]
        },
        {
          "output_type": "stream",
          "name": "stderr",
          "text": [
            "Epoch [186/3000]: 100%|██████████| 4/4 [00:00<00:00, 100.65it/s, loss=0.249]\n"
          ]
        },
        {
          "output_type": "stream",
          "name": "stdout",
          "text": [
            "Epoch [186/3000]: Train loss: 0.2632, Valid loss: 0.3200\n"
          ]
        },
        {
          "output_type": "stream",
          "name": "stderr",
          "text": [
            "Epoch [187/3000]: 100%|██████████| 4/4 [00:00<00:00, 121.90it/s, loss=0.317]\n"
          ]
        },
        {
          "output_type": "stream",
          "name": "stdout",
          "text": [
            "Epoch [187/3000]: Train loss: 0.2835, Valid loss: 0.3258\n"
          ]
        },
        {
          "output_type": "stream",
          "name": "stderr",
          "text": [
            "Epoch [188/3000]: 100%|██████████| 4/4 [00:00<00:00, 15.66it/s, loss=0.322]\n"
          ]
        },
        {
          "output_type": "stream",
          "name": "stdout",
          "text": [
            "Epoch [188/3000]: Train loss: 0.2833, Valid loss: 0.3043\n",
            "Saving model with loss 0.304...\n"
          ]
        },
        {
          "output_type": "stream",
          "name": "stderr",
          "text": [
            "Epoch [189/3000]: 100%|██████████| 4/4 [00:00<00:00, 120.60it/s, loss=0.216]\n"
          ]
        },
        {
          "output_type": "stream",
          "name": "stdout",
          "text": [
            "Epoch [189/3000]: Train loss: 0.2536, Valid loss: 0.3008\n",
            "Saving model with loss 0.301...\n"
          ]
        },
        {
          "output_type": "stream",
          "name": "stderr",
          "text": [
            "Epoch [190/3000]: 100%|██████████| 4/4 [00:00<00:00, 124.90it/s, loss=0.187]\n"
          ]
        },
        {
          "output_type": "stream",
          "name": "stdout",
          "text": [
            "Epoch [190/3000]: Train loss: 0.2484, Valid loss: 0.3028\n"
          ]
        },
        {
          "output_type": "stream",
          "name": "stderr",
          "text": [
            "Epoch [191/3000]: 100%|██████████| 4/4 [00:00<00:00, 139.00it/s, loss=0.24]\n"
          ]
        },
        {
          "output_type": "stream",
          "name": "stdout",
          "text": [
            "Epoch [191/3000]: Train loss: 0.2593, Valid loss: 0.3033\n"
          ]
        },
        {
          "output_type": "stream",
          "name": "stderr",
          "text": [
            "Epoch [192/3000]: 100%|██████████| 4/4 [00:00<00:00, 124.75it/s, loss=0.261]\n"
          ]
        },
        {
          "output_type": "stream",
          "name": "stdout",
          "text": [
            "Epoch [192/3000]: Train loss: 0.2625, Valid loss: 0.3042\n"
          ]
        },
        {
          "output_type": "stream",
          "name": "stderr",
          "text": [
            "Epoch [193/3000]: 100%|██████████| 4/4 [00:00<00:00, 115.18it/s, loss=0.284]\n"
          ]
        },
        {
          "output_type": "stream",
          "name": "stdout",
          "text": [
            "Epoch [193/3000]: Train loss: 0.2677, Valid loss: 0.2982\n",
            "Saving model with loss 0.298...\n"
          ]
        },
        {
          "output_type": "stream",
          "name": "stderr",
          "text": [
            "Epoch [194/3000]: 100%|██████████| 4/4 [00:00<00:00, 128.36it/s, loss=0.437]\n"
          ]
        },
        {
          "output_type": "stream",
          "name": "stdout",
          "text": [
            "Epoch [194/3000]: Train loss: 0.3016, Valid loss: 0.2955\n",
            "Saving model with loss 0.296...\n"
          ]
        },
        {
          "output_type": "stream",
          "name": "stderr",
          "text": [
            "Epoch [195/3000]: 100%|██████████| 4/4 [00:00<00:00, 116.70it/s, loss=0.283]\n"
          ]
        },
        {
          "output_type": "stream",
          "name": "stdout",
          "text": [
            "Epoch [195/3000]: Train loss: 0.2669, Valid loss: 0.3009\n"
          ]
        },
        {
          "output_type": "stream",
          "name": "stderr",
          "text": [
            "Epoch [196/3000]: 100%|██████████| 4/4 [00:00<00:00, 111.89it/s, loss=0.269]\n"
          ]
        },
        {
          "output_type": "stream",
          "name": "stdout",
          "text": [
            "Epoch [196/3000]: Train loss: 0.2641, Valid loss: 0.3057\n"
          ]
        },
        {
          "output_type": "stream",
          "name": "stderr",
          "text": [
            "Epoch [197/3000]: 100%|██████████| 4/4 [00:00<00:00, 129.67it/s, loss=0.273]\n"
          ]
        },
        {
          "output_type": "stream",
          "name": "stdout",
          "text": [
            "Epoch [197/3000]: Train loss: 0.2647, Valid loss: 0.2983\n"
          ]
        },
        {
          "output_type": "stream",
          "name": "stderr",
          "text": [
            "Epoch [198/3000]: 100%|██████████| 4/4 [00:00<00:00, 121.89it/s, loss=0.37]\n"
          ]
        },
        {
          "output_type": "stream",
          "name": "stdout",
          "text": [
            "Epoch [198/3000]: Train loss: 0.2844, Valid loss: 0.3004\n"
          ]
        },
        {
          "output_type": "stream",
          "name": "stderr",
          "text": [
            "Epoch [199/3000]: 100%|██████████| 4/4 [00:00<00:00, 94.04it/s, loss=0.319]\n"
          ]
        },
        {
          "output_type": "stream",
          "name": "stdout",
          "text": [
            "Epoch [199/3000]: Train loss: 0.2769, Valid loss: 0.3022\n"
          ]
        },
        {
          "output_type": "stream",
          "name": "stderr",
          "text": [
            "Epoch [200/3000]: 100%|██████████| 4/4 [00:00<00:00, 120.82it/s, loss=0.272]\n"
          ]
        },
        {
          "output_type": "stream",
          "name": "stdout",
          "text": [
            "Epoch [200/3000]: Train loss: 0.2659, Valid loss: 0.2995\n"
          ]
        },
        {
          "output_type": "stream",
          "name": "stderr",
          "text": [
            "Epoch [201/3000]: 100%|██████████| 4/4 [00:00<00:00, 121.56it/s, loss=0.275]\n"
          ]
        },
        {
          "output_type": "stream",
          "name": "stdout",
          "text": [
            "Epoch [201/3000]: Train loss: 0.2624, Valid loss: 0.3051\n"
          ]
        },
        {
          "output_type": "stream",
          "name": "stderr",
          "text": [
            "Epoch [202/3000]: 100%|██████████| 4/4 [00:00<00:00, 107.39it/s, loss=0.197]\n"
          ]
        },
        {
          "output_type": "stream",
          "name": "stdout",
          "text": [
            "Epoch [202/3000]: Train loss: 0.2502, Valid loss: 0.3047\n"
          ]
        },
        {
          "output_type": "stream",
          "name": "stderr",
          "text": [
            "Epoch [203/3000]: 100%|██████████| 4/4 [00:00<00:00, 107.72it/s, loss=0.156]\n"
          ]
        },
        {
          "output_type": "stream",
          "name": "stdout",
          "text": [
            "Epoch [203/3000]: Train loss: 0.2435, Valid loss: 0.2931\n",
            "Saving model with loss 0.293...\n"
          ]
        },
        {
          "output_type": "stream",
          "name": "stderr",
          "text": [
            "Epoch [204/3000]: 100%|██████████| 4/4 [00:00<00:00, 110.03it/s, loss=0.331]\n"
          ]
        },
        {
          "output_type": "stream",
          "name": "stdout",
          "text": [
            "Epoch [204/3000]: Train loss: 0.2760, Valid loss: 0.2915\n",
            "Saving model with loss 0.292...\n"
          ]
        },
        {
          "output_type": "stream",
          "name": "stderr",
          "text": [
            "Epoch [205/3000]: 100%|██████████| 4/4 [00:00<00:00, 110.37it/s, loss=0.227]\n"
          ]
        },
        {
          "output_type": "stream",
          "name": "stdout",
          "text": [
            "Epoch [205/3000]: Train loss: 0.2508, Valid loss: 0.2993\n"
          ]
        },
        {
          "output_type": "stream",
          "name": "stderr",
          "text": [
            "Epoch [206/3000]: 100%|██████████| 4/4 [00:00<00:00, 100.03it/s, loss=0.309]\n"
          ]
        },
        {
          "output_type": "stream",
          "name": "stdout",
          "text": [
            "Epoch [206/3000]: Train loss: 0.2697, Valid loss: 0.2969\n"
          ]
        },
        {
          "output_type": "stream",
          "name": "stderr",
          "text": [
            "Epoch [207/3000]: 100%|██████████| 4/4 [00:00<00:00, 111.20it/s, loss=0.164]\n"
          ]
        },
        {
          "output_type": "stream",
          "name": "stdout",
          "text": [
            "Epoch [207/3000]: Train loss: 0.2359, Valid loss: 0.2894\n",
            "Saving model with loss 0.289...\n"
          ]
        },
        {
          "output_type": "stream",
          "name": "stderr",
          "text": [
            "Epoch [208/3000]: 100%|██████████| 4/4 [00:00<00:00, 112.60it/s, loss=0.196]\n"
          ]
        },
        {
          "output_type": "stream",
          "name": "stdout",
          "text": [
            "Epoch [208/3000]: Train loss: 0.2462, Valid loss: 0.2926\n"
          ]
        },
        {
          "output_type": "stream",
          "name": "stderr",
          "text": [
            "Epoch [209/3000]: 100%|██████████| 4/4 [00:00<00:00, 123.84it/s, loss=0.286]\n"
          ]
        },
        {
          "output_type": "stream",
          "name": "stdout",
          "text": [
            "Epoch [209/3000]: Train loss: 0.2650, Valid loss: 0.2959\n"
          ]
        },
        {
          "output_type": "stream",
          "name": "stderr",
          "text": [
            "Epoch [210/3000]: 100%|██████████| 4/4 [00:00<00:00, 115.90it/s, loss=0.236]\n"
          ]
        },
        {
          "output_type": "stream",
          "name": "stdout",
          "text": [
            "Epoch [210/3000]: Train loss: 0.2504, Valid loss: 0.2934\n"
          ]
        },
        {
          "output_type": "stream",
          "name": "stderr",
          "text": [
            "Epoch [211/3000]: 100%|██████████| 4/4 [00:00<00:00, 140.76it/s, loss=0.2]\n"
          ]
        },
        {
          "output_type": "stream",
          "name": "stdout",
          "text": [
            "Epoch [211/3000]: Train loss: 0.2437, Valid loss: 0.2891\n",
            "Saving model with loss 0.289...\n"
          ]
        },
        {
          "output_type": "stream",
          "name": "stderr",
          "text": [
            "Epoch [212/3000]: 100%|██████████| 4/4 [00:00<00:00, 126.61it/s, loss=0.237]\n"
          ]
        },
        {
          "output_type": "stream",
          "name": "stdout",
          "text": [
            "Epoch [212/3000]: Train loss: 0.2513, Valid loss: 0.2926\n"
          ]
        },
        {
          "output_type": "stream",
          "name": "stderr",
          "text": [
            "Epoch [213/3000]: 100%|██████████| 4/4 [00:00<00:00, 127.30it/s, loss=0.315]\n"
          ]
        },
        {
          "output_type": "stream",
          "name": "stdout",
          "text": [
            "Epoch [213/3000]: Train loss: 0.2676, Valid loss: 0.2869\n",
            "Saving model with loss 0.287...\n"
          ]
        },
        {
          "output_type": "stream",
          "name": "stderr",
          "text": [
            "Epoch [214/3000]: 100%|██████████| 4/4 [00:00<00:00, 139.61it/s, loss=0.195]\n"
          ]
        },
        {
          "output_type": "stream",
          "name": "stdout",
          "text": [
            "Epoch [214/3000]: Train loss: 0.2416, Valid loss: 0.2815\n",
            "Saving model with loss 0.281...\n"
          ]
        },
        {
          "output_type": "stream",
          "name": "stderr",
          "text": [
            "Epoch [215/3000]: 100%|██████████| 4/4 [00:00<00:00, 136.62it/s, loss=0.37]\n"
          ]
        },
        {
          "output_type": "stream",
          "name": "stdout",
          "text": [
            "Epoch [215/3000]: Train loss: 0.2787, Valid loss: 0.2917\n"
          ]
        },
        {
          "output_type": "stream",
          "name": "stderr",
          "text": [
            "Epoch [216/3000]: 100%|██████████| 4/4 [00:00<00:00, 113.83it/s, loss=0.224]\n"
          ]
        },
        {
          "output_type": "stream",
          "name": "stdout",
          "text": [
            "Epoch [216/3000]: Train loss: 0.2481, Valid loss: 0.2936\n"
          ]
        },
        {
          "output_type": "stream",
          "name": "stderr",
          "text": [
            "Epoch [217/3000]: 100%|██████████| 4/4 [00:00<00:00, 115.10it/s, loss=0.28]\n"
          ]
        },
        {
          "output_type": "stream",
          "name": "stdout",
          "text": [
            "Epoch [217/3000]: Train loss: 0.2590, Valid loss: 0.2823\n"
          ]
        },
        {
          "output_type": "stream",
          "name": "stderr",
          "text": [
            "Epoch [218/3000]: 100%|██████████| 4/4 [00:00<00:00, 123.83it/s, loss=0.318]\n"
          ]
        },
        {
          "output_type": "stream",
          "name": "stdout",
          "text": [
            "Epoch [218/3000]: Train loss: 0.2665, Valid loss: 0.2883\n"
          ]
        },
        {
          "output_type": "stream",
          "name": "stderr",
          "text": [
            "Epoch [219/3000]: 100%|██████████| 4/4 [00:00<00:00, 130.24it/s, loss=0.235]\n"
          ]
        },
        {
          "output_type": "stream",
          "name": "stdout",
          "text": [
            "Epoch [219/3000]: Train loss: 0.2490, Valid loss: 0.2898\n"
          ]
        },
        {
          "output_type": "stream",
          "name": "stderr",
          "text": [
            "Epoch [220/3000]: 100%|██████████| 4/4 [00:00<00:00, 133.18it/s, loss=0.231]\n"
          ]
        },
        {
          "output_type": "stream",
          "name": "stdout",
          "text": [
            "Epoch [220/3000]: Train loss: 0.2482, Valid loss: 0.2801\n",
            "Saving model with loss 0.280...\n"
          ]
        },
        {
          "output_type": "stream",
          "name": "stderr",
          "text": [
            "Epoch [221/3000]: 100%|██████████| 4/4 [00:00<00:00, 124.81it/s, loss=0.32]\n"
          ]
        },
        {
          "output_type": "stream",
          "name": "stdout",
          "text": [
            "Epoch [221/3000]: Train loss: 0.2696, Valid loss: 0.2818\n"
          ]
        },
        {
          "output_type": "stream",
          "name": "stderr",
          "text": [
            "Epoch [222/3000]: 100%|██████████| 4/4 [00:00<00:00, 122.47it/s, loss=0.262]\n"
          ]
        },
        {
          "output_type": "stream",
          "name": "stdout",
          "text": [
            "Epoch [222/3000]: Train loss: 0.2519, Valid loss: 0.2946\n"
          ]
        },
        {
          "output_type": "stream",
          "name": "stderr",
          "text": [
            "Epoch [223/3000]: 100%|██████████| 4/4 [00:00<00:00, 85.10it/s, loss=0.258]\n"
          ]
        },
        {
          "output_type": "stream",
          "name": "stdout",
          "text": [
            "Epoch [223/3000]: Train loss: 0.2545, Valid loss: 0.3017\n"
          ]
        },
        {
          "output_type": "stream",
          "name": "stderr",
          "text": [
            "Epoch [224/3000]: 100%|██████████| 4/4 [00:00<00:00, 120.92it/s, loss=0.385]\n"
          ]
        },
        {
          "output_type": "stream",
          "name": "stdout",
          "text": [
            "Epoch [224/3000]: Train loss: 0.2816, Valid loss: 0.2793\n",
            "Saving model with loss 0.279...\n"
          ]
        },
        {
          "output_type": "stream",
          "name": "stderr",
          "text": [
            "Epoch [225/3000]: 100%|██████████| 4/4 [00:00<00:00, 78.57it/s, loss=0.236]\n"
          ]
        },
        {
          "output_type": "stream",
          "name": "stdout",
          "text": [
            "Epoch [225/3000]: Train loss: 0.2468, Valid loss: 0.2763\n",
            "Saving model with loss 0.276...\n"
          ]
        },
        {
          "output_type": "stream",
          "name": "stderr",
          "text": [
            "Epoch [226/3000]: 100%|██████████| 4/4 [00:00<00:00, 125.09it/s, loss=0.263]\n"
          ]
        },
        {
          "output_type": "stream",
          "name": "stdout",
          "text": [
            "Epoch [226/3000]: Train loss: 0.2536, Valid loss: 0.2797\n"
          ]
        },
        {
          "output_type": "stream",
          "name": "stderr",
          "text": [
            "Epoch [227/3000]: 100%|██████████| 4/4 [00:00<00:00, 126.86it/s, loss=0.193]\n"
          ]
        },
        {
          "output_type": "stream",
          "name": "stdout",
          "text": [
            "Epoch [227/3000]: Train loss: 0.2358, Valid loss: 0.2758\n",
            "Saving model with loss 0.276...\n"
          ]
        },
        {
          "output_type": "stream",
          "name": "stderr",
          "text": [
            "Epoch [228/3000]: 100%|██████████| 4/4 [00:00<00:00, 110.21it/s, loss=0.201]\n"
          ]
        },
        {
          "output_type": "stream",
          "name": "stdout",
          "text": [
            "Epoch [228/3000]: Train loss: 0.2384, Valid loss: 0.2805\n"
          ]
        },
        {
          "output_type": "stream",
          "name": "stderr",
          "text": [
            "Epoch [229/3000]: 100%|██████████| 4/4 [00:00<00:00, 121.50it/s, loss=0.152]\n"
          ]
        },
        {
          "output_type": "stream",
          "name": "stdout",
          "text": [
            "Epoch [229/3000]: Train loss: 0.2279, Valid loss: 0.2854\n"
          ]
        },
        {
          "output_type": "stream",
          "name": "stderr",
          "text": [
            "Epoch [230/3000]: 100%|██████████| 4/4 [00:00<00:00, 129.64it/s, loss=0.105]\n"
          ]
        },
        {
          "output_type": "stream",
          "name": "stdout",
          "text": [
            "Epoch [230/3000]: Train loss: 0.2175, Valid loss: 0.2814\n"
          ]
        },
        {
          "output_type": "stream",
          "name": "stderr",
          "text": [
            "Epoch [231/3000]: 100%|██████████| 4/4 [00:00<00:00, 128.43it/s, loss=0.191]\n"
          ]
        },
        {
          "output_type": "stream",
          "name": "stdout",
          "text": [
            "Epoch [231/3000]: Train loss: 0.2344, Valid loss: 0.2768\n"
          ]
        },
        {
          "output_type": "stream",
          "name": "stderr",
          "text": [
            "Epoch [232/3000]: 100%|██████████| 4/4 [00:00<00:00, 122.83it/s, loss=0.291]\n"
          ]
        },
        {
          "output_type": "stream",
          "name": "stdout",
          "text": [
            "Epoch [232/3000]: Train loss: 0.2557, Valid loss: 0.2767\n"
          ]
        },
        {
          "output_type": "stream",
          "name": "stderr",
          "text": [
            "Epoch [233/3000]: 100%|██████████| 4/4 [00:00<00:00, 138.77it/s, loss=0.272]\n"
          ]
        },
        {
          "output_type": "stream",
          "name": "stdout",
          "text": [
            "Epoch [233/3000]: Train loss: 0.2512, Valid loss: 0.2725\n",
            "Saving model with loss 0.272...\n"
          ]
        },
        {
          "output_type": "stream",
          "name": "stderr",
          "text": [
            "Epoch [234/3000]: 100%|██████████| 4/4 [00:00<00:00, 128.56it/s, loss=0.254]\n"
          ]
        },
        {
          "output_type": "stream",
          "name": "stdout",
          "text": [
            "Epoch [234/3000]: Train loss: 0.2474, Valid loss: 0.2805\n"
          ]
        },
        {
          "output_type": "stream",
          "name": "stderr",
          "text": [
            "Epoch [235/3000]: 100%|██████████| 4/4 [00:00<00:00, 117.12it/s, loss=0.32]\n"
          ]
        },
        {
          "output_type": "stream",
          "name": "stdout",
          "text": [
            "Epoch [235/3000]: Train loss: 0.2621, Valid loss: 0.2814\n"
          ]
        },
        {
          "output_type": "stream",
          "name": "stderr",
          "text": [
            "Epoch [236/3000]: 100%|██████████| 4/4 [00:00<00:00, 110.14it/s, loss=0.291]\n"
          ]
        },
        {
          "output_type": "stream",
          "name": "stdout",
          "text": [
            "Epoch [236/3000]: Train loss: 0.2553, Valid loss: 0.2717\n",
            "Saving model with loss 0.272...\n"
          ]
        },
        {
          "output_type": "stream",
          "name": "stderr",
          "text": [
            "Epoch [237/3000]: 100%|██████████| 4/4 [00:00<00:00, 118.31it/s, loss=0.364]\n"
          ]
        },
        {
          "output_type": "stream",
          "name": "stdout",
          "text": [
            "Epoch [237/3000]: Train loss: 0.2707, Valid loss: 0.2707\n",
            "Saving model with loss 0.271...\n"
          ]
        },
        {
          "output_type": "stream",
          "name": "stderr",
          "text": [
            "Epoch [238/3000]: 100%|██████████| 4/4 [00:00<00:00, 125.65it/s, loss=0.225]\n"
          ]
        },
        {
          "output_type": "stream",
          "name": "stdout",
          "text": [
            "Epoch [238/3000]: Train loss: 0.2401, Valid loss: 0.2736\n"
          ]
        },
        {
          "output_type": "stream",
          "name": "stderr",
          "text": [
            "Epoch [239/3000]: 100%|██████████| 4/4 [00:00<00:00, 112.78it/s, loss=0.229]\n"
          ]
        },
        {
          "output_type": "stream",
          "name": "stdout",
          "text": [
            "Epoch [239/3000]: Train loss: 0.2394, Valid loss: 0.2788\n"
          ]
        },
        {
          "output_type": "stream",
          "name": "stderr",
          "text": [
            "Epoch [240/3000]: 100%|██████████| 4/4 [00:00<00:00, 28.52it/s, loss=0.273]\n"
          ]
        },
        {
          "output_type": "stream",
          "name": "stdout",
          "text": [
            "Epoch [240/3000]: Train loss: 0.2507, Valid loss: 0.2777\n"
          ]
        },
        {
          "output_type": "stream",
          "name": "stderr",
          "text": [
            "Epoch [241/3000]: 100%|██████████| 4/4 [00:00<00:00, 79.87it/s, loss=0.198]\n"
          ]
        },
        {
          "output_type": "stream",
          "name": "stdout",
          "text": [
            "Epoch [241/3000]: Train loss: 0.2329, Valid loss: 0.2783\n"
          ]
        },
        {
          "output_type": "stream",
          "name": "stderr",
          "text": [
            "Epoch [242/3000]: 100%|██████████| 4/4 [00:00<00:00, 78.98it/s, loss=0.245]\n"
          ]
        },
        {
          "output_type": "stream",
          "name": "stdout",
          "text": [
            "Epoch [242/3000]: Train loss: 0.2445, Valid loss: 0.2797\n"
          ]
        },
        {
          "output_type": "stream",
          "name": "stderr",
          "text": [
            "Epoch [243/3000]: 100%|██████████| 4/4 [00:00<00:00, 108.43it/s, loss=0.253]\n"
          ]
        },
        {
          "output_type": "stream",
          "name": "stdout",
          "text": [
            "Epoch [243/3000]: Train loss: 0.2454, Valid loss: 0.2710\n"
          ]
        },
        {
          "output_type": "stream",
          "name": "stderr",
          "text": [
            "Epoch [244/3000]: 100%|██████████| 4/4 [00:00<00:00, 78.85it/s, loss=0.348]\n"
          ]
        },
        {
          "output_type": "stream",
          "name": "stdout",
          "text": [
            "Epoch [244/3000]: Train loss: 0.2647, Valid loss: 0.2673\n",
            "Saving model with loss 0.267...\n"
          ]
        },
        {
          "output_type": "stream",
          "name": "stderr",
          "text": [
            "Epoch [245/3000]: 100%|██████████| 4/4 [00:00<00:00, 109.62it/s, loss=0.229]\n"
          ]
        },
        {
          "output_type": "stream",
          "name": "stdout",
          "text": [
            "Epoch [245/3000]: Train loss: 0.2388, Valid loss: 0.2684\n"
          ]
        },
        {
          "output_type": "stream",
          "name": "stderr",
          "text": [
            "Epoch [246/3000]: 100%|██████████| 4/4 [00:00<00:00, 93.39it/s, loss=0.287]\n"
          ]
        },
        {
          "output_type": "stream",
          "name": "stdout",
          "text": [
            "Epoch [246/3000]: Train loss: 0.2505, Valid loss: 0.2705\n"
          ]
        },
        {
          "output_type": "stream",
          "name": "stderr",
          "text": [
            "Epoch [247/3000]: 100%|██████████| 4/4 [00:00<00:00, 88.80it/s, loss=0.378]\n"
          ]
        },
        {
          "output_type": "stream",
          "name": "stdout",
          "text": [
            "Epoch [247/3000]: Train loss: 0.2717, Valid loss: 0.2707\n"
          ]
        },
        {
          "output_type": "stream",
          "name": "stderr",
          "text": [
            "Epoch [248/3000]: 100%|██████████| 4/4 [00:00<00:00, 95.41it/s, loss=0.177]\n"
          ]
        },
        {
          "output_type": "stream",
          "name": "stdout",
          "text": [
            "Epoch [248/3000]: Train loss: 0.2264, Valid loss: 0.2725\n"
          ]
        },
        {
          "output_type": "stream",
          "name": "stderr",
          "text": [
            "Epoch [249/3000]: 100%|██████████| 4/4 [00:00<00:00, 96.35it/s, loss=0.242]\n"
          ]
        },
        {
          "output_type": "stream",
          "name": "stdout",
          "text": [
            "Epoch [249/3000]: Train loss: 0.2411, Valid loss: 0.2683\n"
          ]
        },
        {
          "output_type": "stream",
          "name": "stderr",
          "text": [
            "Epoch [250/3000]: 100%|██████████| 4/4 [00:00<00:00, 95.49it/s, loss=0.232]\n"
          ]
        },
        {
          "output_type": "stream",
          "name": "stdout",
          "text": [
            "Epoch [250/3000]: Train loss: 0.2380, Valid loss: 0.2733\n"
          ]
        },
        {
          "output_type": "stream",
          "name": "stderr",
          "text": [
            "Epoch [251/3000]: 100%|██████████| 4/4 [00:00<00:00, 109.04it/s, loss=0.266]\n"
          ]
        },
        {
          "output_type": "stream",
          "name": "stdout",
          "text": [
            "Epoch [251/3000]: Train loss: 0.2457, Valid loss: 0.2770\n"
          ]
        },
        {
          "output_type": "stream",
          "name": "stderr",
          "text": [
            "Epoch [252/3000]: 100%|██████████| 4/4 [00:00<00:00, 111.79it/s, loss=0.255]\n"
          ]
        },
        {
          "output_type": "stream",
          "name": "stdout",
          "text": [
            "Epoch [252/3000]: Train loss: 0.2422, Valid loss: 0.2653\n",
            "Saving model with loss 0.265...\n"
          ]
        },
        {
          "output_type": "stream",
          "name": "stderr",
          "text": [
            "Epoch [253/3000]: 100%|██████████| 4/4 [00:00<00:00, 96.25it/s, loss=0.3]\n"
          ]
        },
        {
          "output_type": "stream",
          "name": "stdout",
          "text": [
            "Epoch [253/3000]: Train loss: 0.2520, Valid loss: 0.2686\n"
          ]
        },
        {
          "output_type": "stream",
          "name": "stderr",
          "text": [
            "Epoch [254/3000]: 100%|██████████| 4/4 [00:00<00:00, 105.97it/s, loss=0.261]\n"
          ]
        },
        {
          "output_type": "stream",
          "name": "stdout",
          "text": [
            "Epoch [254/3000]: Train loss: 0.2459, Valid loss: 0.2753\n"
          ]
        },
        {
          "output_type": "stream",
          "name": "stderr",
          "text": [
            "Epoch [255/3000]: 100%|██████████| 4/4 [00:00<00:00, 103.99it/s, loss=0.303]\n"
          ]
        },
        {
          "output_type": "stream",
          "name": "stdout",
          "text": [
            "Epoch [255/3000]: Train loss: 0.2543, Valid loss: 0.2688\n"
          ]
        },
        {
          "output_type": "stream",
          "name": "stderr",
          "text": [
            "Epoch [256/3000]: 100%|██████████| 4/4 [00:00<00:00, 108.36it/s, loss=0.174]\n"
          ]
        },
        {
          "output_type": "stream",
          "name": "stdout",
          "text": [
            "Epoch [256/3000]: Train loss: 0.2225, Valid loss: 0.2708\n"
          ]
        },
        {
          "output_type": "stream",
          "name": "stderr",
          "text": [
            "Epoch [257/3000]: 100%|██████████| 4/4 [00:00<00:00, 102.30it/s, loss=0.167]\n"
          ]
        },
        {
          "output_type": "stream",
          "name": "stdout",
          "text": [
            "Epoch [257/3000]: Train loss: 0.2217, Valid loss: 0.2700\n"
          ]
        },
        {
          "output_type": "stream",
          "name": "stderr",
          "text": [
            "Epoch [258/3000]: 100%|██████████| 4/4 [00:00<00:00, 103.48it/s, loss=0.297]\n"
          ]
        },
        {
          "output_type": "stream",
          "name": "stdout",
          "text": [
            "Epoch [258/3000]: Train loss: 0.2498, Valid loss: 0.2653\n",
            "Saving model with loss 0.265...\n"
          ]
        },
        {
          "output_type": "stream",
          "name": "stderr",
          "text": [
            "Epoch [259/3000]: 100%|██████████| 4/4 [00:00<00:00, 104.92it/s, loss=0.224]\n"
          ]
        },
        {
          "output_type": "stream",
          "name": "stdout",
          "text": [
            "Epoch [259/3000]: Train loss: 0.2335, Valid loss: 0.2636\n",
            "Saving model with loss 0.264...\n"
          ]
        },
        {
          "output_type": "stream",
          "name": "stderr",
          "text": [
            "Epoch [260/3000]: 100%|██████████| 4/4 [00:00<00:00, 104.58it/s, loss=0.203]\n"
          ]
        },
        {
          "output_type": "stream",
          "name": "stdout",
          "text": [
            "Epoch [260/3000]: Train loss: 0.2281, Valid loss: 0.2646\n"
          ]
        },
        {
          "output_type": "stream",
          "name": "stderr",
          "text": [
            "Epoch [261/3000]: 100%|██████████| 4/4 [00:00<00:00, 88.61it/s, loss=0.281]\n"
          ]
        },
        {
          "output_type": "stream",
          "name": "stdout",
          "text": [
            "Epoch [261/3000]: Train loss: 0.2448, Valid loss: 0.2654\n"
          ]
        },
        {
          "output_type": "stream",
          "name": "stderr",
          "text": [
            "Epoch [262/3000]: 100%|██████████| 4/4 [00:00<00:00, 115.17it/s, loss=0.245]\n"
          ]
        },
        {
          "output_type": "stream",
          "name": "stdout",
          "text": [
            "Epoch [262/3000]: Train loss: 0.2368, Valid loss: 0.2607\n",
            "Saving model with loss 0.261...\n"
          ]
        },
        {
          "output_type": "stream",
          "name": "stderr",
          "text": [
            "Epoch [263/3000]: 100%|██████████| 4/4 [00:00<00:00, 88.11it/s, loss=0.178]\n"
          ]
        },
        {
          "output_type": "stream",
          "name": "stdout",
          "text": [
            "Epoch [263/3000]: Train loss: 0.2223, Valid loss: 0.2579\n",
            "Saving model with loss 0.258...\n"
          ]
        },
        {
          "output_type": "stream",
          "name": "stderr",
          "text": [
            "Epoch [264/3000]: 100%|██████████| 4/4 [00:00<00:00, 100.71it/s, loss=0.19]\n"
          ]
        },
        {
          "output_type": "stream",
          "name": "stdout",
          "text": [
            "Epoch [264/3000]: Train loss: 0.2248, Valid loss: 0.2624\n"
          ]
        },
        {
          "output_type": "stream",
          "name": "stderr",
          "text": [
            "Epoch [265/3000]: 100%|██████████| 4/4 [00:00<00:00, 108.61it/s, loss=0.193]\n"
          ]
        },
        {
          "output_type": "stream",
          "name": "stdout",
          "text": [
            "Epoch [265/3000]: Train loss: 0.2243, Valid loss: 0.2610\n"
          ]
        },
        {
          "output_type": "stream",
          "name": "stderr",
          "text": [
            "Epoch [266/3000]: 100%|██████████| 4/4 [00:00<00:00, 105.34it/s, loss=0.302]\n"
          ]
        },
        {
          "output_type": "stream",
          "name": "stdout",
          "text": [
            "Epoch [266/3000]: Train loss: 0.2484, Valid loss: 0.2588\n"
          ]
        },
        {
          "output_type": "stream",
          "name": "stderr",
          "text": [
            "Epoch [267/3000]: 100%|██████████| 4/4 [00:00<00:00, 95.21it/s, loss=0.349]\n"
          ]
        },
        {
          "output_type": "stream",
          "name": "stdout",
          "text": [
            "Epoch [267/3000]: Train loss: 0.2578, Valid loss: 0.2612\n"
          ]
        },
        {
          "output_type": "stream",
          "name": "stderr",
          "text": [
            "Epoch [268/3000]: 100%|██████████| 4/4 [00:00<00:00, 120.86it/s, loss=0.227]\n"
          ]
        },
        {
          "output_type": "stream",
          "name": "stdout",
          "text": [
            "Epoch [268/3000]: Train loss: 0.2350, Valid loss: 0.2613\n"
          ]
        },
        {
          "output_type": "stream",
          "name": "stderr",
          "text": [
            "Epoch [269/3000]: 100%|██████████| 4/4 [00:00<00:00, 88.15it/s, loss=0.222]\n"
          ]
        },
        {
          "output_type": "stream",
          "name": "stdout",
          "text": [
            "Epoch [269/3000]: Train loss: 0.2326, Valid loss: 0.2554\n",
            "Saving model with loss 0.255...\n"
          ]
        },
        {
          "output_type": "stream",
          "name": "stderr",
          "text": [
            "Epoch [270/3000]: 100%|██████████| 4/4 [00:00<00:00, 95.54it/s, loss=0.157]\n"
          ]
        },
        {
          "output_type": "stream",
          "name": "stdout",
          "text": [
            "Epoch [270/3000]: Train loss: 0.2172, Valid loss: 0.2582\n"
          ]
        },
        {
          "output_type": "stream",
          "name": "stderr",
          "text": [
            "Epoch [271/3000]: 100%|██████████| 4/4 [00:00<00:00, 77.58it/s, loss=0.219]\n"
          ]
        },
        {
          "output_type": "stream",
          "name": "stdout",
          "text": [
            "Epoch [271/3000]: Train loss: 0.2301, Valid loss: 0.2659\n"
          ]
        },
        {
          "output_type": "stream",
          "name": "stderr",
          "text": [
            "Epoch [272/3000]: 100%|██████████| 4/4 [00:00<00:00, 97.08it/s, loss=0.263]\n"
          ]
        },
        {
          "output_type": "stream",
          "name": "stdout",
          "text": [
            "Epoch [272/3000]: Train loss: 0.2397, Valid loss: 0.2661\n"
          ]
        },
        {
          "output_type": "stream",
          "name": "stderr",
          "text": [
            "Epoch [273/3000]: 100%|██████████| 4/4 [00:00<00:00, 105.47it/s, loss=0.308]\n"
          ]
        },
        {
          "output_type": "stream",
          "name": "stdout",
          "text": [
            "Epoch [273/3000]: Train loss: 0.2513, Valid loss: 0.2597\n"
          ]
        },
        {
          "output_type": "stream",
          "name": "stderr",
          "text": [
            "Epoch [274/3000]: 100%|██████████| 4/4 [00:00<00:00, 103.62it/s, loss=0.23]\n"
          ]
        },
        {
          "output_type": "stream",
          "name": "stdout",
          "text": [
            "Epoch [274/3000]: Train loss: 0.2314, Valid loss: 0.2664\n"
          ]
        },
        {
          "output_type": "stream",
          "name": "stderr",
          "text": [
            "Epoch [275/3000]: 100%|██████████| 4/4 [00:00<00:00, 88.77it/s, loss=0.193]\n"
          ]
        },
        {
          "output_type": "stream",
          "name": "stdout",
          "text": [
            "Epoch [275/3000]: Train loss: 0.2226, Valid loss: 0.2713\n"
          ]
        },
        {
          "output_type": "stream",
          "name": "stderr",
          "text": [
            "Epoch [276/3000]: 100%|██████████| 4/4 [00:00<00:00, 85.10it/s, loss=0.202]\n"
          ]
        },
        {
          "output_type": "stream",
          "name": "stdout",
          "text": [
            "Epoch [276/3000]: Train loss: 0.2282, Valid loss: 0.2613\n"
          ]
        },
        {
          "output_type": "stream",
          "name": "stderr",
          "text": [
            "Epoch [277/3000]: 100%|██████████| 4/4 [00:00<00:00, 114.95it/s, loss=0.261]\n"
          ]
        },
        {
          "output_type": "stream",
          "name": "stdout",
          "text": [
            "Epoch [277/3000]: Train loss: 0.2411, Valid loss: 0.2542\n",
            "Saving model with loss 0.254...\n"
          ]
        },
        {
          "output_type": "stream",
          "name": "stderr",
          "text": [
            "Epoch [278/3000]: 100%|██████████| 4/4 [00:00<00:00, 113.36it/s, loss=0.215]\n"
          ]
        },
        {
          "output_type": "stream",
          "name": "stdout",
          "text": [
            "Epoch [278/3000]: Train loss: 0.2271, Valid loss: 0.2599\n"
          ]
        },
        {
          "output_type": "stream",
          "name": "stderr",
          "text": [
            "Epoch [279/3000]: 100%|██████████| 4/4 [00:00<00:00, 111.73it/s, loss=0.269]\n"
          ]
        },
        {
          "output_type": "stream",
          "name": "stdout",
          "text": [
            "Epoch [279/3000]: Train loss: 0.2380, Valid loss: 0.2587\n"
          ]
        },
        {
          "output_type": "stream",
          "name": "stderr",
          "text": [
            "Epoch [280/3000]: 100%|██████████| 4/4 [00:00<00:00, 105.35it/s, loss=0.125]\n"
          ]
        },
        {
          "output_type": "stream",
          "name": "stdout",
          "text": [
            "Epoch [280/3000]: Train loss: 0.2055, Valid loss: 0.2579\n"
          ]
        },
        {
          "output_type": "stream",
          "name": "stderr",
          "text": [
            "Epoch [281/3000]: 100%|██████████| 4/4 [00:00<00:00, 103.66it/s, loss=0.252]\n"
          ]
        },
        {
          "output_type": "stream",
          "name": "stdout",
          "text": [
            "Epoch [281/3000]: Train loss: 0.2329, Valid loss: 0.2583\n"
          ]
        },
        {
          "output_type": "stream",
          "name": "stderr",
          "text": [
            "Epoch [282/3000]: 100%|██████████| 4/4 [00:00<00:00, 106.33it/s, loss=0.231]\n"
          ]
        },
        {
          "output_type": "stream",
          "name": "stdout",
          "text": [
            "Epoch [282/3000]: Train loss: 0.2283, Valid loss: 0.2551\n"
          ]
        },
        {
          "output_type": "stream",
          "name": "stderr",
          "text": [
            "Epoch [283/3000]: 100%|██████████| 4/4 [00:00<00:00, 108.80it/s, loss=0.287]\n"
          ]
        },
        {
          "output_type": "stream",
          "name": "stdout",
          "text": [
            "Epoch [283/3000]: Train loss: 0.2401, Valid loss: 0.2537\n",
            "Saving model with loss 0.254...\n"
          ]
        },
        {
          "output_type": "stream",
          "name": "stderr",
          "text": [
            "Epoch [284/3000]: 100%|██████████| 4/4 [00:00<00:00, 98.03it/s, loss=0.267]\n"
          ]
        },
        {
          "output_type": "stream",
          "name": "stdout",
          "text": [
            "Epoch [284/3000]: Train loss: 0.2353, Valid loss: 0.2547\n"
          ]
        },
        {
          "output_type": "stream",
          "name": "stderr",
          "text": [
            "Epoch [285/3000]: 100%|██████████| 4/4 [00:00<00:00, 107.65it/s, loss=0.241]\n"
          ]
        },
        {
          "output_type": "stream",
          "name": "stdout",
          "text": [
            "Epoch [285/3000]: Train loss: 0.2291, Valid loss: 0.2583\n"
          ]
        },
        {
          "output_type": "stream",
          "name": "stderr",
          "text": [
            "Epoch [286/3000]: 100%|██████████| 4/4 [00:00<00:00, 92.85it/s, loss=0.259]\n"
          ]
        },
        {
          "output_type": "stream",
          "name": "stdout",
          "text": [
            "Epoch [286/3000]: Train loss: 0.2327, Valid loss: 0.2505\n",
            "Saving model with loss 0.251...\n"
          ]
        },
        {
          "output_type": "stream",
          "name": "stderr",
          "text": [
            "Epoch [287/3000]: 100%|██████████| 4/4 [00:00<00:00, 79.92it/s, loss=0.248]\n"
          ]
        },
        {
          "output_type": "stream",
          "name": "stdout",
          "text": [
            "Epoch [287/3000]: Train loss: 0.2319, Valid loss: 0.2501\n",
            "Saving model with loss 0.250...\n"
          ]
        },
        {
          "output_type": "stream",
          "name": "stderr",
          "text": [
            "Epoch [288/3000]: 100%|██████████| 4/4 [00:00<00:00, 107.09it/s, loss=0.155]\n"
          ]
        },
        {
          "output_type": "stream",
          "name": "stdout",
          "text": [
            "Epoch [288/3000]: Train loss: 0.2102, Valid loss: 0.2610\n"
          ]
        },
        {
          "output_type": "stream",
          "name": "stderr",
          "text": [
            "Epoch [289/3000]: 100%|██████████| 4/4 [00:00<00:00, 102.90it/s, loss=0.188]\n"
          ]
        },
        {
          "output_type": "stream",
          "name": "stdout",
          "text": [
            "Epoch [289/3000]: Train loss: 0.2189, Valid loss: 0.2621\n"
          ]
        },
        {
          "output_type": "stream",
          "name": "stderr",
          "text": [
            "Epoch [290/3000]: 100%|██████████| 4/4 [00:00<00:00, 114.44it/s, loss=0.285]\n"
          ]
        },
        {
          "output_type": "stream",
          "name": "stdout",
          "text": [
            "Epoch [290/3000]: Train loss: 0.2391, Valid loss: 0.2492\n",
            "Saving model with loss 0.249...\n"
          ]
        },
        {
          "output_type": "stream",
          "name": "stderr",
          "text": [
            "Epoch [291/3000]: 100%|██████████| 4/4 [00:00<00:00, 92.68it/s, loss=0.17]\n"
          ]
        },
        {
          "output_type": "stream",
          "name": "stdout",
          "text": [
            "Epoch [291/3000]: Train loss: 0.2165, Valid loss: 0.2454\n",
            "Saving model with loss 0.245...\n"
          ]
        },
        {
          "output_type": "stream",
          "name": "stderr",
          "text": [
            "Epoch [292/3000]: 100%|██████████| 4/4 [00:00<00:00, 99.84it/s, loss=0.165]\n"
          ]
        },
        {
          "output_type": "stream",
          "name": "stdout",
          "text": [
            "Epoch [292/3000]: Train loss: 0.2117, Valid loss: 0.2614\n"
          ]
        },
        {
          "output_type": "stream",
          "name": "stderr",
          "text": [
            "Epoch [293/3000]: 100%|██████████| 4/4 [00:00<00:00, 101.59it/s, loss=0.191]\n"
          ]
        },
        {
          "output_type": "stream",
          "name": "stdout",
          "text": [
            "Epoch [293/3000]: Train loss: 0.2176, Valid loss: 0.2499\n"
          ]
        },
        {
          "output_type": "stream",
          "name": "stderr",
          "text": [
            "Epoch [294/3000]: 100%|██████████| 4/4 [00:00<00:00, 126.62it/s, loss=0.201]\n"
          ]
        },
        {
          "output_type": "stream",
          "name": "stdout",
          "text": [
            "Epoch [294/3000]: Train loss: 0.2186, Valid loss: 0.2465\n"
          ]
        },
        {
          "output_type": "stream",
          "name": "stderr",
          "text": [
            "Epoch [295/3000]: 100%|██████████| 4/4 [00:00<00:00, 108.23it/s, loss=0.153]\n"
          ]
        },
        {
          "output_type": "stream",
          "name": "stdout",
          "text": [
            "Epoch [295/3000]: Train loss: 0.2117, Valid loss: 0.2496\n"
          ]
        },
        {
          "output_type": "stream",
          "name": "stderr",
          "text": [
            "Epoch [296/3000]: 100%|██████████| 4/4 [00:00<00:00, 114.51it/s, loss=0.223]\n"
          ]
        },
        {
          "output_type": "stream",
          "name": "stdout",
          "text": [
            "Epoch [296/3000]: Train loss: 0.2217, Valid loss: 0.2597\n"
          ]
        },
        {
          "output_type": "stream",
          "name": "stderr",
          "text": [
            "Epoch [297/3000]: 100%|██████████| 4/4 [00:00<00:00, 99.91it/s, loss=0.153]\n"
          ]
        },
        {
          "output_type": "stream",
          "name": "stdout",
          "text": [
            "Epoch [297/3000]: Train loss: 0.2070, Valid loss: 0.2538\n"
          ]
        },
        {
          "output_type": "stream",
          "name": "stderr",
          "text": [
            "Epoch [298/3000]: 100%|██████████| 4/4 [00:00<00:00, 117.12it/s, loss=0.24]\n"
          ]
        },
        {
          "output_type": "stream",
          "name": "stdout",
          "text": [
            "Epoch [298/3000]: Train loss: 0.2249, Valid loss: 0.2497\n"
          ]
        },
        {
          "output_type": "stream",
          "name": "stderr",
          "text": [
            "Epoch [299/3000]: 100%|██████████| 4/4 [00:00<00:00, 113.49it/s, loss=0.166]\n"
          ]
        },
        {
          "output_type": "stream",
          "name": "stdout",
          "text": [
            "Epoch [299/3000]: Train loss: 0.2081, Valid loss: 0.2586\n"
          ]
        },
        {
          "output_type": "stream",
          "name": "stderr",
          "text": [
            "Epoch [300/3000]: 100%|██████████| 4/4 [00:00<00:00, 114.21it/s, loss=0.21]\n"
          ]
        },
        {
          "output_type": "stream",
          "name": "stdout",
          "text": [
            "Epoch [300/3000]: Train loss: 0.2185, Valid loss: 0.2549\n"
          ]
        },
        {
          "output_type": "stream",
          "name": "stderr",
          "text": [
            "Epoch [301/3000]: 100%|██████████| 4/4 [00:00<00:00, 124.21it/s, loss=0.166]\n"
          ]
        },
        {
          "output_type": "stream",
          "name": "stdout",
          "text": [
            "Epoch [301/3000]: Train loss: 0.2069, Valid loss: 0.2477\n"
          ]
        },
        {
          "output_type": "stream",
          "name": "stderr",
          "text": [
            "Epoch [302/3000]: 100%|██████████| 4/4 [00:00<00:00, 117.53it/s, loss=0.269]\n"
          ]
        },
        {
          "output_type": "stream",
          "name": "stdout",
          "text": [
            "Epoch [302/3000]: Train loss: 0.2291, Valid loss: 0.2505\n"
          ]
        },
        {
          "output_type": "stream",
          "name": "stderr",
          "text": [
            "Epoch [303/3000]: 100%|██████████| 4/4 [00:00<00:00, 111.69it/s, loss=0.225]\n"
          ]
        },
        {
          "output_type": "stream",
          "name": "stdout",
          "text": [
            "Epoch [303/3000]: Train loss: 0.2201, Valid loss: 0.2549\n"
          ]
        },
        {
          "output_type": "stream",
          "name": "stderr",
          "text": [
            "Epoch [304/3000]: 100%|██████████| 4/4 [00:00<00:00, 118.35it/s, loss=0.248]\n"
          ]
        },
        {
          "output_type": "stream",
          "name": "stdout",
          "text": [
            "Epoch [304/3000]: Train loss: 0.2249, Valid loss: 0.2489\n"
          ]
        },
        {
          "output_type": "stream",
          "name": "stderr",
          "text": [
            "Epoch [305/3000]: 100%|██████████| 4/4 [00:00<00:00, 123.43it/s, loss=0.204]\n"
          ]
        },
        {
          "output_type": "stream",
          "name": "stdout",
          "text": [
            "Epoch [305/3000]: Train loss: 0.2137, Valid loss: 0.2521\n"
          ]
        },
        {
          "output_type": "stream",
          "name": "stderr",
          "text": [
            "Epoch [306/3000]: 100%|██████████| 4/4 [00:00<00:00, 110.94it/s, loss=0.153]\n"
          ]
        },
        {
          "output_type": "stream",
          "name": "stdout",
          "text": [
            "Epoch [306/3000]: Train loss: 0.2022, Valid loss: 0.2456\n"
          ]
        },
        {
          "output_type": "stream",
          "name": "stderr",
          "text": [
            "Epoch [307/3000]: 100%|██████████| 4/4 [00:00<00:00, 113.79it/s, loss=0.257]\n"
          ]
        },
        {
          "output_type": "stream",
          "name": "stdout",
          "text": [
            "Epoch [307/3000]: Train loss: 0.2242, Valid loss: 0.2465\n"
          ]
        },
        {
          "output_type": "stream",
          "name": "stderr",
          "text": [
            "Epoch [308/3000]: 100%|██████████| 4/4 [00:00<00:00, 113.09it/s, loss=0.239]\n"
          ]
        },
        {
          "output_type": "stream",
          "name": "stdout",
          "text": [
            "Epoch [308/3000]: Train loss: 0.2203, Valid loss: 0.2466\n"
          ]
        },
        {
          "output_type": "stream",
          "name": "stderr",
          "text": [
            "Epoch [309/3000]: 100%|██████████| 4/4 [00:00<00:00, 115.23it/s, loss=0.266]\n"
          ]
        },
        {
          "output_type": "stream",
          "name": "stdout",
          "text": [
            "Epoch [309/3000]: Train loss: 0.2255, Valid loss: 0.2463\n"
          ]
        },
        {
          "output_type": "stream",
          "name": "stderr",
          "text": [
            "Epoch [310/3000]: 100%|██████████| 4/4 [00:00<00:00, 107.87it/s, loss=0.191]\n"
          ]
        },
        {
          "output_type": "stream",
          "name": "stdout",
          "text": [
            "Epoch [310/3000]: Train loss: 0.2086, Valid loss: 0.2458\n"
          ]
        },
        {
          "output_type": "stream",
          "name": "stderr",
          "text": [
            "Epoch [311/3000]: 100%|██████████| 4/4 [00:00<00:00, 97.49it/s, loss=0.38]\n"
          ]
        },
        {
          "output_type": "stream",
          "name": "stdout",
          "text": [
            "Epoch [311/3000]: Train loss: 0.2506, Valid loss: 0.2430\n",
            "Saving model with loss 0.243...\n"
          ]
        },
        {
          "output_type": "stream",
          "name": "stderr",
          "text": [
            "Epoch [312/3000]: 100%|██████████| 4/4 [00:00<00:00, 113.78it/s, loss=0.12]\n"
          ]
        },
        {
          "output_type": "stream",
          "name": "stdout",
          "text": [
            "Epoch [312/3000]: Train loss: 0.1930, Valid loss: 0.2400\n",
            "Saving model with loss 0.240...\n"
          ]
        },
        {
          "output_type": "stream",
          "name": "stderr",
          "text": [
            "Epoch [313/3000]: 100%|██████████| 4/4 [00:00<00:00, 119.81it/s, loss=0.145]\n"
          ]
        },
        {
          "output_type": "stream",
          "name": "stdout",
          "text": [
            "Epoch [313/3000]: Train loss: 0.1981, Valid loss: 0.2442\n"
          ]
        },
        {
          "output_type": "stream",
          "name": "stderr",
          "text": [
            "Epoch [314/3000]: 100%|██████████| 4/4 [00:00<00:00, 51.41it/s, loss=0.166]\n"
          ]
        },
        {
          "output_type": "stream",
          "name": "stdout",
          "text": [
            "Epoch [314/3000]: Train loss: 0.2033, Valid loss: 0.2525\n"
          ]
        },
        {
          "output_type": "stream",
          "name": "stderr",
          "text": [
            "Epoch [315/3000]: 100%|██████████| 4/4 [00:00<00:00, 94.86it/s, loss=0.154]\n"
          ]
        },
        {
          "output_type": "stream",
          "name": "stdout",
          "text": [
            "Epoch [315/3000]: Train loss: 0.2007, Valid loss: 0.2406\n"
          ]
        },
        {
          "output_type": "stream",
          "name": "stderr",
          "text": [
            "Epoch [316/3000]: 100%|██████████| 4/4 [00:00<00:00, 101.63it/s, loss=0.215]\n"
          ]
        },
        {
          "output_type": "stream",
          "name": "stdout",
          "text": [
            "Epoch [316/3000]: Train loss: 0.2170, Valid loss: 0.2341\n",
            "Saving model with loss 0.234...\n"
          ]
        },
        {
          "output_type": "stream",
          "name": "stderr",
          "text": [
            "Epoch [317/3000]: 100%|██████████| 4/4 [00:00<00:00, 124.75it/s, loss=0.301]\n"
          ]
        },
        {
          "output_type": "stream",
          "name": "stdout",
          "text": [
            "Epoch [317/3000]: Train loss: 0.2314, Valid loss: 0.2552\n"
          ]
        },
        {
          "output_type": "stream",
          "name": "stderr",
          "text": [
            "Epoch [318/3000]: 100%|██████████| 4/4 [00:00<00:00, 121.64it/s, loss=0.261]\n"
          ]
        },
        {
          "output_type": "stream",
          "name": "stdout",
          "text": [
            "Epoch [318/3000]: Train loss: 0.2284, Valid loss: 0.2450\n"
          ]
        },
        {
          "output_type": "stream",
          "name": "stderr",
          "text": [
            "Epoch [319/3000]: 100%|██████████| 4/4 [00:00<00:00, 103.72it/s, loss=0.176]\n"
          ]
        },
        {
          "output_type": "stream",
          "name": "stdout",
          "text": [
            "Epoch [319/3000]: Train loss: 0.2043, Valid loss: 0.2329\n",
            "Saving model with loss 0.233...\n"
          ]
        },
        {
          "output_type": "stream",
          "name": "stderr",
          "text": [
            "Epoch [320/3000]: 100%|██████████| 4/4 [00:00<00:00, 113.53it/s, loss=0.234]\n"
          ]
        },
        {
          "output_type": "stream",
          "name": "stdout",
          "text": [
            "Epoch [320/3000]: Train loss: 0.2164, Valid loss: 0.2366\n"
          ]
        },
        {
          "output_type": "stream",
          "name": "stderr",
          "text": [
            "Epoch [321/3000]: 100%|██████████| 4/4 [00:00<00:00, 122.69it/s, loss=0.193]\n"
          ]
        },
        {
          "output_type": "stream",
          "name": "stdout",
          "text": [
            "Epoch [321/3000]: Train loss: 0.2064, Valid loss: 0.2379\n"
          ]
        },
        {
          "output_type": "stream",
          "name": "stderr",
          "text": [
            "Epoch [322/3000]: 100%|██████████| 4/4 [00:00<00:00, 97.55it/s, loss=0.125]\n"
          ]
        },
        {
          "output_type": "stream",
          "name": "stdout",
          "text": [
            "Epoch [322/3000]: Train loss: 0.1903, Valid loss: 0.2424\n"
          ]
        },
        {
          "output_type": "stream",
          "name": "stderr",
          "text": [
            "Epoch [323/3000]: 100%|██████████| 4/4 [00:00<00:00, 123.52it/s, loss=0.224]\n"
          ]
        },
        {
          "output_type": "stream",
          "name": "stdout",
          "text": [
            "Epoch [323/3000]: Train loss: 0.2129, Valid loss: 0.2444\n"
          ]
        },
        {
          "output_type": "stream",
          "name": "stderr",
          "text": [
            "Epoch [324/3000]: 100%|██████████| 4/4 [00:00<00:00, 123.46it/s, loss=0.196]\n"
          ]
        },
        {
          "output_type": "stream",
          "name": "stdout",
          "text": [
            "Epoch [324/3000]: Train loss: 0.2062, Valid loss: 0.2373\n"
          ]
        },
        {
          "output_type": "stream",
          "name": "stderr",
          "text": [
            "Epoch [325/3000]: 100%|██████████| 4/4 [00:00<00:00, 131.91it/s, loss=0.144]\n"
          ]
        },
        {
          "output_type": "stream",
          "name": "stdout",
          "text": [
            "Epoch [325/3000]: Train loss: 0.1939, Valid loss: 0.2375\n"
          ]
        },
        {
          "output_type": "stream",
          "name": "stderr",
          "text": [
            "Epoch [326/3000]: 100%|██████████| 4/4 [00:00<00:00, 117.44it/s, loss=0.23]\n"
          ]
        },
        {
          "output_type": "stream",
          "name": "stdout",
          "text": [
            "Epoch [326/3000]: Train loss: 0.2119, Valid loss: 0.2470\n"
          ]
        },
        {
          "output_type": "stream",
          "name": "stderr",
          "text": [
            "Epoch [327/3000]: 100%|██████████| 4/4 [00:00<00:00, 143.74it/s, loss=0.217]\n"
          ]
        },
        {
          "output_type": "stream",
          "name": "stdout",
          "text": [
            "Epoch [327/3000]: Train loss: 0.2119, Valid loss: 0.2411\n"
          ]
        },
        {
          "output_type": "stream",
          "name": "stderr",
          "text": [
            "Epoch [328/3000]: 100%|██████████| 4/4 [00:00<00:00, 113.08it/s, loss=0.205]\n"
          ]
        },
        {
          "output_type": "stream",
          "name": "stdout",
          "text": [
            "Epoch [328/3000]: Train loss: 0.2067, Valid loss: 0.2282\n",
            "Saving model with loss 0.228...\n"
          ]
        },
        {
          "output_type": "stream",
          "name": "stderr",
          "text": [
            "Epoch [329/3000]: 100%|██████████| 4/4 [00:00<00:00, 114.95it/s, loss=0.171]\n"
          ]
        },
        {
          "output_type": "stream",
          "name": "stdout",
          "text": [
            "Epoch [329/3000]: Train loss: 0.1998, Valid loss: 0.2289\n"
          ]
        },
        {
          "output_type": "stream",
          "name": "stderr",
          "text": [
            "Epoch [330/3000]: 100%|██████████| 4/4 [00:00<00:00, 127.10it/s, loss=0.168]\n"
          ]
        },
        {
          "output_type": "stream",
          "name": "stdout",
          "text": [
            "Epoch [330/3000]: Train loss: 0.1978, Valid loss: 0.2317\n"
          ]
        },
        {
          "output_type": "stream",
          "name": "stderr",
          "text": [
            "Epoch [331/3000]: 100%|██████████| 4/4 [00:00<00:00, 114.27it/s, loss=0.199]\n"
          ]
        },
        {
          "output_type": "stream",
          "name": "stdout",
          "text": [
            "Epoch [331/3000]: Train loss: 0.2035, Valid loss: 0.2324\n"
          ]
        },
        {
          "output_type": "stream",
          "name": "stderr",
          "text": [
            "Epoch [332/3000]: 100%|██████████| 4/4 [00:00<00:00, 123.60it/s, loss=0.186]\n"
          ]
        },
        {
          "output_type": "stream",
          "name": "stdout",
          "text": [
            "Epoch [332/3000]: Train loss: 0.1999, Valid loss: 0.2319\n"
          ]
        },
        {
          "output_type": "stream",
          "name": "stderr",
          "text": [
            "Epoch [333/3000]: 100%|██████████| 4/4 [00:00<00:00, 113.80it/s, loss=0.186]\n"
          ]
        },
        {
          "output_type": "stream",
          "name": "stdout",
          "text": [
            "Epoch [333/3000]: Train loss: 0.2004, Valid loss: 0.2331\n"
          ]
        },
        {
          "output_type": "stream",
          "name": "stderr",
          "text": [
            "Epoch [334/3000]: 100%|██████████| 4/4 [00:00<00:00, 118.10it/s, loss=0.296]\n"
          ]
        },
        {
          "output_type": "stream",
          "name": "stdout",
          "text": [
            "Epoch [334/3000]: Train loss: 0.2245, Valid loss: 0.2327\n"
          ]
        },
        {
          "output_type": "stream",
          "name": "stderr",
          "text": [
            "Epoch [335/3000]: 100%|██████████| 4/4 [00:00<00:00, 135.11it/s, loss=0.228]\n"
          ]
        },
        {
          "output_type": "stream",
          "name": "stdout",
          "text": [
            "Epoch [335/3000]: Train loss: 0.2095, Valid loss: 0.2338\n"
          ]
        },
        {
          "output_type": "stream",
          "name": "stderr",
          "text": [
            "Epoch [336/3000]: 100%|██████████| 4/4 [00:00<00:00, 95.70it/s, loss=0.236]\n"
          ]
        },
        {
          "output_type": "stream",
          "name": "stdout",
          "text": [
            "Epoch [336/3000]: Train loss: 0.2118, Valid loss: 0.2282\n",
            "Saving model with loss 0.228...\n"
          ]
        },
        {
          "output_type": "stream",
          "name": "stderr",
          "text": [
            "Epoch [337/3000]: 100%|██████████| 4/4 [00:00<00:00, 101.64it/s, loss=0.279]\n"
          ]
        },
        {
          "output_type": "stream",
          "name": "stdout",
          "text": [
            "Epoch [337/3000]: Train loss: 0.2197, Valid loss: 0.2372\n"
          ]
        },
        {
          "output_type": "stream",
          "name": "stderr",
          "text": [
            "Epoch [338/3000]: 100%|██████████| 4/4 [00:00<00:00, 106.16it/s, loss=0.175]\n"
          ]
        },
        {
          "output_type": "stream",
          "name": "stdout",
          "text": [
            "Epoch [338/3000]: Train loss: 0.1973, Valid loss: 0.2405\n"
          ]
        },
        {
          "output_type": "stream",
          "name": "stderr",
          "text": [
            "Epoch [339/3000]: 100%|██████████| 4/4 [00:00<00:00, 125.95it/s, loss=0.153]\n"
          ]
        },
        {
          "output_type": "stream",
          "name": "stdout",
          "text": [
            "Epoch [339/3000]: Train loss: 0.1921, Valid loss: 0.2289\n"
          ]
        },
        {
          "output_type": "stream",
          "name": "stderr",
          "text": [
            "Epoch [340/3000]: 100%|██████████| 4/4 [00:00<00:00, 116.35it/s, loss=0.246]\n"
          ]
        },
        {
          "output_type": "stream",
          "name": "stdout",
          "text": [
            "Epoch [340/3000]: Train loss: 0.2114, Valid loss: 0.2247\n",
            "Saving model with loss 0.225...\n"
          ]
        },
        {
          "output_type": "stream",
          "name": "stderr",
          "text": [
            "Epoch [341/3000]: 100%|██████████| 4/4 [00:00<00:00, 120.47it/s, loss=0.291]\n"
          ]
        },
        {
          "output_type": "stream",
          "name": "stdout",
          "text": [
            "Epoch [341/3000]: Train loss: 0.2230, Valid loss: 0.2296\n"
          ]
        },
        {
          "output_type": "stream",
          "name": "stderr",
          "text": [
            "Epoch [342/3000]: 100%|██████████| 4/4 [00:00<00:00, 111.48it/s, loss=0.209]\n"
          ]
        },
        {
          "output_type": "stream",
          "name": "stdout",
          "text": [
            "Epoch [342/3000]: Train loss: 0.2031, Valid loss: 0.2418\n"
          ]
        },
        {
          "output_type": "stream",
          "name": "stderr",
          "text": [
            "Epoch [343/3000]: 100%|██████████| 4/4 [00:00<00:00, 120.58it/s, loss=0.258]\n"
          ]
        },
        {
          "output_type": "stream",
          "name": "stdout",
          "text": [
            "Epoch [343/3000]: Train loss: 0.2156, Valid loss: 0.2338\n"
          ]
        },
        {
          "output_type": "stream",
          "name": "stderr",
          "text": [
            "Epoch [344/3000]: 100%|██████████| 4/4 [00:00<00:00, 119.65it/s, loss=0.265]\n"
          ]
        },
        {
          "output_type": "stream",
          "name": "stdout",
          "text": [
            "Epoch [344/3000]: Train loss: 0.2136, Valid loss: 0.2228\n",
            "Saving model with loss 0.223...\n"
          ]
        },
        {
          "output_type": "stream",
          "name": "stderr",
          "text": [
            "Epoch [345/3000]: 100%|██████████| 4/4 [00:00<00:00, 114.67it/s, loss=0.196]\n"
          ]
        },
        {
          "output_type": "stream",
          "name": "stdout",
          "text": [
            "Epoch [345/3000]: Train loss: 0.2020, Valid loss: 0.2251\n"
          ]
        },
        {
          "output_type": "stream",
          "name": "stderr",
          "text": [
            "Epoch [346/3000]: 100%|██████████| 4/4 [00:00<00:00, 75.78it/s, loss=0.208]\n"
          ]
        },
        {
          "output_type": "stream",
          "name": "stdout",
          "text": [
            "Epoch [346/3000]: Train loss: 0.2010, Valid loss: 0.2313\n"
          ]
        },
        {
          "output_type": "stream",
          "name": "stderr",
          "text": [
            "Epoch [347/3000]: 100%|██████████| 4/4 [00:00<00:00, 116.97it/s, loss=0.248]\n"
          ]
        },
        {
          "output_type": "stream",
          "name": "stdout",
          "text": [
            "Epoch [347/3000]: Train loss: 0.2092, Valid loss: 0.2251\n"
          ]
        },
        {
          "output_type": "stream",
          "name": "stderr",
          "text": [
            "Epoch [348/3000]: 100%|██████████| 4/4 [00:00<00:00, 126.56it/s, loss=0.237]\n"
          ]
        },
        {
          "output_type": "stream",
          "name": "stdout",
          "text": [
            "Epoch [348/3000]: Train loss: 0.2061, Valid loss: 0.2211\n",
            "Saving model with loss 0.221...\n"
          ]
        },
        {
          "output_type": "stream",
          "name": "stderr",
          "text": [
            "Epoch [349/3000]: 100%|██████████| 4/4 [00:00<00:00, 125.32it/s, loss=0.215]\n"
          ]
        },
        {
          "output_type": "stream",
          "name": "stdout",
          "text": [
            "Epoch [349/3000]: Train loss: 0.2012, Valid loss: 0.2315\n"
          ]
        },
        {
          "output_type": "stream",
          "name": "stderr",
          "text": [
            "Epoch [350/3000]: 100%|██████████| 4/4 [00:00<00:00, 112.31it/s, loss=0.174]\n"
          ]
        },
        {
          "output_type": "stream",
          "name": "stdout",
          "text": [
            "Epoch [350/3000]: Train loss: 0.1934, Valid loss: 0.2286\n"
          ]
        },
        {
          "output_type": "stream",
          "name": "stderr",
          "text": [
            "Epoch [351/3000]: 100%|██████████| 4/4 [00:00<00:00, 123.18it/s, loss=0.203]\n"
          ]
        },
        {
          "output_type": "stream",
          "name": "stdout",
          "text": [
            "Epoch [351/3000]: Train loss: 0.1978, Valid loss: 0.2224\n"
          ]
        },
        {
          "output_type": "stream",
          "name": "stderr",
          "text": [
            "Epoch [352/3000]: 100%|██████████| 4/4 [00:00<00:00, 87.73it/s, loss=0.264]\n"
          ]
        },
        {
          "output_type": "stream",
          "name": "stdout",
          "text": [
            "Epoch [352/3000]: Train loss: 0.2110, Valid loss: 0.2220\n"
          ]
        },
        {
          "output_type": "stream",
          "name": "stderr",
          "text": [
            "Epoch [353/3000]: 100%|██████████| 4/4 [00:00<00:00, 117.65it/s, loss=0.269]\n"
          ]
        },
        {
          "output_type": "stream",
          "name": "stdout",
          "text": [
            "Epoch [353/3000]: Train loss: 0.2124, Valid loss: 0.2225\n"
          ]
        },
        {
          "output_type": "stream",
          "name": "stderr",
          "text": [
            "Epoch [354/3000]: 100%|██████████| 4/4 [00:00<00:00, 135.21it/s, loss=0.19]\n"
          ]
        },
        {
          "output_type": "stream",
          "name": "stdout",
          "text": [
            "Epoch [354/3000]: Train loss: 0.1949, Valid loss: 0.2242\n"
          ]
        },
        {
          "output_type": "stream",
          "name": "stderr",
          "text": [
            "Epoch [355/3000]: 100%|██████████| 4/4 [00:00<00:00, 115.00it/s, loss=0.261]\n"
          ]
        },
        {
          "output_type": "stream",
          "name": "stdout",
          "text": [
            "Epoch [355/3000]: Train loss: 0.2096, Valid loss: 0.2259\n"
          ]
        },
        {
          "output_type": "stream",
          "name": "stderr",
          "text": [
            "Epoch [356/3000]: 100%|██████████| 4/4 [00:00<00:00, 107.13it/s, loss=0.199]\n"
          ]
        },
        {
          "output_type": "stream",
          "name": "stdout",
          "text": [
            "Epoch [356/3000]: Train loss: 0.1958, Valid loss: 0.2283\n"
          ]
        },
        {
          "output_type": "stream",
          "name": "stderr",
          "text": [
            "Epoch [357/3000]: 100%|██████████| 4/4 [00:00<00:00, 125.31it/s, loss=0.114]\n"
          ]
        },
        {
          "output_type": "stream",
          "name": "stdout",
          "text": [
            "Epoch [357/3000]: Train loss: 0.1772, Valid loss: 0.2194\n",
            "Saving model with loss 0.219...\n"
          ]
        },
        {
          "output_type": "stream",
          "name": "stderr",
          "text": [
            "Epoch [358/3000]: 100%|██████████| 4/4 [00:00<00:00, 117.43it/s, loss=0.224]\n"
          ]
        },
        {
          "output_type": "stream",
          "name": "stdout",
          "text": [
            "Epoch [358/3000]: Train loss: 0.2004, Valid loss: 0.2217\n"
          ]
        },
        {
          "output_type": "stream",
          "name": "stderr",
          "text": [
            "Epoch [359/3000]: 100%|██████████| 4/4 [00:00<00:00, 118.46it/s, loss=0.206]\n"
          ]
        },
        {
          "output_type": "stream",
          "name": "stdout",
          "text": [
            "Epoch [359/3000]: Train loss: 0.1976, Valid loss: 0.2355\n"
          ]
        },
        {
          "output_type": "stream",
          "name": "stderr",
          "text": [
            "Epoch [360/3000]: 100%|██████████| 4/4 [00:00<00:00, 103.98it/s, loss=0.207]\n"
          ]
        },
        {
          "output_type": "stream",
          "name": "stdout",
          "text": [
            "Epoch [360/3000]: Train loss: 0.2015, Valid loss: 0.2231\n"
          ]
        },
        {
          "output_type": "stream",
          "name": "stderr",
          "text": [
            "Epoch [361/3000]: 100%|██████████| 4/4 [00:00<00:00, 104.13it/s, loss=0.21]\n"
          ]
        },
        {
          "output_type": "stream",
          "name": "stdout",
          "text": [
            "Epoch [361/3000]: Train loss: 0.1967, Valid loss: 0.2156\n",
            "Saving model with loss 0.216...\n"
          ]
        },
        {
          "output_type": "stream",
          "name": "stderr",
          "text": [
            "Epoch [362/3000]: 100%|██████████| 4/4 [00:00<00:00, 117.12it/s, loss=0.184]\n"
          ]
        },
        {
          "output_type": "stream",
          "name": "stdout",
          "text": [
            "Epoch [362/3000]: Train loss: 0.1922, Valid loss: 0.2186\n"
          ]
        },
        {
          "output_type": "stream",
          "name": "stderr",
          "text": [
            "Epoch [363/3000]: 100%|██████████| 4/4 [00:00<00:00, 115.12it/s, loss=0.235]\n"
          ]
        },
        {
          "output_type": "stream",
          "name": "stdout",
          "text": [
            "Epoch [363/3000]: Train loss: 0.2015, Valid loss: 0.2185\n"
          ]
        },
        {
          "output_type": "stream",
          "name": "stderr",
          "text": [
            "Epoch [364/3000]: 100%|██████████| 4/4 [00:00<00:00, 113.73it/s, loss=0.234]\n"
          ]
        },
        {
          "output_type": "stream",
          "name": "stdout",
          "text": [
            "Epoch [364/3000]: Train loss: 0.2013, Valid loss: 0.2161\n"
          ]
        },
        {
          "output_type": "stream",
          "name": "stderr",
          "text": [
            "Epoch [365/3000]: 100%|██████████| 4/4 [00:00<00:00, 125.29it/s, loss=0.0919]\n"
          ]
        },
        {
          "output_type": "stream",
          "name": "stdout",
          "text": [
            "Epoch [365/3000]: Train loss: 0.1693, Valid loss: 0.2136\n",
            "Saving model with loss 0.214...\n"
          ]
        },
        {
          "output_type": "stream",
          "name": "stderr",
          "text": [
            "Epoch [366/3000]: 100%|██████████| 4/4 [00:00<00:00, 120.74it/s, loss=0.271]\n"
          ]
        },
        {
          "output_type": "stream",
          "name": "stdout",
          "text": [
            "Epoch [366/3000]: Train loss: 0.2087, Valid loss: 0.2148\n"
          ]
        },
        {
          "output_type": "stream",
          "name": "stderr",
          "text": [
            "Epoch [367/3000]: 100%|██████████| 4/4 [00:00<00:00, 119.00it/s, loss=0.193]\n"
          ]
        },
        {
          "output_type": "stream",
          "name": "stdout",
          "text": [
            "Epoch [367/3000]: Train loss: 0.1913, Valid loss: 0.2096\n",
            "Saving model with loss 0.210...\n"
          ]
        },
        {
          "output_type": "stream",
          "name": "stderr",
          "text": [
            "Epoch [368/3000]: 100%|██████████| 4/4 [00:00<00:00, 107.83it/s, loss=0.172]\n"
          ]
        },
        {
          "output_type": "stream",
          "name": "stdout",
          "text": [
            "Epoch [368/3000]: Train loss: 0.1881, Valid loss: 0.2124\n"
          ]
        },
        {
          "output_type": "stream",
          "name": "stderr",
          "text": [
            "Epoch [369/3000]: 100%|██████████| 4/4 [00:00<00:00, 104.89it/s, loss=0.133]\n"
          ]
        },
        {
          "output_type": "stream",
          "name": "stdout",
          "text": [
            "Epoch [369/3000]: Train loss: 0.1780, Valid loss: 0.2252\n"
          ]
        },
        {
          "output_type": "stream",
          "name": "stderr",
          "text": [
            "Epoch [370/3000]: 100%|██████████| 4/4 [00:00<00:00, 116.72it/s, loss=0.106]\n"
          ]
        },
        {
          "output_type": "stream",
          "name": "stdout",
          "text": [
            "Epoch [370/3000]: Train loss: 0.1727, Valid loss: 0.2175\n"
          ]
        },
        {
          "output_type": "stream",
          "name": "stderr",
          "text": [
            "Epoch [371/3000]: 100%|██████████| 4/4 [00:00<00:00, 110.75it/s, loss=0.145]\n"
          ]
        },
        {
          "output_type": "stream",
          "name": "stdout",
          "text": [
            "Epoch [371/3000]: Train loss: 0.1789, Valid loss: 0.2160\n"
          ]
        },
        {
          "output_type": "stream",
          "name": "stderr",
          "text": [
            "Epoch [372/3000]: 100%|██████████| 4/4 [00:00<00:00, 107.84it/s, loss=0.244]\n"
          ]
        },
        {
          "output_type": "stream",
          "name": "stdout",
          "text": [
            "Epoch [372/3000]: Train loss: 0.2022, Valid loss: 0.2146\n"
          ]
        },
        {
          "output_type": "stream",
          "name": "stderr",
          "text": [
            "Epoch [373/3000]: 100%|██████████| 4/4 [00:00<00:00, 117.31it/s, loss=0.193]\n"
          ]
        },
        {
          "output_type": "stream",
          "name": "stdout",
          "text": [
            "Epoch [373/3000]: Train loss: 0.1915, Valid loss: 0.2135\n"
          ]
        },
        {
          "output_type": "stream",
          "name": "stderr",
          "text": [
            "Epoch [374/3000]: 100%|██████████| 4/4 [00:00<00:00, 112.65it/s, loss=0.2]\n"
          ]
        },
        {
          "output_type": "stream",
          "name": "stdout",
          "text": [
            "Epoch [374/3000]: Train loss: 0.1927, Valid loss: 0.2306\n"
          ]
        },
        {
          "output_type": "stream",
          "name": "stderr",
          "text": [
            "Epoch [375/3000]: 100%|██████████| 4/4 [00:00<00:00, 115.59it/s, loss=0.163]\n"
          ]
        },
        {
          "output_type": "stream",
          "name": "stdout",
          "text": [
            "Epoch [375/3000]: Train loss: 0.1859, Valid loss: 0.2171\n"
          ]
        },
        {
          "output_type": "stream",
          "name": "stderr",
          "text": [
            "Epoch [376/3000]: 100%|██████████| 4/4 [00:00<00:00, 118.43it/s, loss=0.145]\n"
          ]
        },
        {
          "output_type": "stream",
          "name": "stdout",
          "text": [
            "Epoch [376/3000]: Train loss: 0.1789, Valid loss: 0.2100\n"
          ]
        },
        {
          "output_type": "stream",
          "name": "stderr",
          "text": [
            "Epoch [377/3000]: 100%|██████████| 4/4 [00:00<00:00, 129.19it/s, loss=0.16]\n"
          ]
        },
        {
          "output_type": "stream",
          "name": "stdout",
          "text": [
            "Epoch [377/3000]: Train loss: 0.1823, Valid loss: 0.2202\n"
          ]
        },
        {
          "output_type": "stream",
          "name": "stderr",
          "text": [
            "Epoch [378/3000]: 100%|██████████| 4/4 [00:00<00:00, 118.15it/s, loss=0.172]\n"
          ]
        },
        {
          "output_type": "stream",
          "name": "stdout",
          "text": [
            "Epoch [378/3000]: Train loss: 0.1851, Valid loss: 0.2159\n"
          ]
        },
        {
          "output_type": "stream",
          "name": "stderr",
          "text": [
            "Epoch [379/3000]: 100%|██████████| 4/4 [00:00<00:00, 111.18it/s, loss=0.207]\n"
          ]
        },
        {
          "output_type": "stream",
          "name": "stdout",
          "text": [
            "Epoch [379/3000]: Train loss: 0.1905, Valid loss: 0.2075\n",
            "Saving model with loss 0.207...\n"
          ]
        },
        {
          "output_type": "stream",
          "name": "stderr",
          "text": [
            "Epoch [380/3000]: 100%|██████████| 4/4 [00:00<00:00, 108.16it/s, loss=0.229]\n"
          ]
        },
        {
          "output_type": "stream",
          "name": "stdout",
          "text": [
            "Epoch [380/3000]: Train loss: 0.1975, Valid loss: 0.2120\n"
          ]
        },
        {
          "output_type": "stream",
          "name": "stderr",
          "text": [
            "Epoch [381/3000]: 100%|██████████| 4/4 [00:00<00:00, 122.31it/s, loss=0.224]\n"
          ]
        },
        {
          "output_type": "stream",
          "name": "stdout",
          "text": [
            "Epoch [381/3000]: Train loss: 0.1949, Valid loss: 0.2216\n"
          ]
        },
        {
          "output_type": "stream",
          "name": "stderr",
          "text": [
            "Epoch [382/3000]: 100%|██████████| 4/4 [00:00<00:00, 123.58it/s, loss=0.273]\n"
          ]
        },
        {
          "output_type": "stream",
          "name": "stdout",
          "text": [
            "Epoch [382/3000]: Train loss: 0.2062, Valid loss: 0.2128\n"
          ]
        },
        {
          "output_type": "stream",
          "name": "stderr",
          "text": [
            "Epoch [383/3000]: 100%|██████████| 4/4 [00:00<00:00, 101.95it/s, loss=0.164]\n"
          ]
        },
        {
          "output_type": "stream",
          "name": "stdout",
          "text": [
            "Epoch [383/3000]: Train loss: 0.1807, Valid loss: 0.2089\n"
          ]
        },
        {
          "output_type": "stream",
          "name": "stderr",
          "text": [
            "Epoch [384/3000]: 100%|██████████| 4/4 [00:00<00:00, 96.71it/s, loss=0.231]\n"
          ]
        },
        {
          "output_type": "stream",
          "name": "stdout",
          "text": [
            "Epoch [384/3000]: Train loss: 0.1951, Valid loss: 0.2133\n"
          ]
        },
        {
          "output_type": "stream",
          "name": "stderr",
          "text": [
            "Epoch [385/3000]: 100%|██████████| 4/4 [00:00<00:00, 123.94it/s, loss=0.19]\n"
          ]
        },
        {
          "output_type": "stream",
          "name": "stdout",
          "text": [
            "Epoch [385/3000]: Train loss: 0.1858, Valid loss: 0.2128\n"
          ]
        },
        {
          "output_type": "stream",
          "name": "stderr",
          "text": [
            "Epoch [386/3000]: 100%|██████████| 4/4 [00:00<00:00, 116.03it/s, loss=0.171]\n"
          ]
        },
        {
          "output_type": "stream",
          "name": "stdout",
          "text": [
            "Epoch [386/3000]: Train loss: 0.1811, Valid loss: 0.2106\n"
          ]
        },
        {
          "output_type": "stream",
          "name": "stderr",
          "text": [
            "Epoch [387/3000]: 100%|██████████| 4/4 [00:00<00:00, 114.60it/s, loss=0.239]\n"
          ]
        },
        {
          "output_type": "stream",
          "name": "stdout",
          "text": [
            "Epoch [387/3000]: Train loss: 0.1963, Valid loss: 0.2133\n"
          ]
        },
        {
          "output_type": "stream",
          "name": "stderr",
          "text": [
            "Epoch [388/3000]: 100%|██████████| 4/4 [00:00<00:00, 112.54it/s, loss=0.187]\n"
          ]
        },
        {
          "output_type": "stream",
          "name": "stdout",
          "text": [
            "Epoch [388/3000]: Train loss: 0.1838, Valid loss: 0.2121\n"
          ]
        },
        {
          "output_type": "stream",
          "name": "stderr",
          "text": [
            "Epoch [389/3000]: 100%|██████████| 4/4 [00:00<00:00, 120.76it/s, loss=0.147]\n"
          ]
        },
        {
          "output_type": "stream",
          "name": "stdout",
          "text": [
            "Epoch [389/3000]: Train loss: 0.1771, Valid loss: 0.2087\n"
          ]
        },
        {
          "output_type": "stream",
          "name": "stderr",
          "text": [
            "Epoch [390/3000]: 100%|██████████| 4/4 [00:00<00:00, 113.46it/s, loss=0.227]\n"
          ]
        },
        {
          "output_type": "stream",
          "name": "stdout",
          "text": [
            "Epoch [390/3000]: Train loss: 0.1935, Valid loss: 0.2066\n",
            "Saving model with loss 0.207...\n"
          ]
        },
        {
          "output_type": "stream",
          "name": "stderr",
          "text": [
            "Epoch [391/3000]: 100%|██████████| 4/4 [00:00<00:00, 120.11it/s, loss=0.207]\n"
          ]
        },
        {
          "output_type": "stream",
          "name": "stdout",
          "text": [
            "Epoch [391/3000]: Train loss: 0.1900, Valid loss: 0.2218\n"
          ]
        },
        {
          "output_type": "stream",
          "name": "stderr",
          "text": [
            "Epoch [392/3000]: 100%|██████████| 4/4 [00:00<00:00, 27.88it/s, loss=0.164]\n"
          ]
        },
        {
          "output_type": "stream",
          "name": "stdout",
          "text": [
            "Epoch [392/3000]: Train loss: 0.1824, Valid loss: 0.2057\n",
            "Saving model with loss 0.206...\n"
          ]
        },
        {
          "output_type": "stream",
          "name": "stderr",
          "text": [
            "Epoch [393/3000]: 100%|██████████| 4/4 [00:00<00:00, 86.47it/s, loss=0.16]\n"
          ]
        },
        {
          "output_type": "stream",
          "name": "stdout",
          "text": [
            "Epoch [393/3000]: Train loss: 0.1786, Valid loss: 0.2047\n",
            "Saving model with loss 0.205...\n"
          ]
        },
        {
          "output_type": "stream",
          "name": "stderr",
          "text": [
            "Epoch [394/3000]: 100%|██████████| 4/4 [00:00<00:00, 91.02it/s, loss=0.197]\n"
          ]
        },
        {
          "output_type": "stream",
          "name": "stdout",
          "text": [
            "Epoch [394/3000]: Train loss: 0.1875, Valid loss: 0.2054\n"
          ]
        },
        {
          "output_type": "stream",
          "name": "stderr",
          "text": [
            "Epoch [395/3000]: 100%|██████████| 4/4 [00:00<00:00, 96.51it/s, loss=0.144]\n"
          ]
        },
        {
          "output_type": "stream",
          "name": "stdout",
          "text": [
            "Epoch [395/3000]: Train loss: 0.1729, Valid loss: 0.2068\n"
          ]
        },
        {
          "output_type": "stream",
          "name": "stderr",
          "text": [
            "Epoch [396/3000]: 100%|██████████| 4/4 [00:00<00:00, 112.28it/s, loss=0.149]\n"
          ]
        },
        {
          "output_type": "stream",
          "name": "stdout",
          "text": [
            "Epoch [396/3000]: Train loss: 0.1744, Valid loss: 0.2038\n",
            "Saving model with loss 0.204...\n"
          ]
        },
        {
          "output_type": "stream",
          "name": "stderr",
          "text": [
            "Epoch [397/3000]: 100%|██████████| 4/4 [00:00<00:00, 113.30it/s, loss=0.236]\n"
          ]
        },
        {
          "output_type": "stream",
          "name": "stdout",
          "text": [
            "Epoch [397/3000]: Train loss: 0.1927, Valid loss: 0.2058\n"
          ]
        },
        {
          "output_type": "stream",
          "name": "stderr",
          "text": [
            "Epoch [398/3000]: 100%|██████████| 4/4 [00:00<00:00, 118.37it/s, loss=0.0823]\n"
          ]
        },
        {
          "output_type": "stream",
          "name": "stdout",
          "text": [
            "Epoch [398/3000]: Train loss: 0.1588, Valid loss: 0.2062\n"
          ]
        },
        {
          "output_type": "stream",
          "name": "stderr",
          "text": [
            "Epoch [399/3000]: 100%|██████████| 4/4 [00:00<00:00, 113.55it/s, loss=0.231]\n"
          ]
        },
        {
          "output_type": "stream",
          "name": "stdout",
          "text": [
            "Epoch [399/3000]: Train loss: 0.1911, Valid loss: 0.2032\n",
            "Saving model with loss 0.203...\n"
          ]
        },
        {
          "output_type": "stream",
          "name": "stderr",
          "text": [
            "Epoch [400/3000]: 100%|██████████| 4/4 [00:00<00:00, 106.98it/s, loss=0.132]\n"
          ]
        },
        {
          "output_type": "stream",
          "name": "stdout",
          "text": [
            "Epoch [400/3000]: Train loss: 0.1691, Valid loss: 0.2067\n"
          ]
        },
        {
          "output_type": "stream",
          "name": "stderr",
          "text": [
            "Epoch [401/3000]: 100%|██████████| 4/4 [00:00<00:00, 84.88it/s, loss=0.183]\n"
          ]
        },
        {
          "output_type": "stream",
          "name": "stdout",
          "text": [
            "Epoch [401/3000]: Train loss: 0.1813, Valid loss: 0.2062\n"
          ]
        },
        {
          "output_type": "stream",
          "name": "stderr",
          "text": [
            "Epoch [402/3000]: 100%|██████████| 4/4 [00:00<00:00, 113.14it/s, loss=0.106]\n"
          ]
        },
        {
          "output_type": "stream",
          "name": "stdout",
          "text": [
            "Epoch [402/3000]: Train loss: 0.1636, Valid loss: 0.2014\n",
            "Saving model with loss 0.201...\n"
          ]
        },
        {
          "output_type": "stream",
          "name": "stderr",
          "text": [
            "Epoch [403/3000]: 100%|██████████| 4/4 [00:00<00:00, 94.33it/s, loss=0.214]\n"
          ]
        },
        {
          "output_type": "stream",
          "name": "stdout",
          "text": [
            "Epoch [403/3000]: Train loss: 0.1881, Valid loss: 0.2009\n",
            "Saving model with loss 0.201...\n"
          ]
        },
        {
          "output_type": "stream",
          "name": "stderr",
          "text": [
            "Epoch [404/3000]: 100%|██████████| 4/4 [00:00<00:00, 67.61it/s, loss=0.128]\n"
          ]
        },
        {
          "output_type": "stream",
          "name": "stdout",
          "text": [
            "Epoch [404/3000]: Train loss: 0.1672, Valid loss: 0.2021\n"
          ]
        },
        {
          "output_type": "stream",
          "name": "stderr",
          "text": [
            "Epoch [405/3000]: 100%|██████████| 4/4 [00:00<00:00, 126.28it/s, loss=0.188]\n"
          ]
        },
        {
          "output_type": "stream",
          "name": "stdout",
          "text": [
            "Epoch [405/3000]: Train loss: 0.1810, Valid loss: 0.2048\n"
          ]
        },
        {
          "output_type": "stream",
          "name": "stderr",
          "text": [
            "Epoch [406/3000]: 100%|██████████| 4/4 [00:00<00:00, 120.68it/s, loss=0.213]\n"
          ]
        },
        {
          "output_type": "stream",
          "name": "stdout",
          "text": [
            "Epoch [406/3000]: Train loss: 0.1856, Valid loss: 0.2010\n"
          ]
        },
        {
          "output_type": "stream",
          "name": "stderr",
          "text": [
            "Epoch [407/3000]: 100%|██████████| 4/4 [00:00<00:00, 115.05it/s, loss=0.168]\n"
          ]
        },
        {
          "output_type": "stream",
          "name": "stdout",
          "text": [
            "Epoch [407/3000]: Train loss: 0.1759, Valid loss: 0.2000\n",
            "Saving model with loss 0.200...\n"
          ]
        },
        {
          "output_type": "stream",
          "name": "stderr",
          "text": [
            "Epoch [408/3000]: 100%|██████████| 4/4 [00:00<00:00, 115.92it/s, loss=0.173]\n"
          ]
        },
        {
          "output_type": "stream",
          "name": "stdout",
          "text": [
            "Epoch [408/3000]: Train loss: 0.1762, Valid loss: 0.2050\n"
          ]
        },
        {
          "output_type": "stream",
          "name": "stderr",
          "text": [
            "Epoch [409/3000]: 100%|██████████| 4/4 [00:00<00:00, 117.03it/s, loss=0.197]\n"
          ]
        },
        {
          "output_type": "stream",
          "name": "stdout",
          "text": [
            "Epoch [409/3000]: Train loss: 0.1833, Valid loss: 0.2089\n"
          ]
        },
        {
          "output_type": "stream",
          "name": "stderr",
          "text": [
            "Epoch [410/3000]: 100%|██████████| 4/4 [00:00<00:00, 119.81it/s, loss=0.226]\n"
          ]
        },
        {
          "output_type": "stream",
          "name": "stdout",
          "text": [
            "Epoch [410/3000]: Train loss: 0.1889, Valid loss: 0.1981\n",
            "Saving model with loss 0.198...\n"
          ]
        },
        {
          "output_type": "stream",
          "name": "stderr",
          "text": [
            "Epoch [411/3000]: 100%|██████████| 4/4 [00:00<00:00, 115.21it/s, loss=0.196]\n"
          ]
        },
        {
          "output_type": "stream",
          "name": "stdout",
          "text": [
            "Epoch [411/3000]: Train loss: 0.1812, Valid loss: 0.1994\n"
          ]
        },
        {
          "output_type": "stream",
          "name": "stderr",
          "text": [
            "Epoch [412/3000]: 100%|██████████| 4/4 [00:00<00:00, 111.35it/s, loss=0.141]\n"
          ]
        },
        {
          "output_type": "stream",
          "name": "stdout",
          "text": [
            "Epoch [412/3000]: Train loss: 0.1697, Valid loss: 0.1967\n",
            "Saving model with loss 0.197...\n"
          ]
        },
        {
          "output_type": "stream",
          "name": "stderr",
          "text": [
            "Epoch [413/3000]: 100%|██████████| 4/4 [00:00<00:00, 108.54it/s, loss=0.155]\n"
          ]
        },
        {
          "output_type": "stream",
          "name": "stdout",
          "text": [
            "Epoch [413/3000]: Train loss: 0.1724, Valid loss: 0.1989\n"
          ]
        },
        {
          "output_type": "stream",
          "name": "stderr",
          "text": [
            "Epoch [414/3000]: 100%|██████████| 4/4 [00:00<00:00, 121.78it/s, loss=0.151]\n"
          ]
        },
        {
          "output_type": "stream",
          "name": "stdout",
          "text": [
            "Epoch [414/3000]: Train loss: 0.1709, Valid loss: 0.2045\n"
          ]
        },
        {
          "output_type": "stream",
          "name": "stderr",
          "text": [
            "Epoch [415/3000]: 100%|██████████| 4/4 [00:00<00:00, 110.86it/s, loss=0.137]\n"
          ]
        },
        {
          "output_type": "stream",
          "name": "stdout",
          "text": [
            "Epoch [415/3000]: Train loss: 0.1691, Valid loss: 0.1963\n",
            "Saving model with loss 0.196...\n"
          ]
        },
        {
          "output_type": "stream",
          "name": "stderr",
          "text": [
            "Epoch [416/3000]: 100%|██████████| 4/4 [00:00<00:00, 110.73it/s, loss=0.214]\n"
          ]
        },
        {
          "output_type": "stream",
          "name": "stdout",
          "text": [
            "Epoch [416/3000]: Train loss: 0.1830, Valid loss: 0.2005\n"
          ]
        },
        {
          "output_type": "stream",
          "name": "stderr",
          "text": [
            "Epoch [417/3000]: 100%|██████████| 4/4 [00:00<00:00, 108.47it/s, loss=0.184]\n"
          ]
        },
        {
          "output_type": "stream",
          "name": "stdout",
          "text": [
            "Epoch [417/3000]: Train loss: 0.1779, Valid loss: 0.2003\n"
          ]
        },
        {
          "output_type": "stream",
          "name": "stderr",
          "text": [
            "Epoch [418/3000]: 100%|██████████| 4/4 [00:00<00:00, 119.66it/s, loss=0.122]\n"
          ]
        },
        {
          "output_type": "stream",
          "name": "stdout",
          "text": [
            "Epoch [418/3000]: Train loss: 0.1631, Valid loss: 0.1947\n",
            "Saving model with loss 0.195...\n"
          ]
        },
        {
          "output_type": "stream",
          "name": "stderr",
          "text": [
            "Epoch [419/3000]: 100%|██████████| 4/4 [00:00<00:00, 101.98it/s, loss=0.241]\n"
          ]
        },
        {
          "output_type": "stream",
          "name": "stdout",
          "text": [
            "Epoch [419/3000]: Train loss: 0.1887, Valid loss: 0.1956\n"
          ]
        },
        {
          "output_type": "stream",
          "name": "stderr",
          "text": [
            "Epoch [420/3000]: 100%|██████████| 4/4 [00:00<00:00, 95.42it/s, loss=0.231]\n"
          ]
        },
        {
          "output_type": "stream",
          "name": "stdout",
          "text": [
            "Epoch [420/3000]: Train loss: 0.1864, Valid loss: 0.1959\n"
          ]
        },
        {
          "output_type": "stream",
          "name": "stderr",
          "text": [
            "Epoch [421/3000]: 100%|██████████| 4/4 [00:00<00:00, 94.96it/s, loss=0.102]\n"
          ]
        },
        {
          "output_type": "stream",
          "name": "stdout",
          "text": [
            "Epoch [421/3000]: Train loss: 0.1577, Valid loss: 0.2025\n"
          ]
        },
        {
          "output_type": "stream",
          "name": "stderr",
          "text": [
            "Epoch [422/3000]: 100%|██████████| 4/4 [00:00<00:00, 115.68it/s, loss=0.19]\n"
          ]
        },
        {
          "output_type": "stream",
          "name": "stdout",
          "text": [
            "Epoch [422/3000]: Train loss: 0.1781, Valid loss: 0.2025\n"
          ]
        },
        {
          "output_type": "stream",
          "name": "stderr",
          "text": [
            "Epoch [423/3000]: 100%|██████████| 4/4 [00:00<00:00, 113.92it/s, loss=0.152]\n"
          ]
        },
        {
          "output_type": "stream",
          "name": "stdout",
          "text": [
            "Epoch [423/3000]: Train loss: 0.1693, Valid loss: 0.1973\n"
          ]
        },
        {
          "output_type": "stream",
          "name": "stderr",
          "text": [
            "Epoch [424/3000]: 100%|██████████| 4/4 [00:00<00:00, 117.72it/s, loss=0.186]\n"
          ]
        },
        {
          "output_type": "stream",
          "name": "stdout",
          "text": [
            "Epoch [424/3000]: Train loss: 0.1756, Valid loss: 0.1934\n",
            "Saving model with loss 0.193...\n"
          ]
        },
        {
          "output_type": "stream",
          "name": "stderr",
          "text": [
            "Epoch [425/3000]: 100%|██████████| 4/4 [00:00<00:00, 112.85it/s, loss=0.195]\n"
          ]
        },
        {
          "output_type": "stream",
          "name": "stdout",
          "text": [
            "Epoch [425/3000]: Train loss: 0.1797, Valid loss: 0.1934\n",
            "Saving model with loss 0.193...\n"
          ]
        },
        {
          "output_type": "stream",
          "name": "stderr",
          "text": [
            "Epoch [426/3000]: 100%|██████████| 4/4 [00:00<00:00, 107.06it/s, loss=0.123]\n"
          ]
        },
        {
          "output_type": "stream",
          "name": "stdout",
          "text": [
            "Epoch [426/3000]: Train loss: 0.1620, Valid loss: 0.2006\n"
          ]
        },
        {
          "output_type": "stream",
          "name": "stderr",
          "text": [
            "Epoch [427/3000]: 100%|██████████| 4/4 [00:00<00:00, 113.26it/s, loss=0.199]\n"
          ]
        },
        {
          "output_type": "stream",
          "name": "stdout",
          "text": [
            "Epoch [427/3000]: Train loss: 0.1835, Valid loss: 0.1976\n"
          ]
        },
        {
          "output_type": "stream",
          "name": "stderr",
          "text": [
            "Epoch [428/3000]: 100%|██████████| 4/4 [00:00<00:00, 116.68it/s, loss=0.175]\n"
          ]
        },
        {
          "output_type": "stream",
          "name": "stdout",
          "text": [
            "Epoch [428/3000]: Train loss: 0.1745, Valid loss: 0.1902\n",
            "Saving model with loss 0.190...\n"
          ]
        },
        {
          "output_type": "stream",
          "name": "stderr",
          "text": [
            "Epoch [429/3000]: 100%|██████████| 4/4 [00:00<00:00, 127.73it/s, loss=0.143]\n"
          ]
        },
        {
          "output_type": "stream",
          "name": "stdout",
          "text": [
            "Epoch [429/3000]: Train loss: 0.1650, Valid loss: 0.1975\n"
          ]
        },
        {
          "output_type": "stream",
          "name": "stderr",
          "text": [
            "Epoch [430/3000]: 100%|██████████| 4/4 [00:00<00:00, 119.07it/s, loss=0.158]\n"
          ]
        },
        {
          "output_type": "stream",
          "name": "stdout",
          "text": [
            "Epoch [430/3000]: Train loss: 0.1689, Valid loss: 0.1935\n"
          ]
        },
        {
          "output_type": "stream",
          "name": "stderr",
          "text": [
            "Epoch [431/3000]: 100%|██████████| 4/4 [00:00<00:00, 96.76it/s, loss=0.19]\n"
          ]
        },
        {
          "output_type": "stream",
          "name": "stdout",
          "text": [
            "Epoch [431/3000]: Train loss: 0.1763, Valid loss: 0.1955\n"
          ]
        },
        {
          "output_type": "stream",
          "name": "stderr",
          "text": [
            "Epoch [432/3000]: 100%|██████████| 4/4 [00:00<00:00, 119.71it/s, loss=0.157]\n"
          ]
        },
        {
          "output_type": "stream",
          "name": "stdout",
          "text": [
            "Epoch [432/3000]: Train loss: 0.1698, Valid loss: 0.1979\n"
          ]
        },
        {
          "output_type": "stream",
          "name": "stderr",
          "text": [
            "Epoch [433/3000]: 100%|██████████| 4/4 [00:00<00:00, 115.89it/s, loss=0.208]\n"
          ]
        },
        {
          "output_type": "stream",
          "name": "stdout",
          "text": [
            "Epoch [433/3000]: Train loss: 0.1812, Valid loss: 0.1935\n"
          ]
        },
        {
          "output_type": "stream",
          "name": "stderr",
          "text": [
            "Epoch [434/3000]: 100%|██████████| 4/4 [00:00<00:00, 121.13it/s, loss=0.232]\n"
          ]
        },
        {
          "output_type": "stream",
          "name": "stdout",
          "text": [
            "Epoch [434/3000]: Train loss: 0.1821, Valid loss: 0.1893\n",
            "Saving model with loss 0.189...\n"
          ]
        },
        {
          "output_type": "stream",
          "name": "stderr",
          "text": [
            "Epoch [435/3000]: 100%|██████████| 4/4 [00:00<00:00, 128.05it/s, loss=0.146]\n"
          ]
        },
        {
          "output_type": "stream",
          "name": "stdout",
          "text": [
            "Epoch [435/3000]: Train loss: 0.1700, Valid loss: 0.1905\n"
          ]
        },
        {
          "output_type": "stream",
          "name": "stderr",
          "text": [
            "Epoch [436/3000]: 100%|██████████| 4/4 [00:00<00:00, 131.87it/s, loss=0.212]\n"
          ]
        },
        {
          "output_type": "stream",
          "name": "stdout",
          "text": [
            "Epoch [436/3000]: Train loss: 0.1787, Valid loss: 0.2034\n"
          ]
        },
        {
          "output_type": "stream",
          "name": "stderr",
          "text": [
            "Epoch [437/3000]: 100%|██████████| 4/4 [00:00<00:00, 127.56it/s, loss=0.284]\n"
          ]
        },
        {
          "output_type": "stream",
          "name": "stdout",
          "text": [
            "Epoch [437/3000]: Train loss: 0.1955, Valid loss: 0.1883\n",
            "Saving model with loss 0.188...\n"
          ]
        },
        {
          "output_type": "stream",
          "name": "stderr",
          "text": [
            "Epoch [438/3000]: 100%|██████████| 4/4 [00:00<00:00, 121.08it/s, loss=0.157]\n"
          ]
        },
        {
          "output_type": "stream",
          "name": "stdout",
          "text": [
            "Epoch [438/3000]: Train loss: 0.1692, Valid loss: 0.1882\n",
            "Saving model with loss 0.188...\n"
          ]
        },
        {
          "output_type": "stream",
          "name": "stderr",
          "text": [
            "Epoch [439/3000]: 100%|██████████| 4/4 [00:00<00:00, 113.42it/s, loss=0.2]\n"
          ]
        },
        {
          "output_type": "stream",
          "name": "stdout",
          "text": [
            "Epoch [439/3000]: Train loss: 0.1789, Valid loss: 0.1968\n"
          ]
        },
        {
          "output_type": "stream",
          "name": "stderr",
          "text": [
            "Epoch [440/3000]: 100%|██████████| 4/4 [00:00<00:00, 121.12it/s, loss=0.115]\n"
          ]
        },
        {
          "output_type": "stream",
          "name": "stdout",
          "text": [
            "Epoch [440/3000]: Train loss: 0.1582, Valid loss: 0.2070\n"
          ]
        },
        {
          "output_type": "stream",
          "name": "stderr",
          "text": [
            "Epoch [441/3000]: 100%|██████████| 4/4 [00:00<00:00, 118.13it/s, loss=0.223]\n"
          ]
        },
        {
          "output_type": "stream",
          "name": "stdout",
          "text": [
            "Epoch [441/3000]: Train loss: 0.1815, Valid loss: 0.1879\n",
            "Saving model with loss 0.188...\n"
          ]
        },
        {
          "output_type": "stream",
          "name": "stderr",
          "text": [
            "Epoch [442/3000]: 100%|██████████| 4/4 [00:00<00:00, 112.74it/s, loss=0.148]\n"
          ]
        },
        {
          "output_type": "stream",
          "name": "stdout",
          "text": [
            "Epoch [442/3000]: Train loss: 0.1647, Valid loss: 0.1875\n",
            "Saving model with loss 0.188...\n"
          ]
        },
        {
          "output_type": "stream",
          "name": "stderr",
          "text": [
            "Epoch [443/3000]: 100%|██████████| 4/4 [00:00<00:00, 115.66it/s, loss=0.184]\n"
          ]
        },
        {
          "output_type": "stream",
          "name": "stdout",
          "text": [
            "Epoch [443/3000]: Train loss: 0.1696, Valid loss: 0.1999\n"
          ]
        },
        {
          "output_type": "stream",
          "name": "stderr",
          "text": [
            "Epoch [444/3000]: 100%|██████████| 4/4 [00:00<00:00, 120.08it/s, loss=0.175]\n"
          ]
        },
        {
          "output_type": "stream",
          "name": "stdout",
          "text": [
            "Epoch [444/3000]: Train loss: 0.1703, Valid loss: 0.2000\n"
          ]
        },
        {
          "output_type": "stream",
          "name": "stderr",
          "text": [
            "Epoch [445/3000]: 100%|██████████| 4/4 [00:00<00:00, 117.27it/s, loss=0.148]\n"
          ]
        },
        {
          "output_type": "stream",
          "name": "stdout",
          "text": [
            "Epoch [445/3000]: Train loss: 0.1641, Valid loss: 0.1958\n"
          ]
        },
        {
          "output_type": "stream",
          "name": "stderr",
          "text": [
            "Epoch [446/3000]: 100%|██████████| 4/4 [00:00<00:00, 136.23it/s, loss=0.16]\n"
          ]
        },
        {
          "output_type": "stream",
          "name": "stdout",
          "text": [
            "Epoch [446/3000]: Train loss: 0.1645, Valid loss: 0.1870\n",
            "Saving model with loss 0.187...\n"
          ]
        },
        {
          "output_type": "stream",
          "name": "stderr",
          "text": [
            "Epoch [447/3000]: 100%|██████████| 4/4 [00:00<00:00, 121.14it/s, loss=0.121]\n"
          ]
        },
        {
          "output_type": "stream",
          "name": "stdout",
          "text": [
            "Epoch [447/3000]: Train loss: 0.1571, Valid loss: 0.1856\n",
            "Saving model with loss 0.186...\n"
          ]
        },
        {
          "output_type": "stream",
          "name": "stderr",
          "text": [
            "Epoch [448/3000]: 100%|██████████| 4/4 [00:00<00:00, 116.56it/s, loss=0.204]\n"
          ]
        },
        {
          "output_type": "stream",
          "name": "stdout",
          "text": [
            "Epoch [448/3000]: Train loss: 0.1732, Valid loss: 0.1906\n"
          ]
        },
        {
          "output_type": "stream",
          "name": "stderr",
          "text": [
            "Epoch [449/3000]: 100%|██████████| 4/4 [00:00<00:00, 119.65it/s, loss=0.138]\n"
          ]
        },
        {
          "output_type": "stream",
          "name": "stdout",
          "text": [
            "Epoch [449/3000]: Train loss: 0.1581, Valid loss: 0.1917\n"
          ]
        },
        {
          "output_type": "stream",
          "name": "stderr",
          "text": [
            "Epoch [450/3000]: 100%|██████████| 4/4 [00:00<00:00, 104.54it/s, loss=0.245]\n"
          ]
        },
        {
          "output_type": "stream",
          "name": "stdout",
          "text": [
            "Epoch [450/3000]: Train loss: 0.1816, Valid loss: 0.1913\n"
          ]
        },
        {
          "output_type": "stream",
          "name": "stderr",
          "text": [
            "Epoch [451/3000]: 100%|██████████| 4/4 [00:00<00:00, 98.76it/s, loss=0.238]\n"
          ]
        },
        {
          "output_type": "stream",
          "name": "stdout",
          "text": [
            "Epoch [451/3000]: Train loss: 0.1792, Valid loss: 0.1875\n"
          ]
        },
        {
          "output_type": "stream",
          "name": "stderr",
          "text": [
            "Epoch [452/3000]: 100%|██████████| 4/4 [00:00<00:00, 111.42it/s, loss=0.109]\n"
          ]
        },
        {
          "output_type": "stream",
          "name": "stdout",
          "text": [
            "Epoch [452/3000]: Train loss: 0.1501, Valid loss: 0.1917\n"
          ]
        },
        {
          "output_type": "stream",
          "name": "stderr",
          "text": [
            "Epoch [453/3000]: 100%|██████████| 4/4 [00:00<00:00, 123.58it/s, loss=0.213]\n"
          ]
        },
        {
          "output_type": "stream",
          "name": "stdout",
          "text": [
            "Epoch [453/3000]: Train loss: 0.1727, Valid loss: 0.1885\n"
          ]
        },
        {
          "output_type": "stream",
          "name": "stderr",
          "text": [
            "Epoch [454/3000]: 100%|██████████| 4/4 [00:00<00:00, 116.77it/s, loss=0.185]\n"
          ]
        },
        {
          "output_type": "stream",
          "name": "stdout",
          "text": [
            "Epoch [454/3000]: Train loss: 0.1664, Valid loss: 0.1853\n",
            "Saving model with loss 0.185...\n"
          ]
        },
        {
          "output_type": "stream",
          "name": "stderr",
          "text": [
            "Epoch [455/3000]: 100%|██████████| 4/4 [00:00<00:00, 127.07it/s, loss=0.137]\n"
          ]
        },
        {
          "output_type": "stream",
          "name": "stdout",
          "text": [
            "Epoch [455/3000]: Train loss: 0.1556, Valid loss: 0.1906\n"
          ]
        },
        {
          "output_type": "stream",
          "name": "stderr",
          "text": [
            "Epoch [456/3000]: 100%|██████████| 4/4 [00:00<00:00, 128.64it/s, loss=0.123]\n"
          ]
        },
        {
          "output_type": "stream",
          "name": "stdout",
          "text": [
            "Epoch [456/3000]: Train loss: 0.1520, Valid loss: 0.1938\n"
          ]
        },
        {
          "output_type": "stream",
          "name": "stderr",
          "text": [
            "Epoch [457/3000]: 100%|██████████| 4/4 [00:00<00:00, 118.23it/s, loss=0.162]\n"
          ]
        },
        {
          "output_type": "stream",
          "name": "stdout",
          "text": [
            "Epoch [457/3000]: Train loss: 0.1607, Valid loss: 0.1891\n"
          ]
        },
        {
          "output_type": "stream",
          "name": "stderr",
          "text": [
            "Epoch [458/3000]: 100%|██████████| 4/4 [00:00<00:00, 119.07it/s, loss=0.103]\n"
          ]
        },
        {
          "output_type": "stream",
          "name": "stdout",
          "text": [
            "Epoch [458/3000]: Train loss: 0.1471, Valid loss: 0.1852\n",
            "Saving model with loss 0.185...\n"
          ]
        },
        {
          "output_type": "stream",
          "name": "stderr",
          "text": [
            "Epoch [459/3000]: 100%|██████████| 4/4 [00:00<00:00, 119.16it/s, loss=0.148]\n"
          ]
        },
        {
          "output_type": "stream",
          "name": "stdout",
          "text": [
            "Epoch [459/3000]: Train loss: 0.1563, Valid loss: 0.1826\n",
            "Saving model with loss 0.183...\n"
          ]
        },
        {
          "output_type": "stream",
          "name": "stderr",
          "text": [
            "Epoch [460/3000]: 100%|██████████| 4/4 [00:00<00:00, 122.04it/s, loss=0.145]\n"
          ]
        },
        {
          "output_type": "stream",
          "name": "stdout",
          "text": [
            "Epoch [460/3000]: Train loss: 0.1557, Valid loss: 0.1890\n"
          ]
        },
        {
          "output_type": "stream",
          "name": "stderr",
          "text": [
            "Epoch [461/3000]: 100%|██████████| 4/4 [00:00<00:00, 127.25it/s, loss=0.131]\n"
          ]
        },
        {
          "output_type": "stream",
          "name": "stdout",
          "text": [
            "Epoch [461/3000]: Train loss: 0.1516, Valid loss: 0.1871\n"
          ]
        },
        {
          "output_type": "stream",
          "name": "stderr",
          "text": [
            "Epoch [462/3000]: 100%|██████████| 4/4 [00:00<00:00, 107.35it/s, loss=0.178]\n"
          ]
        },
        {
          "output_type": "stream",
          "name": "stdout",
          "text": [
            "Epoch [462/3000]: Train loss: 0.1616, Valid loss: 0.1834\n"
          ]
        },
        {
          "output_type": "stream",
          "name": "stderr",
          "text": [
            "Epoch [463/3000]: 100%|██████████| 4/4 [00:00<00:00, 124.01it/s, loss=0.134]\n"
          ]
        },
        {
          "output_type": "stream",
          "name": "stdout",
          "text": [
            "Epoch [463/3000]: Train loss: 0.1531, Valid loss: 0.1807\n",
            "Saving model with loss 0.181...\n"
          ]
        },
        {
          "output_type": "stream",
          "name": "stderr",
          "text": [
            "Epoch [464/3000]: 100%|██████████| 4/4 [00:00<00:00, 111.51it/s, loss=0.151]\n"
          ]
        },
        {
          "output_type": "stream",
          "name": "stdout",
          "text": [
            "Epoch [464/3000]: Train loss: 0.1558, Valid loss: 0.1840\n"
          ]
        },
        {
          "output_type": "stream",
          "name": "stderr",
          "text": [
            "Epoch [465/3000]: 100%|██████████| 4/4 [00:00<00:00, 126.47it/s, loss=0.223]\n"
          ]
        },
        {
          "output_type": "stream",
          "name": "stdout",
          "text": [
            "Epoch [465/3000]: Train loss: 0.1707, Valid loss: 0.1845\n"
          ]
        },
        {
          "output_type": "stream",
          "name": "stderr",
          "text": [
            "Epoch [466/3000]: 100%|██████████| 4/4 [00:00<00:00, 118.06it/s, loss=0.134]\n"
          ]
        },
        {
          "output_type": "stream",
          "name": "stdout",
          "text": [
            "Epoch [466/3000]: Train loss: 0.1503, Valid loss: 0.1781\n",
            "Saving model with loss 0.178...\n"
          ]
        },
        {
          "output_type": "stream",
          "name": "stderr",
          "text": [
            "Epoch [467/3000]: 100%|██████████| 4/4 [00:00<00:00, 114.65it/s, loss=0.115]\n"
          ]
        },
        {
          "output_type": "stream",
          "name": "stdout",
          "text": [
            "Epoch [467/3000]: Train loss: 0.1469, Valid loss: 0.1799\n"
          ]
        },
        {
          "output_type": "stream",
          "name": "stderr",
          "text": [
            "Epoch [468/3000]: 100%|██████████| 4/4 [00:00<00:00, 116.04it/s, loss=0.131]\n"
          ]
        },
        {
          "output_type": "stream",
          "name": "stdout",
          "text": [
            "Epoch [468/3000]: Train loss: 0.1505, Valid loss: 0.1901\n"
          ]
        },
        {
          "output_type": "stream",
          "name": "stderr",
          "text": [
            "Epoch [469/3000]: 100%|██████████| 4/4 [00:00<00:00, 133.70it/s, loss=0.131]\n"
          ]
        },
        {
          "output_type": "stream",
          "name": "stdout",
          "text": [
            "Epoch [469/3000]: Train loss: 0.1524, Valid loss: 0.1836\n"
          ]
        },
        {
          "output_type": "stream",
          "name": "stderr",
          "text": [
            "Epoch [470/3000]: 100%|██████████| 4/4 [00:00<00:00, 114.76it/s, loss=0.182]\n"
          ]
        },
        {
          "output_type": "stream",
          "name": "stdout",
          "text": [
            "Epoch [470/3000]: Train loss: 0.1607, Valid loss: 0.1739\n",
            "Saving model with loss 0.174...\n"
          ]
        },
        {
          "output_type": "stream",
          "name": "stderr",
          "text": [
            "Epoch [471/3000]: 100%|██████████| 4/4 [00:00<00:00, 111.90it/s, loss=0.17]\n"
          ]
        },
        {
          "output_type": "stream",
          "name": "stdout",
          "text": [
            "Epoch [471/3000]: Train loss: 0.1591, Valid loss: 0.1786\n"
          ]
        },
        {
          "output_type": "stream",
          "name": "stderr",
          "text": [
            "Epoch [472/3000]: 100%|██████████| 4/4 [00:00<00:00, 117.13it/s, loss=0.214]\n"
          ]
        },
        {
          "output_type": "stream",
          "name": "stdout",
          "text": [
            "Epoch [472/3000]: Train loss: 0.1693, Valid loss: 0.1915\n"
          ]
        },
        {
          "output_type": "stream",
          "name": "stderr",
          "text": [
            "Epoch [473/3000]: 100%|██████████| 4/4 [00:00<00:00, 119.27it/s, loss=0.136]\n"
          ]
        },
        {
          "output_type": "stream",
          "name": "stdout",
          "text": [
            "Epoch [473/3000]: Train loss: 0.1513, Valid loss: 0.1743\n"
          ]
        },
        {
          "output_type": "stream",
          "name": "stderr",
          "text": [
            "Epoch [474/3000]: 100%|██████████| 4/4 [00:00<00:00, 97.41it/s, loss=0.147]\n"
          ]
        },
        {
          "output_type": "stream",
          "name": "stdout",
          "text": [
            "Epoch [474/3000]: Train loss: 0.1518, Valid loss: 0.1776\n"
          ]
        },
        {
          "output_type": "stream",
          "name": "stderr",
          "text": [
            "Epoch [475/3000]: 100%|██████████| 4/4 [00:00<00:00, 21.59it/s, loss=0.138]\n"
          ]
        },
        {
          "output_type": "stream",
          "name": "stdout",
          "text": [
            "Epoch [475/3000]: Train loss: 0.1512, Valid loss: 0.1766\n"
          ]
        },
        {
          "output_type": "stream",
          "name": "stderr",
          "text": [
            "Epoch [476/3000]: 100%|██████████| 4/4 [00:00<00:00, 15.09it/s, loss=0.116]\n"
          ]
        },
        {
          "output_type": "stream",
          "name": "stdout",
          "text": [
            "Epoch [476/3000]: Train loss: 0.1449, Valid loss: 0.1730\n",
            "Saving model with loss 0.173...\n"
          ]
        },
        {
          "output_type": "stream",
          "name": "stderr",
          "text": [
            "Epoch [477/3000]: 100%|██████████| 4/4 [00:00<00:00, 102.00it/s, loss=0.115]\n"
          ]
        },
        {
          "output_type": "stream",
          "name": "stdout",
          "text": [
            "Epoch [477/3000]: Train loss: 0.1432, Valid loss: 0.1803\n"
          ]
        },
        {
          "output_type": "stream",
          "name": "stderr",
          "text": [
            "Epoch [478/3000]: 100%|██████████| 4/4 [00:00<00:00, 113.95it/s, loss=0.153]\n"
          ]
        },
        {
          "output_type": "stream",
          "name": "stdout",
          "text": [
            "Epoch [478/3000]: Train loss: 0.1518, Valid loss: 0.1775\n"
          ]
        },
        {
          "output_type": "stream",
          "name": "stderr",
          "text": [
            "Epoch [479/3000]: 100%|██████████| 4/4 [00:00<00:00, 104.74it/s, loss=0.159]\n"
          ]
        },
        {
          "output_type": "stream",
          "name": "stdout",
          "text": [
            "Epoch [479/3000]: Train loss: 0.1517, Valid loss: 0.1745\n"
          ]
        },
        {
          "output_type": "stream",
          "name": "stderr",
          "text": [
            "Epoch [480/3000]: 100%|██████████| 4/4 [00:00<00:00, 117.27it/s, loss=0.152]\n"
          ]
        },
        {
          "output_type": "stream",
          "name": "stdout",
          "text": [
            "Epoch [480/3000]: Train loss: 0.1502, Valid loss: 0.1728\n",
            "Saving model with loss 0.173...\n"
          ]
        },
        {
          "output_type": "stream",
          "name": "stderr",
          "text": [
            "Epoch [481/3000]: 100%|██████████| 4/4 [00:00<00:00, 102.84it/s, loss=0.139]\n"
          ]
        },
        {
          "output_type": "stream",
          "name": "stdout",
          "text": [
            "Epoch [481/3000]: Train loss: 0.1473, Valid loss: 0.1751\n"
          ]
        },
        {
          "output_type": "stream",
          "name": "stderr",
          "text": [
            "Epoch [482/3000]: 100%|██████████| 4/4 [00:00<00:00, 92.59it/s, loss=0.0988]\n"
          ]
        },
        {
          "output_type": "stream",
          "name": "stdout",
          "text": [
            "Epoch [482/3000]: Train loss: 0.1381, Valid loss: 0.1770\n"
          ]
        },
        {
          "output_type": "stream",
          "name": "stderr",
          "text": [
            "Epoch [483/3000]: 100%|██████████| 4/4 [00:00<00:00, 102.49it/s, loss=0.148]\n"
          ]
        },
        {
          "output_type": "stream",
          "name": "stdout",
          "text": [
            "Epoch [483/3000]: Train loss: 0.1488, Valid loss: 0.1779\n"
          ]
        },
        {
          "output_type": "stream",
          "name": "stderr",
          "text": [
            "Epoch [484/3000]: 100%|██████████| 4/4 [00:00<00:00, 95.06it/s, loss=0.135]\n"
          ]
        },
        {
          "output_type": "stream",
          "name": "stdout",
          "text": [
            "Epoch [484/3000]: Train loss: 0.1455, Valid loss: 0.1699\n",
            "Saving model with loss 0.170...\n"
          ]
        },
        {
          "output_type": "stream",
          "name": "stderr",
          "text": [
            "Epoch [485/3000]: 100%|██████████| 4/4 [00:00<00:00, 89.92it/s, loss=0.136]\n"
          ]
        },
        {
          "output_type": "stream",
          "name": "stdout",
          "text": [
            "Epoch [485/3000]: Train loss: 0.1473, Valid loss: 0.1678\n",
            "Saving model with loss 0.168...\n"
          ]
        },
        {
          "output_type": "stream",
          "name": "stderr",
          "text": [
            "Epoch [486/3000]: 100%|██████████| 4/4 [00:00<00:00, 108.24it/s, loss=0.133]\n"
          ]
        },
        {
          "output_type": "stream",
          "name": "stdout",
          "text": [
            "Epoch [486/3000]: Train loss: 0.1461, Valid loss: 0.1741\n"
          ]
        },
        {
          "output_type": "stream",
          "name": "stderr",
          "text": [
            "Epoch [487/3000]: 100%|██████████| 4/4 [00:00<00:00, 78.98it/s, loss=0.159]\n"
          ]
        },
        {
          "output_type": "stream",
          "name": "stdout",
          "text": [
            "Epoch [487/3000]: Train loss: 0.1505, Valid loss: 0.1776\n"
          ]
        },
        {
          "output_type": "stream",
          "name": "stderr",
          "text": [
            "Epoch [488/3000]: 100%|██████████| 4/4 [00:00<00:00, 96.70it/s, loss=0.139]\n"
          ]
        },
        {
          "output_type": "stream",
          "name": "stdout",
          "text": [
            "Epoch [488/3000]: Train loss: 0.1458, Valid loss: 0.1706\n"
          ]
        },
        {
          "output_type": "stream",
          "name": "stderr",
          "text": [
            "Epoch [489/3000]: 100%|██████████| 4/4 [00:00<00:00, 95.75it/s, loss=0.156]\n"
          ]
        },
        {
          "output_type": "stream",
          "name": "stdout",
          "text": [
            "Epoch [489/3000]: Train loss: 0.1486, Valid loss: 0.1706\n"
          ]
        },
        {
          "output_type": "stream",
          "name": "stderr",
          "text": [
            "Epoch [490/3000]: 100%|██████████| 4/4 [00:00<00:00, 94.28it/s, loss=0.118]\n"
          ]
        },
        {
          "output_type": "stream",
          "name": "stdout",
          "text": [
            "Epoch [490/3000]: Train loss: 0.1403, Valid loss: 0.1722\n"
          ]
        },
        {
          "output_type": "stream",
          "name": "stderr",
          "text": [
            "Epoch [491/3000]: 100%|██████████| 4/4 [00:00<00:00, 107.01it/s, loss=0.144]\n"
          ]
        },
        {
          "output_type": "stream",
          "name": "stdout",
          "text": [
            "Epoch [491/3000]: Train loss: 0.1464, Valid loss: 0.1698\n"
          ]
        },
        {
          "output_type": "stream",
          "name": "stderr",
          "text": [
            "Epoch [492/3000]: 100%|██████████| 4/4 [00:00<00:00, 130.86it/s, loss=0.115]\n"
          ]
        },
        {
          "output_type": "stream",
          "name": "stdout",
          "text": [
            "Epoch [492/3000]: Train loss: 0.1397, Valid loss: 0.1650\n",
            "Saving model with loss 0.165...\n"
          ]
        },
        {
          "output_type": "stream",
          "name": "stderr",
          "text": [
            "Epoch [493/3000]: 100%|██████████| 4/4 [00:00<00:00, 123.02it/s, loss=0.2]\n"
          ]
        },
        {
          "output_type": "stream",
          "name": "stdout",
          "text": [
            "Epoch [493/3000]: Train loss: 0.1589, Valid loss: 0.1681\n"
          ]
        },
        {
          "output_type": "stream",
          "name": "stderr",
          "text": [
            "Epoch [494/3000]: 100%|██████████| 4/4 [00:00<00:00, 117.08it/s, loss=0.115]\n"
          ]
        },
        {
          "output_type": "stream",
          "name": "stdout",
          "text": [
            "Epoch [494/3000]: Train loss: 0.1399, Valid loss: 0.1745\n"
          ]
        },
        {
          "output_type": "stream",
          "name": "stderr",
          "text": [
            "Epoch [495/3000]: 100%|██████████| 4/4 [00:00<00:00, 116.53it/s, loss=0.155]\n"
          ]
        },
        {
          "output_type": "stream",
          "name": "stdout",
          "text": [
            "Epoch [495/3000]: Train loss: 0.1491, Valid loss: 0.1659\n"
          ]
        },
        {
          "output_type": "stream",
          "name": "stderr",
          "text": [
            "Epoch [496/3000]: 100%|██████████| 4/4 [00:00<00:00, 119.71it/s, loss=0.179]\n"
          ]
        },
        {
          "output_type": "stream",
          "name": "stdout",
          "text": [
            "Epoch [496/3000]: Train loss: 0.1529, Valid loss: 0.1682\n"
          ]
        },
        {
          "output_type": "stream",
          "name": "stderr",
          "text": [
            "Epoch [497/3000]: 100%|██████████| 4/4 [00:00<00:00, 113.73it/s, loss=0.118]\n"
          ]
        },
        {
          "output_type": "stream",
          "name": "stdout",
          "text": [
            "Epoch [497/3000]: Train loss: 0.1399, Valid loss: 0.1716\n"
          ]
        },
        {
          "output_type": "stream",
          "name": "stderr",
          "text": [
            "Epoch [498/3000]: 100%|██████████| 4/4 [00:00<00:00, 115.89it/s, loss=0.183]\n"
          ]
        },
        {
          "output_type": "stream",
          "name": "stdout",
          "text": [
            "Epoch [498/3000]: Train loss: 0.1537, Valid loss: 0.1651\n"
          ]
        },
        {
          "output_type": "stream",
          "name": "stderr",
          "text": [
            "Epoch [499/3000]: 100%|██████████| 4/4 [00:00<00:00, 132.69it/s, loss=0.158]\n"
          ]
        },
        {
          "output_type": "stream",
          "name": "stdout",
          "text": [
            "Epoch [499/3000]: Train loss: 0.1476, Valid loss: 0.1694\n"
          ]
        },
        {
          "output_type": "stream",
          "name": "stderr",
          "text": [
            "Epoch [500/3000]: 100%|██████████| 4/4 [00:00<00:00, 119.13it/s, loss=0.134]\n"
          ]
        },
        {
          "output_type": "stream",
          "name": "stdout",
          "text": [
            "Epoch [500/3000]: Train loss: 0.1418, Valid loss: 0.1671\n"
          ]
        },
        {
          "output_type": "stream",
          "name": "stderr",
          "text": [
            "Epoch [501/3000]: 100%|██████████| 4/4 [00:00<00:00, 96.07it/s, loss=0.184]\n"
          ]
        },
        {
          "output_type": "stream",
          "name": "stdout",
          "text": [
            "Epoch [501/3000]: Train loss: 0.1522, Valid loss: 0.1637\n",
            "Saving model with loss 0.164...\n"
          ]
        },
        {
          "output_type": "stream",
          "name": "stderr",
          "text": [
            "Epoch [502/3000]: 100%|██████████| 4/4 [00:00<00:00, 116.88it/s, loss=0.0977]\n"
          ]
        },
        {
          "output_type": "stream",
          "name": "stdout",
          "text": [
            "Epoch [502/3000]: Train loss: 0.1350, Valid loss: 0.1647\n"
          ]
        },
        {
          "output_type": "stream",
          "name": "stderr",
          "text": [
            "Epoch [503/3000]: 100%|██████████| 4/4 [00:00<00:00, 125.71it/s, loss=0.115]\n"
          ]
        },
        {
          "output_type": "stream",
          "name": "stdout",
          "text": [
            "Epoch [503/3000]: Train loss: 0.1368, Valid loss: 0.1662\n"
          ]
        },
        {
          "output_type": "stream",
          "name": "stderr",
          "text": [
            "Epoch [504/3000]: 100%|██████████| 4/4 [00:00<00:00, 126.54it/s, loss=0.114]\n"
          ]
        },
        {
          "output_type": "stream",
          "name": "stdout",
          "text": [
            "Epoch [504/3000]: Train loss: 0.1358, Valid loss: 0.1617\n",
            "Saving model with loss 0.162...\n"
          ]
        },
        {
          "output_type": "stream",
          "name": "stderr",
          "text": [
            "Epoch [505/3000]: 100%|██████████| 4/4 [00:00<00:00, 122.21it/s, loss=0.145]\n"
          ]
        },
        {
          "output_type": "stream",
          "name": "stdout",
          "text": [
            "Epoch [505/3000]: Train loss: 0.1433, Valid loss: 0.1633\n"
          ]
        },
        {
          "output_type": "stream",
          "name": "stderr",
          "text": [
            "Epoch [506/3000]: 100%|██████████| 4/4 [00:00<00:00, 116.37it/s, loss=0.154]\n"
          ]
        },
        {
          "output_type": "stream",
          "name": "stdout",
          "text": [
            "Epoch [506/3000]: Train loss: 0.1448, Valid loss: 0.1658\n"
          ]
        },
        {
          "output_type": "stream",
          "name": "stderr",
          "text": [
            "Epoch [507/3000]: 100%|██████████| 4/4 [00:00<00:00, 107.96it/s, loss=0.189]\n"
          ]
        },
        {
          "output_type": "stream",
          "name": "stdout",
          "text": [
            "Epoch [507/3000]: Train loss: 0.1542, Valid loss: 0.1638\n"
          ]
        },
        {
          "output_type": "stream",
          "name": "stderr",
          "text": [
            "Epoch [508/3000]: 100%|██████████| 4/4 [00:00<00:00, 121.78it/s, loss=0.136]\n"
          ]
        },
        {
          "output_type": "stream",
          "name": "stdout",
          "text": [
            "Epoch [508/3000]: Train loss: 0.1419, Valid loss: 0.1716\n"
          ]
        },
        {
          "output_type": "stream",
          "name": "stderr",
          "text": [
            "Epoch [509/3000]: 100%|██████████| 4/4 [00:00<00:00, 120.90it/s, loss=0.104]\n"
          ]
        },
        {
          "output_type": "stream",
          "name": "stdout",
          "text": [
            "Epoch [509/3000]: Train loss: 0.1343, Valid loss: 0.1637\n"
          ]
        },
        {
          "output_type": "stream",
          "name": "stderr",
          "text": [
            "Epoch [510/3000]: 100%|██████████| 4/4 [00:00<00:00, 113.30it/s, loss=0.159]\n"
          ]
        },
        {
          "output_type": "stream",
          "name": "stdout",
          "text": [
            "Epoch [510/3000]: Train loss: 0.1462, Valid loss: 0.1683\n"
          ]
        },
        {
          "output_type": "stream",
          "name": "stderr",
          "text": [
            "Epoch [511/3000]: 100%|██████████| 4/4 [00:00<00:00, 109.61it/s, loss=0.146]\n"
          ]
        },
        {
          "output_type": "stream",
          "name": "stdout",
          "text": [
            "Epoch [511/3000]: Train loss: 0.1429, Valid loss: 0.1673\n"
          ]
        },
        {
          "output_type": "stream",
          "name": "stderr",
          "text": [
            "Epoch [512/3000]: 100%|██████████| 4/4 [00:00<00:00, 97.86it/s, loss=0.101]\n"
          ]
        },
        {
          "output_type": "stream",
          "name": "stdout",
          "text": [
            "Epoch [512/3000]: Train loss: 0.1364, Valid loss: 0.1663\n"
          ]
        },
        {
          "output_type": "stream",
          "name": "stderr",
          "text": [
            "Epoch [513/3000]: 100%|██████████| 4/4 [00:00<00:00, 119.07it/s, loss=0.131]\n"
          ]
        },
        {
          "output_type": "stream",
          "name": "stdout",
          "text": [
            "Epoch [513/3000]: Train loss: 0.1411, Valid loss: 0.1570\n",
            "Saving model with loss 0.157...\n"
          ]
        },
        {
          "output_type": "stream",
          "name": "stderr",
          "text": [
            "Epoch [514/3000]: 100%|██████████| 4/4 [00:00<00:00, 119.59it/s, loss=0.141]\n"
          ]
        },
        {
          "output_type": "stream",
          "name": "stdout",
          "text": [
            "Epoch [514/3000]: Train loss: 0.1407, Valid loss: 0.1661\n"
          ]
        },
        {
          "output_type": "stream",
          "name": "stderr",
          "text": [
            "Epoch [515/3000]: 100%|██████████| 4/4 [00:00<00:00, 116.10it/s, loss=0.152]\n"
          ]
        },
        {
          "output_type": "stream",
          "name": "stdout",
          "text": [
            "Epoch [515/3000]: Train loss: 0.1462, Valid loss: 0.1674\n"
          ]
        },
        {
          "output_type": "stream",
          "name": "stderr",
          "text": [
            "Epoch [516/3000]: 100%|██████████| 4/4 [00:00<00:00, 120.97it/s, loss=0.109]\n"
          ]
        },
        {
          "output_type": "stream",
          "name": "stdout",
          "text": [
            "Epoch [516/3000]: Train loss: 0.1332, Valid loss: 0.1621\n"
          ]
        },
        {
          "output_type": "stream",
          "name": "stderr",
          "text": [
            "Epoch [517/3000]: 100%|██████████| 4/4 [00:00<00:00, 120.75it/s, loss=0.118]\n"
          ]
        },
        {
          "output_type": "stream",
          "name": "stdout",
          "text": [
            "Epoch [517/3000]: Train loss: 0.1366, Valid loss: 0.1593\n"
          ]
        },
        {
          "output_type": "stream",
          "name": "stderr",
          "text": [
            "Epoch [518/3000]: 100%|██████████| 4/4 [00:00<00:00, 114.74it/s, loss=0.114]\n"
          ]
        },
        {
          "output_type": "stream",
          "name": "stdout",
          "text": [
            "Epoch [518/3000]: Train loss: 0.1352, Valid loss: 0.1599\n"
          ]
        },
        {
          "output_type": "stream",
          "name": "stderr",
          "text": [
            "Epoch [519/3000]: 100%|██████████| 4/4 [00:00<00:00, 119.20it/s, loss=0.155]\n"
          ]
        },
        {
          "output_type": "stream",
          "name": "stdout",
          "text": [
            "Epoch [519/3000]: Train loss: 0.1429, Valid loss: 0.1622\n"
          ]
        },
        {
          "output_type": "stream",
          "name": "stderr",
          "text": [
            "Epoch [520/3000]: 100%|██████████| 4/4 [00:00<00:00, 114.08it/s, loss=0.103]\n"
          ]
        },
        {
          "output_type": "stream",
          "name": "stdout",
          "text": [
            "Epoch [520/3000]: Train loss: 0.1312, Valid loss: 0.1572\n"
          ]
        },
        {
          "output_type": "stream",
          "name": "stderr",
          "text": [
            "Epoch [521/3000]: 100%|██████████| 4/4 [00:00<00:00, 120.18it/s, loss=0.118]\n"
          ]
        },
        {
          "output_type": "stream",
          "name": "stdout",
          "text": [
            "Epoch [521/3000]: Train loss: 0.1347, Valid loss: 0.1567\n",
            "Saving model with loss 0.157...\n"
          ]
        },
        {
          "output_type": "stream",
          "name": "stderr",
          "text": [
            "Epoch [522/3000]: 100%|██████████| 4/4 [00:00<00:00, 112.29it/s, loss=0.151]\n"
          ]
        },
        {
          "output_type": "stream",
          "name": "stdout",
          "text": [
            "Epoch [522/3000]: Train loss: 0.1412, Valid loss: 0.1584\n"
          ]
        },
        {
          "output_type": "stream",
          "name": "stderr",
          "text": [
            "Epoch [523/3000]: 100%|██████████| 4/4 [00:00<00:00, 104.25it/s, loss=0.101]\n"
          ]
        },
        {
          "output_type": "stream",
          "name": "stdout",
          "text": [
            "Epoch [523/3000]: Train loss: 0.1298, Valid loss: 0.1588\n"
          ]
        },
        {
          "output_type": "stream",
          "name": "stderr",
          "text": [
            "Epoch [524/3000]: 100%|██████████| 4/4 [00:00<00:00, 129.21it/s, loss=0.101]\n"
          ]
        },
        {
          "output_type": "stream",
          "name": "stdout",
          "text": [
            "Epoch [524/3000]: Train loss: 0.1293, Valid loss: 0.1587\n"
          ]
        },
        {
          "output_type": "stream",
          "name": "stderr",
          "text": [
            "Epoch [525/3000]: 100%|██████████| 4/4 [00:00<00:00, 116.92it/s, loss=0.147]\n"
          ]
        },
        {
          "output_type": "stream",
          "name": "stdout",
          "text": [
            "Epoch [525/3000]: Train loss: 0.1392, Valid loss: 0.1567\n"
          ]
        },
        {
          "output_type": "stream",
          "name": "stderr",
          "text": [
            "Epoch [526/3000]: 100%|██████████| 4/4 [00:00<00:00, 109.79it/s, loss=0.093]\n"
          ]
        },
        {
          "output_type": "stream",
          "name": "stdout",
          "text": [
            "Epoch [526/3000]: Train loss: 0.1279, Valid loss: 0.1579\n"
          ]
        },
        {
          "output_type": "stream",
          "name": "stderr",
          "text": [
            "Epoch [527/3000]: 100%|██████████| 4/4 [00:00<00:00, 111.82it/s, loss=0.0868]\n"
          ]
        },
        {
          "output_type": "stream",
          "name": "stdout",
          "text": [
            "Epoch [527/3000]: Train loss: 0.1256, Valid loss: 0.1629\n"
          ]
        },
        {
          "output_type": "stream",
          "name": "stderr",
          "text": [
            "Epoch [528/3000]: 100%|██████████| 4/4 [00:00<00:00, 117.14it/s, loss=0.16]\n"
          ]
        },
        {
          "output_type": "stream",
          "name": "stdout",
          "text": [
            "Epoch [528/3000]: Train loss: 0.1423, Valid loss: 0.1589\n"
          ]
        },
        {
          "output_type": "stream",
          "name": "stderr",
          "text": [
            "Epoch [529/3000]: 100%|██████████| 4/4 [00:00<00:00, 125.73it/s, loss=0.138]\n"
          ]
        },
        {
          "output_type": "stream",
          "name": "stdout",
          "text": [
            "Epoch [529/3000]: Train loss: 0.1366, Valid loss: 0.1630\n"
          ]
        },
        {
          "output_type": "stream",
          "name": "stderr",
          "text": [
            "Epoch [530/3000]: 100%|██████████| 4/4 [00:00<00:00, 129.51it/s, loss=0.127]\n"
          ]
        },
        {
          "output_type": "stream",
          "name": "stdout",
          "text": [
            "Epoch [530/3000]: Train loss: 0.1346, Valid loss: 0.1614\n"
          ]
        },
        {
          "output_type": "stream",
          "name": "stderr",
          "text": [
            "Epoch [531/3000]: 100%|██████████| 4/4 [00:00<00:00, 118.83it/s, loss=0.151]\n"
          ]
        },
        {
          "output_type": "stream",
          "name": "stdout",
          "text": [
            "Epoch [531/3000]: Train loss: 0.1394, Valid loss: 0.1575\n"
          ]
        },
        {
          "output_type": "stream",
          "name": "stderr",
          "text": [
            "Epoch [532/3000]: 100%|██████████| 4/4 [00:00<00:00, 105.14it/s, loss=0.12]\n"
          ]
        },
        {
          "output_type": "stream",
          "name": "stdout",
          "text": [
            "Epoch [532/3000]: Train loss: 0.1324, Valid loss: 0.1575\n"
          ]
        },
        {
          "output_type": "stream",
          "name": "stderr",
          "text": [
            "Epoch [533/3000]: 100%|██████████| 4/4 [00:00<00:00, 119.24it/s, loss=0.123]\n"
          ]
        },
        {
          "output_type": "stream",
          "name": "stdout",
          "text": [
            "Epoch [533/3000]: Train loss: 0.1351, Valid loss: 0.1553\n",
            "Saving model with loss 0.155...\n"
          ]
        },
        {
          "output_type": "stream",
          "name": "stderr",
          "text": [
            "Epoch [534/3000]: 100%|██████████| 4/4 [00:00<00:00, 120.34it/s, loss=0.152]\n"
          ]
        },
        {
          "output_type": "stream",
          "name": "stdout",
          "text": [
            "Epoch [534/3000]: Train loss: 0.1393, Valid loss: 0.1577\n"
          ]
        },
        {
          "output_type": "stream",
          "name": "stderr",
          "text": [
            "Epoch [535/3000]: 100%|██████████| 4/4 [00:00<00:00, 78.48it/s, loss=0.162]\n"
          ]
        },
        {
          "output_type": "stream",
          "name": "stdout",
          "text": [
            "Epoch [535/3000]: Train loss: 0.1421, Valid loss: 0.1595\n"
          ]
        },
        {
          "output_type": "stream",
          "name": "stderr",
          "text": [
            "Epoch [536/3000]: 100%|██████████| 4/4 [00:00<00:00, 90.38it/s, loss=0.0913]\n"
          ]
        },
        {
          "output_type": "stream",
          "name": "stdout",
          "text": [
            "Epoch [536/3000]: Train loss: 0.1269, Valid loss: 0.1532\n",
            "Saving model with loss 0.153...\n"
          ]
        },
        {
          "output_type": "stream",
          "name": "stderr",
          "text": [
            "Epoch [537/3000]: 100%|██████████| 4/4 [00:00<00:00, 105.02it/s, loss=0.131]\n"
          ]
        },
        {
          "output_type": "stream",
          "name": "stdout",
          "text": [
            "Epoch [537/3000]: Train loss: 0.1366, Valid loss: 0.1541\n"
          ]
        },
        {
          "output_type": "stream",
          "name": "stderr",
          "text": [
            "Epoch [538/3000]: 100%|██████████| 4/4 [00:00<00:00, 119.66it/s, loss=0.0911]\n"
          ]
        },
        {
          "output_type": "stream",
          "name": "stdout",
          "text": [
            "Epoch [538/3000]: Train loss: 0.1257, Valid loss: 0.1701\n"
          ]
        },
        {
          "output_type": "stream",
          "name": "stderr",
          "text": [
            "Epoch [539/3000]: 100%|██████████| 4/4 [00:00<00:00, 117.76it/s, loss=0.146]\n"
          ]
        },
        {
          "output_type": "stream",
          "name": "stdout",
          "text": [
            "Epoch [539/3000]: Train loss: 0.1399, Valid loss: 0.1576\n"
          ]
        },
        {
          "output_type": "stream",
          "name": "stderr",
          "text": [
            "Epoch [540/3000]: 100%|██████████| 4/4 [00:00<00:00, 57.81it/s, loss=0.111]\n"
          ]
        },
        {
          "output_type": "stream",
          "name": "stdout",
          "text": [
            "Epoch [540/3000]: Train loss: 0.1293, Valid loss: 0.1538\n"
          ]
        },
        {
          "output_type": "stream",
          "name": "stderr",
          "text": [
            "Epoch [541/3000]: 100%|██████████| 4/4 [00:00<00:00, 26.79it/s, loss=0.141]\n"
          ]
        },
        {
          "output_type": "stream",
          "name": "stdout",
          "text": [
            "Epoch [541/3000]: Train loss: 0.1358, Valid loss: 0.1546\n"
          ]
        },
        {
          "output_type": "stream",
          "name": "stderr",
          "text": [
            "Epoch [542/3000]: 100%|██████████| 4/4 [00:00<00:00, 107.18it/s, loss=0.153]\n"
          ]
        },
        {
          "output_type": "stream",
          "name": "stdout",
          "text": [
            "Epoch [542/3000]: Train loss: 0.1378, Valid loss: 0.1529\n",
            "Saving model with loss 0.153...\n"
          ]
        },
        {
          "output_type": "stream",
          "name": "stderr",
          "text": [
            "Epoch [543/3000]: 100%|██████████| 4/4 [00:00<00:00, 113.68it/s, loss=0.116]\n"
          ]
        },
        {
          "output_type": "stream",
          "name": "stdout",
          "text": [
            "Epoch [543/3000]: Train loss: 0.1312, Valid loss: 0.1509\n",
            "Saving model with loss 0.151...\n"
          ]
        },
        {
          "output_type": "stream",
          "name": "stderr",
          "text": [
            "Epoch [544/3000]: 100%|██████████| 4/4 [00:00<00:00, 106.28it/s, loss=0.116]\n"
          ]
        },
        {
          "output_type": "stream",
          "name": "stdout",
          "text": [
            "Epoch [544/3000]: Train loss: 0.1300, Valid loss: 0.1556\n"
          ]
        },
        {
          "output_type": "stream",
          "name": "stderr",
          "text": [
            "Epoch [545/3000]: 100%|██████████| 4/4 [00:00<00:00, 88.85it/s, loss=0.135]\n"
          ]
        },
        {
          "output_type": "stream",
          "name": "stdout",
          "text": [
            "Epoch [545/3000]: Train loss: 0.1335, Valid loss: 0.1491\n",
            "Saving model with loss 0.149...\n"
          ]
        },
        {
          "output_type": "stream",
          "name": "stderr",
          "text": [
            "Epoch [546/3000]: 100%|██████████| 4/4 [00:00<00:00, 107.69it/s, loss=0.135]\n"
          ]
        },
        {
          "output_type": "stream",
          "name": "stdout",
          "text": [
            "Epoch [546/3000]: Train loss: 0.1343, Valid loss: 0.1504\n"
          ]
        },
        {
          "output_type": "stream",
          "name": "stderr",
          "text": [
            "Epoch [547/3000]: 100%|██████████| 4/4 [00:00<00:00, 98.10it/s, loss=0.126]\n"
          ]
        },
        {
          "output_type": "stream",
          "name": "stdout",
          "text": [
            "Epoch [547/3000]: Train loss: 0.1317, Valid loss: 0.1539\n"
          ]
        },
        {
          "output_type": "stream",
          "name": "stderr",
          "text": [
            "Epoch [548/3000]: 100%|██████████| 4/4 [00:00<00:00, 98.48it/s, loss=0.125]\n"
          ]
        },
        {
          "output_type": "stream",
          "name": "stdout",
          "text": [
            "Epoch [548/3000]: Train loss: 0.1308, Valid loss: 0.1571\n"
          ]
        },
        {
          "output_type": "stream",
          "name": "stderr",
          "text": [
            "Epoch [549/3000]: 100%|██████████| 4/4 [00:00<00:00, 98.11it/s, loss=0.145]\n"
          ]
        },
        {
          "output_type": "stream",
          "name": "stdout",
          "text": [
            "Epoch [549/3000]: Train loss: 0.1364, Valid loss: 0.1558\n"
          ]
        },
        {
          "output_type": "stream",
          "name": "stderr",
          "text": [
            "Epoch [550/3000]: 100%|██████████| 4/4 [00:00<00:00, 83.68it/s, loss=0.138]\n"
          ]
        },
        {
          "output_type": "stream",
          "name": "stdout",
          "text": [
            "Epoch [550/3000]: Train loss: 0.1341, Valid loss: 0.1509\n"
          ]
        },
        {
          "output_type": "stream",
          "name": "stderr",
          "text": [
            "Epoch [551/3000]: 100%|██████████| 4/4 [00:00<00:00, 84.41it/s, loss=0.12]\n"
          ]
        },
        {
          "output_type": "stream",
          "name": "stdout",
          "text": [
            "Epoch [551/3000]: Train loss: 0.1303, Valid loss: 0.1547\n"
          ]
        },
        {
          "output_type": "stream",
          "name": "stderr",
          "text": [
            "Epoch [552/3000]: 100%|██████████| 4/4 [00:00<00:00, 91.23it/s, loss=0.0973]\n"
          ]
        },
        {
          "output_type": "stream",
          "name": "stdout",
          "text": [
            "Epoch [552/3000]: Train loss: 0.1257, Valid loss: 0.1545\n"
          ]
        },
        {
          "output_type": "stream",
          "name": "stderr",
          "text": [
            "Epoch [553/3000]: 100%|██████████| 4/4 [00:00<00:00, 84.84it/s, loss=0.0807]\n"
          ]
        },
        {
          "output_type": "stream",
          "name": "stdout",
          "text": [
            "Epoch [553/3000]: Train loss: 0.1208, Valid loss: 0.1513\n"
          ]
        },
        {
          "output_type": "stream",
          "name": "stderr",
          "text": [
            "Epoch [554/3000]: 100%|██████████| 4/4 [00:00<00:00, 101.37it/s, loss=0.19]\n"
          ]
        },
        {
          "output_type": "stream",
          "name": "stdout",
          "text": [
            "Epoch [554/3000]: Train loss: 0.1460, Valid loss: 0.1483\n",
            "Saving model with loss 0.148...\n"
          ]
        },
        {
          "output_type": "stream",
          "name": "stderr",
          "text": [
            "Epoch [555/3000]: 100%|██████████| 4/4 [00:00<00:00, 107.39it/s, loss=0.16]\n"
          ]
        },
        {
          "output_type": "stream",
          "name": "stdout",
          "text": [
            "Epoch [555/3000]: Train loss: 0.1378, Valid loss: 0.1633\n"
          ]
        },
        {
          "output_type": "stream",
          "name": "stderr",
          "text": [
            "Epoch [556/3000]: 100%|██████████| 4/4 [00:00<00:00, 101.43it/s, loss=0.11]\n"
          ]
        },
        {
          "output_type": "stream",
          "name": "stdout",
          "text": [
            "Epoch [556/3000]: Train loss: 0.1321, Valid loss: 0.1588\n"
          ]
        },
        {
          "output_type": "stream",
          "name": "stderr",
          "text": [
            "Epoch [557/3000]: 100%|██████████| 4/4 [00:00<00:00, 104.30it/s, loss=0.13]\n"
          ]
        },
        {
          "output_type": "stream",
          "name": "stdout",
          "text": [
            "Epoch [557/3000]: Train loss: 0.1322, Valid loss: 0.1481\n",
            "Saving model with loss 0.148...\n"
          ]
        },
        {
          "output_type": "stream",
          "name": "stderr",
          "text": [
            "Epoch [558/3000]: 100%|██████████| 4/4 [00:00<00:00, 101.26it/s, loss=0.0894]\n"
          ]
        },
        {
          "output_type": "stream",
          "name": "stdout",
          "text": [
            "Epoch [558/3000]: Train loss: 0.1267, Valid loss: 0.1496\n"
          ]
        },
        {
          "output_type": "stream",
          "name": "stderr",
          "text": [
            "Epoch [559/3000]: 100%|██████████| 4/4 [00:00<00:00, 115.65it/s, loss=0.163]\n"
          ]
        },
        {
          "output_type": "stream",
          "name": "stdout",
          "text": [
            "Epoch [559/3000]: Train loss: 0.1396, Valid loss: 0.1559\n"
          ]
        },
        {
          "output_type": "stream",
          "name": "stderr",
          "text": [
            "Epoch [560/3000]: 100%|██████████| 4/4 [00:00<00:00, 108.55it/s, loss=0.138]\n"
          ]
        },
        {
          "output_type": "stream",
          "name": "stdout",
          "text": [
            "Epoch [560/3000]: Train loss: 0.1334, Valid loss: 0.1486\n"
          ]
        },
        {
          "output_type": "stream",
          "name": "stderr",
          "text": [
            "Epoch [561/3000]: 100%|██████████| 4/4 [00:00<00:00, 106.36it/s, loss=0.129]\n"
          ]
        },
        {
          "output_type": "stream",
          "name": "stdout",
          "text": [
            "Epoch [561/3000]: Train loss: 0.1310, Valid loss: 0.1501\n"
          ]
        },
        {
          "output_type": "stream",
          "name": "stderr",
          "text": [
            "Epoch [562/3000]: 100%|██████████| 4/4 [00:00<00:00, 101.98it/s, loss=0.11]\n"
          ]
        },
        {
          "output_type": "stream",
          "name": "stdout",
          "text": [
            "Epoch [562/3000]: Train loss: 0.1278, Valid loss: 0.1554\n"
          ]
        },
        {
          "output_type": "stream",
          "name": "stderr",
          "text": [
            "Epoch [563/3000]: 100%|██████████| 4/4 [00:00<00:00, 93.21it/s, loss=0.127]\n"
          ]
        },
        {
          "output_type": "stream",
          "name": "stdout",
          "text": [
            "Epoch [563/3000]: Train loss: 0.1324, Valid loss: 0.1518\n"
          ]
        },
        {
          "output_type": "stream",
          "name": "stderr",
          "text": [
            "Epoch [564/3000]: 100%|██████████| 4/4 [00:00<00:00, 102.12it/s, loss=0.162]\n"
          ]
        },
        {
          "output_type": "stream",
          "name": "stdout",
          "text": [
            "Epoch [564/3000]: Train loss: 0.1372, Valid loss: 0.1534\n"
          ]
        },
        {
          "output_type": "stream",
          "name": "stderr",
          "text": [
            "Epoch [565/3000]: 100%|██████████| 4/4 [00:00<00:00, 95.78it/s, loss=0.158]\n"
          ]
        },
        {
          "output_type": "stream",
          "name": "stdout",
          "text": [
            "Epoch [565/3000]: Train loss: 0.1369, Valid loss: 0.1490\n"
          ]
        },
        {
          "output_type": "stream",
          "name": "stderr",
          "text": [
            "Epoch [566/3000]: 100%|██████████| 4/4 [00:00<00:00, 94.87it/s, loss=0.116]\n"
          ]
        },
        {
          "output_type": "stream",
          "name": "stdout",
          "text": [
            "Epoch [566/3000]: Train loss: 0.1266, Valid loss: 0.1497\n"
          ]
        },
        {
          "output_type": "stream",
          "name": "stderr",
          "text": [
            "Epoch [567/3000]: 100%|██████████| 4/4 [00:00<00:00, 87.19it/s, loss=0.127]\n"
          ]
        },
        {
          "output_type": "stream",
          "name": "stdout",
          "text": [
            "Epoch [567/3000]: Train loss: 0.1291, Valid loss: 0.1532\n"
          ]
        },
        {
          "output_type": "stream",
          "name": "stderr",
          "text": [
            "Epoch [568/3000]: 100%|██████████| 4/4 [00:00<00:00, 87.86it/s, loss=0.156]\n"
          ]
        },
        {
          "output_type": "stream",
          "name": "stdout",
          "text": [
            "Epoch [568/3000]: Train loss: 0.1356, Valid loss: 0.1498\n"
          ]
        },
        {
          "output_type": "stream",
          "name": "stderr",
          "text": [
            "Epoch [569/3000]: 100%|██████████| 4/4 [00:00<00:00, 99.49it/s, loss=0.118]\n"
          ]
        },
        {
          "output_type": "stream",
          "name": "stdout",
          "text": [
            "Epoch [569/3000]: Train loss: 0.1269, Valid loss: 0.1476\n",
            "Saving model with loss 0.148...\n"
          ]
        },
        {
          "output_type": "stream",
          "name": "stderr",
          "text": [
            "Epoch [570/3000]: 100%|██████████| 4/4 [00:00<00:00, 93.40it/s, loss=0.109]\n"
          ]
        },
        {
          "output_type": "stream",
          "name": "stdout",
          "text": [
            "Epoch [570/3000]: Train loss: 0.1252, Valid loss: 0.1488\n"
          ]
        },
        {
          "output_type": "stream",
          "name": "stderr",
          "text": [
            "Epoch [571/3000]: 100%|██████████| 4/4 [00:00<00:00, 85.27it/s, loss=0.117]\n"
          ]
        },
        {
          "output_type": "stream",
          "name": "stdout",
          "text": [
            "Epoch [571/3000]: Train loss: 0.1267, Valid loss: 0.1498\n"
          ]
        },
        {
          "output_type": "stream",
          "name": "stderr",
          "text": [
            "Epoch [572/3000]: 100%|██████████| 4/4 [00:00<00:00, 102.69it/s, loss=0.111]\n"
          ]
        },
        {
          "output_type": "stream",
          "name": "stdout",
          "text": [
            "Epoch [572/3000]: Train loss: 0.1249, Valid loss: 0.1477\n"
          ]
        },
        {
          "output_type": "stream",
          "name": "stderr",
          "text": [
            "Epoch [573/3000]: 100%|██████████| 4/4 [00:00<00:00, 85.56it/s, loss=0.159]\n"
          ]
        },
        {
          "output_type": "stream",
          "name": "stdout",
          "text": [
            "Epoch [573/3000]: Train loss: 0.1346, Valid loss: 0.1446\n",
            "Saving model with loss 0.145...\n"
          ]
        },
        {
          "output_type": "stream",
          "name": "stderr",
          "text": [
            "Epoch [574/3000]: 100%|██████████| 4/4 [00:00<00:00, 101.91it/s, loss=0.0815]\n"
          ]
        },
        {
          "output_type": "stream",
          "name": "stdout",
          "text": [
            "Epoch [574/3000]: Train loss: 0.1188, Valid loss: 0.1446\n"
          ]
        },
        {
          "output_type": "stream",
          "name": "stderr",
          "text": [
            "Epoch [575/3000]: 100%|██████████| 4/4 [00:00<00:00, 101.98it/s, loss=0.145]\n"
          ]
        },
        {
          "output_type": "stream",
          "name": "stdout",
          "text": [
            "Epoch [575/3000]: Train loss: 0.1326, Valid loss: 0.1537\n"
          ]
        },
        {
          "output_type": "stream",
          "name": "stderr",
          "text": [
            "Epoch [576/3000]: 100%|██████████| 4/4 [00:00<00:00, 104.35it/s, loss=0.15]\n"
          ]
        },
        {
          "output_type": "stream",
          "name": "stdout",
          "text": [
            "Epoch [576/3000]: Train loss: 0.1334, Valid loss: 0.1453\n"
          ]
        },
        {
          "output_type": "stream",
          "name": "stderr",
          "text": [
            "Epoch [577/3000]: 100%|██████████| 4/4 [00:00<00:00, 102.11it/s, loss=0.139]\n"
          ]
        },
        {
          "output_type": "stream",
          "name": "stdout",
          "text": [
            "Epoch [577/3000]: Train loss: 0.1309, Valid loss: 0.1428\n",
            "Saving model with loss 0.143...\n"
          ]
        },
        {
          "output_type": "stream",
          "name": "stderr",
          "text": [
            "Epoch [578/3000]: 100%|██████████| 4/4 [00:00<00:00, 103.74it/s, loss=0.223]\n"
          ]
        },
        {
          "output_type": "stream",
          "name": "stdout",
          "text": [
            "Epoch [578/3000]: Train loss: 0.1495, Valid loss: 0.1474\n"
          ]
        },
        {
          "output_type": "stream",
          "name": "stderr",
          "text": [
            "Epoch [579/3000]: 100%|██████████| 4/4 [00:00<00:00, 114.06it/s, loss=0.0872]\n"
          ]
        },
        {
          "output_type": "stream",
          "name": "stdout",
          "text": [
            "Epoch [579/3000]: Train loss: 0.1190, Valid loss: 0.1494\n"
          ]
        },
        {
          "output_type": "stream",
          "name": "stderr",
          "text": [
            "Epoch [580/3000]: 100%|██████████| 4/4 [00:00<00:00, 70.49it/s, loss=0.199]\n"
          ]
        },
        {
          "output_type": "stream",
          "name": "stdout",
          "text": [
            "Epoch [580/3000]: Train loss: 0.1441, Valid loss: 0.1458\n"
          ]
        },
        {
          "output_type": "stream",
          "name": "stderr",
          "text": [
            "Epoch [581/3000]: 100%|██████████| 4/4 [00:00<00:00, 106.55it/s, loss=0.104]\n"
          ]
        },
        {
          "output_type": "stream",
          "name": "stdout",
          "text": [
            "Epoch [581/3000]: Train loss: 0.1224, Valid loss: 0.1484\n"
          ]
        },
        {
          "output_type": "stream",
          "name": "stderr",
          "text": [
            "Epoch [582/3000]: 100%|██████████| 4/4 [00:00<00:00, 108.40it/s, loss=0.134]\n"
          ]
        },
        {
          "output_type": "stream",
          "name": "stdout",
          "text": [
            "Epoch [582/3000]: Train loss: 0.1297, Valid loss: 0.1449\n"
          ]
        },
        {
          "output_type": "stream",
          "name": "stderr",
          "text": [
            "Epoch [583/3000]: 100%|██████████| 4/4 [00:00<00:00, 104.49it/s, loss=0.128]\n"
          ]
        },
        {
          "output_type": "stream",
          "name": "stdout",
          "text": [
            "Epoch [583/3000]: Train loss: 0.1276, Valid loss: 0.1511\n"
          ]
        },
        {
          "output_type": "stream",
          "name": "stderr",
          "text": [
            "Epoch [584/3000]: 100%|██████████| 4/4 [00:00<00:00, 110.09it/s, loss=0.141]\n"
          ]
        },
        {
          "output_type": "stream",
          "name": "stdout",
          "text": [
            "Epoch [584/3000]: Train loss: 0.1314, Valid loss: 0.1471\n"
          ]
        },
        {
          "output_type": "stream",
          "name": "stderr",
          "text": [
            "Epoch [585/3000]: 100%|██████████| 4/4 [00:00<00:00, 95.09it/s, loss=0.0769]\n"
          ]
        },
        {
          "output_type": "stream",
          "name": "stdout",
          "text": [
            "Epoch [585/3000]: Train loss: 0.1172, Valid loss: 0.1475\n"
          ]
        },
        {
          "output_type": "stream",
          "name": "stderr",
          "text": [
            "Epoch [586/3000]: 100%|██████████| 4/4 [00:00<00:00, 104.61it/s, loss=0.106]\n"
          ]
        },
        {
          "output_type": "stream",
          "name": "stdout",
          "text": [
            "Epoch [586/3000]: Train loss: 0.1237, Valid loss: 0.1428\n"
          ]
        },
        {
          "output_type": "stream",
          "name": "stderr",
          "text": [
            "Epoch [587/3000]: 100%|██████████| 4/4 [00:00<00:00, 102.57it/s, loss=0.105]\n"
          ]
        },
        {
          "output_type": "stream",
          "name": "stdout",
          "text": [
            "Epoch [587/3000]: Train loss: 0.1225, Valid loss: 0.1450\n"
          ]
        },
        {
          "output_type": "stream",
          "name": "stderr",
          "text": [
            "Epoch [588/3000]: 100%|██████████| 4/4 [00:00<00:00, 106.77it/s, loss=0.116]\n"
          ]
        },
        {
          "output_type": "stream",
          "name": "stdout",
          "text": [
            "Epoch [588/3000]: Train loss: 0.1251, Valid loss: 0.1436\n"
          ]
        },
        {
          "output_type": "stream",
          "name": "stderr",
          "text": [
            "Epoch [589/3000]: 100%|██████████| 4/4 [00:00<00:00, 111.43it/s, loss=0.162]\n"
          ]
        },
        {
          "output_type": "stream",
          "name": "stdout",
          "text": [
            "Epoch [589/3000]: Train loss: 0.1345, Valid loss: 0.1472\n"
          ]
        },
        {
          "output_type": "stream",
          "name": "stderr",
          "text": [
            "Epoch [590/3000]: 100%|██████████| 4/4 [00:00<00:00, 99.08it/s, loss=0.0908]\n"
          ]
        },
        {
          "output_type": "stream",
          "name": "stdout",
          "text": [
            "Epoch [590/3000]: Train loss: 0.1186, Valid loss: 0.1436\n"
          ]
        },
        {
          "output_type": "stream",
          "name": "stderr",
          "text": [
            "Epoch [591/3000]: 100%|██████████| 4/4 [00:00<00:00, 82.38it/s, loss=0.121]\n"
          ]
        },
        {
          "output_type": "stream",
          "name": "stdout",
          "text": [
            "Epoch [591/3000]: Train loss: 0.1253, Valid loss: 0.1441\n"
          ]
        },
        {
          "output_type": "stream",
          "name": "stderr",
          "text": [
            "Epoch [592/3000]: 100%|██████████| 4/4 [00:00<00:00, 97.19it/s, loss=0.169]\n"
          ]
        },
        {
          "output_type": "stream",
          "name": "stdout",
          "text": [
            "Epoch [592/3000]: Train loss: 0.1356, Valid loss: 0.1444\n"
          ]
        },
        {
          "output_type": "stream",
          "name": "stderr",
          "text": [
            "Epoch [593/3000]: 100%|██████████| 4/4 [00:00<00:00, 94.37it/s, loss=0.123]\n"
          ]
        },
        {
          "output_type": "stream",
          "name": "stdout",
          "text": [
            "Epoch [593/3000]: Train loss: 0.1254, Valid loss: 0.1479\n"
          ]
        },
        {
          "output_type": "stream",
          "name": "stderr",
          "text": [
            "Epoch [594/3000]: 100%|██████████| 4/4 [00:00<00:00, 75.70it/s, loss=0.141]\n"
          ]
        },
        {
          "output_type": "stream",
          "name": "stdout",
          "text": [
            "Epoch [594/3000]: Train loss: 0.1292, Valid loss: 0.1455\n"
          ]
        },
        {
          "output_type": "stream",
          "name": "stderr",
          "text": [
            "Epoch [595/3000]: 100%|██████████| 4/4 [00:00<00:00, 101.64it/s, loss=0.111]\n"
          ]
        },
        {
          "output_type": "stream",
          "name": "stdout",
          "text": [
            "Epoch [595/3000]: Train loss: 0.1230, Valid loss: 0.1428\n",
            "Saving model with loss 0.143...\n"
          ]
        },
        {
          "output_type": "stream",
          "name": "stderr",
          "text": [
            "Epoch [596/3000]: 100%|██████████| 4/4 [00:00<00:00, 100.26it/s, loss=0.0936]\n"
          ]
        },
        {
          "output_type": "stream",
          "name": "stdout",
          "text": [
            "Epoch [596/3000]: Train loss: 0.1190, Valid loss: 0.1474\n"
          ]
        },
        {
          "output_type": "stream",
          "name": "stderr",
          "text": [
            "Epoch [597/3000]: 100%|██████████| 4/4 [00:00<00:00, 122.12it/s, loss=0.1]\n"
          ]
        },
        {
          "output_type": "stream",
          "name": "stdout",
          "text": [
            "Epoch [597/3000]: Train loss: 0.1198, Valid loss: 0.1423\n",
            "Saving model with loss 0.142...\n"
          ]
        },
        {
          "output_type": "stream",
          "name": "stderr",
          "text": [
            "Epoch [598/3000]: 100%|██████████| 4/4 [00:00<00:00, 105.17it/s, loss=0.0942]\n"
          ]
        },
        {
          "output_type": "stream",
          "name": "stdout",
          "text": [
            "Epoch [598/3000]: Train loss: 0.1181, Valid loss: 0.1442\n"
          ]
        },
        {
          "output_type": "stream",
          "name": "stderr",
          "text": [
            "Epoch [599/3000]: 100%|██████████| 4/4 [00:00<00:00, 106.56it/s, loss=0.119]\n"
          ]
        },
        {
          "output_type": "stream",
          "name": "stdout",
          "text": [
            "Epoch [599/3000]: Train loss: 0.1232, Valid loss: 0.1435\n"
          ]
        },
        {
          "output_type": "stream",
          "name": "stderr",
          "text": [
            "Epoch [600/3000]: 100%|██████████| 4/4 [00:00<00:00, 97.69it/s, loss=0.163]\n"
          ]
        },
        {
          "output_type": "stream",
          "name": "stdout",
          "text": [
            "Epoch [600/3000]: Train loss: 0.1331, Valid loss: 0.1390\n",
            "Saving model with loss 0.139...\n"
          ]
        },
        {
          "output_type": "stream",
          "name": "stderr",
          "text": [
            "Epoch [601/3000]: 100%|██████████| 4/4 [00:00<00:00, 103.62it/s, loss=0.189]\n"
          ]
        },
        {
          "output_type": "stream",
          "name": "stdout",
          "text": [
            "Epoch [601/3000]: Train loss: 0.1403, Valid loss: 0.1387\n",
            "Saving model with loss 0.139...\n"
          ]
        },
        {
          "output_type": "stream",
          "name": "stderr",
          "text": [
            "Epoch [602/3000]: 100%|██████████| 4/4 [00:00<00:00, 96.45it/s, loss=0.111]\n"
          ]
        },
        {
          "output_type": "stream",
          "name": "stdout",
          "text": [
            "Epoch [602/3000]: Train loss: 0.1229, Valid loss: 0.1432\n"
          ]
        },
        {
          "output_type": "stream",
          "name": "stderr",
          "text": [
            "Epoch [603/3000]: 100%|██████████| 4/4 [00:00<00:00, 101.04it/s, loss=0.0749]\n"
          ]
        },
        {
          "output_type": "stream",
          "name": "stdout",
          "text": [
            "Epoch [603/3000]: Train loss: 0.1129, Valid loss: 0.1445\n"
          ]
        },
        {
          "output_type": "stream",
          "name": "stderr",
          "text": [
            "Epoch [604/3000]: 100%|██████████| 4/4 [00:00<00:00, 110.90it/s, loss=0.148]\n"
          ]
        },
        {
          "output_type": "stream",
          "name": "stdout",
          "text": [
            "Epoch [604/3000]: Train loss: 0.1308, Valid loss: 0.1448\n"
          ]
        },
        {
          "output_type": "stream",
          "name": "stderr",
          "text": [
            "Epoch [605/3000]: 100%|██████████| 4/4 [00:00<00:00, 105.52it/s, loss=0.102]\n"
          ]
        },
        {
          "output_type": "stream",
          "name": "stdout",
          "text": [
            "Epoch [605/3000]: Train loss: 0.1197, Valid loss: 0.1422\n"
          ]
        },
        {
          "output_type": "stream",
          "name": "stderr",
          "text": [
            "Epoch [606/3000]: 100%|██████████| 4/4 [00:00<00:00, 93.75it/s, loss=0.167]\n"
          ]
        },
        {
          "output_type": "stream",
          "name": "stdout",
          "text": [
            "Epoch [606/3000]: Train loss: 0.1331, Valid loss: 0.1390\n"
          ]
        },
        {
          "output_type": "stream",
          "name": "stderr",
          "text": [
            "Epoch [607/3000]: 100%|██████████| 4/4 [00:00<00:00, 99.03it/s, loss=0.113]\n"
          ]
        },
        {
          "output_type": "stream",
          "name": "stdout",
          "text": [
            "Epoch [607/3000]: Train loss: 0.1253, Valid loss: 0.1411\n"
          ]
        },
        {
          "output_type": "stream",
          "name": "stderr",
          "text": [
            "Epoch [608/3000]: 100%|██████████| 4/4 [00:00<00:00, 94.53it/s, loss=0.118]\n"
          ]
        },
        {
          "output_type": "stream",
          "name": "stdout",
          "text": [
            "Epoch [608/3000]: Train loss: 0.1247, Valid loss: 0.1443\n"
          ]
        },
        {
          "output_type": "stream",
          "name": "stderr",
          "text": [
            "Epoch [609/3000]: 100%|██████████| 4/4 [00:00<00:00, 103.08it/s, loss=0.17]\n"
          ]
        },
        {
          "output_type": "stream",
          "name": "stdout",
          "text": [
            "Epoch [609/3000]: Train loss: 0.1361, Valid loss: 0.1425\n"
          ]
        },
        {
          "output_type": "stream",
          "name": "stderr",
          "text": [
            "Epoch [610/3000]: 100%|██████████| 4/4 [00:00<00:00, 106.99it/s, loss=0.131]\n"
          ]
        },
        {
          "output_type": "stream",
          "name": "stdout",
          "text": [
            "Epoch [610/3000]: Train loss: 0.1287, Valid loss: 0.1433\n"
          ]
        },
        {
          "output_type": "stream",
          "name": "stderr",
          "text": [
            "Epoch [611/3000]: 100%|██████████| 4/4 [00:00<00:00, 97.24it/s, loss=0.107]\n"
          ]
        },
        {
          "output_type": "stream",
          "name": "stdout",
          "text": [
            "Epoch [611/3000]: Train loss: 0.1230, Valid loss: 0.1436\n"
          ]
        },
        {
          "output_type": "stream",
          "name": "stderr",
          "text": [
            "Epoch [612/3000]: 100%|██████████| 4/4 [00:00<00:00, 101.67it/s, loss=0.159]\n"
          ]
        },
        {
          "output_type": "stream",
          "name": "stdout",
          "text": [
            "Epoch [612/3000]: Train loss: 0.1322, Valid loss: 0.1416\n"
          ]
        },
        {
          "output_type": "stream",
          "name": "stderr",
          "text": [
            "Epoch [613/3000]: 100%|██████████| 4/4 [00:00<00:00, 108.08it/s, loss=0.146]\n"
          ]
        },
        {
          "output_type": "stream",
          "name": "stdout",
          "text": [
            "Epoch [613/3000]: Train loss: 0.1311, Valid loss: 0.1445\n"
          ]
        },
        {
          "output_type": "stream",
          "name": "stderr",
          "text": [
            "Epoch [614/3000]: 100%|██████████| 4/4 [00:00<00:00, 114.84it/s, loss=0.111]\n"
          ]
        },
        {
          "output_type": "stream",
          "name": "stdout",
          "text": [
            "Epoch [614/3000]: Train loss: 0.1208, Valid loss: 0.1387\n",
            "Saving model with loss 0.139...\n"
          ]
        },
        {
          "output_type": "stream",
          "name": "stderr",
          "text": [
            "Epoch [615/3000]: 100%|██████████| 4/4 [00:00<00:00, 99.60it/s, loss=0.132]\n"
          ]
        },
        {
          "output_type": "stream",
          "name": "stdout",
          "text": [
            "Epoch [615/3000]: Train loss: 0.1259, Valid loss: 0.1400\n"
          ]
        },
        {
          "output_type": "stream",
          "name": "stderr",
          "text": [
            "Epoch [616/3000]: 100%|██████████| 4/4 [00:00<00:00, 100.12it/s, loss=0.0885]\n"
          ]
        },
        {
          "output_type": "stream",
          "name": "stdout",
          "text": [
            "Epoch [616/3000]: Train loss: 0.1207, Valid loss: 0.1357\n",
            "Saving model with loss 0.136...\n"
          ]
        },
        {
          "output_type": "stream",
          "name": "stderr",
          "text": [
            "Epoch [617/3000]: 100%|██████████| 4/4 [00:00<00:00, 108.73it/s, loss=0.135]\n"
          ]
        },
        {
          "output_type": "stream",
          "name": "stdout",
          "text": [
            "Epoch [617/3000]: Train loss: 0.1269, Valid loss: 0.1446\n"
          ]
        },
        {
          "output_type": "stream",
          "name": "stderr",
          "text": [
            "Epoch [618/3000]: 100%|██████████| 4/4 [00:00<00:00, 108.43it/s, loss=0.0771]\n"
          ]
        },
        {
          "output_type": "stream",
          "name": "stdout",
          "text": [
            "Epoch [618/3000]: Train loss: 0.1141, Valid loss: 0.1426\n"
          ]
        },
        {
          "output_type": "stream",
          "name": "stderr",
          "text": [
            "Epoch [619/3000]: 100%|██████████| 4/4 [00:00<00:00, 94.07it/s, loss=0.162]\n"
          ]
        },
        {
          "output_type": "stream",
          "name": "stdout",
          "text": [
            "Epoch [619/3000]: Train loss: 0.1305, Valid loss: 0.1377\n"
          ]
        },
        {
          "output_type": "stream",
          "name": "stderr",
          "text": [
            "Epoch [620/3000]: 100%|██████████| 4/4 [00:00<00:00, 95.27it/s, loss=0.0934]\n"
          ]
        },
        {
          "output_type": "stream",
          "name": "stdout",
          "text": [
            "Epoch [620/3000]: Train loss: 0.1164, Valid loss: 0.1386\n"
          ]
        },
        {
          "output_type": "stream",
          "name": "stderr",
          "text": [
            "Epoch [621/3000]: 100%|██████████| 4/4 [00:00<00:00, 110.58it/s, loss=0.128]\n"
          ]
        },
        {
          "output_type": "stream",
          "name": "stdout",
          "text": [
            "Epoch [621/3000]: Train loss: 0.1234, Valid loss: 0.1405\n"
          ]
        },
        {
          "output_type": "stream",
          "name": "stderr",
          "text": [
            "Epoch [622/3000]: 100%|██████████| 4/4 [00:00<00:00, 103.17it/s, loss=0.137]\n"
          ]
        },
        {
          "output_type": "stream",
          "name": "stdout",
          "text": [
            "Epoch [622/3000]: Train loss: 0.1264, Valid loss: 0.1388\n"
          ]
        },
        {
          "output_type": "stream",
          "name": "stderr",
          "text": [
            "Epoch [623/3000]: 100%|██████████| 4/4 [00:00<00:00, 105.76it/s, loss=0.143]\n"
          ]
        },
        {
          "output_type": "stream",
          "name": "stdout",
          "text": [
            "Epoch [623/3000]: Train loss: 0.1270, Valid loss: 0.1364\n"
          ]
        },
        {
          "output_type": "stream",
          "name": "stderr",
          "text": [
            "Epoch [624/3000]: 100%|██████████| 4/4 [00:00<00:00, 90.53it/s, loss=0.0995]\n"
          ]
        },
        {
          "output_type": "stream",
          "name": "stdout",
          "text": [
            "Epoch [624/3000]: Train loss: 0.1185, Valid loss: 0.1397\n"
          ]
        },
        {
          "output_type": "stream",
          "name": "stderr",
          "text": [
            "Epoch [625/3000]: 100%|██████████| 4/4 [00:00<00:00, 106.98it/s, loss=0.102]\n"
          ]
        },
        {
          "output_type": "stream",
          "name": "stdout",
          "text": [
            "Epoch [625/3000]: Train loss: 0.1178, Valid loss: 0.1440\n"
          ]
        },
        {
          "output_type": "stream",
          "name": "stderr",
          "text": [
            "Epoch [626/3000]: 100%|██████████| 4/4 [00:00<00:00, 99.93it/s, loss=0.131]\n"
          ]
        },
        {
          "output_type": "stream",
          "name": "stdout",
          "text": [
            "Epoch [626/3000]: Train loss: 0.1249, Valid loss: 0.1391\n"
          ]
        },
        {
          "output_type": "stream",
          "name": "stderr",
          "text": [
            "Epoch [627/3000]: 100%|██████████| 4/4 [00:00<00:00, 95.64it/s, loss=0.126]\n"
          ]
        },
        {
          "output_type": "stream",
          "name": "stdout",
          "text": [
            "Epoch [627/3000]: Train loss: 0.1221, Valid loss: 0.1442\n"
          ]
        },
        {
          "output_type": "stream",
          "name": "stderr",
          "text": [
            "Epoch [628/3000]: 100%|██████████| 4/4 [00:00<00:00, 92.77it/s, loss=0.116]\n"
          ]
        },
        {
          "output_type": "stream",
          "name": "stdout",
          "text": [
            "Epoch [628/3000]: Train loss: 0.1212, Valid loss: 0.1399\n"
          ]
        },
        {
          "output_type": "stream",
          "name": "stderr",
          "text": [
            "Epoch [629/3000]: 100%|██████████| 4/4 [00:00<00:00, 89.10it/s, loss=0.0839]\n"
          ]
        },
        {
          "output_type": "stream",
          "name": "stdout",
          "text": [
            "Epoch [629/3000]: Train loss: 0.1133, Valid loss: 0.1368\n"
          ]
        },
        {
          "output_type": "stream",
          "name": "stderr",
          "text": [
            "Epoch [630/3000]: 100%|██████████| 4/4 [00:00<00:00, 81.22it/s, loss=0.174]\n"
          ]
        },
        {
          "output_type": "stream",
          "name": "stdout",
          "text": [
            "Epoch [630/3000]: Train loss: 0.1344, Valid loss: 0.1383\n"
          ]
        },
        {
          "output_type": "stream",
          "name": "stderr",
          "text": [
            "Epoch [631/3000]: 100%|██████████| 4/4 [00:00<00:00, 80.78it/s, loss=0.116]\n"
          ]
        },
        {
          "output_type": "stream",
          "name": "stdout",
          "text": [
            "Epoch [631/3000]: Train loss: 0.1208, Valid loss: 0.1515\n"
          ]
        },
        {
          "output_type": "stream",
          "name": "stderr",
          "text": [
            "Epoch [632/3000]: 100%|██████████| 4/4 [00:00<00:00, 96.35it/s, loss=0.145]\n"
          ]
        },
        {
          "output_type": "stream",
          "name": "stdout",
          "text": [
            "Epoch [632/3000]: Train loss: 0.1289, Valid loss: 0.1349\n",
            "Saving model with loss 0.135...\n"
          ]
        },
        {
          "output_type": "stream",
          "name": "stderr",
          "text": [
            "Epoch [633/3000]: 100%|██████████| 4/4 [00:00<00:00, 89.91it/s, loss=0.141]\n"
          ]
        },
        {
          "output_type": "stream",
          "name": "stdout",
          "text": [
            "Epoch [633/3000]: Train loss: 0.1265, Valid loss: 0.1404\n"
          ]
        },
        {
          "output_type": "stream",
          "name": "stderr",
          "text": [
            "Epoch [634/3000]: 100%|██████████| 4/4 [00:00<00:00, 88.06it/s, loss=0.122]\n"
          ]
        },
        {
          "output_type": "stream",
          "name": "stdout",
          "text": [
            "Epoch [634/3000]: Train loss: 0.1246, Valid loss: 0.1379\n"
          ]
        },
        {
          "output_type": "stream",
          "name": "stderr",
          "text": [
            "Epoch [635/3000]: 100%|██████████| 4/4 [00:00<00:00, 103.18it/s, loss=0.103]\n"
          ]
        },
        {
          "output_type": "stream",
          "name": "stdout",
          "text": [
            "Epoch [635/3000]: Train loss: 0.1177, Valid loss: 0.1397\n"
          ]
        },
        {
          "output_type": "stream",
          "name": "stderr",
          "text": [
            "Epoch [636/3000]: 100%|██████████| 4/4 [00:00<00:00, 108.37it/s, loss=0.123]\n"
          ]
        },
        {
          "output_type": "stream",
          "name": "stdout",
          "text": [
            "Epoch [636/3000]: Train loss: 0.1215, Valid loss: 0.1418\n"
          ]
        },
        {
          "output_type": "stream",
          "name": "stderr",
          "text": [
            "Epoch [637/3000]: 100%|██████████| 4/4 [00:00<00:00, 109.90it/s, loss=0.147]\n"
          ]
        },
        {
          "output_type": "stream",
          "name": "stdout",
          "text": [
            "Epoch [637/3000]: Train loss: 0.1289, Valid loss: 0.1359\n"
          ]
        },
        {
          "output_type": "stream",
          "name": "stderr",
          "text": [
            "Epoch [638/3000]: 100%|██████████| 4/4 [00:00<00:00, 63.53it/s, loss=0.127]\n"
          ]
        },
        {
          "output_type": "stream",
          "name": "stdout",
          "text": [
            "Epoch [638/3000]: Train loss: 0.1225, Valid loss: 0.1339\n",
            "Saving model with loss 0.134...\n"
          ]
        },
        {
          "output_type": "stream",
          "name": "stderr",
          "text": [
            "Epoch [639/3000]: 100%|██████████| 4/4 [00:00<00:00, 95.52it/s, loss=0.0988]\n"
          ]
        },
        {
          "output_type": "stream",
          "name": "stdout",
          "text": [
            "Epoch [639/3000]: Train loss: 0.1174, Valid loss: 0.1387\n"
          ]
        },
        {
          "output_type": "stream",
          "name": "stderr",
          "text": [
            "Epoch [640/3000]: 100%|██████████| 4/4 [00:00<00:00, 108.01it/s, loss=0.136]\n"
          ]
        },
        {
          "output_type": "stream",
          "name": "stdout",
          "text": [
            "Epoch [640/3000]: Train loss: 0.1269, Valid loss: 0.1448\n"
          ]
        },
        {
          "output_type": "stream",
          "name": "stderr",
          "text": [
            "Epoch [641/3000]: 100%|██████████| 4/4 [00:00<00:00, 108.24it/s, loss=0.113]\n"
          ]
        },
        {
          "output_type": "stream",
          "name": "stdout",
          "text": [
            "Epoch [641/3000]: Train loss: 0.1183, Valid loss: 0.1351\n"
          ]
        },
        {
          "output_type": "stream",
          "name": "stderr",
          "text": [
            "Epoch [642/3000]: 100%|██████████| 4/4 [00:00<00:00, 98.53it/s, loss=0.113]\n"
          ]
        },
        {
          "output_type": "stream",
          "name": "stdout",
          "text": [
            "Epoch [642/3000]: Train loss: 0.1187, Valid loss: 0.1398\n"
          ]
        },
        {
          "output_type": "stream",
          "name": "stderr",
          "text": [
            "Epoch [643/3000]: 100%|██████████| 4/4 [00:00<00:00, 102.87it/s, loss=0.122]\n"
          ]
        },
        {
          "output_type": "stream",
          "name": "stdout",
          "text": [
            "Epoch [643/3000]: Train loss: 0.1209, Valid loss: 0.1369\n"
          ]
        },
        {
          "output_type": "stream",
          "name": "stderr",
          "text": [
            "Epoch [644/3000]: 100%|██████████| 4/4 [00:00<00:00, 125.82it/s, loss=0.117]\n"
          ]
        },
        {
          "output_type": "stream",
          "name": "stdout",
          "text": [
            "Epoch [644/3000]: Train loss: 0.1195, Valid loss: 0.1368\n"
          ]
        },
        {
          "output_type": "stream",
          "name": "stderr",
          "text": [
            "Epoch [645/3000]: 100%|██████████| 4/4 [00:00<00:00, 126.06it/s, loss=0.131]\n"
          ]
        },
        {
          "output_type": "stream",
          "name": "stdout",
          "text": [
            "Epoch [645/3000]: Train loss: 0.1215, Valid loss: 0.1436\n"
          ]
        },
        {
          "output_type": "stream",
          "name": "stderr",
          "text": [
            "Epoch [646/3000]: 100%|██████████| 4/4 [00:00<00:00, 112.38it/s, loss=0.138]\n"
          ]
        },
        {
          "output_type": "stream",
          "name": "stdout",
          "text": [
            "Epoch [646/3000]: Train loss: 0.1249, Valid loss: 0.1357\n"
          ]
        },
        {
          "output_type": "stream",
          "name": "stderr",
          "text": [
            "Epoch [647/3000]: 100%|██████████| 4/4 [00:00<00:00, 115.23it/s, loss=0.102]\n"
          ]
        },
        {
          "output_type": "stream",
          "name": "stdout",
          "text": [
            "Epoch [647/3000]: Train loss: 0.1158, Valid loss: 0.1379\n"
          ]
        },
        {
          "output_type": "stream",
          "name": "stderr",
          "text": [
            "Epoch [648/3000]: 100%|██████████| 4/4 [00:00<00:00, 86.76it/s, loss=0.142]\n"
          ]
        },
        {
          "output_type": "stream",
          "name": "stdout",
          "text": [
            "Epoch [648/3000]: Train loss: 0.1264, Valid loss: 0.1426\n"
          ]
        },
        {
          "output_type": "stream",
          "name": "stderr",
          "text": [
            "Epoch [649/3000]: 100%|██████████| 4/4 [00:00<00:00, 112.66it/s, loss=0.0905]\n"
          ]
        },
        {
          "output_type": "stream",
          "name": "stdout",
          "text": [
            "Epoch [649/3000]: Train loss: 0.1150, Valid loss: 0.1391\n"
          ]
        },
        {
          "output_type": "stream",
          "name": "stderr",
          "text": [
            "Epoch [650/3000]: 100%|██████████| 4/4 [00:00<00:00, 122.31it/s, loss=0.111]\n"
          ]
        },
        {
          "output_type": "stream",
          "name": "stdout",
          "text": [
            "Epoch [650/3000]: Train loss: 0.1170, Valid loss: 0.1351\n"
          ]
        },
        {
          "output_type": "stream",
          "name": "stderr",
          "text": [
            "Epoch [651/3000]: 100%|██████████| 4/4 [00:00<00:00, 123.83it/s, loss=0.174]\n"
          ]
        },
        {
          "output_type": "stream",
          "name": "stdout",
          "text": [
            "Epoch [651/3000]: Train loss: 0.1311, Valid loss: 0.1418\n"
          ]
        },
        {
          "output_type": "stream",
          "name": "stderr",
          "text": [
            "Epoch [652/3000]: 100%|██████████| 4/4 [00:00<00:00, 112.86it/s, loss=0.108]\n"
          ]
        },
        {
          "output_type": "stream",
          "name": "stdout",
          "text": [
            "Epoch [652/3000]: Train loss: 0.1182, Valid loss: 0.1373\n"
          ]
        },
        {
          "output_type": "stream",
          "name": "stderr",
          "text": [
            "Epoch [653/3000]: 100%|██████████| 4/4 [00:00<00:00, 117.46it/s, loss=0.0997]\n"
          ]
        },
        {
          "output_type": "stream",
          "name": "stdout",
          "text": [
            "Epoch [653/3000]: Train loss: 0.1150, Valid loss: 0.1325\n",
            "Saving model with loss 0.133...\n"
          ]
        },
        {
          "output_type": "stream",
          "name": "stderr",
          "text": [
            "Epoch [654/3000]: 100%|██████████| 4/4 [00:00<00:00, 104.22it/s, loss=0.128]\n"
          ]
        },
        {
          "output_type": "stream",
          "name": "stdout",
          "text": [
            "Epoch [654/3000]: Train loss: 0.1219, Valid loss: 0.1319\n",
            "Saving model with loss 0.132...\n"
          ]
        },
        {
          "output_type": "stream",
          "name": "stderr",
          "text": [
            "Epoch [655/3000]: 100%|██████████| 4/4 [00:00<00:00, 48.49it/s, loss=0.114]\n"
          ]
        },
        {
          "output_type": "stream",
          "name": "stdout",
          "text": [
            "Epoch [655/3000]: Train loss: 0.1189, Valid loss: 0.1377\n"
          ]
        },
        {
          "output_type": "stream",
          "name": "stderr",
          "text": [
            "Epoch [656/3000]: 100%|██████████| 4/4 [00:00<00:00, 115.19it/s, loss=0.104]\n"
          ]
        },
        {
          "output_type": "stream",
          "name": "stdout",
          "text": [
            "Epoch [656/3000]: Train loss: 0.1174, Valid loss: 0.1418\n"
          ]
        },
        {
          "output_type": "stream",
          "name": "stderr",
          "text": [
            "Epoch [657/3000]: 100%|██████████| 4/4 [00:00<00:00, 130.94it/s, loss=0.0665]\n"
          ]
        },
        {
          "output_type": "stream",
          "name": "stdout",
          "text": [
            "Epoch [657/3000]: Train loss: 0.1071, Valid loss: 0.1333\n"
          ]
        },
        {
          "output_type": "stream",
          "name": "stderr",
          "text": [
            "Epoch [658/3000]: 100%|██████████| 4/4 [00:00<00:00, 125.83it/s, loss=0.103]\n"
          ]
        },
        {
          "output_type": "stream",
          "name": "stdout",
          "text": [
            "Epoch [658/3000]: Train loss: 0.1156, Valid loss: 0.1357\n"
          ]
        },
        {
          "output_type": "stream",
          "name": "stderr",
          "text": [
            "Epoch [659/3000]: 100%|██████████| 4/4 [00:00<00:00, 128.28it/s, loss=0.139]\n"
          ]
        },
        {
          "output_type": "stream",
          "name": "stdout",
          "text": [
            "Epoch [659/3000]: Train loss: 0.1225, Valid loss: 0.1389\n"
          ]
        },
        {
          "output_type": "stream",
          "name": "stderr",
          "text": [
            "Epoch [660/3000]: 100%|██████████| 4/4 [00:00<00:00, 124.52it/s, loss=0.0896]\n"
          ]
        },
        {
          "output_type": "stream",
          "name": "stdout",
          "text": [
            "Epoch [660/3000]: Train loss: 0.1135, Valid loss: 0.1323\n"
          ]
        },
        {
          "output_type": "stream",
          "name": "stderr",
          "text": [
            "Epoch [661/3000]: 100%|██████████| 4/4 [00:00<00:00, 109.54it/s, loss=0.0981]\n"
          ]
        },
        {
          "output_type": "stream",
          "name": "stdout",
          "text": [
            "Epoch [661/3000]: Train loss: 0.1149, Valid loss: 0.1352\n"
          ]
        },
        {
          "output_type": "stream",
          "name": "stderr",
          "text": [
            "Epoch [662/3000]: 100%|██████████| 4/4 [00:00<00:00, 124.16it/s, loss=0.113]\n"
          ]
        },
        {
          "output_type": "stream",
          "name": "stdout",
          "text": [
            "Epoch [662/3000]: Train loss: 0.1178, Valid loss: 0.1339\n"
          ]
        },
        {
          "output_type": "stream",
          "name": "stderr",
          "text": [
            "Epoch [663/3000]: 100%|██████████| 4/4 [00:00<00:00, 126.87it/s, loss=0.156]\n"
          ]
        },
        {
          "output_type": "stream",
          "name": "stdout",
          "text": [
            "Epoch [663/3000]: Train loss: 0.1262, Valid loss: 0.1342\n"
          ]
        },
        {
          "output_type": "stream",
          "name": "stderr",
          "text": [
            "Epoch [664/3000]: 100%|██████████| 4/4 [00:00<00:00, 93.68it/s, loss=0.116]\n"
          ]
        },
        {
          "output_type": "stream",
          "name": "stdout",
          "text": [
            "Epoch [664/3000]: Train loss: 0.1180, Valid loss: 0.1371\n"
          ]
        },
        {
          "output_type": "stream",
          "name": "stderr",
          "text": [
            "Epoch [665/3000]: 100%|██████████| 4/4 [00:00<00:00, 114.39it/s, loss=0.0945]\n"
          ]
        },
        {
          "output_type": "stream",
          "name": "stdout",
          "text": [
            "Epoch [665/3000]: Train loss: 0.1134, Valid loss: 0.1308\n",
            "Saving model with loss 0.131...\n"
          ]
        },
        {
          "output_type": "stream",
          "name": "stderr",
          "text": [
            "Epoch [666/3000]: 100%|██████████| 4/4 [00:00<00:00, 127.34it/s, loss=0.12]\n"
          ]
        },
        {
          "output_type": "stream",
          "name": "stdout",
          "text": [
            "Epoch [666/3000]: Train loss: 0.1214, Valid loss: 0.1322\n"
          ]
        },
        {
          "output_type": "stream",
          "name": "stderr",
          "text": [
            "Epoch [667/3000]: 100%|██████████| 4/4 [00:00<00:00, 127.96it/s, loss=0.183]\n"
          ]
        },
        {
          "output_type": "stream",
          "name": "stdout",
          "text": [
            "Epoch [667/3000]: Train loss: 0.1327, Valid loss: 0.1422\n"
          ]
        },
        {
          "output_type": "stream",
          "name": "stderr",
          "text": [
            "Epoch [668/3000]: 100%|██████████| 4/4 [00:00<00:00, 120.18it/s, loss=0.147]\n"
          ]
        },
        {
          "output_type": "stream",
          "name": "stdout",
          "text": [
            "Epoch [668/3000]: Train loss: 0.1256, Valid loss: 0.1295\n",
            "Saving model with loss 0.129...\n"
          ]
        },
        {
          "output_type": "stream",
          "name": "stderr",
          "text": [
            "Epoch [669/3000]: 100%|██████████| 4/4 [00:00<00:00, 59.14it/s, loss=0.101]\n"
          ]
        },
        {
          "output_type": "stream",
          "name": "stdout",
          "text": [
            "Epoch [669/3000]: Train loss: 0.1142, Valid loss: 0.1324\n"
          ]
        },
        {
          "output_type": "stream",
          "name": "stderr",
          "text": [
            "Epoch [670/3000]: 100%|██████████| 4/4 [00:00<00:00, 87.08it/s, loss=0.144]\n"
          ]
        },
        {
          "output_type": "stream",
          "name": "stdout",
          "text": [
            "Epoch [670/3000]: Train loss: 0.1230, Valid loss: 0.1333\n"
          ]
        },
        {
          "output_type": "stream",
          "name": "stderr",
          "text": [
            "Epoch [671/3000]: 100%|██████████| 4/4 [00:00<00:00, 81.46it/s, loss=0.0794]\n"
          ]
        },
        {
          "output_type": "stream",
          "name": "stdout",
          "text": [
            "Epoch [671/3000]: Train loss: 0.1099, Valid loss: 0.1290\n",
            "Saving model with loss 0.129...\n"
          ]
        },
        {
          "output_type": "stream",
          "name": "stderr",
          "text": [
            "Epoch [672/3000]: 100%|██████████| 4/4 [00:00<00:00, 88.23it/s, loss=0.139]\n"
          ]
        },
        {
          "output_type": "stream",
          "name": "stdout",
          "text": [
            "Epoch [672/3000]: Train loss: 0.1226, Valid loss: 0.1400\n"
          ]
        },
        {
          "output_type": "stream",
          "name": "stderr",
          "text": [
            "Epoch [673/3000]: 100%|██████████| 4/4 [00:00<00:00, 79.04it/s, loss=0.126]\n"
          ]
        },
        {
          "output_type": "stream",
          "name": "stdout",
          "text": [
            "Epoch [673/3000]: Train loss: 0.1231, Valid loss: 0.1375\n"
          ]
        },
        {
          "output_type": "stream",
          "name": "stderr",
          "text": [
            "Epoch [674/3000]: 100%|██████████| 4/4 [00:00<00:00, 118.17it/s, loss=0.113]\n"
          ]
        },
        {
          "output_type": "stream",
          "name": "stdout",
          "text": [
            "Epoch [674/3000]: Train loss: 0.1170, Valid loss: 0.1331\n"
          ]
        },
        {
          "output_type": "stream",
          "name": "stderr",
          "text": [
            "Epoch [675/3000]: 100%|██████████| 4/4 [00:00<00:00, 107.73it/s, loss=0.103]\n"
          ]
        },
        {
          "output_type": "stream",
          "name": "stdout",
          "text": [
            "Epoch [675/3000]: Train loss: 0.1154, Valid loss: 0.1339\n"
          ]
        },
        {
          "output_type": "stream",
          "name": "stderr",
          "text": [
            "Epoch [676/3000]: 100%|██████████| 4/4 [00:00<00:00, 63.75it/s, loss=0.162]\n"
          ]
        },
        {
          "output_type": "stream",
          "name": "stdout",
          "text": [
            "Epoch [676/3000]: Train loss: 0.1278, Valid loss: 0.1341\n"
          ]
        },
        {
          "output_type": "stream",
          "name": "stderr",
          "text": [
            "Epoch [677/3000]: 100%|██████████| 4/4 [00:00<00:00, 80.30it/s, loss=0.131]\n"
          ]
        },
        {
          "output_type": "stream",
          "name": "stdout",
          "text": [
            "Epoch [677/3000]: Train loss: 0.1188, Valid loss: 0.1352\n"
          ]
        },
        {
          "output_type": "stream",
          "name": "stderr",
          "text": [
            "Epoch [678/3000]: 100%|██████████| 4/4 [00:00<00:00, 81.66it/s, loss=0.132]\n"
          ]
        },
        {
          "output_type": "stream",
          "name": "stdout",
          "text": [
            "Epoch [678/3000]: Train loss: 0.1217, Valid loss: 0.1372\n"
          ]
        },
        {
          "output_type": "stream",
          "name": "stderr",
          "text": [
            "Epoch [679/3000]: 100%|██████████| 4/4 [00:00<00:00, 89.34it/s, loss=0.0994]\n"
          ]
        },
        {
          "output_type": "stream",
          "name": "stdout",
          "text": [
            "Epoch [679/3000]: Train loss: 0.1148, Valid loss: 0.1381\n"
          ]
        },
        {
          "output_type": "stream",
          "name": "stderr",
          "text": [
            "Epoch [680/3000]: 100%|██████████| 4/4 [00:00<00:00, 101.12it/s, loss=0.138]\n"
          ]
        },
        {
          "output_type": "stream",
          "name": "stdout",
          "text": [
            "Epoch [680/3000]: Train loss: 0.1217, Valid loss: 0.1298\n"
          ]
        },
        {
          "output_type": "stream",
          "name": "stderr",
          "text": [
            "Epoch [681/3000]: 100%|██████████| 4/4 [00:00<00:00, 100.54it/s, loss=0.0859]\n"
          ]
        },
        {
          "output_type": "stream",
          "name": "stdout",
          "text": [
            "Epoch [681/3000]: Train loss: 0.1102, Valid loss: 0.1340\n"
          ]
        },
        {
          "output_type": "stream",
          "name": "stderr",
          "text": [
            "Epoch [682/3000]: 100%|██████████| 4/4 [00:00<00:00, 118.27it/s, loss=0.113]\n"
          ]
        },
        {
          "output_type": "stream",
          "name": "stdout",
          "text": [
            "Epoch [682/3000]: Train loss: 0.1154, Valid loss: 0.1305\n"
          ]
        },
        {
          "output_type": "stream",
          "name": "stderr",
          "text": [
            "Epoch [683/3000]: 100%|██████████| 4/4 [00:00<00:00, 116.50it/s, loss=0.119]\n"
          ]
        },
        {
          "output_type": "stream",
          "name": "stdout",
          "text": [
            "Epoch [683/3000]: Train loss: 0.1174, Valid loss: 0.1290\n",
            "Saving model with loss 0.129...\n"
          ]
        },
        {
          "output_type": "stream",
          "name": "stderr",
          "text": [
            "Epoch [684/3000]: 100%|██████████| 4/4 [00:00<00:00, 117.16it/s, loss=0.105]\n"
          ]
        },
        {
          "output_type": "stream",
          "name": "stdout",
          "text": [
            "Epoch [684/3000]: Train loss: 0.1145, Valid loss: 0.1328\n"
          ]
        },
        {
          "output_type": "stream",
          "name": "stderr",
          "text": [
            "Epoch [685/3000]: 100%|██████████| 4/4 [00:00<00:00, 82.68it/s, loss=0.124]\n"
          ]
        },
        {
          "output_type": "stream",
          "name": "stdout",
          "text": [
            "Epoch [685/3000]: Train loss: 0.1188, Valid loss: 0.1312\n"
          ]
        },
        {
          "output_type": "stream",
          "name": "stderr",
          "text": [
            "Epoch [686/3000]: 100%|██████████| 4/4 [00:00<00:00, 107.63it/s, loss=0.152]\n"
          ]
        },
        {
          "output_type": "stream",
          "name": "stdout",
          "text": [
            "Epoch [686/3000]: Train loss: 0.1237, Valid loss: 0.1330\n"
          ]
        },
        {
          "output_type": "stream",
          "name": "stderr",
          "text": [
            "Epoch [687/3000]: 100%|██████████| 4/4 [00:00<00:00, 107.82it/s, loss=0.112]\n"
          ]
        },
        {
          "output_type": "stream",
          "name": "stdout",
          "text": [
            "Epoch [687/3000]: Train loss: 0.1147, Valid loss: 0.1325\n"
          ]
        },
        {
          "output_type": "stream",
          "name": "stderr",
          "text": [
            "Epoch [688/3000]: 100%|██████████| 4/4 [00:00<00:00, 130.64it/s, loss=0.17]\n"
          ]
        },
        {
          "output_type": "stream",
          "name": "stdout",
          "text": [
            "Epoch [688/3000]: Train loss: 0.1275, Valid loss: 0.1335\n"
          ]
        },
        {
          "output_type": "stream",
          "name": "stderr",
          "text": [
            "Epoch [689/3000]: 100%|██████████| 4/4 [00:00<00:00, 121.61it/s, loss=0.117]\n"
          ]
        },
        {
          "output_type": "stream",
          "name": "stdout",
          "text": [
            "Epoch [689/3000]: Train loss: 0.1159, Valid loss: 0.1317\n"
          ]
        },
        {
          "output_type": "stream",
          "name": "stderr",
          "text": [
            "Epoch [690/3000]: 100%|██████████| 4/4 [00:00<00:00, 105.47it/s, loss=0.0502]\n"
          ]
        },
        {
          "output_type": "stream",
          "name": "stdout",
          "text": [
            "Epoch [690/3000]: Train loss: 0.1018, Valid loss: 0.1305\n"
          ]
        },
        {
          "output_type": "stream",
          "name": "stderr",
          "text": [
            "Epoch [691/3000]: 100%|██████████| 4/4 [00:00<00:00, 98.49it/s, loss=0.119]\n"
          ]
        },
        {
          "output_type": "stream",
          "name": "stdout",
          "text": [
            "Epoch [691/3000]: Train loss: 0.1158, Valid loss: 0.1313\n"
          ]
        },
        {
          "output_type": "stream",
          "name": "stderr",
          "text": [
            "Epoch [692/3000]: 100%|██████████| 4/4 [00:00<00:00, 102.13it/s, loss=0.111]\n"
          ]
        },
        {
          "output_type": "stream",
          "name": "stdout",
          "text": [
            "Epoch [692/3000]: Train loss: 0.1140, Valid loss: 0.1327\n"
          ]
        },
        {
          "output_type": "stream",
          "name": "stderr",
          "text": [
            "Epoch [693/3000]: 100%|██████████| 4/4 [00:00<00:00, 97.40it/s, loss=0.137]\n"
          ]
        },
        {
          "output_type": "stream",
          "name": "stdout",
          "text": [
            "Epoch [693/3000]: Train loss: 0.1201, Valid loss: 0.1320\n"
          ]
        },
        {
          "output_type": "stream",
          "name": "stderr",
          "text": [
            "Epoch [694/3000]: 100%|██████████| 4/4 [00:00<00:00, 101.17it/s, loss=0.115]\n"
          ]
        },
        {
          "output_type": "stream",
          "name": "stdout",
          "text": [
            "Epoch [694/3000]: Train loss: 0.1147, Valid loss: 0.1347\n"
          ]
        },
        {
          "output_type": "stream",
          "name": "stderr",
          "text": [
            "Epoch [695/3000]: 100%|██████████| 4/4 [00:00<00:00, 109.43it/s, loss=0.105]\n"
          ]
        },
        {
          "output_type": "stream",
          "name": "stdout",
          "text": [
            "Epoch [695/3000]: Train loss: 0.1138, Valid loss: 0.1285\n",
            "Saving model with loss 0.129...\n"
          ]
        },
        {
          "output_type": "stream",
          "name": "stderr",
          "text": [
            "Epoch [696/3000]: 100%|██████████| 4/4 [00:00<00:00, 110.07it/s, loss=0.136]\n"
          ]
        },
        {
          "output_type": "stream",
          "name": "stdout",
          "text": [
            "Epoch [696/3000]: Train loss: 0.1207, Valid loss: 0.1305\n"
          ]
        },
        {
          "output_type": "stream",
          "name": "stderr",
          "text": [
            "Epoch [697/3000]: 100%|██████████| 4/4 [00:00<00:00, 110.44it/s, loss=0.119]\n"
          ]
        },
        {
          "output_type": "stream",
          "name": "stdout",
          "text": [
            "Epoch [697/3000]: Train loss: 0.1159, Valid loss: 0.1305\n"
          ]
        },
        {
          "output_type": "stream",
          "name": "stderr",
          "text": [
            "Epoch [698/3000]: 100%|██████████| 4/4 [00:00<00:00, 100.04it/s, loss=0.132]\n"
          ]
        },
        {
          "output_type": "stream",
          "name": "stdout",
          "text": [
            "Epoch [698/3000]: Train loss: 0.1182, Valid loss: 0.1320\n"
          ]
        },
        {
          "output_type": "stream",
          "name": "stderr",
          "text": [
            "Epoch [699/3000]: 100%|██████████| 4/4 [00:00<00:00, 97.89it/s, loss=0.122]\n"
          ]
        },
        {
          "output_type": "stream",
          "name": "stdout",
          "text": [
            "Epoch [699/3000]: Train loss: 0.1165, Valid loss: 0.1311\n"
          ]
        },
        {
          "output_type": "stream",
          "name": "stderr",
          "text": [
            "Epoch [700/3000]: 100%|██████████| 4/4 [00:00<00:00, 111.64it/s, loss=0.125]\n"
          ]
        },
        {
          "output_type": "stream",
          "name": "stdout",
          "text": [
            "Epoch [700/3000]: Train loss: 0.1167, Valid loss: 0.1279\n",
            "Saving model with loss 0.128...\n"
          ]
        },
        {
          "output_type": "stream",
          "name": "stderr",
          "text": [
            "Epoch [701/3000]: 100%|██████████| 4/4 [00:00<00:00, 121.24it/s, loss=0.0789]\n"
          ]
        },
        {
          "output_type": "stream",
          "name": "stdout",
          "text": [
            "Epoch [701/3000]: Train loss: 0.1072, Valid loss: 0.1314\n"
          ]
        },
        {
          "output_type": "stream",
          "name": "stderr",
          "text": [
            "Epoch [702/3000]: 100%|██████████| 4/4 [00:00<00:00, 120.69it/s, loss=0.0923]\n"
          ]
        },
        {
          "output_type": "stream",
          "name": "stdout",
          "text": [
            "Epoch [702/3000]: Train loss: 0.1090, Valid loss: 0.1287\n"
          ]
        },
        {
          "output_type": "stream",
          "name": "stderr",
          "text": [
            "Epoch [703/3000]: 100%|██████████| 4/4 [00:00<00:00, 36.45it/s, loss=0.0919]\n"
          ]
        },
        {
          "output_type": "stream",
          "name": "stdout",
          "text": [
            "Epoch [703/3000]: Train loss: 0.1096, Valid loss: 0.1301\n"
          ]
        },
        {
          "output_type": "stream",
          "name": "stderr",
          "text": [
            "Epoch [704/3000]: 100%|██████████| 4/4 [00:00<00:00, 114.90it/s, loss=0.0875]\n"
          ]
        },
        {
          "output_type": "stream",
          "name": "stdout",
          "text": [
            "Epoch [704/3000]: Train loss: 0.1084, Valid loss: 0.1326\n"
          ]
        },
        {
          "output_type": "stream",
          "name": "stderr",
          "text": [
            "Epoch [705/3000]: 100%|██████████| 4/4 [00:00<00:00, 110.48it/s, loss=0.136]\n"
          ]
        },
        {
          "output_type": "stream",
          "name": "stdout",
          "text": [
            "Epoch [705/3000]: Train loss: 0.1190, Valid loss: 0.1284\n"
          ]
        },
        {
          "output_type": "stream",
          "name": "stderr",
          "text": [
            "Epoch [706/3000]: 100%|██████████| 4/4 [00:00<00:00, 120.05it/s, loss=0.0993]\n"
          ]
        },
        {
          "output_type": "stream",
          "name": "stdout",
          "text": [
            "Epoch [706/3000]: Train loss: 0.1104, Valid loss: 0.1287\n"
          ]
        },
        {
          "output_type": "stream",
          "name": "stderr",
          "text": [
            "Epoch [707/3000]: 100%|██████████| 4/4 [00:00<00:00, 111.77it/s, loss=0.102]\n"
          ]
        },
        {
          "output_type": "stream",
          "name": "stdout",
          "text": [
            "Epoch [707/3000]: Train loss: 0.1107, Valid loss: 0.1263\n",
            "Saving model with loss 0.126...\n"
          ]
        },
        {
          "output_type": "stream",
          "name": "stderr",
          "text": [
            "Epoch [708/3000]: 100%|██████████| 4/4 [00:00<00:00, 103.28it/s, loss=0.141]\n"
          ]
        },
        {
          "output_type": "stream",
          "name": "stdout",
          "text": [
            "Epoch [708/3000]: Train loss: 0.1200, Valid loss: 0.1282\n"
          ]
        },
        {
          "output_type": "stream",
          "name": "stderr",
          "text": [
            "Epoch [709/3000]: 100%|██████████| 4/4 [00:00<00:00, 124.27it/s, loss=0.0864]\n"
          ]
        },
        {
          "output_type": "stream",
          "name": "stdout",
          "text": [
            "Epoch [709/3000]: Train loss: 0.1077, Valid loss: 0.1372\n"
          ]
        },
        {
          "output_type": "stream",
          "name": "stderr",
          "text": [
            "Epoch [710/3000]: 100%|██████████| 4/4 [00:00<00:00, 107.09it/s, loss=0.144]\n"
          ]
        },
        {
          "output_type": "stream",
          "name": "stdout",
          "text": [
            "Epoch [710/3000]: Train loss: 0.1209, Valid loss: 0.1274\n"
          ]
        },
        {
          "output_type": "stream",
          "name": "stderr",
          "text": [
            "Epoch [711/3000]: 100%|██████████| 4/4 [00:00<00:00, 124.15it/s, loss=0.0745]\n"
          ]
        },
        {
          "output_type": "stream",
          "name": "stdout",
          "text": [
            "Epoch [711/3000]: Train loss: 0.1102, Valid loss: 0.1260\n",
            "Saving model with loss 0.126...\n"
          ]
        },
        {
          "output_type": "stream",
          "name": "stderr",
          "text": [
            "Epoch [712/3000]: 100%|██████████| 4/4 [00:00<00:00, 113.36it/s, loss=0.141]\n"
          ]
        },
        {
          "output_type": "stream",
          "name": "stdout",
          "text": [
            "Epoch [712/3000]: Train loss: 0.1194, Valid loss: 0.1341\n"
          ]
        },
        {
          "output_type": "stream",
          "name": "stderr",
          "text": [
            "Epoch [713/3000]: 100%|██████████| 4/4 [00:00<00:00, 104.27it/s, loss=0.208]\n"
          ]
        },
        {
          "output_type": "stream",
          "name": "stdout",
          "text": [
            "Epoch [713/3000]: Train loss: 0.1368, Valid loss: 0.1278\n"
          ]
        },
        {
          "output_type": "stream",
          "name": "stderr",
          "text": [
            "Epoch [714/3000]: 100%|██████████| 4/4 [00:00<00:00, 93.87it/s, loss=0.121]\n"
          ]
        },
        {
          "output_type": "stream",
          "name": "stdout",
          "text": [
            "Epoch [714/3000]: Train loss: 0.1161, Valid loss: 0.1280\n"
          ]
        },
        {
          "output_type": "stream",
          "name": "stderr",
          "text": [
            "Epoch [715/3000]: 100%|██████████| 4/4 [00:00<00:00, 91.55it/s, loss=0.111]\n"
          ]
        },
        {
          "output_type": "stream",
          "name": "stdout",
          "text": [
            "Epoch [715/3000]: Train loss: 0.1136, Valid loss: 0.1279\n"
          ]
        },
        {
          "output_type": "stream",
          "name": "stderr",
          "text": [
            "Epoch [716/3000]: 100%|██████████| 4/4 [00:00<00:00, 116.05it/s, loss=0.119]\n"
          ]
        },
        {
          "output_type": "stream",
          "name": "stdout",
          "text": [
            "Epoch [716/3000]: Train loss: 0.1144, Valid loss: 0.1287\n"
          ]
        },
        {
          "output_type": "stream",
          "name": "stderr",
          "text": [
            "Epoch [717/3000]: 100%|██████████| 4/4 [00:00<00:00, 109.04it/s, loss=0.137]\n"
          ]
        },
        {
          "output_type": "stream",
          "name": "stdout",
          "text": [
            "Epoch [717/3000]: Train loss: 0.1181, Valid loss: 0.1297\n"
          ]
        },
        {
          "output_type": "stream",
          "name": "stderr",
          "text": [
            "Epoch [718/3000]: 100%|██████████| 4/4 [00:00<00:00, 110.17it/s, loss=0.0997]\n"
          ]
        },
        {
          "output_type": "stream",
          "name": "stdout",
          "text": [
            "Epoch [718/3000]: Train loss: 0.1095, Valid loss: 0.1260\n"
          ]
        },
        {
          "output_type": "stream",
          "name": "stderr",
          "text": [
            "Epoch [719/3000]: 100%|██████████| 4/4 [00:00<00:00, 120.06it/s, loss=0.123]\n"
          ]
        },
        {
          "output_type": "stream",
          "name": "stdout",
          "text": [
            "Epoch [719/3000]: Train loss: 0.1152, Valid loss: 0.1286\n"
          ]
        },
        {
          "output_type": "stream",
          "name": "stderr",
          "text": [
            "Epoch [720/3000]: 100%|██████████| 4/4 [00:00<00:00, 104.12it/s, loss=0.108]\n"
          ]
        },
        {
          "output_type": "stream",
          "name": "stdout",
          "text": [
            "Epoch [720/3000]: Train loss: 0.1133, Valid loss: 0.1288\n"
          ]
        },
        {
          "output_type": "stream",
          "name": "stderr",
          "text": [
            "Epoch [721/3000]: 100%|██████████| 4/4 [00:00<00:00, 116.19it/s, loss=0.143]\n"
          ]
        },
        {
          "output_type": "stream",
          "name": "stdout",
          "text": [
            "Epoch [721/3000]: Train loss: 0.1227, Valid loss: 0.1307\n"
          ]
        },
        {
          "output_type": "stream",
          "name": "stderr",
          "text": [
            "Epoch [722/3000]: 100%|██████████| 4/4 [00:00<00:00, 120.98it/s, loss=0.0756]\n"
          ]
        },
        {
          "output_type": "stream",
          "name": "stdout",
          "text": [
            "Epoch [722/3000]: Train loss: 0.1057, Valid loss: 0.1303\n"
          ]
        },
        {
          "output_type": "stream",
          "name": "stderr",
          "text": [
            "Epoch [723/3000]: 100%|██████████| 4/4 [00:00<00:00, 117.21it/s, loss=0.112]\n"
          ]
        },
        {
          "output_type": "stream",
          "name": "stdout",
          "text": [
            "Epoch [723/3000]: Train loss: 0.1135, Valid loss: 0.1310\n"
          ]
        },
        {
          "output_type": "stream",
          "name": "stderr",
          "text": [
            "Epoch [724/3000]: 100%|██████████| 4/4 [00:00<00:00, 111.81it/s, loss=0.0869]\n"
          ]
        },
        {
          "output_type": "stream",
          "name": "stdout",
          "text": [
            "Epoch [724/3000]: Train loss: 0.1063, Valid loss: 0.1249\n",
            "Saving model with loss 0.125...\n"
          ]
        },
        {
          "output_type": "stream",
          "name": "stderr",
          "text": [
            "Epoch [725/3000]: 100%|██████████| 4/4 [00:00<00:00, 82.90it/s, loss=0.0822]\n"
          ]
        },
        {
          "output_type": "stream",
          "name": "stdout",
          "text": [
            "Epoch [725/3000]: Train loss: 0.1079, Valid loss: 0.1280\n"
          ]
        },
        {
          "output_type": "stream",
          "name": "stderr",
          "text": [
            "Epoch [726/3000]: 100%|██████████| 4/4 [00:00<00:00, 126.07it/s, loss=0.0653]\n"
          ]
        },
        {
          "output_type": "stream",
          "name": "stdout",
          "text": [
            "Epoch [726/3000]: Train loss: 0.1030, Valid loss: 0.1306\n"
          ]
        },
        {
          "output_type": "stream",
          "name": "stderr",
          "text": [
            "Epoch [727/3000]: 100%|██████████| 4/4 [00:00<00:00, 75.67it/s, loss=0.0982]\n"
          ]
        },
        {
          "output_type": "stream",
          "name": "stdout",
          "text": [
            "Epoch [727/3000]: Train loss: 0.1096, Valid loss: 0.1276\n"
          ]
        },
        {
          "output_type": "stream",
          "name": "stderr",
          "text": [
            "Epoch [728/3000]: 100%|██████████| 4/4 [00:00<00:00, 112.80it/s, loss=0.0929]\n"
          ]
        },
        {
          "output_type": "stream",
          "name": "stdout",
          "text": [
            "Epoch [728/3000]: Train loss: 0.1096, Valid loss: 0.1270\n"
          ]
        },
        {
          "output_type": "stream",
          "name": "stderr",
          "text": [
            "Epoch [729/3000]: 100%|██████████| 4/4 [00:00<00:00, 80.07it/s, loss=0.137]\n"
          ]
        },
        {
          "output_type": "stream",
          "name": "stdout",
          "text": [
            "Epoch [729/3000]: Train loss: 0.1179, Valid loss: 0.1301\n"
          ]
        },
        {
          "output_type": "stream",
          "name": "stderr",
          "text": [
            "Epoch [730/3000]: 100%|██████████| 4/4 [00:00<00:00, 119.83it/s, loss=0.109]\n"
          ]
        },
        {
          "output_type": "stream",
          "name": "stdout",
          "text": [
            "Epoch [730/3000]: Train loss: 0.1115, Valid loss: 0.1250\n"
          ]
        },
        {
          "output_type": "stream",
          "name": "stderr",
          "text": [
            "Epoch [731/3000]: 100%|██████████| 4/4 [00:00<00:00, 106.77it/s, loss=0.0931]\n"
          ]
        },
        {
          "output_type": "stream",
          "name": "stdout",
          "text": [
            "Epoch [731/3000]: Train loss: 0.1081, Valid loss: 0.1267\n"
          ]
        },
        {
          "output_type": "stream",
          "name": "stderr",
          "text": [
            "Epoch [732/3000]: 100%|██████████| 4/4 [00:00<00:00, 129.51it/s, loss=0.149]\n"
          ]
        },
        {
          "output_type": "stream",
          "name": "stdout",
          "text": [
            "Epoch [732/3000]: Train loss: 0.1200, Valid loss: 0.1246\n",
            "Saving model with loss 0.125...\n"
          ]
        },
        {
          "output_type": "stream",
          "name": "stderr",
          "text": [
            "Epoch [733/3000]: 100%|██████████| 4/4 [00:00<00:00, 138.87it/s, loss=0.103]\n"
          ]
        },
        {
          "output_type": "stream",
          "name": "stdout",
          "text": [
            "Epoch [733/3000]: Train loss: 0.1097, Valid loss: 0.1275\n"
          ]
        },
        {
          "output_type": "stream",
          "name": "stderr",
          "text": [
            "Epoch [734/3000]: 100%|██████████| 4/4 [00:00<00:00, 111.27it/s, loss=0.0833]\n"
          ]
        },
        {
          "output_type": "stream",
          "name": "stdout",
          "text": [
            "Epoch [734/3000]: Train loss: 0.1049, Valid loss: 0.1241\n",
            "Saving model with loss 0.124...\n"
          ]
        },
        {
          "output_type": "stream",
          "name": "stderr",
          "text": [
            "Epoch [735/3000]: 100%|██████████| 4/4 [00:00<00:00, 119.80it/s, loss=0.116]\n"
          ]
        },
        {
          "output_type": "stream",
          "name": "stdout",
          "text": [
            "Epoch [735/3000]: Train loss: 0.1133, Valid loss: 0.1289\n"
          ]
        },
        {
          "output_type": "stream",
          "name": "stderr",
          "text": [
            "Epoch [736/3000]: 100%|██████████| 4/4 [00:00<00:00, 110.08it/s, loss=0.135]\n"
          ]
        },
        {
          "output_type": "stream",
          "name": "stdout",
          "text": [
            "Epoch [736/3000]: Train loss: 0.1193, Valid loss: 0.1274\n"
          ]
        },
        {
          "output_type": "stream",
          "name": "stderr",
          "text": [
            "Epoch [737/3000]: 100%|██████████| 4/4 [00:00<00:00, 115.44it/s, loss=0.1]\n"
          ]
        },
        {
          "output_type": "stream",
          "name": "stdout",
          "text": [
            "Epoch [737/3000]: Train loss: 0.1114, Valid loss: 0.1271\n"
          ]
        },
        {
          "output_type": "stream",
          "name": "stderr",
          "text": [
            "Epoch [738/3000]: 100%|██████████| 4/4 [00:00<00:00, 112.95it/s, loss=0.112]\n"
          ]
        },
        {
          "output_type": "stream",
          "name": "stdout",
          "text": [
            "Epoch [738/3000]: Train loss: 0.1137, Valid loss: 0.1321\n"
          ]
        },
        {
          "output_type": "stream",
          "name": "stderr",
          "text": [
            "Epoch [739/3000]: 100%|██████████| 4/4 [00:00<00:00, 33.61it/s, loss=0.135]\n"
          ]
        },
        {
          "output_type": "stream",
          "name": "stdout",
          "text": [
            "Epoch [739/3000]: Train loss: 0.1189, Valid loss: 0.1227\n",
            "Saving model with loss 0.123...\n"
          ]
        },
        {
          "output_type": "stream",
          "name": "stderr",
          "text": [
            "Epoch [740/3000]: 100%|██████████| 4/4 [00:00<00:00, 90.96it/s, loss=0.0841]\n"
          ]
        },
        {
          "output_type": "stream",
          "name": "stdout",
          "text": [
            "Epoch [740/3000]: Train loss: 0.1107, Valid loss: 0.1284\n"
          ]
        },
        {
          "output_type": "stream",
          "name": "stderr",
          "text": [
            "Epoch [741/3000]: 100%|██████████| 4/4 [00:00<00:00, 81.53it/s, loss=0.116]\n"
          ]
        },
        {
          "output_type": "stream",
          "name": "stdout",
          "text": [
            "Epoch [741/3000]: Train loss: 0.1169, Valid loss: 0.1393\n"
          ]
        },
        {
          "output_type": "stream",
          "name": "stderr",
          "text": [
            "Epoch [742/3000]: 100%|██████████| 4/4 [00:00<00:00, 86.92it/s, loss=0.134]\n"
          ]
        },
        {
          "output_type": "stream",
          "name": "stdout",
          "text": [
            "Epoch [742/3000]: Train loss: 0.1184, Valid loss: 0.1229\n"
          ]
        },
        {
          "output_type": "stream",
          "name": "stderr",
          "text": [
            "Epoch [743/3000]: 100%|██████████| 4/4 [00:00<00:00, 103.24it/s, loss=0.107]\n"
          ]
        },
        {
          "output_type": "stream",
          "name": "stdout",
          "text": [
            "Epoch [743/3000]: Train loss: 0.1122, Valid loss: 0.1264\n"
          ]
        },
        {
          "output_type": "stream",
          "name": "stderr",
          "text": [
            "Epoch [744/3000]: 100%|██████████| 4/4 [00:00<00:00, 116.09it/s, loss=0.101]\n"
          ]
        },
        {
          "output_type": "stream",
          "name": "stdout",
          "text": [
            "Epoch [744/3000]: Train loss: 0.1101, Valid loss: 0.1335\n"
          ]
        },
        {
          "output_type": "stream",
          "name": "stderr",
          "text": [
            "Epoch [745/3000]: 100%|██████████| 4/4 [00:00<00:00, 110.30it/s, loss=0.103]\n"
          ]
        },
        {
          "output_type": "stream",
          "name": "stdout",
          "text": [
            "Epoch [745/3000]: Train loss: 0.1116, Valid loss: 0.1237\n"
          ]
        },
        {
          "output_type": "stream",
          "name": "stderr",
          "text": [
            "Epoch [746/3000]: 100%|██████████| 4/4 [00:00<00:00, 110.62it/s, loss=0.107]\n"
          ]
        },
        {
          "output_type": "stream",
          "name": "stdout",
          "text": [
            "Epoch [746/3000]: Train loss: 0.1106, Valid loss: 0.1227\n"
          ]
        },
        {
          "output_type": "stream",
          "name": "stderr",
          "text": [
            "Epoch [747/3000]: 100%|██████████| 4/4 [00:00<00:00, 111.08it/s, loss=0.062]\n"
          ]
        },
        {
          "output_type": "stream",
          "name": "stdout",
          "text": [
            "Epoch [747/3000]: Train loss: 0.0997, Valid loss: 0.1288\n"
          ]
        },
        {
          "output_type": "stream",
          "name": "stderr",
          "text": [
            "Epoch [748/3000]: 100%|██████████| 4/4 [00:00<00:00, 95.95it/s, loss=0.102]\n"
          ]
        },
        {
          "output_type": "stream",
          "name": "stdout",
          "text": [
            "Epoch [748/3000]: Train loss: 0.1088, Valid loss: 0.1254\n"
          ]
        },
        {
          "output_type": "stream",
          "name": "stderr",
          "text": [
            "Epoch [749/3000]: 100%|██████████| 4/4 [00:00<00:00, 111.30it/s, loss=0.137]\n"
          ]
        },
        {
          "output_type": "stream",
          "name": "stdout",
          "text": [
            "Epoch [749/3000]: Train loss: 0.1159, Valid loss: 0.1286\n"
          ]
        },
        {
          "output_type": "stream",
          "name": "stderr",
          "text": [
            "Epoch [750/3000]: 100%|██████████| 4/4 [00:00<00:00, 113.64it/s, loss=0.0894]\n"
          ]
        },
        {
          "output_type": "stream",
          "name": "stdout",
          "text": [
            "Epoch [750/3000]: Train loss: 0.1068, Valid loss: 0.1251\n"
          ]
        },
        {
          "output_type": "stream",
          "name": "stderr",
          "text": [
            "Epoch [751/3000]: 100%|██████████| 4/4 [00:00<00:00, 127.91it/s, loss=0.0799]\n"
          ]
        },
        {
          "output_type": "stream",
          "name": "stdout",
          "text": [
            "Epoch [751/3000]: Train loss: 0.1043, Valid loss: 0.1219\n",
            "Saving model with loss 0.122...\n"
          ]
        },
        {
          "output_type": "stream",
          "name": "stderr",
          "text": [
            "Epoch [752/3000]: 100%|██████████| 4/4 [00:00<00:00, 124.22it/s, loss=0.0872]\n"
          ]
        },
        {
          "output_type": "stream",
          "name": "stdout",
          "text": [
            "Epoch [752/3000]: Train loss: 0.1058, Valid loss: 0.1253\n"
          ]
        },
        {
          "output_type": "stream",
          "name": "stderr",
          "text": [
            "Epoch [753/3000]: 100%|██████████| 4/4 [00:00<00:00, 114.28it/s, loss=0.103]\n"
          ]
        },
        {
          "output_type": "stream",
          "name": "stdout",
          "text": [
            "Epoch [753/3000]: Train loss: 0.1088, Valid loss: 0.1256\n"
          ]
        },
        {
          "output_type": "stream",
          "name": "stderr",
          "text": [
            "Epoch [754/3000]: 100%|██████████| 4/4 [00:00<00:00, 115.96it/s, loss=0.114]\n"
          ]
        },
        {
          "output_type": "stream",
          "name": "stdout",
          "text": [
            "Epoch [754/3000]: Train loss: 0.1112, Valid loss: 0.1259\n"
          ]
        },
        {
          "output_type": "stream",
          "name": "stderr",
          "text": [
            "Epoch [755/3000]: 100%|██████████| 4/4 [00:00<00:00, 119.54it/s, loss=0.145]\n"
          ]
        },
        {
          "output_type": "stream",
          "name": "stdout",
          "text": [
            "Epoch [755/3000]: Train loss: 0.1178, Valid loss: 0.1253\n"
          ]
        },
        {
          "output_type": "stream",
          "name": "stderr",
          "text": [
            "Epoch [756/3000]: 100%|██████████| 4/4 [00:00<00:00, 81.85it/s, loss=0.0908]\n"
          ]
        },
        {
          "output_type": "stream",
          "name": "stdout",
          "text": [
            "Epoch [756/3000]: Train loss: 0.1059, Valid loss: 0.1245\n"
          ]
        },
        {
          "output_type": "stream",
          "name": "stderr",
          "text": [
            "Epoch [757/3000]: 100%|██████████| 4/4 [00:00<00:00, 100.76it/s, loss=0.0888]\n"
          ]
        },
        {
          "output_type": "stream",
          "name": "stdout",
          "text": [
            "Epoch [757/3000]: Train loss: 0.1057, Valid loss: 0.1245\n"
          ]
        },
        {
          "output_type": "stream",
          "name": "stderr",
          "text": [
            "Epoch [758/3000]: 100%|██████████| 4/4 [00:00<00:00, 98.70it/s, loss=0.0972]\n"
          ]
        },
        {
          "output_type": "stream",
          "name": "stdout",
          "text": [
            "Epoch [758/3000]: Train loss: 0.1068, Valid loss: 0.1264\n"
          ]
        },
        {
          "output_type": "stream",
          "name": "stderr",
          "text": [
            "Epoch [759/3000]: 100%|██████████| 4/4 [00:00<00:00, 132.86it/s, loss=0.0624]\n"
          ]
        },
        {
          "output_type": "stream",
          "name": "stdout",
          "text": [
            "Epoch [759/3000]: Train loss: 0.1002, Valid loss: 0.1226\n"
          ]
        },
        {
          "output_type": "stream",
          "name": "stderr",
          "text": [
            "Epoch [760/3000]: 100%|██████████| 4/4 [00:00<00:00, 115.82it/s, loss=0.146]\n"
          ]
        },
        {
          "output_type": "stream",
          "name": "stdout",
          "text": [
            "Epoch [760/3000]: Train loss: 0.1186, Valid loss: 0.1213\n",
            "Saving model with loss 0.121...\n"
          ]
        },
        {
          "output_type": "stream",
          "name": "stderr",
          "text": [
            "Epoch [761/3000]: 100%|██████████| 4/4 [00:00<00:00, 100.74it/s, loss=0.163]\n"
          ]
        },
        {
          "output_type": "stream",
          "name": "stdout",
          "text": [
            "Epoch [761/3000]: Train loss: 0.1212, Valid loss: 0.1265\n"
          ]
        },
        {
          "output_type": "stream",
          "name": "stderr",
          "text": [
            "Epoch [762/3000]: 100%|██████████| 4/4 [00:00<00:00, 103.88it/s, loss=0.127]\n"
          ]
        },
        {
          "output_type": "stream",
          "name": "stdout",
          "text": [
            "Epoch [762/3000]: Train loss: 0.1136, Valid loss: 0.1247\n"
          ]
        },
        {
          "output_type": "stream",
          "name": "stderr",
          "text": [
            "Epoch [763/3000]: 100%|██████████| 4/4 [00:00<00:00, 123.96it/s, loss=0.131]\n"
          ]
        },
        {
          "output_type": "stream",
          "name": "stdout",
          "text": [
            "Epoch [763/3000]: Train loss: 0.1144, Valid loss: 0.1246\n"
          ]
        },
        {
          "output_type": "stream",
          "name": "stderr",
          "text": [
            "Epoch [764/3000]: 100%|██████████| 4/4 [00:00<00:00, 128.82it/s, loss=0.0992]\n"
          ]
        },
        {
          "output_type": "stream",
          "name": "stdout",
          "text": [
            "Epoch [764/3000]: Train loss: 0.1085, Valid loss: 0.1253\n"
          ]
        },
        {
          "output_type": "stream",
          "name": "stderr",
          "text": [
            "Epoch [765/3000]: 100%|██████████| 4/4 [00:00<00:00, 16.23it/s, loss=0.106]\n"
          ]
        },
        {
          "output_type": "stream",
          "name": "stdout",
          "text": [
            "Epoch [765/3000]: Train loss: 0.1100, Valid loss: 0.1214\n"
          ]
        },
        {
          "output_type": "stream",
          "name": "stderr",
          "text": [
            "Epoch [766/3000]: 100%|██████████| 4/4 [00:00<00:00, 112.65it/s, loss=0.112]\n"
          ]
        },
        {
          "output_type": "stream",
          "name": "stdout",
          "text": [
            "Epoch [766/3000]: Train loss: 0.1107, Valid loss: 0.1312\n"
          ]
        },
        {
          "output_type": "stream",
          "name": "stderr",
          "text": [
            "Epoch [767/3000]: 100%|██████████| 4/4 [00:00<00:00, 51.12it/s, loss=0.101]\n"
          ]
        },
        {
          "output_type": "stream",
          "name": "stdout",
          "text": [
            "Epoch [767/3000]: Train loss: 0.1108, Valid loss: 0.1285\n"
          ]
        },
        {
          "output_type": "stream",
          "name": "stderr",
          "text": [
            "Epoch [768/3000]: 100%|██████████| 4/4 [00:00<00:00, 115.18it/s, loss=0.112]\n"
          ]
        },
        {
          "output_type": "stream",
          "name": "stdout",
          "text": [
            "Epoch [768/3000]: Train loss: 0.1106, Valid loss: 0.1232\n"
          ]
        },
        {
          "output_type": "stream",
          "name": "stderr",
          "text": [
            "Epoch [769/3000]: 100%|██████████| 4/4 [00:00<00:00, 106.74it/s, loss=0.117]\n"
          ]
        },
        {
          "output_type": "stream",
          "name": "stdout",
          "text": [
            "Epoch [769/3000]: Train loss: 0.1122, Valid loss: 0.1298\n"
          ]
        },
        {
          "output_type": "stream",
          "name": "stderr",
          "text": [
            "Epoch [770/3000]: 100%|██████████| 4/4 [00:00<00:00, 102.73it/s, loss=0.0963]\n"
          ]
        },
        {
          "output_type": "stream",
          "name": "stdout",
          "text": [
            "Epoch [770/3000]: Train loss: 0.1078, Valid loss: 0.1236\n"
          ]
        },
        {
          "output_type": "stream",
          "name": "stderr",
          "text": [
            "Epoch [771/3000]: 100%|██████████| 4/4 [00:00<00:00, 89.57it/s, loss=0.142]\n"
          ]
        },
        {
          "output_type": "stream",
          "name": "stdout",
          "text": [
            "Epoch [771/3000]: Train loss: 0.1194, Valid loss: 0.1264\n"
          ]
        },
        {
          "output_type": "stream",
          "name": "stderr",
          "text": [
            "Epoch [772/3000]: 100%|██████████| 4/4 [00:00<00:00, 115.86it/s, loss=0.108]\n"
          ]
        },
        {
          "output_type": "stream",
          "name": "stdout",
          "text": [
            "Epoch [772/3000]: Train loss: 0.1093, Valid loss: 0.1264\n"
          ]
        },
        {
          "output_type": "stream",
          "name": "stderr",
          "text": [
            "Epoch [773/3000]: 100%|██████████| 4/4 [00:00<00:00, 125.91it/s, loss=0.13]\n"
          ]
        },
        {
          "output_type": "stream",
          "name": "stdout",
          "text": [
            "Epoch [773/3000]: Train loss: 0.1167, Valid loss: 0.1213\n"
          ]
        },
        {
          "output_type": "stream",
          "name": "stderr",
          "text": [
            "Epoch [774/3000]: 100%|██████████| 4/4 [00:00<00:00, 99.90it/s, loss=0.105]\n"
          ]
        },
        {
          "output_type": "stream",
          "name": "stdout",
          "text": [
            "Epoch [774/3000]: Train loss: 0.1104, Valid loss: 0.1244\n"
          ]
        },
        {
          "output_type": "stream",
          "name": "stderr",
          "text": [
            "Epoch [775/3000]: 100%|██████████| 4/4 [00:00<00:00, 116.87it/s, loss=0.144]\n"
          ]
        },
        {
          "output_type": "stream",
          "name": "stdout",
          "text": [
            "Epoch [775/3000]: Train loss: 0.1176, Valid loss: 0.1347\n"
          ]
        },
        {
          "output_type": "stream",
          "name": "stderr",
          "text": [
            "Epoch [776/3000]: 100%|██████████| 4/4 [00:00<00:00, 96.43it/s, loss=0.0835]\n"
          ]
        },
        {
          "output_type": "stream",
          "name": "stdout",
          "text": [
            "Epoch [776/3000]: Train loss: 0.1063, Valid loss: 0.1199\n",
            "Saving model with loss 0.120...\n"
          ]
        },
        {
          "output_type": "stream",
          "name": "stderr",
          "text": [
            "Epoch [777/3000]: 100%|██████████| 4/4 [00:00<00:00, 115.25it/s, loss=0.103]\n"
          ]
        },
        {
          "output_type": "stream",
          "name": "stdout",
          "text": [
            "Epoch [777/3000]: Train loss: 0.1124, Valid loss: 0.1196\n",
            "Saving model with loss 0.120...\n"
          ]
        },
        {
          "output_type": "stream",
          "name": "stderr",
          "text": [
            "Epoch [778/3000]: 100%|██████████| 4/4 [00:00<00:00, 119.53it/s, loss=0.128]\n"
          ]
        },
        {
          "output_type": "stream",
          "name": "stdout",
          "text": [
            "Epoch [778/3000]: Train loss: 0.1149, Valid loss: 0.1371\n"
          ]
        },
        {
          "output_type": "stream",
          "name": "stderr",
          "text": [
            "Epoch [779/3000]: 100%|██████████| 4/4 [00:00<00:00, 115.97it/s, loss=0.144]\n"
          ]
        },
        {
          "output_type": "stream",
          "name": "stdout",
          "text": [
            "Epoch [779/3000]: Train loss: 0.1196, Valid loss: 0.1213\n"
          ]
        },
        {
          "output_type": "stream",
          "name": "stderr",
          "text": [
            "Epoch [780/3000]: 100%|██████████| 4/4 [00:00<00:00, 93.97it/s, loss=0.0602]\n"
          ]
        },
        {
          "output_type": "stream",
          "name": "stdout",
          "text": [
            "Epoch [780/3000]: Train loss: 0.0984, Valid loss: 0.1222\n"
          ]
        },
        {
          "output_type": "stream",
          "name": "stderr",
          "text": [
            "Epoch [781/3000]: 100%|██████████| 4/4 [00:00<00:00, 117.56it/s, loss=0.114]\n"
          ]
        },
        {
          "output_type": "stream",
          "name": "stdout",
          "text": [
            "Epoch [781/3000]: Train loss: 0.1094, Valid loss: 0.1260\n"
          ]
        },
        {
          "output_type": "stream",
          "name": "stderr",
          "text": [
            "Epoch [782/3000]: 100%|██████████| 4/4 [00:00<00:00, 111.89it/s, loss=0.103]\n"
          ]
        },
        {
          "output_type": "stream",
          "name": "stdout",
          "text": [
            "Epoch [782/3000]: Train loss: 0.1071, Valid loss: 0.1248\n"
          ]
        },
        {
          "output_type": "stream",
          "name": "stderr",
          "text": [
            "Epoch [783/3000]: 100%|██████████| 4/4 [00:00<00:00, 112.56it/s, loss=0.129]\n"
          ]
        },
        {
          "output_type": "stream",
          "name": "stdout",
          "text": [
            "Epoch [783/3000]: Train loss: 0.1127, Valid loss: 0.1258\n"
          ]
        },
        {
          "output_type": "stream",
          "name": "stderr",
          "text": [
            "Epoch [784/3000]: 100%|██████████| 4/4 [00:00<00:00, 104.28it/s, loss=0.106]\n"
          ]
        },
        {
          "output_type": "stream",
          "name": "stdout",
          "text": [
            "Epoch [784/3000]: Train loss: 0.1083, Valid loss: 0.1207\n"
          ]
        },
        {
          "output_type": "stream",
          "name": "stderr",
          "text": [
            "Epoch [785/3000]: 100%|██████████| 4/4 [00:00<00:00, 50.55it/s, loss=0.158]\n"
          ]
        },
        {
          "output_type": "stream",
          "name": "stdout",
          "text": [
            "Epoch [785/3000]: Train loss: 0.1196, Valid loss: 0.1205\n"
          ]
        },
        {
          "output_type": "stream",
          "name": "stderr",
          "text": [
            "Epoch [786/3000]: 100%|██████████| 4/4 [00:00<00:00, 111.79it/s, loss=0.0989]\n"
          ]
        },
        {
          "output_type": "stream",
          "name": "stdout",
          "text": [
            "Epoch [786/3000]: Train loss: 0.1062, Valid loss: 0.1273\n"
          ]
        },
        {
          "output_type": "stream",
          "name": "stderr",
          "text": [
            "Epoch [787/3000]: 100%|██████████| 4/4 [00:00<00:00, 102.04it/s, loss=0.127]\n"
          ]
        },
        {
          "output_type": "stream",
          "name": "stdout",
          "text": [
            "Epoch [787/3000]: Train loss: 0.1126, Valid loss: 0.1209\n"
          ]
        },
        {
          "output_type": "stream",
          "name": "stderr",
          "text": [
            "Epoch [788/3000]: 100%|██████████| 4/4 [00:00<00:00, 94.67it/s, loss=0.0895]\n"
          ]
        },
        {
          "output_type": "stream",
          "name": "stdout",
          "text": [
            "Epoch [788/3000]: Train loss: 0.1034, Valid loss: 0.1218\n"
          ]
        },
        {
          "output_type": "stream",
          "name": "stderr",
          "text": [
            "Epoch [789/3000]: 100%|██████████| 4/4 [00:00<00:00, 117.54it/s, loss=0.0707]\n"
          ]
        },
        {
          "output_type": "stream",
          "name": "stdout",
          "text": [
            "Epoch [789/3000]: Train loss: 0.1004, Valid loss: 0.1262\n"
          ]
        },
        {
          "output_type": "stream",
          "name": "stderr",
          "text": [
            "Epoch [790/3000]: 100%|██████████| 4/4 [00:00<00:00, 124.39it/s, loss=0.105]\n"
          ]
        },
        {
          "output_type": "stream",
          "name": "stdout",
          "text": [
            "Epoch [790/3000]: Train loss: 0.1077, Valid loss: 0.1197\n"
          ]
        },
        {
          "output_type": "stream",
          "name": "stderr",
          "text": [
            "Epoch [791/3000]: 100%|██████████| 4/4 [00:00<00:00, 132.15it/s, loss=0.0906]\n"
          ]
        },
        {
          "output_type": "stream",
          "name": "stdout",
          "text": [
            "Epoch [791/3000]: Train loss: 0.1045, Valid loss: 0.1207\n"
          ]
        },
        {
          "output_type": "stream",
          "name": "stderr",
          "text": [
            "Epoch [792/3000]: 100%|██████████| 4/4 [00:00<00:00, 94.79it/s, loss=0.143]\n"
          ]
        },
        {
          "output_type": "stream",
          "name": "stdout",
          "text": [
            "Epoch [792/3000]: Train loss: 0.1149, Valid loss: 0.1236\n"
          ]
        },
        {
          "output_type": "stream",
          "name": "stderr",
          "text": [
            "Epoch [793/3000]: 100%|██████████| 4/4 [00:00<00:00, 107.24it/s, loss=0.132]\n"
          ]
        },
        {
          "output_type": "stream",
          "name": "stdout",
          "text": [
            "Epoch [793/3000]: Train loss: 0.1128, Valid loss: 0.1203\n"
          ]
        },
        {
          "output_type": "stream",
          "name": "stderr",
          "text": [
            "Epoch [794/3000]: 100%|██████████| 4/4 [00:00<00:00, 123.01it/s, loss=0.0804]\n"
          ]
        },
        {
          "output_type": "stream",
          "name": "stdout",
          "text": [
            "Epoch [794/3000]: Train loss: 0.1017, Valid loss: 0.1207\n"
          ]
        },
        {
          "output_type": "stream",
          "name": "stderr",
          "text": [
            "Epoch [795/3000]: 100%|██████████| 4/4 [00:00<00:00, 114.28it/s, loss=0.105]\n"
          ]
        },
        {
          "output_type": "stream",
          "name": "stdout",
          "text": [
            "Epoch [795/3000]: Train loss: 0.1074, Valid loss: 0.1183\n",
            "Saving model with loss 0.118...\n"
          ]
        },
        {
          "output_type": "stream",
          "name": "stderr",
          "text": [
            "Epoch [796/3000]: 100%|██████████| 4/4 [00:00<00:00, 135.07it/s, loss=0.129]\n"
          ]
        },
        {
          "output_type": "stream",
          "name": "stdout",
          "text": [
            "Epoch [796/3000]: Train loss: 0.1131, Valid loss: 0.1216\n"
          ]
        },
        {
          "output_type": "stream",
          "name": "stderr",
          "text": [
            "Epoch [797/3000]: 100%|██████████| 4/4 [00:00<00:00, 113.53it/s, loss=0.124]\n"
          ]
        },
        {
          "output_type": "stream",
          "name": "stdout",
          "text": [
            "Epoch [797/3000]: Train loss: 0.1113, Valid loss: 0.1243\n"
          ]
        },
        {
          "output_type": "stream",
          "name": "stderr",
          "text": [
            "Epoch [798/3000]: 100%|██████████| 4/4 [00:00<00:00, 119.65it/s, loss=0.1]\n"
          ]
        },
        {
          "output_type": "stream",
          "name": "stdout",
          "text": [
            "Epoch [798/3000]: Train loss: 0.1058, Valid loss: 0.1183\n",
            "Saving model with loss 0.118...\n"
          ]
        },
        {
          "output_type": "stream",
          "name": "stderr",
          "text": [
            "Epoch [799/3000]: 100%|██████████| 4/4 [00:00<00:00, 103.88it/s, loss=0.149]\n"
          ]
        },
        {
          "output_type": "stream",
          "name": "stdout",
          "text": [
            "Epoch [799/3000]: Train loss: 0.1162, Valid loss: 0.1244\n"
          ]
        },
        {
          "output_type": "stream",
          "name": "stderr",
          "text": [
            "Epoch [800/3000]: 100%|██████████| 4/4 [00:00<00:00, 126.77it/s, loss=0.111]\n"
          ]
        },
        {
          "output_type": "stream",
          "name": "stdout",
          "text": [
            "Epoch [800/3000]: Train loss: 0.1094, Valid loss: 0.1241\n"
          ]
        },
        {
          "output_type": "stream",
          "name": "stderr",
          "text": [
            "Epoch [801/3000]: 100%|██████████| 4/4 [00:00<00:00, 112.53it/s, loss=0.0945]\n"
          ]
        },
        {
          "output_type": "stream",
          "name": "stdout",
          "text": [
            "Epoch [801/3000]: Train loss: 0.1051, Valid loss: 0.1193\n"
          ]
        },
        {
          "output_type": "stream",
          "name": "stderr",
          "text": [
            "Epoch [802/3000]: 100%|██████████| 4/4 [00:00<00:00, 112.65it/s, loss=0.107]\n"
          ]
        },
        {
          "output_type": "stream",
          "name": "stdout",
          "text": [
            "Epoch [802/3000]: Train loss: 0.1072, Valid loss: 0.1195\n"
          ]
        },
        {
          "output_type": "stream",
          "name": "stderr",
          "text": [
            "Epoch [803/3000]: 100%|██████████| 4/4 [00:00<00:00, 130.54it/s, loss=0.145]\n"
          ]
        },
        {
          "output_type": "stream",
          "name": "stdout",
          "text": [
            "Epoch [803/3000]: Train loss: 0.1162, Valid loss: 0.1222\n"
          ]
        },
        {
          "output_type": "stream",
          "name": "stderr",
          "text": [
            "Epoch [804/3000]: 100%|██████████| 4/4 [00:00<00:00, 100.63it/s, loss=0.148]\n"
          ]
        },
        {
          "output_type": "stream",
          "name": "stdout",
          "text": [
            "Epoch [804/3000]: Train loss: 0.1155, Valid loss: 0.1235\n"
          ]
        },
        {
          "output_type": "stream",
          "name": "stderr",
          "text": [
            "Epoch [805/3000]: 100%|██████████| 4/4 [00:00<00:00, 123.44it/s, loss=0.0915]\n"
          ]
        },
        {
          "output_type": "stream",
          "name": "stdout",
          "text": [
            "Epoch [805/3000]: Train loss: 0.1036, Valid loss: 0.1192\n"
          ]
        },
        {
          "output_type": "stream",
          "name": "stderr",
          "text": [
            "Epoch [806/3000]: 100%|██████████| 4/4 [00:00<00:00, 122.09it/s, loss=0.0614]\n"
          ]
        },
        {
          "output_type": "stream",
          "name": "stdout",
          "text": [
            "Epoch [806/3000]: Train loss: 0.0966, Valid loss: 0.1175\n",
            "Saving model with loss 0.118...\n"
          ]
        },
        {
          "output_type": "stream",
          "name": "stderr",
          "text": [
            "Epoch [807/3000]: 100%|██████████| 4/4 [00:00<00:00, 115.26it/s, loss=0.125]\n"
          ]
        },
        {
          "output_type": "stream",
          "name": "stdout",
          "text": [
            "Epoch [807/3000]: Train loss: 0.1110, Valid loss: 0.1227\n"
          ]
        },
        {
          "output_type": "stream",
          "name": "stderr",
          "text": [
            "Epoch [808/3000]: 100%|██████████| 4/4 [00:00<00:00, 107.92it/s, loss=0.122]\n"
          ]
        },
        {
          "output_type": "stream",
          "name": "stdout",
          "text": [
            "Epoch [808/3000]: Train loss: 0.1101, Valid loss: 0.1192\n"
          ]
        },
        {
          "output_type": "stream",
          "name": "stderr",
          "text": [
            "Epoch [809/3000]: 100%|██████████| 4/4 [00:00<00:00, 111.37it/s, loss=0.124]\n"
          ]
        },
        {
          "output_type": "stream",
          "name": "stdout",
          "text": [
            "Epoch [809/3000]: Train loss: 0.1108, Valid loss: 0.1193\n"
          ]
        },
        {
          "output_type": "stream",
          "name": "stderr",
          "text": [
            "Epoch [810/3000]: 100%|██████████| 4/4 [00:00<00:00, 129.35it/s, loss=0.211]\n"
          ]
        },
        {
          "output_type": "stream",
          "name": "stdout",
          "text": [
            "Epoch [810/3000]: Train loss: 0.1286, Valid loss: 0.1261\n"
          ]
        },
        {
          "output_type": "stream",
          "name": "stderr",
          "text": [
            "Epoch [811/3000]: 100%|██████████| 4/4 [00:00<00:00, 121.76it/s, loss=0.106]\n"
          ]
        },
        {
          "output_type": "stream",
          "name": "stdout",
          "text": [
            "Epoch [811/3000]: Train loss: 0.1079, Valid loss: 0.1190\n"
          ]
        },
        {
          "output_type": "stream",
          "name": "stderr",
          "text": [
            "Epoch [812/3000]: 100%|██████████| 4/4 [00:00<00:00, 116.26it/s, loss=0.114]\n"
          ]
        },
        {
          "output_type": "stream",
          "name": "stdout",
          "text": [
            "Epoch [812/3000]: Train loss: 0.1110, Valid loss: 0.1164\n",
            "Saving model with loss 0.116...\n"
          ]
        },
        {
          "output_type": "stream",
          "name": "stderr",
          "text": [
            "Epoch [813/3000]: 100%|██████████| 4/4 [00:00<00:00, 117.27it/s, loss=0.107]\n"
          ]
        },
        {
          "output_type": "stream",
          "name": "stdout",
          "text": [
            "Epoch [813/3000]: Train loss: 0.1071, Valid loss: 0.1324\n"
          ]
        },
        {
          "output_type": "stream",
          "name": "stderr",
          "text": [
            "Epoch [814/3000]: 100%|██████████| 4/4 [00:00<00:00, 104.31it/s, loss=0.103]\n"
          ]
        },
        {
          "output_type": "stream",
          "name": "stdout",
          "text": [
            "Epoch [814/3000]: Train loss: 0.1081, Valid loss: 0.1172\n"
          ]
        },
        {
          "output_type": "stream",
          "name": "stderr",
          "text": [
            "Epoch [815/3000]: 100%|██████████| 4/4 [00:00<00:00, 112.95it/s, loss=0.0825]\n"
          ]
        },
        {
          "output_type": "stream",
          "name": "stdout",
          "text": [
            "Epoch [815/3000]: Train loss: 0.1056, Valid loss: 0.1172\n"
          ]
        },
        {
          "output_type": "stream",
          "name": "stderr",
          "text": [
            "Epoch [816/3000]: 100%|██████████| 4/4 [00:00<00:00, 104.83it/s, loss=0.115]\n"
          ]
        },
        {
          "output_type": "stream",
          "name": "stdout",
          "text": [
            "Epoch [816/3000]: Train loss: 0.1088, Valid loss: 0.1294\n"
          ]
        },
        {
          "output_type": "stream",
          "name": "stderr",
          "text": [
            "Epoch [817/3000]: 100%|██████████| 4/4 [00:00<00:00, 119.63it/s, loss=0.113]\n"
          ]
        },
        {
          "output_type": "stream",
          "name": "stdout",
          "text": [
            "Epoch [817/3000]: Train loss: 0.1112, Valid loss: 0.1201\n"
          ]
        },
        {
          "output_type": "stream",
          "name": "stderr",
          "text": [
            "Epoch [818/3000]: 100%|██████████| 4/4 [00:00<00:00, 112.18it/s, loss=0.163]\n"
          ]
        },
        {
          "output_type": "stream",
          "name": "stdout",
          "text": [
            "Epoch [818/3000]: Train loss: 0.1200, Valid loss: 0.1184\n"
          ]
        },
        {
          "output_type": "stream",
          "name": "stderr",
          "text": [
            "Epoch [819/3000]: 100%|██████████| 4/4 [00:00<00:00, 129.20it/s, loss=0.15]\n"
          ]
        },
        {
          "output_type": "stream",
          "name": "stdout",
          "text": [
            "Epoch [819/3000]: Train loss: 0.1153, Valid loss: 0.1347\n"
          ]
        },
        {
          "output_type": "stream",
          "name": "stderr",
          "text": [
            "Epoch [820/3000]: 100%|██████████| 4/4 [00:00<00:00, 128.08it/s, loss=0.13]\n"
          ]
        },
        {
          "output_type": "stream",
          "name": "stdout",
          "text": [
            "Epoch [820/3000]: Train loss: 0.1164, Valid loss: 0.1203\n"
          ]
        },
        {
          "output_type": "stream",
          "name": "stderr",
          "text": [
            "Epoch [821/3000]: 100%|██████████| 4/4 [00:00<00:00, 106.83it/s, loss=0.0942]\n"
          ]
        },
        {
          "output_type": "stream",
          "name": "stdout",
          "text": [
            "Epoch [821/3000]: Train loss: 0.1045, Valid loss: 0.1215\n"
          ]
        },
        {
          "output_type": "stream",
          "name": "stderr",
          "text": [
            "Epoch [822/3000]: 100%|██████████| 4/4 [00:00<00:00, 115.82it/s, loss=0.0777]\n"
          ]
        },
        {
          "output_type": "stream",
          "name": "stdout",
          "text": [
            "Epoch [822/3000]: Train loss: 0.1010, Valid loss: 0.1216\n"
          ]
        },
        {
          "output_type": "stream",
          "name": "stderr",
          "text": [
            "Epoch [823/3000]: 100%|██████████| 4/4 [00:00<00:00, 109.90it/s, loss=0.0962]\n"
          ]
        },
        {
          "output_type": "stream",
          "name": "stdout",
          "text": [
            "Epoch [823/3000]: Train loss: 0.1046, Valid loss: 0.1247\n"
          ]
        },
        {
          "output_type": "stream",
          "name": "stderr",
          "text": [
            "Epoch [824/3000]: 100%|██████████| 4/4 [00:00<00:00, 129.21it/s, loss=0.0925]\n"
          ]
        },
        {
          "output_type": "stream",
          "name": "stdout",
          "text": [
            "Epoch [824/3000]: Train loss: 0.1031, Valid loss: 0.1183\n"
          ]
        },
        {
          "output_type": "stream",
          "name": "stderr",
          "text": [
            "Epoch [825/3000]: 100%|██████████| 4/4 [00:00<00:00, 140.50it/s, loss=0.0792]\n"
          ]
        },
        {
          "output_type": "stream",
          "name": "stdout",
          "text": [
            "Epoch [825/3000]: Train loss: 0.0995, Valid loss: 0.1214\n"
          ]
        },
        {
          "output_type": "stream",
          "name": "stderr",
          "text": [
            "Epoch [826/3000]: 100%|██████████| 4/4 [00:00<00:00, 141.77it/s, loss=0.124]\n"
          ]
        },
        {
          "output_type": "stream",
          "name": "stdout",
          "text": [
            "Epoch [826/3000]: Train loss: 0.1091, Valid loss: 0.1199\n"
          ]
        },
        {
          "output_type": "stream",
          "name": "stderr",
          "text": [
            "Epoch [827/3000]: 100%|██████████| 4/4 [00:00<00:00, 125.03it/s, loss=0.0818]\n"
          ]
        },
        {
          "output_type": "stream",
          "name": "stdout",
          "text": [
            "Epoch [827/3000]: Train loss: 0.1001, Valid loss: 0.1197\n"
          ]
        },
        {
          "output_type": "stream",
          "name": "stderr",
          "text": [
            "Epoch [828/3000]: 100%|██████████| 4/4 [00:00<00:00, 107.14it/s, loss=0.144]\n"
          ]
        },
        {
          "output_type": "stream",
          "name": "stdout",
          "text": [
            "Epoch [828/3000]: Train loss: 0.1136, Valid loss: 0.1183\n"
          ]
        },
        {
          "output_type": "stream",
          "name": "stderr",
          "text": [
            "Epoch [829/3000]: 100%|██████████| 4/4 [00:00<00:00, 128.46it/s, loss=0.0963]\n"
          ]
        },
        {
          "output_type": "stream",
          "name": "stdout",
          "text": [
            "Epoch [829/3000]: Train loss: 0.1028, Valid loss: 0.1178\n"
          ]
        },
        {
          "output_type": "stream",
          "name": "stderr",
          "text": [
            "Epoch [830/3000]: 100%|██████████| 4/4 [00:00<00:00, 123.39it/s, loss=0.127]\n"
          ]
        },
        {
          "output_type": "stream",
          "name": "stdout",
          "text": [
            "Epoch [830/3000]: Train loss: 0.1120, Valid loss: 0.1191\n"
          ]
        },
        {
          "output_type": "stream",
          "name": "stderr",
          "text": [
            "Epoch [831/3000]: 100%|██████████| 4/4 [00:00<00:00, 116.39it/s, loss=0.104]\n"
          ]
        },
        {
          "output_type": "stream",
          "name": "stdout",
          "text": [
            "Epoch [831/3000]: Train loss: 0.1051, Valid loss: 0.1230\n"
          ]
        },
        {
          "output_type": "stream",
          "name": "stderr",
          "text": [
            "Epoch [832/3000]: 100%|██████████| 4/4 [00:00<00:00, 114.17it/s, loss=0.0908]\n"
          ]
        },
        {
          "output_type": "stream",
          "name": "stdout",
          "text": [
            "Epoch [832/3000]: Train loss: 0.1040, Valid loss: 0.1177\n"
          ]
        },
        {
          "output_type": "stream",
          "name": "stderr",
          "text": [
            "Epoch [833/3000]: 100%|██████████| 4/4 [00:00<00:00, 127.49it/s, loss=0.135]\n"
          ]
        },
        {
          "output_type": "stream",
          "name": "stdout",
          "text": [
            "Epoch [833/3000]: Train loss: 0.1138, Valid loss: 0.1246\n"
          ]
        },
        {
          "output_type": "stream",
          "name": "stderr",
          "text": [
            "Epoch [834/3000]: 100%|██████████| 4/4 [00:00<00:00, 113.99it/s, loss=0.0913]\n"
          ]
        },
        {
          "output_type": "stream",
          "name": "stdout",
          "text": [
            "Epoch [834/3000]: Train loss: 0.1038, Valid loss: 0.1207\n"
          ]
        },
        {
          "output_type": "stream",
          "name": "stderr",
          "text": [
            "Epoch [835/3000]: 100%|██████████| 4/4 [00:00<00:00, 134.90it/s, loss=0.0733]\n"
          ]
        },
        {
          "output_type": "stream",
          "name": "stdout",
          "text": [
            "Epoch [835/3000]: Train loss: 0.0982, Valid loss: 0.1169\n"
          ]
        },
        {
          "output_type": "stream",
          "name": "stderr",
          "text": [
            "Epoch [836/3000]: 100%|██████████| 4/4 [00:00<00:00, 118.97it/s, loss=0.113]\n"
          ]
        },
        {
          "output_type": "stream",
          "name": "stdout",
          "text": [
            "Epoch [836/3000]: Train loss: 0.1075, Valid loss: 0.1185\n"
          ]
        },
        {
          "output_type": "stream",
          "name": "stderr",
          "text": [
            "Epoch [837/3000]: 100%|██████████| 4/4 [00:00<00:00, 117.14it/s, loss=0.0999]\n"
          ]
        },
        {
          "output_type": "stream",
          "name": "stdout",
          "text": [
            "Epoch [837/3000]: Train loss: 0.1041, Valid loss: 0.1207\n"
          ]
        },
        {
          "output_type": "stream",
          "name": "stderr",
          "text": [
            "Epoch [838/3000]: 100%|██████████| 4/4 [00:00<00:00, 106.92it/s, loss=0.131]\n"
          ]
        },
        {
          "output_type": "stream",
          "name": "stdout",
          "text": [
            "Epoch [838/3000]: Train loss: 0.1100, Valid loss: 0.1167\n"
          ]
        },
        {
          "output_type": "stream",
          "name": "stderr",
          "text": [
            "Epoch [839/3000]: 100%|██████████| 4/4 [00:00<00:00, 105.29it/s, loss=0.0808]\n"
          ]
        },
        {
          "output_type": "stream",
          "name": "stdout",
          "text": [
            "Epoch [839/3000]: Train loss: 0.0993, Valid loss: 0.1169\n"
          ]
        },
        {
          "output_type": "stream",
          "name": "stderr",
          "text": [
            "Epoch [840/3000]: 100%|██████████| 4/4 [00:00<00:00, 111.44it/s, loss=0.101]\n"
          ]
        },
        {
          "output_type": "stream",
          "name": "stdout",
          "text": [
            "Epoch [840/3000]: Train loss: 0.1036, Valid loss: 0.1177\n"
          ]
        },
        {
          "output_type": "stream",
          "name": "stderr",
          "text": [
            "Epoch [841/3000]: 100%|██████████| 4/4 [00:00<00:00, 100.11it/s, loss=0.0732]\n"
          ]
        },
        {
          "output_type": "stream",
          "name": "stdout",
          "text": [
            "Epoch [841/3000]: Train loss: 0.0980, Valid loss: 0.1154\n",
            "Saving model with loss 0.115...\n"
          ]
        },
        {
          "output_type": "stream",
          "name": "stderr",
          "text": [
            "Epoch [842/3000]: 100%|██████████| 4/4 [00:00<00:00, 115.14it/s, loss=0.151]\n"
          ]
        },
        {
          "output_type": "stream",
          "name": "stdout",
          "text": [
            "Epoch [842/3000]: Train loss: 0.1148, Valid loss: 0.1177\n"
          ]
        },
        {
          "output_type": "stream",
          "name": "stderr",
          "text": [
            "Epoch [843/3000]: 100%|██████████| 4/4 [00:00<00:00, 122.06it/s, loss=0.133]\n"
          ]
        },
        {
          "output_type": "stream",
          "name": "stdout",
          "text": [
            "Epoch [843/3000]: Train loss: 0.1106, Valid loss: 0.1193\n"
          ]
        },
        {
          "output_type": "stream",
          "name": "stderr",
          "text": [
            "Epoch [844/3000]: 100%|██████████| 4/4 [00:00<00:00, 110.94it/s, loss=0.102]\n"
          ]
        },
        {
          "output_type": "stream",
          "name": "stdout",
          "text": [
            "Epoch [844/3000]: Train loss: 0.1038, Valid loss: 0.1181\n"
          ]
        },
        {
          "output_type": "stream",
          "name": "stderr",
          "text": [
            "Epoch [845/3000]: 100%|██████████| 4/4 [00:00<00:00, 106.69it/s, loss=0.125]\n"
          ]
        },
        {
          "output_type": "stream",
          "name": "stdout",
          "text": [
            "Epoch [845/3000]: Train loss: 0.1083, Valid loss: 0.1183\n"
          ]
        },
        {
          "output_type": "stream",
          "name": "stderr",
          "text": [
            "Epoch [846/3000]: 100%|██████████| 4/4 [00:00<00:00, 118.58it/s, loss=0.0944]\n"
          ]
        },
        {
          "output_type": "stream",
          "name": "stdout",
          "text": [
            "Epoch [846/3000]: Train loss: 0.1017, Valid loss: 0.1166\n"
          ]
        },
        {
          "output_type": "stream",
          "name": "stderr",
          "text": [
            "Epoch [847/3000]: 100%|██████████| 4/4 [00:00<00:00, 107.46it/s, loss=0.0588]\n"
          ]
        },
        {
          "output_type": "stream",
          "name": "stdout",
          "text": [
            "Epoch [847/3000]: Train loss: 0.0942, Valid loss: 0.1190\n"
          ]
        },
        {
          "output_type": "stream",
          "name": "stderr",
          "text": [
            "Epoch [848/3000]: 100%|██████████| 4/4 [00:00<00:00, 137.49it/s, loss=0.114]\n"
          ]
        },
        {
          "output_type": "stream",
          "name": "stdout",
          "text": [
            "Epoch [848/3000]: Train loss: 0.1064, Valid loss: 0.1168\n"
          ]
        },
        {
          "output_type": "stream",
          "name": "stderr",
          "text": [
            "Epoch [849/3000]: 100%|██████████| 4/4 [00:00<00:00, 117.65it/s, loss=0.0982]\n"
          ]
        },
        {
          "output_type": "stream",
          "name": "stdout",
          "text": [
            "Epoch [849/3000]: Train loss: 0.1047, Valid loss: 0.1159\n"
          ]
        },
        {
          "output_type": "stream",
          "name": "stderr",
          "text": [
            "Epoch [850/3000]: 100%|██████████| 4/4 [00:00<00:00, 64.95it/s, loss=0.112]\n"
          ]
        },
        {
          "output_type": "stream",
          "name": "stdout",
          "text": [
            "Epoch [850/3000]: Train loss: 0.1063, Valid loss: 0.1225\n"
          ]
        },
        {
          "output_type": "stream",
          "name": "stderr",
          "text": [
            "Epoch [851/3000]: 100%|██████████| 4/4 [00:00<00:00, 111.52it/s, loss=0.107]\n"
          ]
        },
        {
          "output_type": "stream",
          "name": "stdout",
          "text": [
            "Epoch [851/3000]: Train loss: 0.1058, Valid loss: 0.1146\n",
            "Saving model with loss 0.115...\n"
          ]
        },
        {
          "output_type": "stream",
          "name": "stderr",
          "text": [
            "Epoch [852/3000]: 100%|██████████| 4/4 [00:00<00:00, 119.04it/s, loss=0.1]\n"
          ]
        },
        {
          "output_type": "stream",
          "name": "stdout",
          "text": [
            "Epoch [852/3000]: Train loss: 0.1041, Valid loss: 0.1156\n"
          ]
        },
        {
          "output_type": "stream",
          "name": "stderr",
          "text": [
            "Epoch [853/3000]: 100%|██████████| 4/4 [00:00<00:00, 116.44it/s, loss=0.116]\n"
          ]
        },
        {
          "output_type": "stream",
          "name": "stdout",
          "text": [
            "Epoch [853/3000]: Train loss: 0.1065, Valid loss: 0.1226\n"
          ]
        },
        {
          "output_type": "stream",
          "name": "stderr",
          "text": [
            "Epoch [854/3000]: 100%|██████████| 4/4 [00:00<00:00, 132.42it/s, loss=0.0882]\n"
          ]
        },
        {
          "output_type": "stream",
          "name": "stdout",
          "text": [
            "Epoch [854/3000]: Train loss: 0.1012, Valid loss: 0.1160\n"
          ]
        },
        {
          "output_type": "stream",
          "name": "stderr",
          "text": [
            "Epoch [855/3000]: 100%|██████████| 4/4 [00:00<00:00, 134.29it/s, loss=0.142]\n"
          ]
        },
        {
          "output_type": "stream",
          "name": "stdout",
          "text": [
            "Epoch [855/3000]: Train loss: 0.1123, Valid loss: 0.1166\n"
          ]
        },
        {
          "output_type": "stream",
          "name": "stderr",
          "text": [
            "Epoch [856/3000]: 100%|██████████| 4/4 [00:00<00:00, 137.21it/s, loss=0.134]\n"
          ]
        },
        {
          "output_type": "stream",
          "name": "stdout",
          "text": [
            "Epoch [856/3000]: Train loss: 0.1115, Valid loss: 0.1184\n"
          ]
        },
        {
          "output_type": "stream",
          "name": "stderr",
          "text": [
            "Epoch [857/3000]: 100%|██████████| 4/4 [00:00<00:00, 125.39it/s, loss=0.113]\n"
          ]
        },
        {
          "output_type": "stream",
          "name": "stdout",
          "text": [
            "Epoch [857/3000]: Train loss: 0.1060, Valid loss: 0.1219\n"
          ]
        },
        {
          "output_type": "stream",
          "name": "stderr",
          "text": [
            "Epoch [858/3000]: 100%|██████████| 4/4 [00:00<00:00, 131.29it/s, loss=0.141]\n"
          ]
        },
        {
          "output_type": "stream",
          "name": "stdout",
          "text": [
            "Epoch [858/3000]: Train loss: 0.1121, Valid loss: 0.1153\n"
          ]
        },
        {
          "output_type": "stream",
          "name": "stderr",
          "text": [
            "Epoch [859/3000]: 100%|██████████| 4/4 [00:00<00:00, 105.59it/s, loss=0.127]\n"
          ]
        },
        {
          "output_type": "stream",
          "name": "stdout",
          "text": [
            "Epoch [859/3000]: Train loss: 0.1089, Valid loss: 0.1192\n"
          ]
        },
        {
          "output_type": "stream",
          "name": "stderr",
          "text": [
            "Epoch [860/3000]: 100%|██████████| 4/4 [00:00<00:00, 84.97it/s, loss=0.111]\n"
          ]
        },
        {
          "output_type": "stream",
          "name": "stdout",
          "text": [
            "Epoch [860/3000]: Train loss: 0.1070, Valid loss: 0.1170\n"
          ]
        },
        {
          "output_type": "stream",
          "name": "stderr",
          "text": [
            "Epoch [861/3000]: 100%|██████████| 4/4 [00:00<00:00, 115.19it/s, loss=0.127]\n"
          ]
        },
        {
          "output_type": "stream",
          "name": "stdout",
          "text": [
            "Epoch [861/3000]: Train loss: 0.1091, Valid loss: 0.1147\n"
          ]
        },
        {
          "output_type": "stream",
          "name": "stderr",
          "text": [
            "Epoch [862/3000]: 100%|██████████| 4/4 [00:00<00:00, 131.21it/s, loss=0.134]\n"
          ]
        },
        {
          "output_type": "stream",
          "name": "stdout",
          "text": [
            "Epoch [862/3000]: Train loss: 0.1108, Valid loss: 0.1228\n"
          ]
        },
        {
          "output_type": "stream",
          "name": "stderr",
          "text": [
            "Epoch [863/3000]: 100%|██████████| 4/4 [00:00<00:00, 115.89it/s, loss=0.113]\n"
          ]
        },
        {
          "output_type": "stream",
          "name": "stdout",
          "text": [
            "Epoch [863/3000]: Train loss: 0.1072, Valid loss: 0.1143\n",
            "Saving model with loss 0.114...\n"
          ]
        },
        {
          "output_type": "stream",
          "name": "stderr",
          "text": [
            "Epoch [864/3000]: 100%|██████████| 4/4 [00:00<00:00, 85.63it/s, loss=0.0977]\n"
          ]
        },
        {
          "output_type": "stream",
          "name": "stdout",
          "text": [
            "Epoch [864/3000]: Train loss: 0.1046, Valid loss: 0.1143\n",
            "Saving model with loss 0.114...\n"
          ]
        },
        {
          "output_type": "stream",
          "name": "stderr",
          "text": [
            "Epoch [865/3000]: 100%|██████████| 4/4 [00:00<00:00, 111.56it/s, loss=0.156]\n"
          ]
        },
        {
          "output_type": "stream",
          "name": "stdout",
          "text": [
            "Epoch [865/3000]: Train loss: 0.1163, Valid loss: 0.1216\n"
          ]
        },
        {
          "output_type": "stream",
          "name": "stderr",
          "text": [
            "Epoch [866/3000]: 100%|██████████| 4/4 [00:00<00:00, 118.41it/s, loss=0.105]\n"
          ]
        },
        {
          "output_type": "stream",
          "name": "stdout",
          "text": [
            "Epoch [866/3000]: Train loss: 0.1044, Valid loss: 0.1146\n"
          ]
        },
        {
          "output_type": "stream",
          "name": "stderr",
          "text": [
            "Epoch [867/3000]: 100%|██████████| 4/4 [00:00<00:00, 124.39it/s, loss=0.133]\n"
          ]
        },
        {
          "output_type": "stream",
          "name": "stdout",
          "text": [
            "Epoch [867/3000]: Train loss: 0.1112, Valid loss: 0.1221\n"
          ]
        },
        {
          "output_type": "stream",
          "name": "stderr",
          "text": [
            "Epoch [868/3000]: 100%|██████████| 4/4 [00:00<00:00, 117.63it/s, loss=0.0879]\n"
          ]
        },
        {
          "output_type": "stream",
          "name": "stdout",
          "text": [
            "Epoch [868/3000]: Train loss: 0.1007, Valid loss: 0.1161\n"
          ]
        },
        {
          "output_type": "stream",
          "name": "stderr",
          "text": [
            "Epoch [869/3000]: 100%|██████████| 4/4 [00:00<00:00, 113.29it/s, loss=0.0619]\n"
          ]
        },
        {
          "output_type": "stream",
          "name": "stdout",
          "text": [
            "Epoch [869/3000]: Train loss: 0.0931, Valid loss: 0.1146\n"
          ]
        },
        {
          "output_type": "stream",
          "name": "stderr",
          "text": [
            "Epoch [870/3000]: 100%|██████████| 4/4 [00:00<00:00, 122.39it/s, loss=0.0993]\n"
          ]
        },
        {
          "output_type": "stream",
          "name": "stdout",
          "text": [
            "Epoch [870/3000]: Train loss: 0.1027, Valid loss: 0.1172\n"
          ]
        },
        {
          "output_type": "stream",
          "name": "stderr",
          "text": [
            "Epoch [871/3000]: 100%|██████████| 4/4 [00:00<00:00, 117.03it/s, loss=0.114]\n"
          ]
        },
        {
          "output_type": "stream",
          "name": "stdout",
          "text": [
            "Epoch [871/3000]: Train loss: 0.1053, Valid loss: 0.1172\n"
          ]
        },
        {
          "output_type": "stream",
          "name": "stderr",
          "text": [
            "Epoch [872/3000]: 100%|██████████| 4/4 [00:00<00:00, 117.87it/s, loss=0.0731]\n"
          ]
        },
        {
          "output_type": "stream",
          "name": "stdout",
          "text": [
            "Epoch [872/3000]: Train loss: 0.0961, Valid loss: 0.1139\n",
            "Saving model with loss 0.114...\n"
          ]
        },
        {
          "output_type": "stream",
          "name": "stderr",
          "text": [
            "Epoch [873/3000]: 100%|██████████| 4/4 [00:00<00:00, 116.18it/s, loss=0.0833]\n"
          ]
        },
        {
          "output_type": "stream",
          "name": "stdout",
          "text": [
            "Epoch [873/3000]: Train loss: 0.0984, Valid loss: 0.1170\n"
          ]
        },
        {
          "output_type": "stream",
          "name": "stderr",
          "text": [
            "Epoch [874/3000]: 100%|██████████| 4/4 [00:00<00:00, 82.28it/s, loss=0.0978]\n"
          ]
        },
        {
          "output_type": "stream",
          "name": "stdout",
          "text": [
            "Epoch [874/3000]: Train loss: 0.1017, Valid loss: 0.1213\n"
          ]
        },
        {
          "output_type": "stream",
          "name": "stderr",
          "text": [
            "Epoch [875/3000]: 100%|██████████| 4/4 [00:00<00:00, 84.60it/s, loss=0.118]\n"
          ]
        },
        {
          "output_type": "stream",
          "name": "stdout",
          "text": [
            "Epoch [875/3000]: Train loss: 0.1077, Valid loss: 0.1156\n"
          ]
        },
        {
          "output_type": "stream",
          "name": "stderr",
          "text": [
            "Epoch [876/3000]: 100%|██████████| 4/4 [00:00<00:00, 121.88it/s, loss=0.11]\n"
          ]
        },
        {
          "output_type": "stream",
          "name": "stdout",
          "text": [
            "Epoch [876/3000]: Train loss: 0.1061, Valid loss: 0.1166\n"
          ]
        },
        {
          "output_type": "stream",
          "name": "stderr",
          "text": [
            "Epoch [877/3000]: 100%|██████████| 4/4 [00:00<00:00, 109.61it/s, loss=0.0811]\n"
          ]
        },
        {
          "output_type": "stream",
          "name": "stdout",
          "text": [
            "Epoch [877/3000]: Train loss: 0.0982, Valid loss: 0.1188\n"
          ]
        },
        {
          "output_type": "stream",
          "name": "stderr",
          "text": [
            "Epoch [878/3000]: 100%|██████████| 4/4 [00:00<00:00, 112.73it/s, loss=0.0962]\n"
          ]
        },
        {
          "output_type": "stream",
          "name": "stdout",
          "text": [
            "Epoch [878/3000]: Train loss: 0.1018, Valid loss: 0.1180\n"
          ]
        },
        {
          "output_type": "stream",
          "name": "stderr",
          "text": [
            "Epoch [879/3000]: 100%|██████████| 4/4 [00:00<00:00, 112.17it/s, loss=0.109]\n"
          ]
        },
        {
          "output_type": "stream",
          "name": "stdout",
          "text": [
            "Epoch [879/3000]: Train loss: 0.1066, Valid loss: 0.1144\n"
          ]
        },
        {
          "output_type": "stream",
          "name": "stderr",
          "text": [
            "Epoch [880/3000]: 100%|██████████| 4/4 [00:00<00:00, 92.51it/s, loss=0.137]\n"
          ]
        },
        {
          "output_type": "stream",
          "name": "stdout",
          "text": [
            "Epoch [880/3000]: Train loss: 0.1103, Valid loss: 0.1194\n"
          ]
        },
        {
          "output_type": "stream",
          "name": "stderr",
          "text": [
            "Epoch [881/3000]: 100%|██████████| 4/4 [00:00<00:00, 100.07it/s, loss=0.0931]\n"
          ]
        },
        {
          "output_type": "stream",
          "name": "stdout",
          "text": [
            "Epoch [881/3000]: Train loss: 0.1009, Valid loss: 0.1142\n"
          ]
        },
        {
          "output_type": "stream",
          "name": "stderr",
          "text": [
            "Epoch [882/3000]: 100%|██████████| 4/4 [00:00<00:00, 115.48it/s, loss=0.108]\n"
          ]
        },
        {
          "output_type": "stream",
          "name": "stdout",
          "text": [
            "Epoch [882/3000]: Train loss: 0.1042, Valid loss: 0.1174\n"
          ]
        },
        {
          "output_type": "stream",
          "name": "stderr",
          "text": [
            "Epoch [883/3000]: 100%|██████████| 4/4 [00:00<00:00, 110.84it/s, loss=0.138]\n"
          ]
        },
        {
          "output_type": "stream",
          "name": "stdout",
          "text": [
            "Epoch [883/3000]: Train loss: 0.1103, Valid loss: 0.1153\n"
          ]
        },
        {
          "output_type": "stream",
          "name": "stderr",
          "text": [
            "Epoch [884/3000]: 100%|██████████| 4/4 [00:00<00:00, 128.50it/s, loss=0.0779]\n"
          ]
        },
        {
          "output_type": "stream",
          "name": "stdout",
          "text": [
            "Epoch [884/3000]: Train loss: 0.0971, Valid loss: 0.1138\n",
            "Saving model with loss 0.114...\n"
          ]
        },
        {
          "output_type": "stream",
          "name": "stderr",
          "text": [
            "Epoch [885/3000]: 100%|██████████| 4/4 [00:00<00:00, 113.43it/s, loss=0.134]\n"
          ]
        },
        {
          "output_type": "stream",
          "name": "stdout",
          "text": [
            "Epoch [885/3000]: Train loss: 0.1103, Valid loss: 0.1192\n"
          ]
        },
        {
          "output_type": "stream",
          "name": "stderr",
          "text": [
            "Epoch [886/3000]: 100%|██████████| 4/4 [00:00<00:00, 122.73it/s, loss=0.0875]\n"
          ]
        },
        {
          "output_type": "stream",
          "name": "stdout",
          "text": [
            "Epoch [886/3000]: Train loss: 0.0999, Valid loss: 0.1211\n"
          ]
        },
        {
          "output_type": "stream",
          "name": "stderr",
          "text": [
            "Epoch [887/3000]: 100%|██████████| 4/4 [00:00<00:00, 113.66it/s, loss=0.0779]\n"
          ]
        },
        {
          "output_type": "stream",
          "name": "stdout",
          "text": [
            "Epoch [887/3000]: Train loss: 0.0997, Valid loss: 0.1181\n"
          ]
        },
        {
          "output_type": "stream",
          "name": "stderr",
          "text": [
            "Epoch [888/3000]: 100%|██████████| 4/4 [00:00<00:00, 83.04it/s, loss=0.115]\n"
          ]
        },
        {
          "output_type": "stream",
          "name": "stdout",
          "text": [
            "Epoch [888/3000]: Train loss: 0.1047, Valid loss: 0.1148\n"
          ]
        },
        {
          "output_type": "stream",
          "name": "stderr",
          "text": [
            "Epoch [889/3000]: 100%|██████████| 4/4 [00:00<00:00, 114.02it/s, loss=0.0968]\n"
          ]
        },
        {
          "output_type": "stream",
          "name": "stdout",
          "text": [
            "Epoch [889/3000]: Train loss: 0.1018, Valid loss: 0.1138\n"
          ]
        },
        {
          "output_type": "stream",
          "name": "stderr",
          "text": [
            "Epoch [890/3000]: 100%|██████████| 4/4 [00:00<00:00, 114.77it/s, loss=0.113]\n"
          ]
        },
        {
          "output_type": "stream",
          "name": "stdout",
          "text": [
            "Epoch [890/3000]: Train loss: 0.1042, Valid loss: 0.1140\n"
          ]
        },
        {
          "output_type": "stream",
          "name": "stderr",
          "text": [
            "Epoch [891/3000]: 100%|██████████| 4/4 [00:00<00:00, 129.12it/s, loss=0.0832]\n"
          ]
        },
        {
          "output_type": "stream",
          "name": "stdout",
          "text": [
            "Epoch [891/3000]: Train loss: 0.0978, Valid loss: 0.1194\n"
          ]
        },
        {
          "output_type": "stream",
          "name": "stderr",
          "text": [
            "Epoch [892/3000]: 100%|██████████| 4/4 [00:00<00:00, 115.54it/s, loss=0.126]\n"
          ]
        },
        {
          "output_type": "stream",
          "name": "stdout",
          "text": [
            "Epoch [892/3000]: Train loss: 0.1072, Valid loss: 0.1149\n"
          ]
        },
        {
          "output_type": "stream",
          "name": "stderr",
          "text": [
            "Epoch [893/3000]: 100%|██████████| 4/4 [00:00<00:00, 124.60it/s, loss=0.107]\n"
          ]
        },
        {
          "output_type": "stream",
          "name": "stdout",
          "text": [
            "Epoch [893/3000]: Train loss: 0.1028, Valid loss: 0.1145\n"
          ]
        },
        {
          "output_type": "stream",
          "name": "stderr",
          "text": [
            "Epoch [894/3000]: 100%|██████████| 4/4 [00:00<00:00, 121.31it/s, loss=0.0913]\n"
          ]
        },
        {
          "output_type": "stream",
          "name": "stdout",
          "text": [
            "Epoch [894/3000]: Train loss: 0.0990, Valid loss: 0.1133\n",
            "Saving model with loss 0.113...\n"
          ]
        },
        {
          "output_type": "stream",
          "name": "stderr",
          "text": [
            "Epoch [895/3000]: 100%|██████████| 4/4 [00:00<00:00, 118.30it/s, loss=0.11]\n"
          ]
        },
        {
          "output_type": "stream",
          "name": "stdout",
          "text": [
            "Epoch [895/3000]: Train loss: 0.1033, Valid loss: 0.1126\n",
            "Saving model with loss 0.113...\n"
          ]
        },
        {
          "output_type": "stream",
          "name": "stderr",
          "text": [
            "Epoch [896/3000]: 100%|██████████| 4/4 [00:00<00:00, 112.01it/s, loss=0.11]\n"
          ]
        },
        {
          "output_type": "stream",
          "name": "stdout",
          "text": [
            "Epoch [896/3000]: Train loss: 0.1038, Valid loss: 0.1122\n",
            "Saving model with loss 0.112...\n"
          ]
        },
        {
          "output_type": "stream",
          "name": "stderr",
          "text": [
            "Epoch [897/3000]: 100%|██████████| 4/4 [00:00<00:00, 124.18it/s, loss=0.0693]\n"
          ]
        },
        {
          "output_type": "stream",
          "name": "stdout",
          "text": [
            "Epoch [897/3000]: Train loss: 0.0947, Valid loss: 0.1160\n"
          ]
        },
        {
          "output_type": "stream",
          "name": "stderr",
          "text": [
            "Epoch [898/3000]: 100%|██████████| 4/4 [00:00<00:00, 119.52it/s, loss=0.101]\n"
          ]
        },
        {
          "output_type": "stream",
          "name": "stdout",
          "text": [
            "Epoch [898/3000]: Train loss: 0.1020, Valid loss: 0.1170\n"
          ]
        },
        {
          "output_type": "stream",
          "name": "stderr",
          "text": [
            "Epoch [899/3000]: 100%|██████████| 4/4 [00:00<00:00, 125.38it/s, loss=0.123]\n"
          ]
        },
        {
          "output_type": "stream",
          "name": "stdout",
          "text": [
            "Epoch [899/3000]: Train loss: 0.1058, Valid loss: 0.1133\n"
          ]
        },
        {
          "output_type": "stream",
          "name": "stderr",
          "text": [
            "Epoch [900/3000]: 100%|██████████| 4/4 [00:00<00:00, 137.30it/s, loss=0.105]\n"
          ]
        },
        {
          "output_type": "stream",
          "name": "stdout",
          "text": [
            "Epoch [900/3000]: Train loss: 0.1017, Valid loss: 0.1150\n"
          ]
        },
        {
          "output_type": "stream",
          "name": "stderr",
          "text": [
            "Epoch [901/3000]: 100%|██████████| 4/4 [00:00<00:00, 123.18it/s, loss=0.107]\n"
          ]
        },
        {
          "output_type": "stream",
          "name": "stdout",
          "text": [
            "Epoch [901/3000]: Train loss: 0.1025, Valid loss: 0.1167\n"
          ]
        },
        {
          "output_type": "stream",
          "name": "stderr",
          "text": [
            "Epoch [902/3000]: 100%|██████████| 4/4 [00:00<00:00, 117.64it/s, loss=0.104]\n"
          ]
        },
        {
          "output_type": "stream",
          "name": "stdout",
          "text": [
            "Epoch [902/3000]: Train loss: 0.1018, Valid loss: 0.1125\n"
          ]
        },
        {
          "output_type": "stream",
          "name": "stderr",
          "text": [
            "Epoch [903/3000]: 100%|██████████| 4/4 [00:00<00:00, 98.86it/s, loss=0.0956]\n"
          ]
        },
        {
          "output_type": "stream",
          "name": "stdout",
          "text": [
            "Epoch [903/3000]: Train loss: 0.1002, Valid loss: 0.1122\n"
          ]
        },
        {
          "output_type": "stream",
          "name": "stderr",
          "text": [
            "Epoch [904/3000]: 100%|██████████| 4/4 [00:00<00:00, 88.47it/s, loss=0.0988]\n"
          ]
        },
        {
          "output_type": "stream",
          "name": "stdout",
          "text": [
            "Epoch [904/3000]: Train loss: 0.0997, Valid loss: 0.1158\n"
          ]
        },
        {
          "output_type": "stream",
          "name": "stderr",
          "text": [
            "Epoch [905/3000]: 100%|██████████| 4/4 [00:00<00:00, 117.82it/s, loss=0.0973]\n"
          ]
        },
        {
          "output_type": "stream",
          "name": "stdout",
          "text": [
            "Epoch [905/3000]: Train loss: 0.1005, Valid loss: 0.1138\n"
          ]
        },
        {
          "output_type": "stream",
          "name": "stderr",
          "text": [
            "Epoch [906/3000]: 100%|██████████| 4/4 [00:00<00:00, 121.92it/s, loss=0.0814]\n"
          ]
        },
        {
          "output_type": "stream",
          "name": "stdout",
          "text": [
            "Epoch [906/3000]: Train loss: 0.0962, Valid loss: 0.1110\n",
            "Saving model with loss 0.111...\n"
          ]
        },
        {
          "output_type": "stream",
          "name": "stderr",
          "text": [
            "Epoch [907/3000]: 100%|██████████| 4/4 [00:00<00:00, 120.92it/s, loss=0.135]\n"
          ]
        },
        {
          "output_type": "stream",
          "name": "stdout",
          "text": [
            "Epoch [907/3000]: Train loss: 0.1105, Valid loss: 0.1145\n"
          ]
        },
        {
          "output_type": "stream",
          "name": "stderr",
          "text": [
            "Epoch [908/3000]: 100%|██████████| 4/4 [00:00<00:00, 25.20it/s, loss=0.122]\n"
          ]
        },
        {
          "output_type": "stream",
          "name": "stdout",
          "text": [
            "Epoch [908/3000]: Train loss: 0.1067, Valid loss: 0.1169\n"
          ]
        },
        {
          "output_type": "stream",
          "name": "stderr",
          "text": [
            "Epoch [909/3000]: 100%|██████████| 4/4 [00:00<00:00, 113.90it/s, loss=0.0796]\n"
          ]
        },
        {
          "output_type": "stream",
          "name": "stdout",
          "text": [
            "Epoch [909/3000]: Train loss: 0.0973, Valid loss: 0.1125\n"
          ]
        },
        {
          "output_type": "stream",
          "name": "stderr",
          "text": [
            "Epoch [910/3000]: 100%|██████████| 4/4 [00:00<00:00, 84.16it/s, loss=0.151]\n"
          ]
        },
        {
          "output_type": "stream",
          "name": "stdout",
          "text": [
            "Epoch [910/3000]: Train loss: 0.1121, Valid loss: 0.1178\n"
          ]
        },
        {
          "output_type": "stream",
          "name": "stderr",
          "text": [
            "Epoch [911/3000]: 100%|██████████| 4/4 [00:00<00:00, 81.41it/s, loss=0.0999]\n"
          ]
        },
        {
          "output_type": "stream",
          "name": "stdout",
          "text": [
            "Epoch [911/3000]: Train loss: 0.1017, Valid loss: 0.1152\n"
          ]
        },
        {
          "output_type": "stream",
          "name": "stderr",
          "text": [
            "Epoch [912/3000]: 100%|██████████| 4/4 [00:00<00:00, 78.38it/s, loss=0.0874]\n"
          ]
        },
        {
          "output_type": "stream",
          "name": "stdout",
          "text": [
            "Epoch [912/3000]: Train loss: 0.0977, Valid loss: 0.1123\n"
          ]
        },
        {
          "output_type": "stream",
          "name": "stderr",
          "text": [
            "Epoch [913/3000]: 100%|██████████| 4/4 [00:00<00:00, 94.92it/s, loss=0.118]\n"
          ]
        },
        {
          "output_type": "stream",
          "name": "stdout",
          "text": [
            "Epoch [913/3000]: Train loss: 0.1057, Valid loss: 0.1123\n"
          ]
        },
        {
          "output_type": "stream",
          "name": "stderr",
          "text": [
            "Epoch [914/3000]: 100%|██████████| 4/4 [00:00<00:00, 100.04it/s, loss=0.116]\n"
          ]
        },
        {
          "output_type": "stream",
          "name": "stdout",
          "text": [
            "Epoch [914/3000]: Train loss: 0.1043, Valid loss: 0.1112\n"
          ]
        },
        {
          "output_type": "stream",
          "name": "stderr",
          "text": [
            "Epoch [915/3000]: 100%|██████████| 4/4 [00:00<00:00, 100.16it/s, loss=0.14]\n"
          ]
        },
        {
          "output_type": "stream",
          "name": "stdout",
          "text": [
            "Epoch [915/3000]: Train loss: 0.1092, Valid loss: 0.1132\n"
          ]
        },
        {
          "output_type": "stream",
          "name": "stderr",
          "text": [
            "Epoch [916/3000]: 100%|██████████| 4/4 [00:00<00:00, 107.67it/s, loss=0.0844]\n"
          ]
        },
        {
          "output_type": "stream",
          "name": "stdout",
          "text": [
            "Epoch [916/3000]: Train loss: 0.0972, Valid loss: 0.1123\n"
          ]
        },
        {
          "output_type": "stream",
          "name": "stderr",
          "text": [
            "Epoch [917/3000]: 100%|██████████| 4/4 [00:00<00:00, 89.91it/s, loss=0.0671]\n"
          ]
        },
        {
          "output_type": "stream",
          "name": "stdout",
          "text": [
            "Epoch [917/3000]: Train loss: 0.0935, Valid loss: 0.1157\n"
          ]
        },
        {
          "output_type": "stream",
          "name": "stderr",
          "text": [
            "Epoch [918/3000]: 100%|██████████| 4/4 [00:00<00:00, 98.85it/s, loss=0.0762]\n"
          ]
        },
        {
          "output_type": "stream",
          "name": "stdout",
          "text": [
            "Epoch [918/3000]: Train loss: 0.0954, Valid loss: 0.1127\n"
          ]
        },
        {
          "output_type": "stream",
          "name": "stderr",
          "text": [
            "Epoch [919/3000]: 100%|██████████| 4/4 [00:00<00:00, 105.24it/s, loss=0.0985]\n"
          ]
        },
        {
          "output_type": "stream",
          "name": "stdout",
          "text": [
            "Epoch [919/3000]: Train loss: 0.1005, Valid loss: 0.1162\n"
          ]
        },
        {
          "output_type": "stream",
          "name": "stderr",
          "text": [
            "Epoch [920/3000]: 100%|██████████| 4/4 [00:00<00:00, 95.45it/s, loss=0.0604]\n"
          ]
        },
        {
          "output_type": "stream",
          "name": "stdout",
          "text": [
            "Epoch [920/3000]: Train loss: 0.0930, Valid loss: 0.1231\n"
          ]
        },
        {
          "output_type": "stream",
          "name": "stderr",
          "text": [
            "Epoch [921/3000]: 100%|██████████| 4/4 [00:00<00:00, 98.24it/s, loss=0.114]\n"
          ]
        },
        {
          "output_type": "stream",
          "name": "stdout",
          "text": [
            "Epoch [921/3000]: Train loss: 0.1062, Valid loss: 0.1114\n"
          ]
        },
        {
          "output_type": "stream",
          "name": "stderr",
          "text": [
            "Epoch [922/3000]: 100%|██████████| 4/4 [00:00<00:00, 89.37it/s, loss=0.0961]\n"
          ]
        },
        {
          "output_type": "stream",
          "name": "stdout",
          "text": [
            "Epoch [922/3000]: Train loss: 0.1032, Valid loss: 0.1110\n",
            "Saving model with loss 0.111...\n"
          ]
        },
        {
          "output_type": "stream",
          "name": "stderr",
          "text": [
            "Epoch [923/3000]: 100%|██████████| 4/4 [00:00<00:00, 93.44it/s, loss=0.0683]\n"
          ]
        },
        {
          "output_type": "stream",
          "name": "stdout",
          "text": [
            "Epoch [923/3000]: Train loss: 0.0953, Valid loss: 0.1200\n"
          ]
        },
        {
          "output_type": "stream",
          "name": "stderr",
          "text": [
            "Epoch [924/3000]: 100%|██████████| 4/4 [00:00<00:00, 85.79it/s, loss=0.101]\n"
          ]
        },
        {
          "output_type": "stream",
          "name": "stdout",
          "text": [
            "Epoch [924/3000]: Train loss: 0.1011, Valid loss: 0.1108\n",
            "Saving model with loss 0.111...\n"
          ]
        },
        {
          "output_type": "stream",
          "name": "stderr",
          "text": [
            "Epoch [925/3000]: 100%|██████████| 4/4 [00:00<00:00, 82.05it/s, loss=0.0784]\n"
          ]
        },
        {
          "output_type": "stream",
          "name": "stdout",
          "text": [
            "Epoch [925/3000]: Train loss: 0.0974, Valid loss: 0.1149\n"
          ]
        },
        {
          "output_type": "stream",
          "name": "stderr",
          "text": [
            "Epoch [926/3000]: 100%|██████████| 4/4 [00:00<00:00, 96.10it/s, loss=0.102]\n"
          ]
        },
        {
          "output_type": "stream",
          "name": "stdout",
          "text": [
            "Epoch [926/3000]: Train loss: 0.1027, Valid loss: 0.1184\n"
          ]
        },
        {
          "output_type": "stream",
          "name": "stderr",
          "text": [
            "Epoch [927/3000]: 100%|██████████| 4/4 [00:00<00:00, 105.77it/s, loss=0.0898]\n"
          ]
        },
        {
          "output_type": "stream",
          "name": "stdout",
          "text": [
            "Epoch [927/3000]: Train loss: 0.0982, Valid loss: 0.1127\n"
          ]
        },
        {
          "output_type": "stream",
          "name": "stderr",
          "text": [
            "Epoch [928/3000]: 100%|██████████| 4/4 [00:00<00:00, 98.88it/s, loss=0.0673]\n"
          ]
        },
        {
          "output_type": "stream",
          "name": "stdout",
          "text": [
            "Epoch [928/3000]: Train loss: 0.0955, Valid loss: 0.1166\n"
          ]
        },
        {
          "output_type": "stream",
          "name": "stderr",
          "text": [
            "Epoch [929/3000]: 100%|██████████| 4/4 [00:00<00:00, 104.76it/s, loss=0.109]\n"
          ]
        },
        {
          "output_type": "stream",
          "name": "stdout",
          "text": [
            "Epoch [929/3000]: Train loss: 0.1036, Valid loss: 0.1144\n"
          ]
        },
        {
          "output_type": "stream",
          "name": "stderr",
          "text": [
            "Epoch [930/3000]: 100%|██████████| 4/4 [00:00<00:00, 83.91it/s, loss=0.106]\n"
          ]
        },
        {
          "output_type": "stream",
          "name": "stdout",
          "text": [
            "Epoch [930/3000]: Train loss: 0.1004, Valid loss: 0.1105\n",
            "Saving model with loss 0.110...\n"
          ]
        },
        {
          "output_type": "stream",
          "name": "stderr",
          "text": [
            "Epoch [931/3000]: 100%|██████████| 4/4 [00:00<00:00, 72.61it/s, loss=0.0837]\n"
          ]
        },
        {
          "output_type": "stream",
          "name": "stdout",
          "text": [
            "Epoch [931/3000]: Train loss: 0.0974, Valid loss: 0.1120\n"
          ]
        },
        {
          "output_type": "stream",
          "name": "stderr",
          "text": [
            "Epoch [932/3000]: 100%|██████████| 4/4 [00:00<00:00, 109.66it/s, loss=0.115]\n"
          ]
        },
        {
          "output_type": "stream",
          "name": "stdout",
          "text": [
            "Epoch [932/3000]: Train loss: 0.1043, Valid loss: 0.1113\n"
          ]
        },
        {
          "output_type": "stream",
          "name": "stderr",
          "text": [
            "Epoch [933/3000]: 100%|██████████| 4/4 [00:00<00:00, 108.91it/s, loss=0.0776]\n"
          ]
        },
        {
          "output_type": "stream",
          "name": "stdout",
          "text": [
            "Epoch [933/3000]: Train loss: 0.0960, Valid loss: 0.1107\n"
          ]
        },
        {
          "output_type": "stream",
          "name": "stderr",
          "text": [
            "Epoch [934/3000]: 100%|██████████| 4/4 [00:00<00:00, 112.97it/s, loss=0.0823]\n"
          ]
        },
        {
          "output_type": "stream",
          "name": "stdout",
          "text": [
            "Epoch [934/3000]: Train loss: 0.0960, Valid loss: 0.1126\n"
          ]
        },
        {
          "output_type": "stream",
          "name": "stderr",
          "text": [
            "Epoch [935/3000]: 100%|██████████| 4/4 [00:00<00:00, 99.17it/s, loss=0.0774]\n"
          ]
        },
        {
          "output_type": "stream",
          "name": "stdout",
          "text": [
            "Epoch [935/3000]: Train loss: 0.0949, Valid loss: 0.1111\n"
          ]
        },
        {
          "output_type": "stream",
          "name": "stderr",
          "text": [
            "Epoch [936/3000]: 100%|██████████| 4/4 [00:00<00:00, 77.48it/s, loss=0.116]\n"
          ]
        },
        {
          "output_type": "stream",
          "name": "stdout",
          "text": [
            "Epoch [936/3000]: Train loss: 0.1038, Valid loss: 0.1126\n"
          ]
        },
        {
          "output_type": "stream",
          "name": "stderr",
          "text": [
            "Epoch [937/3000]: 100%|██████████| 4/4 [00:00<00:00, 99.41it/s, loss=0.0833]\n"
          ]
        },
        {
          "output_type": "stream",
          "name": "stdout",
          "text": [
            "Epoch [937/3000]: Train loss: 0.0959, Valid loss: 0.1111\n"
          ]
        },
        {
          "output_type": "stream",
          "name": "stderr",
          "text": [
            "Epoch [938/3000]: 100%|██████████| 4/4 [00:00<00:00, 85.18it/s, loss=0.0969]\n"
          ]
        },
        {
          "output_type": "stream",
          "name": "stdout",
          "text": [
            "Epoch [938/3000]: Train loss: 0.0992, Valid loss: 0.1109\n"
          ]
        },
        {
          "output_type": "stream",
          "name": "stderr",
          "text": [
            "Epoch [939/3000]: 100%|██████████| 4/4 [00:00<00:00, 87.63it/s, loss=0.0686]\n"
          ]
        },
        {
          "output_type": "stream",
          "name": "stdout",
          "text": [
            "Epoch [939/3000]: Train loss: 0.0935, Valid loss: 0.1101\n",
            "Saving model with loss 0.110...\n"
          ]
        },
        {
          "output_type": "stream",
          "name": "stderr",
          "text": [
            "Epoch [940/3000]: 100%|██████████| 4/4 [00:00<00:00, 106.89it/s, loss=0.0806]\n"
          ]
        },
        {
          "output_type": "stream",
          "name": "stdout",
          "text": [
            "Epoch [940/3000]: Train loss: 0.0956, Valid loss: 0.1122\n"
          ]
        },
        {
          "output_type": "stream",
          "name": "stderr",
          "text": [
            "Epoch [941/3000]: 100%|██████████| 4/4 [00:00<00:00, 115.89it/s, loss=0.0918]\n"
          ]
        },
        {
          "output_type": "stream",
          "name": "stdout",
          "text": [
            "Epoch [941/3000]: Train loss: 0.0979, Valid loss: 0.1117\n"
          ]
        },
        {
          "output_type": "stream",
          "name": "stderr",
          "text": [
            "Epoch [942/3000]: 100%|██████████| 4/4 [00:00<00:00, 87.30it/s, loss=0.0591]\n"
          ]
        },
        {
          "output_type": "stream",
          "name": "stdout",
          "text": [
            "Epoch [942/3000]: Train loss: 0.0904, Valid loss: 0.1103\n"
          ]
        },
        {
          "output_type": "stream",
          "name": "stderr",
          "text": [
            "Epoch [943/3000]: 100%|██████████| 4/4 [00:00<00:00, 98.05it/s, loss=0.0957]\n"
          ]
        },
        {
          "output_type": "stream",
          "name": "stdout",
          "text": [
            "Epoch [943/3000]: Train loss: 0.0995, Valid loss: 0.1097\n",
            "Saving model with loss 0.110...\n"
          ]
        },
        {
          "output_type": "stream",
          "name": "stderr",
          "text": [
            "Epoch [944/3000]: 100%|██████████| 4/4 [00:00<00:00, 109.72it/s, loss=0.15]\n"
          ]
        },
        {
          "output_type": "stream",
          "name": "stdout",
          "text": [
            "Epoch [944/3000]: Train loss: 0.1110, Valid loss: 0.1114\n"
          ]
        },
        {
          "output_type": "stream",
          "name": "stderr",
          "text": [
            "Epoch [945/3000]: 100%|██████████| 4/4 [00:00<00:00, 99.06it/s, loss=0.0785]\n"
          ]
        },
        {
          "output_type": "stream",
          "name": "stdout",
          "text": [
            "Epoch [945/3000]: Train loss: 0.0951, Valid loss: 0.1094\n",
            "Saving model with loss 0.109...\n"
          ]
        },
        {
          "output_type": "stream",
          "name": "stderr",
          "text": [
            "Epoch [946/3000]: 100%|██████████| 4/4 [00:00<00:00, 90.62it/s, loss=0.0753]\n"
          ]
        },
        {
          "output_type": "stream",
          "name": "stdout",
          "text": [
            "Epoch [946/3000]: Train loss: 0.0952, Valid loss: 0.1149\n"
          ]
        },
        {
          "output_type": "stream",
          "name": "stderr",
          "text": [
            "Epoch [947/3000]: 100%|██████████| 4/4 [00:00<00:00, 92.11it/s, loss=0.0924]\n"
          ]
        },
        {
          "output_type": "stream",
          "name": "stdout",
          "text": [
            "Epoch [947/3000]: Train loss: 0.0987, Valid loss: 0.1149\n"
          ]
        },
        {
          "output_type": "stream",
          "name": "stderr",
          "text": [
            "Epoch [948/3000]: 100%|██████████| 4/4 [00:00<00:00, 90.93it/s, loss=0.0966]\n"
          ]
        },
        {
          "output_type": "stream",
          "name": "stdout",
          "text": [
            "Epoch [948/3000]: Train loss: 0.0987, Valid loss: 0.1095\n"
          ]
        },
        {
          "output_type": "stream",
          "name": "stderr",
          "text": [
            "Epoch [949/3000]: 100%|██████████| 4/4 [00:00<00:00, 91.09it/s, loss=0.115]\n"
          ]
        },
        {
          "output_type": "stream",
          "name": "stdout",
          "text": [
            "Epoch [949/3000]: Train loss: 0.1022, Valid loss: 0.1137\n"
          ]
        },
        {
          "output_type": "stream",
          "name": "stderr",
          "text": [
            "Epoch [950/3000]: 100%|██████████| 4/4 [00:00<00:00, 87.63it/s, loss=0.0871]\n"
          ]
        },
        {
          "output_type": "stream",
          "name": "stdout",
          "text": [
            "Epoch [950/3000]: Train loss: 0.0979, Valid loss: 0.1097\n"
          ]
        },
        {
          "output_type": "stream",
          "name": "stderr",
          "text": [
            "Epoch [951/3000]: 100%|██████████| 4/4 [00:00<00:00, 76.51it/s, loss=0.148]\n"
          ]
        },
        {
          "output_type": "stream",
          "name": "stdout",
          "text": [
            "Epoch [951/3000]: Train loss: 0.1110, Valid loss: 0.1109\n"
          ]
        },
        {
          "output_type": "stream",
          "name": "stderr",
          "text": [
            "Epoch [952/3000]: 100%|██████████| 4/4 [00:00<00:00, 81.90it/s, loss=0.0892]\n"
          ]
        },
        {
          "output_type": "stream",
          "name": "stdout",
          "text": [
            "Epoch [952/3000]: Train loss: 0.0986, Valid loss: 0.1207\n"
          ]
        },
        {
          "output_type": "stream",
          "name": "stderr",
          "text": [
            "Epoch [953/3000]: 100%|██████████| 4/4 [00:00<00:00, 98.29it/s, loss=0.122]\n"
          ]
        },
        {
          "output_type": "stream",
          "name": "stdout",
          "text": [
            "Epoch [953/3000]: Train loss: 0.1046, Valid loss: 0.1096\n"
          ]
        },
        {
          "output_type": "stream",
          "name": "stderr",
          "text": [
            "Epoch [954/3000]: 100%|██████████| 4/4 [00:00<00:00, 84.28it/s, loss=0.108]\n"
          ]
        },
        {
          "output_type": "stream",
          "name": "stdout",
          "text": [
            "Epoch [954/3000]: Train loss: 0.1030, Valid loss: 0.1139\n"
          ]
        },
        {
          "output_type": "stream",
          "name": "stderr",
          "text": [
            "Epoch [955/3000]: 100%|██████████| 4/4 [00:00<00:00, 85.41it/s, loss=0.101]\n"
          ]
        },
        {
          "output_type": "stream",
          "name": "stdout",
          "text": [
            "Epoch [955/3000]: Train loss: 0.1002, Valid loss: 0.1112\n"
          ]
        },
        {
          "output_type": "stream",
          "name": "stderr",
          "text": [
            "Epoch [956/3000]: 100%|██████████| 4/4 [00:00<00:00, 76.61it/s, loss=0.0754]\n"
          ]
        },
        {
          "output_type": "stream",
          "name": "stdout",
          "text": [
            "Epoch [956/3000]: Train loss: 0.0949, Valid loss: 0.1111\n"
          ]
        },
        {
          "output_type": "stream",
          "name": "stderr",
          "text": [
            "Epoch [957/3000]: 100%|██████████| 4/4 [00:00<00:00, 99.24it/s, loss=0.0607]\n"
          ]
        },
        {
          "output_type": "stream",
          "name": "stdout",
          "text": [
            "Epoch [957/3000]: Train loss: 0.0908, Valid loss: 0.1152\n"
          ]
        },
        {
          "output_type": "stream",
          "name": "stderr",
          "text": [
            "Epoch [958/3000]: 100%|██████████| 4/4 [00:00<00:00, 97.46it/s, loss=0.119]\n"
          ]
        },
        {
          "output_type": "stream",
          "name": "stdout",
          "text": [
            "Epoch [958/3000]: Train loss: 0.1042, Valid loss: 0.1107\n"
          ]
        },
        {
          "output_type": "stream",
          "name": "stderr",
          "text": [
            "Epoch [959/3000]: 100%|██████████| 4/4 [00:00<00:00, 113.24it/s, loss=0.0845]\n"
          ]
        },
        {
          "output_type": "stream",
          "name": "stdout",
          "text": [
            "Epoch [959/3000]: Train loss: 0.0958, Valid loss: 0.1120\n"
          ]
        },
        {
          "output_type": "stream",
          "name": "stderr",
          "text": [
            "Epoch [960/3000]: 100%|██████████| 4/4 [00:00<00:00, 79.71it/s, loss=0.0783]\n"
          ]
        },
        {
          "output_type": "stream",
          "name": "stdout",
          "text": [
            "Epoch [960/3000]: Train loss: 0.0948, Valid loss: 0.1159\n"
          ]
        },
        {
          "output_type": "stream",
          "name": "stderr",
          "text": [
            "Epoch [961/3000]: 100%|██████████| 4/4 [00:00<00:00, 122.52it/s, loss=0.11]\n"
          ]
        },
        {
          "output_type": "stream",
          "name": "stdout",
          "text": [
            "Epoch [961/3000]: Train loss: 0.1017, Valid loss: 0.1090\n",
            "Saving model with loss 0.109...\n"
          ]
        },
        {
          "output_type": "stream",
          "name": "stderr",
          "text": [
            "Epoch [962/3000]: 100%|██████████| 4/4 [00:00<00:00, 121.90it/s, loss=0.104]\n"
          ]
        },
        {
          "output_type": "stream",
          "name": "stdout",
          "text": [
            "Epoch [962/3000]: Train loss: 0.1002, Valid loss: 0.1076\n",
            "Saving model with loss 0.108...\n"
          ]
        },
        {
          "output_type": "stream",
          "name": "stderr",
          "text": [
            "Epoch [963/3000]: 100%|██████████| 4/4 [00:00<00:00, 92.41it/s, loss=0.0929]\n"
          ]
        },
        {
          "output_type": "stream",
          "name": "stdout",
          "text": [
            "Epoch [963/3000]: Train loss: 0.0969, Valid loss: 0.1159\n"
          ]
        },
        {
          "output_type": "stream",
          "name": "stderr",
          "text": [
            "Epoch [964/3000]: 100%|██████████| 4/4 [00:00<00:00, 106.23it/s, loss=0.13]\n"
          ]
        },
        {
          "output_type": "stream",
          "name": "stdout",
          "text": [
            "Epoch [964/3000]: Train loss: 0.1082, Valid loss: 0.1161\n"
          ]
        },
        {
          "output_type": "stream",
          "name": "stderr",
          "text": [
            "Epoch [965/3000]: 100%|██████████| 4/4 [00:00<00:00, 113.79it/s, loss=0.0553]\n"
          ]
        },
        {
          "output_type": "stream",
          "name": "stdout",
          "text": [
            "Epoch [965/3000]: Train loss: 0.0889, Valid loss: 0.1109\n"
          ]
        },
        {
          "output_type": "stream",
          "name": "stderr",
          "text": [
            "Epoch [966/3000]: 100%|██████████| 4/4 [00:00<00:00, 119.88it/s, loss=0.104]\n"
          ]
        },
        {
          "output_type": "stream",
          "name": "stdout",
          "text": [
            "Epoch [966/3000]: Train loss: 0.1015, Valid loss: 0.1127\n"
          ]
        },
        {
          "output_type": "stream",
          "name": "stderr",
          "text": [
            "Epoch [967/3000]: 100%|██████████| 4/4 [00:00<00:00, 121.38it/s, loss=0.0971]\n"
          ]
        },
        {
          "output_type": "stream",
          "name": "stdout",
          "text": [
            "Epoch [967/3000]: Train loss: 0.0984, Valid loss: 0.1132\n"
          ]
        },
        {
          "output_type": "stream",
          "name": "stderr",
          "text": [
            "Epoch [968/3000]: 100%|██████████| 4/4 [00:00<00:00, 109.82it/s, loss=0.128]\n"
          ]
        },
        {
          "output_type": "stream",
          "name": "stdout",
          "text": [
            "Epoch [968/3000]: Train loss: 0.1054, Valid loss: 0.1104\n"
          ]
        },
        {
          "output_type": "stream",
          "name": "stderr",
          "text": [
            "Epoch [969/3000]: 100%|██████████| 4/4 [00:00<00:00, 113.35it/s, loss=0.127]\n"
          ]
        },
        {
          "output_type": "stream",
          "name": "stdout",
          "text": [
            "Epoch [969/3000]: Train loss: 0.1050, Valid loss: 0.1121\n"
          ]
        },
        {
          "output_type": "stream",
          "name": "stderr",
          "text": [
            "Epoch [970/3000]: 100%|██████████| 4/4 [00:00<00:00, 102.88it/s, loss=0.0912]\n"
          ]
        },
        {
          "output_type": "stream",
          "name": "stdout",
          "text": [
            "Epoch [970/3000]: Train loss: 0.0973, Valid loss: 0.1116\n"
          ]
        },
        {
          "output_type": "stream",
          "name": "stderr",
          "text": [
            "Epoch [971/3000]: 100%|██████████| 4/4 [00:00<00:00, 104.33it/s, loss=0.109]\n"
          ]
        },
        {
          "output_type": "stream",
          "name": "stdout",
          "text": [
            "Epoch [971/3000]: Train loss: 0.1005, Valid loss: 0.1119\n"
          ]
        },
        {
          "output_type": "stream",
          "name": "stderr",
          "text": [
            "Epoch [972/3000]: 100%|██████████| 4/4 [00:00<00:00, 132.60it/s, loss=0.106]\n"
          ]
        },
        {
          "output_type": "stream",
          "name": "stdout",
          "text": [
            "Epoch [972/3000]: Train loss: 0.1004, Valid loss: 0.1096\n"
          ]
        },
        {
          "output_type": "stream",
          "name": "stderr",
          "text": [
            "Epoch [973/3000]: 100%|██████████| 4/4 [00:00<00:00, 124.37it/s, loss=0.129]\n"
          ]
        },
        {
          "output_type": "stream",
          "name": "stdout",
          "text": [
            "Epoch [973/3000]: Train loss: 0.1043, Valid loss: 0.1118\n"
          ]
        },
        {
          "output_type": "stream",
          "name": "stderr",
          "text": [
            "Epoch [974/3000]: 100%|██████████| 4/4 [00:00<00:00, 116.67it/s, loss=0.0946]\n"
          ]
        },
        {
          "output_type": "stream",
          "name": "stdout",
          "text": [
            "Epoch [974/3000]: Train loss: 0.0979, Valid loss: 0.1104\n"
          ]
        },
        {
          "output_type": "stream",
          "name": "stderr",
          "text": [
            "Epoch [975/3000]: 100%|██████████| 4/4 [00:00<00:00, 109.51it/s, loss=0.1]\n"
          ]
        },
        {
          "output_type": "stream",
          "name": "stdout",
          "text": [
            "Epoch [975/3000]: Train loss: 0.0987, Valid loss: 0.1104\n"
          ]
        },
        {
          "output_type": "stream",
          "name": "stderr",
          "text": [
            "Epoch [976/3000]: 100%|██████████| 4/4 [00:00<00:00, 116.81it/s, loss=0.11]\n"
          ]
        },
        {
          "output_type": "stream",
          "name": "stdout",
          "text": [
            "Epoch [976/3000]: Train loss: 0.1020, Valid loss: 0.1076\n"
          ]
        },
        {
          "output_type": "stream",
          "name": "stderr",
          "text": [
            "Epoch [977/3000]: 100%|██████████| 4/4 [00:00<00:00, 111.08it/s, loss=0.104]\n"
          ]
        },
        {
          "output_type": "stream",
          "name": "stdout",
          "text": [
            "Epoch [977/3000]: Train loss: 0.0994, Valid loss: 0.1113\n"
          ]
        },
        {
          "output_type": "stream",
          "name": "stderr",
          "text": [
            "Epoch [978/3000]: 100%|██████████| 4/4 [00:00<00:00, 104.38it/s, loss=0.132]\n"
          ]
        },
        {
          "output_type": "stream",
          "name": "stdout",
          "text": [
            "Epoch [978/3000]: Train loss: 0.1051, Valid loss: 0.1086\n"
          ]
        },
        {
          "output_type": "stream",
          "name": "stderr",
          "text": [
            "Epoch [979/3000]: 100%|██████████| 4/4 [00:00<00:00, 104.03it/s, loss=0.0824]\n"
          ]
        },
        {
          "output_type": "stream",
          "name": "stdout",
          "text": [
            "Epoch [979/3000]: Train loss: 0.0949, Valid loss: 0.1117\n"
          ]
        },
        {
          "output_type": "stream",
          "name": "stderr",
          "text": [
            "Epoch [980/3000]: 100%|██████████| 4/4 [00:00<00:00, 128.51it/s, loss=0.128]\n"
          ]
        },
        {
          "output_type": "stream",
          "name": "stdout",
          "text": [
            "Epoch [980/3000]: Train loss: 0.1043, Valid loss: 0.1095\n"
          ]
        },
        {
          "output_type": "stream",
          "name": "stderr",
          "text": [
            "Epoch [981/3000]: 100%|██████████| 4/4 [00:00<00:00, 135.69it/s, loss=0.111]\n"
          ]
        },
        {
          "output_type": "stream",
          "name": "stdout",
          "text": [
            "Epoch [981/3000]: Train loss: 0.1024, Valid loss: 0.1095\n"
          ]
        },
        {
          "output_type": "stream",
          "name": "stderr",
          "text": [
            "Epoch [982/3000]: 100%|██████████| 4/4 [00:00<00:00, 110.65it/s, loss=0.0816]\n"
          ]
        },
        {
          "output_type": "stream",
          "name": "stdout",
          "text": [
            "Epoch [982/3000]: Train loss: 0.0941, Valid loss: 0.1183\n"
          ]
        },
        {
          "output_type": "stream",
          "name": "stderr",
          "text": [
            "Epoch [983/3000]: 100%|██████████| 4/4 [00:00<00:00, 105.73it/s, loss=0.106]\n"
          ]
        },
        {
          "output_type": "stream",
          "name": "stdout",
          "text": [
            "Epoch [983/3000]: Train loss: 0.1006, Valid loss: 0.1067\n",
            "Saving model with loss 0.107...\n"
          ]
        },
        {
          "output_type": "stream",
          "name": "stderr",
          "text": [
            "Epoch [984/3000]: 100%|██████████| 4/4 [00:00<00:00, 118.36it/s, loss=0.052]\n"
          ]
        },
        {
          "output_type": "stream",
          "name": "stdout",
          "text": [
            "Epoch [984/3000]: Train loss: 0.0888, Valid loss: 0.1077\n"
          ]
        },
        {
          "output_type": "stream",
          "name": "stderr",
          "text": [
            "Epoch [985/3000]: 100%|██████████| 4/4 [00:00<00:00, 109.63it/s, loss=0.0715]\n"
          ]
        },
        {
          "output_type": "stream",
          "name": "stdout",
          "text": [
            "Epoch [985/3000]: Train loss: 0.0923, Valid loss: 0.1131\n"
          ]
        },
        {
          "output_type": "stream",
          "name": "stderr",
          "text": [
            "Epoch [986/3000]: 100%|██████████| 4/4 [00:00<00:00, 101.61it/s, loss=0.122]\n"
          ]
        },
        {
          "output_type": "stream",
          "name": "stdout",
          "text": [
            "Epoch [986/3000]: Train loss: 0.1033, Valid loss: 0.1082\n"
          ]
        },
        {
          "output_type": "stream",
          "name": "stderr",
          "text": [
            "Epoch [987/3000]: 100%|██████████| 4/4 [00:00<00:00, 43.46it/s, loss=0.143]\n"
          ]
        },
        {
          "output_type": "stream",
          "name": "stdout",
          "text": [
            "Epoch [987/3000]: Train loss: 0.1093, Valid loss: 0.1086\n"
          ]
        },
        {
          "output_type": "stream",
          "name": "stderr",
          "text": [
            "Epoch [988/3000]: 100%|██████████| 4/4 [00:00<00:00, 109.21it/s, loss=0.103]\n"
          ]
        },
        {
          "output_type": "stream",
          "name": "stdout",
          "text": [
            "Epoch [988/3000]: Train loss: 0.1008, Valid loss: 0.1138\n"
          ]
        },
        {
          "output_type": "stream",
          "name": "stderr",
          "text": [
            "Epoch [989/3000]: 100%|██████████| 4/4 [00:00<00:00, 104.04it/s, loss=0.0763]\n"
          ]
        },
        {
          "output_type": "stream",
          "name": "stdout",
          "text": [
            "Epoch [989/3000]: Train loss: 0.0945, Valid loss: 0.1118\n"
          ]
        },
        {
          "output_type": "stream",
          "name": "stderr",
          "text": [
            "Epoch [990/3000]: 100%|██████████| 4/4 [00:00<00:00, 107.61it/s, loss=0.112]\n"
          ]
        },
        {
          "output_type": "stream",
          "name": "stdout",
          "text": [
            "Epoch [990/3000]: Train loss: 0.1041, Valid loss: 0.1096\n"
          ]
        },
        {
          "output_type": "stream",
          "name": "stderr",
          "text": [
            "Epoch [991/3000]: 100%|██████████| 4/4 [00:00<00:00, 99.43it/s, loss=0.0941]\n"
          ]
        },
        {
          "output_type": "stream",
          "name": "stdout",
          "text": [
            "Epoch [991/3000]: Train loss: 0.0993, Valid loss: 0.1076\n"
          ]
        },
        {
          "output_type": "stream",
          "name": "stderr",
          "text": [
            "Epoch [992/3000]: 100%|██████████| 4/4 [00:00<00:00, 107.89it/s, loss=0.115]\n"
          ]
        },
        {
          "output_type": "stream",
          "name": "stdout",
          "text": [
            "Epoch [992/3000]: Train loss: 0.1012, Valid loss: 0.1135\n"
          ]
        },
        {
          "output_type": "stream",
          "name": "stderr",
          "text": [
            "Epoch [993/3000]: 100%|██████████| 4/4 [00:00<00:00, 102.64it/s, loss=0.122]\n"
          ]
        },
        {
          "output_type": "stream",
          "name": "stdout",
          "text": [
            "Epoch [993/3000]: Train loss: 0.1052, Valid loss: 0.1115\n"
          ]
        },
        {
          "output_type": "stream",
          "name": "stderr",
          "text": [
            "Epoch [994/3000]: 100%|██████████| 4/4 [00:00<00:00, 95.05it/s, loss=0.124]\n"
          ]
        },
        {
          "output_type": "stream",
          "name": "stdout",
          "text": [
            "Epoch [994/3000]: Train loss: 0.1031, Valid loss: 0.1085\n"
          ]
        },
        {
          "output_type": "stream",
          "name": "stderr",
          "text": [
            "Epoch [995/3000]: 100%|██████████| 4/4 [00:00<00:00, 97.72it/s, loss=0.0872]\n"
          ]
        },
        {
          "output_type": "stream",
          "name": "stdout",
          "text": [
            "Epoch [995/3000]: Train loss: 0.0955, Valid loss: 0.1130\n"
          ]
        },
        {
          "output_type": "stream",
          "name": "stderr",
          "text": [
            "Epoch [996/3000]: 100%|██████████| 4/4 [00:00<00:00, 81.66it/s, loss=0.138]\n"
          ]
        },
        {
          "output_type": "stream",
          "name": "stdout",
          "text": [
            "Epoch [996/3000]: Train loss: 0.1064, Valid loss: 0.1094\n"
          ]
        },
        {
          "output_type": "stream",
          "name": "stderr",
          "text": [
            "Epoch [997/3000]: 100%|██████████| 4/4 [00:00<00:00, 106.84it/s, loss=0.0601]\n"
          ]
        },
        {
          "output_type": "stream",
          "name": "stdout",
          "text": [
            "Epoch [997/3000]: Train loss: 0.0883, Valid loss: 0.1069\n"
          ]
        },
        {
          "output_type": "stream",
          "name": "stderr",
          "text": [
            "Epoch [998/3000]: 100%|██████████| 4/4 [00:00<00:00, 72.11it/s, loss=0.0935]\n"
          ]
        },
        {
          "output_type": "stream",
          "name": "stdout",
          "text": [
            "Epoch [998/3000]: Train loss: 0.0961, Valid loss: 0.1095\n"
          ]
        },
        {
          "output_type": "stream",
          "name": "stderr",
          "text": [
            "Epoch [999/3000]: 100%|██████████| 4/4 [00:00<00:00, 95.59it/s, loss=0.091]\n"
          ]
        },
        {
          "output_type": "stream",
          "name": "stdout",
          "text": [
            "Epoch [999/3000]: Train loss: 0.0952, Valid loss: 0.1131\n"
          ]
        },
        {
          "output_type": "stream",
          "name": "stderr",
          "text": [
            "Epoch [1000/3000]: 100%|██████████| 4/4 [00:00<00:00, 74.97it/s, loss=0.0836]\n"
          ]
        },
        {
          "output_type": "stream",
          "name": "stdout",
          "text": [
            "Epoch [1000/3000]: Train loss: 0.0949, Valid loss: 0.1098\n"
          ]
        },
        {
          "output_type": "stream",
          "name": "stderr",
          "text": [
            "Epoch [1001/3000]: 100%|██████████| 4/4 [00:00<00:00, 92.34it/s, loss=0.126]\n"
          ]
        },
        {
          "output_type": "stream",
          "name": "stdout",
          "text": [
            "Epoch [1001/3000]: Train loss: 0.1027, Valid loss: 0.1113\n"
          ]
        },
        {
          "output_type": "stream",
          "name": "stderr",
          "text": [
            "Epoch [1002/3000]: 100%|██████████| 4/4 [00:00<00:00, 108.42it/s, loss=0.0867]\n"
          ]
        },
        {
          "output_type": "stream",
          "name": "stdout",
          "text": [
            "Epoch [1002/3000]: Train loss: 0.0959, Valid loss: 0.1103\n"
          ]
        },
        {
          "output_type": "stream",
          "name": "stderr",
          "text": [
            "Epoch [1003/3000]: 100%|██████████| 4/4 [00:00<00:00, 93.12it/s, loss=0.108]\n"
          ]
        },
        {
          "output_type": "stream",
          "name": "stdout",
          "text": [
            "Epoch [1003/3000]: Train loss: 0.1007, Valid loss: 0.1109\n"
          ]
        },
        {
          "output_type": "stream",
          "name": "stderr",
          "text": [
            "Epoch [1004/3000]: 100%|██████████| 4/4 [00:00<00:00, 95.13it/s, loss=0.111]\n"
          ]
        },
        {
          "output_type": "stream",
          "name": "stdout",
          "text": [
            "Epoch [1004/3000]: Train loss: 0.1002, Valid loss: 0.1081\n"
          ]
        },
        {
          "output_type": "stream",
          "name": "stderr",
          "text": [
            "Epoch [1005/3000]: 100%|██████████| 4/4 [00:00<00:00, 91.09it/s, loss=0.0854]\n"
          ]
        },
        {
          "output_type": "stream",
          "name": "stdout",
          "text": [
            "Epoch [1005/3000]: Train loss: 0.0948, Valid loss: 0.1166\n"
          ]
        },
        {
          "output_type": "stream",
          "name": "stderr",
          "text": [
            "Epoch [1006/3000]: 100%|██████████| 4/4 [00:00<00:00, 108.14it/s, loss=0.0978]\n"
          ]
        },
        {
          "output_type": "stream",
          "name": "stdout",
          "text": [
            "Epoch [1006/3000]: Train loss: 0.0982, Valid loss: 0.1076\n"
          ]
        },
        {
          "output_type": "stream",
          "name": "stderr",
          "text": [
            "Epoch [1007/3000]: 100%|██████████| 4/4 [00:00<00:00, 106.54it/s, loss=0.0845]\n"
          ]
        },
        {
          "output_type": "stream",
          "name": "stdout",
          "text": [
            "Epoch [1007/3000]: Train loss: 0.0971, Valid loss: 0.1075\n"
          ]
        },
        {
          "output_type": "stream",
          "name": "stderr",
          "text": [
            "Epoch [1008/3000]: 100%|██████████| 4/4 [00:00<00:00, 93.57it/s, loss=0.0802]\n"
          ]
        },
        {
          "output_type": "stream",
          "name": "stdout",
          "text": [
            "Epoch [1008/3000]: Train loss: 0.0942, Valid loss: 0.1119\n"
          ]
        },
        {
          "output_type": "stream",
          "name": "stderr",
          "text": [
            "Epoch [1009/3000]: 100%|██████████| 4/4 [00:00<00:00, 105.45it/s, loss=0.0903]\n"
          ]
        },
        {
          "output_type": "stream",
          "name": "stdout",
          "text": [
            "Epoch [1009/3000]: Train loss: 0.0954, Valid loss: 0.1055\n",
            "Saving model with loss 0.105...\n"
          ]
        },
        {
          "output_type": "stream",
          "name": "stderr",
          "text": [
            "Epoch [1010/3000]: 100%|██████████| 4/4 [00:00<00:00, 109.94it/s, loss=0.0971]\n"
          ]
        },
        {
          "output_type": "stream",
          "name": "stdout",
          "text": [
            "Epoch [1010/3000]: Train loss: 0.0974, Valid loss: 0.1066\n"
          ]
        },
        {
          "output_type": "stream",
          "name": "stderr",
          "text": [
            "Epoch [1011/3000]: 100%|██████████| 4/4 [00:00<00:00, 116.72it/s, loss=0.0841]\n"
          ]
        },
        {
          "output_type": "stream",
          "name": "stdout",
          "text": [
            "Epoch [1011/3000]: Train loss: 0.0934, Valid loss: 0.1126\n"
          ]
        },
        {
          "output_type": "stream",
          "name": "stderr",
          "text": [
            "Epoch [1012/3000]: 100%|██████████| 4/4 [00:00<00:00, 101.07it/s, loss=0.0917]\n"
          ]
        },
        {
          "output_type": "stream",
          "name": "stdout",
          "text": [
            "Epoch [1012/3000]: Train loss: 0.0956, Valid loss: 0.1081\n"
          ]
        },
        {
          "output_type": "stream",
          "name": "stderr",
          "text": [
            "Epoch [1013/3000]: 100%|██████████| 4/4 [00:00<00:00, 107.66it/s, loss=0.115]\n"
          ]
        },
        {
          "output_type": "stream",
          "name": "stdout",
          "text": [
            "Epoch [1013/3000]: Train loss: 0.1001, Valid loss: 0.1069\n"
          ]
        },
        {
          "output_type": "stream",
          "name": "stderr",
          "text": [
            "Epoch [1014/3000]: 100%|██████████| 4/4 [00:00<00:00, 107.30it/s, loss=0.0883]\n"
          ]
        },
        {
          "output_type": "stream",
          "name": "stdout",
          "text": [
            "Epoch [1014/3000]: Train loss: 0.0941, Valid loss: 0.1115\n"
          ]
        },
        {
          "output_type": "stream",
          "name": "stderr",
          "text": [
            "Epoch [1015/3000]: 100%|██████████| 4/4 [00:00<00:00, 103.75it/s, loss=0.112]\n"
          ]
        },
        {
          "output_type": "stream",
          "name": "stdout",
          "text": [
            "Epoch [1015/3000]: Train loss: 0.1012, Valid loss: 0.1073\n"
          ]
        },
        {
          "output_type": "stream",
          "name": "stderr",
          "text": [
            "Epoch [1016/3000]: 100%|██████████| 4/4 [00:00<00:00, 86.58it/s, loss=0.14]\n"
          ]
        },
        {
          "output_type": "stream",
          "name": "stdout",
          "text": [
            "Epoch [1016/3000]: Train loss: 0.1065, Valid loss: 0.1085\n"
          ]
        },
        {
          "output_type": "stream",
          "name": "stderr",
          "text": [
            "Epoch [1017/3000]: 100%|██████████| 4/4 [00:00<00:00, 69.46it/s, loss=0.0963]\n"
          ]
        },
        {
          "output_type": "stream",
          "name": "stdout",
          "text": [
            "Epoch [1017/3000]: Train loss: 0.0970, Valid loss: 0.1161\n"
          ]
        },
        {
          "output_type": "stream",
          "name": "stderr",
          "text": [
            "Epoch [1018/3000]: 100%|██████████| 4/4 [00:00<00:00, 101.86it/s, loss=0.0854]\n"
          ]
        },
        {
          "output_type": "stream",
          "name": "stdout",
          "text": [
            "Epoch [1018/3000]: Train loss: 0.0959, Valid loss: 0.1075\n"
          ]
        },
        {
          "output_type": "stream",
          "name": "stderr",
          "text": [
            "Epoch [1019/3000]: 100%|██████████| 4/4 [00:00<00:00, 108.42it/s, loss=0.0936]\n"
          ]
        },
        {
          "output_type": "stream",
          "name": "stdout",
          "text": [
            "Epoch [1019/3000]: Train loss: 0.0963, Valid loss: 0.1094\n"
          ]
        },
        {
          "output_type": "stream",
          "name": "stderr",
          "text": [
            "Epoch [1020/3000]: 100%|██████████| 4/4 [00:00<00:00, 107.62it/s, loss=0.0988]\n"
          ]
        },
        {
          "output_type": "stream",
          "name": "stdout",
          "text": [
            "Epoch [1020/3000]: Train loss: 0.0969, Valid loss: 0.1096\n"
          ]
        },
        {
          "output_type": "stream",
          "name": "stderr",
          "text": [
            "Epoch [1021/3000]: 100%|██████████| 4/4 [00:00<00:00, 102.43it/s, loss=0.089]\n"
          ]
        },
        {
          "output_type": "stream",
          "name": "stdout",
          "text": [
            "Epoch [1021/3000]: Train loss: 0.0948, Valid loss: 0.1100\n"
          ]
        },
        {
          "output_type": "stream",
          "name": "stderr",
          "text": [
            "Epoch [1022/3000]: 100%|██████████| 4/4 [00:00<00:00, 105.49it/s, loss=0.132]\n"
          ]
        },
        {
          "output_type": "stream",
          "name": "stdout",
          "text": [
            "Epoch [1022/3000]: Train loss: 0.1046, Valid loss: 0.1126\n"
          ]
        },
        {
          "output_type": "stream",
          "name": "stderr",
          "text": [
            "Epoch [1023/3000]: 100%|██████████| 4/4 [00:00<00:00, 128.55it/s, loss=0.134]\n"
          ]
        },
        {
          "output_type": "stream",
          "name": "stdout",
          "text": [
            "Epoch [1023/3000]: Train loss: 0.1050, Valid loss: 0.1058\n"
          ]
        },
        {
          "output_type": "stream",
          "name": "stderr",
          "text": [
            "Epoch [1024/3000]: 100%|██████████| 4/4 [00:00<00:00, 117.31it/s, loss=0.0558]\n"
          ]
        },
        {
          "output_type": "stream",
          "name": "stdout",
          "text": [
            "Epoch [1024/3000]: Train loss: 0.0871, Valid loss: 0.1133\n"
          ]
        },
        {
          "output_type": "stream",
          "name": "stderr",
          "text": [
            "Epoch [1025/3000]: 100%|██████████| 4/4 [00:00<00:00, 125.32it/s, loss=0.0688]\n"
          ]
        },
        {
          "output_type": "stream",
          "name": "stdout",
          "text": [
            "Epoch [1025/3000]: Train loss: 0.0920, Valid loss: 0.1118\n"
          ]
        },
        {
          "output_type": "stream",
          "name": "stderr",
          "text": [
            "Epoch [1026/3000]: 100%|██████████| 4/4 [00:00<00:00, 58.39it/s, loss=0.0723]\n"
          ]
        },
        {
          "output_type": "stream",
          "name": "stdout",
          "text": [
            "Epoch [1026/3000]: Train loss: 0.0905, Valid loss: 0.1089\n"
          ]
        },
        {
          "output_type": "stream",
          "name": "stderr",
          "text": [
            "Epoch [1027/3000]: 100%|██████████| 4/4 [00:00<00:00, 46.61it/s, loss=0.0985]\n"
          ]
        },
        {
          "output_type": "stream",
          "name": "stdout",
          "text": [
            "Epoch [1027/3000]: Train loss: 0.0978, Valid loss: 0.1087\n"
          ]
        },
        {
          "output_type": "stream",
          "name": "stderr",
          "text": [
            "Epoch [1028/3000]: 100%|██████████| 4/4 [00:00<00:00, 45.15it/s, loss=0.118]\n"
          ]
        },
        {
          "output_type": "stream",
          "name": "stdout",
          "text": [
            "Epoch [1028/3000]: Train loss: 0.1002, Valid loss: 0.1117\n"
          ]
        },
        {
          "output_type": "stream",
          "name": "stderr",
          "text": [
            "Epoch [1029/3000]: 100%|██████████| 4/4 [00:00<00:00, 37.44it/s, loss=0.107]\n"
          ]
        },
        {
          "output_type": "stream",
          "name": "stdout",
          "text": [
            "Epoch [1029/3000]: Train loss: 0.0991, Valid loss: 0.1060\n"
          ]
        },
        {
          "output_type": "stream",
          "name": "stderr",
          "text": [
            "Epoch [1030/3000]: 100%|██████████| 4/4 [00:00<00:00, 42.46it/s, loss=0.101]\n"
          ]
        },
        {
          "output_type": "stream",
          "name": "stdout",
          "text": [
            "Epoch [1030/3000]: Train loss: 0.0965, Valid loss: 0.1070\n"
          ]
        },
        {
          "output_type": "stream",
          "name": "stderr",
          "text": [
            "Epoch [1031/3000]: 100%|██████████| 4/4 [00:00<00:00, 47.58it/s, loss=0.0814]\n"
          ]
        },
        {
          "output_type": "stream",
          "name": "stdout",
          "text": [
            "Epoch [1031/3000]: Train loss: 0.0922, Valid loss: 0.1089\n"
          ]
        },
        {
          "output_type": "stream",
          "name": "stderr",
          "text": [
            "Epoch [1032/3000]: 100%|██████████| 4/4 [00:00<00:00, 38.29it/s, loss=0.126]\n"
          ]
        },
        {
          "output_type": "stream",
          "name": "stdout",
          "text": [
            "Epoch [1032/3000]: Train loss: 0.1040, Valid loss: 0.1075\n"
          ]
        },
        {
          "output_type": "stream",
          "name": "stderr",
          "text": [
            "Epoch [1033/3000]: 100%|██████████| 4/4 [00:00<00:00, 63.68it/s, loss=0.167]\n"
          ]
        },
        {
          "output_type": "stream",
          "name": "stdout",
          "text": [
            "Epoch [1033/3000]: Train loss: 0.1126, Valid loss: 0.1092\n"
          ]
        },
        {
          "output_type": "stream",
          "name": "stderr",
          "text": [
            "Epoch [1034/3000]: 100%|██████████| 4/4 [00:00<00:00, 88.55it/s, loss=0.078]\n"
          ]
        },
        {
          "output_type": "stream",
          "name": "stdout",
          "text": [
            "Epoch [1034/3000]: Train loss: 0.0943, Valid loss: 0.1101\n"
          ]
        },
        {
          "output_type": "stream",
          "name": "stderr",
          "text": [
            "Epoch [1035/3000]: 100%|██████████| 4/4 [00:00<00:00, 117.75it/s, loss=0.11]\n"
          ]
        },
        {
          "output_type": "stream",
          "name": "stdout",
          "text": [
            "Epoch [1035/3000]: Train loss: 0.1027, Valid loss: 0.1068\n"
          ]
        },
        {
          "output_type": "stream",
          "name": "stderr",
          "text": [
            "Epoch [1036/3000]: 100%|██████████| 4/4 [00:00<00:00, 105.87it/s, loss=0.0935]\n"
          ]
        },
        {
          "output_type": "stream",
          "name": "stdout",
          "text": [
            "Epoch [1036/3000]: Train loss: 0.0960, Valid loss: 0.1189\n"
          ]
        },
        {
          "output_type": "stream",
          "name": "stderr",
          "text": [
            "Epoch [1037/3000]: 100%|██████████| 4/4 [00:00<00:00, 123.29it/s, loss=0.0979]\n"
          ]
        },
        {
          "output_type": "stream",
          "name": "stdout",
          "text": [
            "Epoch [1037/3000]: Train loss: 0.1000, Valid loss: 0.1068\n"
          ]
        },
        {
          "output_type": "stream",
          "name": "stderr",
          "text": [
            "Epoch [1038/3000]: 100%|██████████| 4/4 [00:00<00:00, 86.10it/s, loss=0.142]\n"
          ]
        },
        {
          "output_type": "stream",
          "name": "stdout",
          "text": [
            "Epoch [1038/3000]: Train loss: 0.1080, Valid loss: 0.1119\n"
          ]
        },
        {
          "output_type": "stream",
          "name": "stderr",
          "text": [
            "Epoch [1039/3000]: 100%|██████████| 4/4 [00:00<00:00, 47.46it/s, loss=0.0919]\n"
          ]
        },
        {
          "output_type": "stream",
          "name": "stdout",
          "text": [
            "Epoch [1039/3000]: Train loss: 0.0967, Valid loss: 0.1076\n"
          ]
        },
        {
          "output_type": "stream",
          "name": "stderr",
          "text": [
            "Epoch [1040/3000]: 100%|██████████| 4/4 [00:00<00:00, 120.14it/s, loss=0.107]\n"
          ]
        },
        {
          "output_type": "stream",
          "name": "stdout",
          "text": [
            "Epoch [1040/3000]: Train loss: 0.0983, Valid loss: 0.1060\n"
          ]
        },
        {
          "output_type": "stream",
          "name": "stderr",
          "text": [
            "Epoch [1041/3000]: 100%|██████████| 4/4 [00:00<00:00, 128.07it/s, loss=0.098]\n"
          ]
        },
        {
          "output_type": "stream",
          "name": "stdout",
          "text": [
            "Epoch [1041/3000]: Train loss: 0.0959, Valid loss: 0.1109\n"
          ]
        },
        {
          "output_type": "stream",
          "name": "stderr",
          "text": [
            "Epoch [1042/3000]: 100%|██████████| 4/4 [00:00<00:00, 25.70it/s, loss=0.109]\n"
          ]
        },
        {
          "output_type": "stream",
          "name": "stdout",
          "text": [
            "Epoch [1042/3000]: Train loss: 0.0990, Valid loss: 0.1085\n"
          ]
        },
        {
          "output_type": "stream",
          "name": "stderr",
          "text": [
            "Epoch [1043/3000]: 100%|██████████| 4/4 [00:00<00:00, 35.05it/s, loss=0.0871]\n"
          ]
        },
        {
          "output_type": "stream",
          "name": "stdout",
          "text": [
            "Epoch [1043/3000]: Train loss: 0.0934, Valid loss: 0.1074\n"
          ]
        },
        {
          "output_type": "stream",
          "name": "stderr",
          "text": [
            "Epoch [1044/3000]: 100%|██████████| 4/4 [00:00<00:00, 42.95it/s, loss=0.0953]\n"
          ]
        },
        {
          "output_type": "stream",
          "name": "stdout",
          "text": [
            "Epoch [1044/3000]: Train loss: 0.0946, Valid loss: 0.1057\n"
          ]
        },
        {
          "output_type": "stream",
          "name": "stderr",
          "text": [
            "Epoch [1045/3000]: 100%|██████████| 4/4 [00:00<00:00, 42.54it/s, loss=0.0803]\n"
          ]
        },
        {
          "output_type": "stream",
          "name": "stdout",
          "text": [
            "Epoch [1045/3000]: Train loss: 0.0922, Valid loss: 0.1092\n"
          ]
        },
        {
          "output_type": "stream",
          "name": "stderr",
          "text": [
            "Epoch [1046/3000]: 100%|██████████| 4/4 [00:00<00:00, 45.41it/s, loss=0.0935]\n"
          ]
        },
        {
          "output_type": "stream",
          "name": "stdout",
          "text": [
            "Epoch [1046/3000]: Train loss: 0.0944, Valid loss: 0.1073\n"
          ]
        },
        {
          "output_type": "stream",
          "name": "stderr",
          "text": [
            "Epoch [1047/3000]: 100%|██████████| 4/4 [00:00<00:00, 52.37it/s, loss=0.089]\n"
          ]
        },
        {
          "output_type": "stream",
          "name": "stdout",
          "text": [
            "Epoch [1047/3000]: Train loss: 0.0935, Valid loss: 0.1077\n"
          ]
        },
        {
          "output_type": "stream",
          "name": "stderr",
          "text": [
            "Epoch [1048/3000]: 100%|██████████| 4/4 [00:00<00:00, 126.74it/s, loss=0.112]\n"
          ]
        },
        {
          "output_type": "stream",
          "name": "stdout",
          "text": [
            "Epoch [1048/3000]: Train loss: 0.0991, Valid loss: 0.1071\n"
          ]
        },
        {
          "output_type": "stream",
          "name": "stderr",
          "text": [
            "Epoch [1049/3000]: 100%|██████████| 4/4 [00:00<00:00, 116.85it/s, loss=0.103]\n"
          ]
        },
        {
          "output_type": "stream",
          "name": "stdout",
          "text": [
            "Epoch [1049/3000]: Train loss: 0.0977, Valid loss: 0.1051\n",
            "Saving model with loss 0.105...\n"
          ]
        },
        {
          "output_type": "stream",
          "name": "stderr",
          "text": [
            "Epoch [1050/3000]: 100%|██████████| 4/4 [00:00<00:00, 124.89it/s, loss=0.0881]\n"
          ]
        },
        {
          "output_type": "stream",
          "name": "stdout",
          "text": [
            "Epoch [1050/3000]: Train loss: 0.0943, Valid loss: 0.1048\n",
            "Saving model with loss 0.105...\n"
          ]
        },
        {
          "output_type": "stream",
          "name": "stderr",
          "text": [
            "Epoch [1051/3000]: 100%|██████████| 4/4 [00:00<00:00, 113.76it/s, loss=0.0827]\n"
          ]
        },
        {
          "output_type": "stream",
          "name": "stdout",
          "text": [
            "Epoch [1051/3000]: Train loss: 0.0922, Valid loss: 0.1103\n"
          ]
        },
        {
          "output_type": "stream",
          "name": "stderr",
          "text": [
            "Epoch [1052/3000]: 100%|██████████| 4/4 [00:00<00:00, 120.14it/s, loss=0.0957]\n"
          ]
        },
        {
          "output_type": "stream",
          "name": "stdout",
          "text": [
            "Epoch [1052/3000]: Train loss: 0.0953, Valid loss: 0.1051\n"
          ]
        },
        {
          "output_type": "stream",
          "name": "stderr",
          "text": [
            "Epoch [1053/3000]: 100%|██████████| 4/4 [00:00<00:00, 119.22it/s, loss=0.11]\n"
          ]
        },
        {
          "output_type": "stream",
          "name": "stdout",
          "text": [
            "Epoch [1053/3000]: Train loss: 0.0993, Valid loss: 0.1060\n"
          ]
        },
        {
          "output_type": "stream",
          "name": "stderr",
          "text": [
            "Epoch [1054/3000]: 100%|██████████| 4/4 [00:00<00:00, 121.07it/s, loss=0.0594]\n"
          ]
        },
        {
          "output_type": "stream",
          "name": "stdout",
          "text": [
            "Epoch [1054/3000]: Train loss: 0.0865, Valid loss: 0.1113\n"
          ]
        },
        {
          "output_type": "stream",
          "name": "stderr",
          "text": [
            "Epoch [1055/3000]: 100%|██████████| 4/4 [00:00<00:00, 121.02it/s, loss=0.0816]\n"
          ]
        },
        {
          "output_type": "stream",
          "name": "stdout",
          "text": [
            "Epoch [1055/3000]: Train loss: 0.0919, Valid loss: 0.1050\n"
          ]
        },
        {
          "output_type": "stream",
          "name": "stderr",
          "text": [
            "Epoch [1056/3000]: 100%|██████████| 4/4 [00:00<00:00, 131.21it/s, loss=0.0933]\n"
          ]
        },
        {
          "output_type": "stream",
          "name": "stdout",
          "text": [
            "Epoch [1056/3000]: Train loss: 0.0945, Valid loss: 0.1061\n"
          ]
        },
        {
          "output_type": "stream",
          "name": "stderr",
          "text": [
            "Epoch [1057/3000]: 100%|██████████| 4/4 [00:00<00:00,  5.04it/s, loss=0.108]\n"
          ]
        },
        {
          "output_type": "stream",
          "name": "stdout",
          "text": [
            "Epoch [1057/3000]: Train loss: 0.0977, Valid loss: 0.1088\n"
          ]
        },
        {
          "output_type": "stream",
          "name": "stderr",
          "text": [
            "Epoch [1058/3000]: 100%|██████████| 4/4 [00:00<00:00, 116.47it/s, loss=0.106]\n"
          ]
        },
        {
          "output_type": "stream",
          "name": "stdout",
          "text": [
            "Epoch [1058/3000]: Train loss: 0.0986, Valid loss: 0.1067\n"
          ]
        },
        {
          "output_type": "stream",
          "name": "stderr",
          "text": [
            "Epoch [1059/3000]: 100%|██████████| 4/4 [00:00<00:00, 122.00it/s, loss=0.139]\n"
          ]
        },
        {
          "output_type": "stream",
          "name": "stdout",
          "text": [
            "Epoch [1059/3000]: Train loss: 0.1051, Valid loss: 0.1062\n"
          ]
        },
        {
          "output_type": "stream",
          "name": "stderr",
          "text": [
            "Epoch [1060/3000]: 100%|██████████| 4/4 [00:00<00:00, 115.25it/s, loss=0.117]\n"
          ]
        },
        {
          "output_type": "stream",
          "name": "stdout",
          "text": [
            "Epoch [1060/3000]: Train loss: 0.1002, Valid loss: 0.1045\n",
            "Saving model with loss 0.105...\n"
          ]
        },
        {
          "output_type": "stream",
          "name": "stderr",
          "text": [
            "Epoch [1061/3000]: 100%|██████████| 4/4 [00:00<00:00, 119.20it/s, loss=0.072]\n"
          ]
        },
        {
          "output_type": "stream",
          "name": "stdout",
          "text": [
            "Epoch [1061/3000]: Train loss: 0.0895, Valid loss: 0.1124\n"
          ]
        },
        {
          "output_type": "stream",
          "name": "stderr",
          "text": [
            "Epoch [1062/3000]: 100%|██████████| 4/4 [00:00<00:00, 120.93it/s, loss=0.0873]\n"
          ]
        },
        {
          "output_type": "stream",
          "name": "stdout",
          "text": [
            "Epoch [1062/3000]: Train loss: 0.0948, Valid loss: 0.1072\n"
          ]
        },
        {
          "output_type": "stream",
          "name": "stderr",
          "text": [
            "Epoch [1063/3000]: 100%|██████████| 4/4 [00:00<00:00, 44.62it/s, loss=0.117]\n"
          ]
        },
        {
          "output_type": "stream",
          "name": "stdout",
          "text": [
            "Epoch [1063/3000]: Train loss: 0.0995, Valid loss: 0.1062\n"
          ]
        },
        {
          "output_type": "stream",
          "name": "stderr",
          "text": [
            "Epoch [1064/3000]: 100%|██████████| 4/4 [00:00<00:00, 92.28it/s, loss=0.0869]\n"
          ]
        },
        {
          "output_type": "stream",
          "name": "stdout",
          "text": [
            "Epoch [1064/3000]: Train loss: 0.0931, Valid loss: 0.1041\n",
            "Saving model with loss 0.104...\n"
          ]
        },
        {
          "output_type": "stream",
          "name": "stderr",
          "text": [
            "Epoch [1065/3000]: 100%|██████████| 4/4 [00:00<00:00, 101.16it/s, loss=0.123]\n"
          ]
        },
        {
          "output_type": "stream",
          "name": "stdout",
          "text": [
            "Epoch [1065/3000]: Train loss: 0.1006, Valid loss: 0.1066\n"
          ]
        },
        {
          "output_type": "stream",
          "name": "stderr",
          "text": [
            "Epoch [1066/3000]: 100%|██████████| 4/4 [00:00<00:00, 93.44it/s, loss=0.0806]\n"
          ]
        },
        {
          "output_type": "stream",
          "name": "stdout",
          "text": [
            "Epoch [1066/3000]: Train loss: 0.0915, Valid loss: 0.1065\n"
          ]
        },
        {
          "output_type": "stream",
          "name": "stderr",
          "text": [
            "Epoch [1067/3000]: 100%|██████████| 4/4 [00:00<00:00, 91.71it/s, loss=0.0994]\n"
          ]
        },
        {
          "output_type": "stream",
          "name": "stdout",
          "text": [
            "Epoch [1067/3000]: Train loss: 0.0968, Valid loss: 0.1061\n"
          ]
        },
        {
          "output_type": "stream",
          "name": "stderr",
          "text": [
            "Epoch [1068/3000]: 100%|██████████| 4/4 [00:00<00:00, 89.82it/s, loss=0.111]\n"
          ]
        },
        {
          "output_type": "stream",
          "name": "stdout",
          "text": [
            "Epoch [1068/3000]: Train loss: 0.0995, Valid loss: 0.1157\n"
          ]
        },
        {
          "output_type": "stream",
          "name": "stderr",
          "text": [
            "Epoch [1069/3000]: 100%|██████████| 4/4 [00:00<00:00, 89.40it/s, loss=0.116]\n"
          ]
        },
        {
          "output_type": "stream",
          "name": "stdout",
          "text": [
            "Epoch [1069/3000]: Train loss: 0.1005, Valid loss: 0.1063\n"
          ]
        },
        {
          "output_type": "stream",
          "name": "stderr",
          "text": [
            "Epoch [1070/3000]: 100%|██████████| 4/4 [00:00<00:00, 89.56it/s, loss=0.0989]\n"
          ]
        },
        {
          "output_type": "stream",
          "name": "stdout",
          "text": [
            "Epoch [1070/3000]: Train loss: 0.0977, Valid loss: 0.1075\n"
          ]
        },
        {
          "output_type": "stream",
          "name": "stderr",
          "text": [
            "Epoch [1071/3000]: 100%|██████████| 4/4 [00:00<00:00, 92.86it/s, loss=0.1]\n"
          ]
        },
        {
          "output_type": "stream",
          "name": "stdout",
          "text": [
            "Epoch [1071/3000]: Train loss: 0.0979, Valid loss: 0.1070\n"
          ]
        },
        {
          "output_type": "stream",
          "name": "stderr",
          "text": [
            "Epoch [1072/3000]: 100%|██████████| 4/4 [00:00<00:00, 106.66it/s, loss=0.0846]\n"
          ]
        },
        {
          "output_type": "stream",
          "name": "stdout",
          "text": [
            "Epoch [1072/3000]: Train loss: 0.0956, Valid loss: 0.1043\n"
          ]
        },
        {
          "output_type": "stream",
          "name": "stderr",
          "text": [
            "Epoch [1073/3000]: 100%|██████████| 4/4 [00:00<00:00, 115.89it/s, loss=0.134]\n"
          ]
        },
        {
          "output_type": "stream",
          "name": "stdout",
          "text": [
            "Epoch [1073/3000]: Train loss: 0.1037, Valid loss: 0.1078\n"
          ]
        },
        {
          "output_type": "stream",
          "name": "stderr",
          "text": [
            "Epoch [1074/3000]: 100%|██████████| 4/4 [00:00<00:00, 112.39it/s, loss=0.0486]\n"
          ]
        },
        {
          "output_type": "stream",
          "name": "stdout",
          "text": [
            "Epoch [1074/3000]: Train loss: 0.0860, Valid loss: 0.1077\n"
          ]
        },
        {
          "output_type": "stream",
          "name": "stderr",
          "text": [
            "Epoch [1075/3000]: 100%|██████████| 4/4 [00:00<00:00, 103.73it/s, loss=0.112]\n"
          ]
        },
        {
          "output_type": "stream",
          "name": "stdout",
          "text": [
            "Epoch [1075/3000]: Train loss: 0.1000, Valid loss: 0.1069\n"
          ]
        },
        {
          "output_type": "stream",
          "name": "stderr",
          "text": [
            "Epoch [1076/3000]: 100%|██████████| 4/4 [00:00<00:00, 136.85it/s, loss=0.1]\n"
          ]
        },
        {
          "output_type": "stream",
          "name": "stdout",
          "text": [
            "Epoch [1076/3000]: Train loss: 0.0960, Valid loss: 0.1052\n"
          ]
        },
        {
          "output_type": "stream",
          "name": "stderr",
          "text": [
            "Epoch [1077/3000]: 100%|██████████| 4/4 [00:00<00:00, 112.55it/s, loss=0.0756]\n"
          ]
        },
        {
          "output_type": "stream",
          "name": "stdout",
          "text": [
            "Epoch [1077/3000]: Train loss: 0.0901, Valid loss: 0.1101\n"
          ]
        },
        {
          "output_type": "stream",
          "name": "stderr",
          "text": [
            "Epoch [1078/3000]: 100%|██████████| 4/4 [00:00<00:00, 107.23it/s, loss=0.0766]\n"
          ]
        },
        {
          "output_type": "stream",
          "name": "stdout",
          "text": [
            "Epoch [1078/3000]: Train loss: 0.0916, Valid loss: 0.1035\n",
            "Saving model with loss 0.103...\n"
          ]
        },
        {
          "output_type": "stream",
          "name": "stderr",
          "text": [
            "Epoch [1079/3000]: 100%|██████████| 4/4 [00:00<00:00, 97.54it/s, loss=0.105]\n"
          ]
        },
        {
          "output_type": "stream",
          "name": "stdout",
          "text": [
            "Epoch [1079/3000]: Train loss: 0.0978, Valid loss: 0.1043\n"
          ]
        },
        {
          "output_type": "stream",
          "name": "stderr",
          "text": [
            "Epoch [1080/3000]: 100%|██████████| 4/4 [00:00<00:00, 117.97it/s, loss=0.0783]\n"
          ]
        },
        {
          "output_type": "stream",
          "name": "stdout",
          "text": [
            "Epoch [1080/3000]: Train loss: 0.0901, Valid loss: 0.1090\n"
          ]
        },
        {
          "output_type": "stream",
          "name": "stderr",
          "text": [
            "Epoch [1081/3000]: 100%|██████████| 4/4 [00:00<00:00, 105.25it/s, loss=0.106]\n"
          ]
        },
        {
          "output_type": "stream",
          "name": "stdout",
          "text": [
            "Epoch [1081/3000]: Train loss: 0.0964, Valid loss: 0.1074\n"
          ]
        },
        {
          "output_type": "stream",
          "name": "stderr",
          "text": [
            "Epoch [1082/3000]: 100%|██████████| 4/4 [00:00<00:00, 118.41it/s, loss=0.0733]\n"
          ]
        },
        {
          "output_type": "stream",
          "name": "stdout",
          "text": [
            "Epoch [1082/3000]: Train loss: 0.0906, Valid loss: 0.1120\n"
          ]
        },
        {
          "output_type": "stream",
          "name": "stderr",
          "text": [
            "Epoch [1083/3000]: 100%|██████████| 4/4 [00:00<00:00, 127.01it/s, loss=0.114]\n"
          ]
        },
        {
          "output_type": "stream",
          "name": "stdout",
          "text": [
            "Epoch [1083/3000]: Train loss: 0.1014, Valid loss: 0.1102\n"
          ]
        },
        {
          "output_type": "stream",
          "name": "stderr",
          "text": [
            "Epoch [1084/3000]: 100%|██████████| 4/4 [00:00<00:00, 110.03it/s, loss=0.0962]\n"
          ]
        },
        {
          "output_type": "stream",
          "name": "stdout",
          "text": [
            "Epoch [1084/3000]: Train loss: 0.0961, Valid loss: 0.1033\n",
            "Saving model with loss 0.103...\n"
          ]
        },
        {
          "output_type": "stream",
          "name": "stderr",
          "text": [
            "Epoch [1085/3000]: 100%|██████████| 4/4 [00:00<00:00, 129.37it/s, loss=0.108]\n"
          ]
        },
        {
          "output_type": "stream",
          "name": "stdout",
          "text": [
            "Epoch [1085/3000]: Train loss: 0.0985, Valid loss: 0.1070\n"
          ]
        },
        {
          "output_type": "stream",
          "name": "stderr",
          "text": [
            "Epoch [1086/3000]: 100%|██████████| 4/4 [00:00<00:00, 115.78it/s, loss=0.124]\n"
          ]
        },
        {
          "output_type": "stream",
          "name": "stdout",
          "text": [
            "Epoch [1086/3000]: Train loss: 0.1027, Valid loss: 0.1040\n"
          ]
        },
        {
          "output_type": "stream",
          "name": "stderr",
          "text": [
            "Epoch [1087/3000]: 100%|██████████| 4/4 [00:00<00:00, 114.97it/s, loss=0.0776]\n"
          ]
        },
        {
          "output_type": "stream",
          "name": "stdout",
          "text": [
            "Epoch [1087/3000]: Train loss: 0.0915, Valid loss: 0.1108\n"
          ]
        },
        {
          "output_type": "stream",
          "name": "stderr",
          "text": [
            "Epoch [1088/3000]: 100%|██████████| 4/4 [00:00<00:00, 106.17it/s, loss=0.121]\n"
          ]
        },
        {
          "output_type": "stream",
          "name": "stdout",
          "text": [
            "Epoch [1088/3000]: Train loss: 0.1017, Valid loss: 0.1053\n"
          ]
        },
        {
          "output_type": "stream",
          "name": "stderr",
          "text": [
            "Epoch [1089/3000]: 100%|██████████| 4/4 [00:00<00:00, 106.59it/s, loss=0.0767]\n"
          ]
        },
        {
          "output_type": "stream",
          "name": "stdout",
          "text": [
            "Epoch [1089/3000]: Train loss: 0.0897, Valid loss: 0.1058\n"
          ]
        },
        {
          "output_type": "stream",
          "name": "stderr",
          "text": [
            "Epoch [1090/3000]: 100%|██████████| 4/4 [00:00<00:00, 103.06it/s, loss=0.118]\n"
          ]
        },
        {
          "output_type": "stream",
          "name": "stdout",
          "text": [
            "Epoch [1090/3000]: Train loss: 0.0990, Valid loss: 0.1070\n"
          ]
        },
        {
          "output_type": "stream",
          "name": "stderr",
          "text": [
            "Epoch [1091/3000]: 100%|██████████| 4/4 [00:00<00:00, 115.36it/s, loss=0.0789]\n"
          ]
        },
        {
          "output_type": "stream",
          "name": "stdout",
          "text": [
            "Epoch [1091/3000]: Train loss: 0.0899, Valid loss: 0.1055\n"
          ]
        },
        {
          "output_type": "stream",
          "name": "stderr",
          "text": [
            "Epoch [1092/3000]: 100%|██████████| 4/4 [00:00<00:00, 115.47it/s, loss=0.0661]\n"
          ]
        },
        {
          "output_type": "stream",
          "name": "stdout",
          "text": [
            "Epoch [1092/3000]: Train loss: 0.0875, Valid loss: 0.1063\n"
          ]
        },
        {
          "output_type": "stream",
          "name": "stderr",
          "text": [
            "Epoch [1093/3000]: 100%|██████████| 4/4 [00:00<00:00, 124.67it/s, loss=0.0806]\n"
          ]
        },
        {
          "output_type": "stream",
          "name": "stdout",
          "text": [
            "Epoch [1093/3000]: Train loss: 0.0907, Valid loss: 0.1040\n"
          ]
        },
        {
          "output_type": "stream",
          "name": "stderr",
          "text": [
            "Epoch [1094/3000]: 100%|██████████| 4/4 [00:00<00:00, 125.72it/s, loss=0.0655]\n"
          ]
        },
        {
          "output_type": "stream",
          "name": "stdout",
          "text": [
            "Epoch [1094/3000]: Train loss: 0.0875, Valid loss: 0.1049\n"
          ]
        },
        {
          "output_type": "stream",
          "name": "stderr",
          "text": [
            "Epoch [1095/3000]: 100%|██████████| 4/4 [00:00<00:00, 116.58it/s, loss=0.0969]\n"
          ]
        },
        {
          "output_type": "stream",
          "name": "stdout",
          "text": [
            "Epoch [1095/3000]: Train loss: 0.0942, Valid loss: 0.1135\n"
          ]
        },
        {
          "output_type": "stream",
          "name": "stderr",
          "text": [
            "Epoch [1096/3000]: 100%|██████████| 4/4 [00:00<00:00, 95.67it/s, loss=0.158]\n"
          ]
        },
        {
          "output_type": "stream",
          "name": "stdout",
          "text": [
            "Epoch [1096/3000]: Train loss: 0.1089, Valid loss: 0.1043\n"
          ]
        },
        {
          "output_type": "stream",
          "name": "stderr",
          "text": [
            "Epoch [1097/3000]: 100%|██████████| 4/4 [00:00<00:00, 113.91it/s, loss=0.089]\n"
          ]
        },
        {
          "output_type": "stream",
          "name": "stdout",
          "text": [
            "Epoch [1097/3000]: Train loss: 0.0951, Valid loss: 0.1062\n"
          ]
        },
        {
          "output_type": "stream",
          "name": "stderr",
          "text": [
            "Epoch [1098/3000]: 100%|██████████| 4/4 [00:00<00:00, 110.20it/s, loss=0.0667]\n"
          ]
        },
        {
          "output_type": "stream",
          "name": "stdout",
          "text": [
            "Epoch [1098/3000]: Train loss: 0.0878, Valid loss: 0.1131\n"
          ]
        },
        {
          "output_type": "stream",
          "name": "stderr",
          "text": [
            "Epoch [1099/3000]: 100%|██████████| 4/4 [00:00<00:00, 117.08it/s, loss=0.109]\n"
          ]
        },
        {
          "output_type": "stream",
          "name": "stdout",
          "text": [
            "Epoch [1099/3000]: Train loss: 0.0992, Valid loss: 0.1043\n"
          ]
        },
        {
          "output_type": "stream",
          "name": "stderr",
          "text": [
            "Epoch [1100/3000]: 100%|██████████| 4/4 [00:00<00:00, 119.72it/s, loss=0.0961]\n"
          ]
        },
        {
          "output_type": "stream",
          "name": "stdout",
          "text": [
            "Epoch [1100/3000]: Train loss: 0.0931, Valid loss: 0.1082\n"
          ]
        },
        {
          "output_type": "stream",
          "name": "stderr",
          "text": [
            "Epoch [1101/3000]: 100%|██████████| 4/4 [00:00<00:00, 121.36it/s, loss=0.0913]\n"
          ]
        },
        {
          "output_type": "stream",
          "name": "stdout",
          "text": [
            "Epoch [1101/3000]: Train loss: 0.0940, Valid loss: 0.1034\n"
          ]
        },
        {
          "output_type": "stream",
          "name": "stderr",
          "text": [
            "Epoch [1102/3000]: 100%|██████████| 4/4 [00:00<00:00, 124.06it/s, loss=0.108]\n"
          ]
        },
        {
          "output_type": "stream",
          "name": "stdout",
          "text": [
            "Epoch [1102/3000]: Train loss: 0.0963, Valid loss: 0.1039\n"
          ]
        },
        {
          "output_type": "stream",
          "name": "stderr",
          "text": [
            "Epoch [1103/3000]: 100%|██████████| 4/4 [00:00<00:00, 129.26it/s, loss=0.0871]\n"
          ]
        },
        {
          "output_type": "stream",
          "name": "stdout",
          "text": [
            "Epoch [1103/3000]: Train loss: 0.0919, Valid loss: 0.1084\n"
          ]
        },
        {
          "output_type": "stream",
          "name": "stderr",
          "text": [
            "Epoch [1104/3000]: 100%|██████████| 4/4 [00:00<00:00, 110.96it/s, loss=0.101]\n"
          ]
        },
        {
          "output_type": "stream",
          "name": "stdout",
          "text": [
            "Epoch [1104/3000]: Train loss: 0.0960, Valid loss: 0.1119\n"
          ]
        },
        {
          "output_type": "stream",
          "name": "stderr",
          "text": [
            "Epoch [1105/3000]: 100%|██████████| 4/4 [00:00<00:00, 113.07it/s, loss=0.0973]\n"
          ]
        },
        {
          "output_type": "stream",
          "name": "stdout",
          "text": [
            "Epoch [1105/3000]: Train loss: 0.0965, Valid loss: 0.1089\n"
          ]
        },
        {
          "output_type": "stream",
          "name": "stderr",
          "text": [
            "Epoch [1106/3000]: 100%|██████████| 4/4 [00:00<00:00, 40.32it/s, loss=0.0825]\n"
          ]
        },
        {
          "output_type": "stream",
          "name": "stdout",
          "text": [
            "Epoch [1106/3000]: Train loss: 0.0919, Valid loss: 0.1043\n"
          ]
        },
        {
          "output_type": "stream",
          "name": "stderr",
          "text": [
            "Epoch [1107/3000]: 100%|██████████| 4/4 [00:00<00:00, 41.61it/s, loss=0.0676]\n"
          ]
        },
        {
          "output_type": "stream",
          "name": "stdout",
          "text": [
            "Epoch [1107/3000]: Train loss: 0.0872, Valid loss: 0.1050\n"
          ]
        },
        {
          "output_type": "stream",
          "name": "stderr",
          "text": [
            "Epoch [1108/3000]: 100%|██████████| 4/4 [00:00<00:00, 69.97it/s, loss=0.0887]\n"
          ]
        },
        {
          "output_type": "stream",
          "name": "stdout",
          "text": [
            "Epoch [1108/3000]: Train loss: 0.0928, Valid loss: 0.1036\n"
          ]
        },
        {
          "output_type": "stream",
          "name": "stderr",
          "text": [
            "Epoch [1109/3000]: 100%|██████████| 4/4 [00:00<00:00, 108.27it/s, loss=0.0545]\n"
          ]
        },
        {
          "output_type": "stream",
          "name": "stdout",
          "text": [
            "Epoch [1109/3000]: Train loss: 0.0848, Valid loss: 0.1097\n"
          ]
        },
        {
          "output_type": "stream",
          "name": "stderr",
          "text": [
            "Epoch [1110/3000]: 100%|██████████| 4/4 [00:00<00:00, 83.47it/s, loss=0.112]\n"
          ]
        },
        {
          "output_type": "stream",
          "name": "stdout",
          "text": [
            "Epoch [1110/3000]: Train loss: 0.0978, Valid loss: 0.1076\n"
          ]
        },
        {
          "output_type": "stream",
          "name": "stderr",
          "text": [
            "Epoch [1111/3000]: 100%|██████████| 4/4 [00:00<00:00, 87.03it/s, loss=0.0838]\n"
          ]
        },
        {
          "output_type": "stream",
          "name": "stdout",
          "text": [
            "Epoch [1111/3000]: Train loss: 0.0928, Valid loss: 0.1042\n"
          ]
        },
        {
          "output_type": "stream",
          "name": "stderr",
          "text": [
            "Epoch [1112/3000]: 100%|██████████| 4/4 [00:00<00:00, 73.30it/s, loss=0.116]\n"
          ]
        },
        {
          "output_type": "stream",
          "name": "stdout",
          "text": [
            "Epoch [1112/3000]: Train loss: 0.0981, Valid loss: 0.1024\n",
            "Saving model with loss 0.102...\n"
          ]
        },
        {
          "output_type": "stream",
          "name": "stderr",
          "text": [
            "Epoch [1113/3000]: 100%|██████████| 4/4 [00:00<00:00, 72.68it/s, loss=0.0952]\n"
          ]
        },
        {
          "output_type": "stream",
          "name": "stdout",
          "text": [
            "Epoch [1113/3000]: Train loss: 0.0955, Valid loss: 0.1097\n"
          ]
        },
        {
          "output_type": "stream",
          "name": "stderr",
          "text": [
            "Epoch [1114/3000]: 100%|██████████| 4/4 [00:00<00:00, 65.85it/s, loss=0.0827]\n"
          ]
        },
        {
          "output_type": "stream",
          "name": "stdout",
          "text": [
            "Epoch [1114/3000]: Train loss: 0.0912, Valid loss: 0.1063\n"
          ]
        },
        {
          "output_type": "stream",
          "name": "stderr",
          "text": [
            "Epoch [1115/3000]: 100%|██████████| 4/4 [00:00<00:00, 68.26it/s, loss=0.104]\n"
          ]
        },
        {
          "output_type": "stream",
          "name": "stdout",
          "text": [
            "Epoch [1115/3000]: Train loss: 0.1008, Valid loss: 0.1060\n"
          ]
        },
        {
          "output_type": "stream",
          "name": "stderr",
          "text": [
            "Epoch [1116/3000]: 100%|██████████| 4/4 [00:00<00:00, 88.33it/s, loss=0.0985]\n"
          ]
        },
        {
          "output_type": "stream",
          "name": "stdout",
          "text": [
            "Epoch [1116/3000]: Train loss: 0.0954, Valid loss: 0.1074\n"
          ]
        },
        {
          "output_type": "stream",
          "name": "stderr",
          "text": [
            "Epoch [1117/3000]: 100%|██████████| 4/4 [00:00<00:00, 86.04it/s, loss=0.0763]\n"
          ]
        },
        {
          "output_type": "stream",
          "name": "stdout",
          "text": [
            "Epoch [1117/3000]: Train loss: 0.0888, Valid loss: 0.1039\n"
          ]
        },
        {
          "output_type": "stream",
          "name": "stderr",
          "text": [
            "Epoch [1118/3000]: 100%|██████████| 4/4 [00:00<00:00, 77.85it/s, loss=0.0758]\n"
          ]
        },
        {
          "output_type": "stream",
          "name": "stdout",
          "text": [
            "Epoch [1118/3000]: Train loss: 0.0915, Valid loss: 0.1055\n"
          ]
        },
        {
          "output_type": "stream",
          "name": "stderr",
          "text": [
            "Epoch [1119/3000]: 100%|██████████| 4/4 [00:00<00:00, 81.98it/s, loss=0.0842]\n"
          ]
        },
        {
          "output_type": "stream",
          "name": "stdout",
          "text": [
            "Epoch [1119/3000]: Train loss: 0.0931, Valid loss: 0.1042\n"
          ]
        },
        {
          "output_type": "stream",
          "name": "stderr",
          "text": [
            "Epoch [1120/3000]: 100%|██████████| 4/4 [00:00<00:00, 107.06it/s, loss=0.112]\n"
          ]
        },
        {
          "output_type": "stream",
          "name": "stdout",
          "text": [
            "Epoch [1120/3000]: Train loss: 0.0972, Valid loss: 0.1018\n",
            "Saving model with loss 0.102...\n"
          ]
        },
        {
          "output_type": "stream",
          "name": "stderr",
          "text": [
            "Epoch [1121/3000]: 100%|██████████| 4/4 [00:00<00:00, 98.72it/s, loss=0.0861]\n"
          ]
        },
        {
          "output_type": "stream",
          "name": "stdout",
          "text": [
            "Epoch [1121/3000]: Train loss: 0.0921, Valid loss: 0.1097\n"
          ]
        },
        {
          "output_type": "stream",
          "name": "stderr",
          "text": [
            "Epoch [1122/3000]: 100%|██████████| 4/4 [00:00<00:00, 111.77it/s, loss=0.0825]\n"
          ]
        },
        {
          "output_type": "stream",
          "name": "stdout",
          "text": [
            "Epoch [1122/3000]: Train loss: 0.0905, Valid loss: 0.1031\n"
          ]
        },
        {
          "output_type": "stream",
          "name": "stderr",
          "text": [
            "Epoch [1123/3000]: 100%|██████████| 4/4 [00:00<00:00, 107.32it/s, loss=0.0555]\n"
          ]
        },
        {
          "output_type": "stream",
          "name": "stdout",
          "text": [
            "Epoch [1123/3000]: Train loss: 0.0853, Valid loss: 0.1063\n"
          ]
        },
        {
          "output_type": "stream",
          "name": "stderr",
          "text": [
            "Epoch [1124/3000]: 100%|██████████| 4/4 [00:00<00:00, 111.64it/s, loss=0.0881]\n"
          ]
        },
        {
          "output_type": "stream",
          "name": "stdout",
          "text": [
            "Epoch [1124/3000]: Train loss: 0.0922, Valid loss: 0.1048\n"
          ]
        },
        {
          "output_type": "stream",
          "name": "stderr",
          "text": [
            "Epoch [1125/3000]: 100%|██████████| 4/4 [00:00<00:00, 92.68it/s, loss=0.0792]\n"
          ]
        },
        {
          "output_type": "stream",
          "name": "stdout",
          "text": [
            "Epoch [1125/3000]: Train loss: 0.0889, Valid loss: 0.1014\n",
            "Saving model with loss 0.101...\n"
          ]
        },
        {
          "output_type": "stream",
          "name": "stderr",
          "text": [
            "Epoch [1126/3000]: 100%|██████████| 4/4 [00:00<00:00, 121.15it/s, loss=0.121]\n"
          ]
        },
        {
          "output_type": "stream",
          "name": "stdout",
          "text": [
            "Epoch [1126/3000]: Train loss: 0.1003, Valid loss: 0.1040\n"
          ]
        },
        {
          "output_type": "stream",
          "name": "stderr",
          "text": [
            "Epoch [1127/3000]: 100%|██████████| 4/4 [00:00<00:00, 104.05it/s, loss=0.134]\n"
          ]
        },
        {
          "output_type": "stream",
          "name": "stdout",
          "text": [
            "Epoch [1127/3000]: Train loss: 0.1023, Valid loss: 0.1035\n"
          ]
        },
        {
          "output_type": "stream",
          "name": "stderr",
          "text": [
            "Epoch [1128/3000]: 100%|██████████| 4/4 [00:00<00:00, 99.30it/s, loss=0.0858]\n"
          ]
        },
        {
          "output_type": "stream",
          "name": "stdout",
          "text": [
            "Epoch [1128/3000]: Train loss: 0.0914, Valid loss: 0.1054\n"
          ]
        },
        {
          "output_type": "stream",
          "name": "stderr",
          "text": [
            "Epoch [1129/3000]: 100%|██████████| 4/4 [00:00<00:00, 104.57it/s, loss=0.0684]\n"
          ]
        },
        {
          "output_type": "stream",
          "name": "stdout",
          "text": [
            "Epoch [1129/3000]: Train loss: 0.0880, Valid loss: 0.1085\n"
          ]
        },
        {
          "output_type": "stream",
          "name": "stderr",
          "text": [
            "Epoch [1130/3000]: 100%|██████████| 4/4 [00:00<00:00, 70.12it/s, loss=0.146]\n"
          ]
        },
        {
          "output_type": "stream",
          "name": "stdout",
          "text": [
            "Epoch [1130/3000]: Train loss: 0.1052, Valid loss: 0.1038\n"
          ]
        },
        {
          "output_type": "stream",
          "name": "stderr",
          "text": [
            "Epoch [1131/3000]: 100%|██████████| 4/4 [00:00<00:00, 107.20it/s, loss=0.0887]\n"
          ]
        },
        {
          "output_type": "stream",
          "name": "stdout",
          "text": [
            "Epoch [1131/3000]: Train loss: 0.0916, Valid loss: 0.1045\n"
          ]
        },
        {
          "output_type": "stream",
          "name": "stderr",
          "text": [
            "Epoch [1132/3000]: 100%|██████████| 4/4 [00:00<00:00, 86.50it/s, loss=0.144]\n"
          ]
        },
        {
          "output_type": "stream",
          "name": "stdout",
          "text": [
            "Epoch [1132/3000]: Train loss: 0.1063, Valid loss: 0.1017\n"
          ]
        },
        {
          "output_type": "stream",
          "name": "stderr",
          "text": [
            "Epoch [1133/3000]: 100%|██████████| 4/4 [00:00<00:00, 60.67it/s, loss=0.0722]\n"
          ]
        },
        {
          "output_type": "stream",
          "name": "stdout",
          "text": [
            "Epoch [1133/3000]: Train loss: 0.0878, Valid loss: 0.1064\n"
          ]
        },
        {
          "output_type": "stream",
          "name": "stderr",
          "text": [
            "Epoch [1134/3000]: 100%|██████████| 4/4 [00:00<00:00, 124.36it/s, loss=0.0839]\n"
          ]
        },
        {
          "output_type": "stream",
          "name": "stdout",
          "text": [
            "Epoch [1134/3000]: Train loss: 0.0922, Valid loss: 0.1067\n"
          ]
        },
        {
          "output_type": "stream",
          "name": "stderr",
          "text": [
            "Epoch [1135/3000]: 100%|██████████| 4/4 [00:00<00:00, 111.52it/s, loss=0.109]\n"
          ]
        },
        {
          "output_type": "stream",
          "name": "stdout",
          "text": [
            "Epoch [1135/3000]: Train loss: 0.0966, Valid loss: 0.1056\n"
          ]
        },
        {
          "output_type": "stream",
          "name": "stderr",
          "text": [
            "Epoch [1136/3000]: 100%|██████████| 4/4 [00:00<00:00, 110.77it/s, loss=0.0891]\n"
          ]
        },
        {
          "output_type": "stream",
          "name": "stdout",
          "text": [
            "Epoch [1136/3000]: Train loss: 0.0922, Valid loss: 0.1048\n"
          ]
        },
        {
          "output_type": "stream",
          "name": "stderr",
          "text": [
            "Epoch [1137/3000]: 100%|██████████| 4/4 [00:00<00:00, 99.78it/s, loss=0.0874]\n"
          ]
        },
        {
          "output_type": "stream",
          "name": "stdout",
          "text": [
            "Epoch [1137/3000]: Train loss: 0.0912, Valid loss: 0.1015\n"
          ]
        },
        {
          "output_type": "stream",
          "name": "stderr",
          "text": [
            "Epoch [1138/3000]: 100%|██████████| 4/4 [00:00<00:00, 121.45it/s, loss=0.0622]\n"
          ]
        },
        {
          "output_type": "stream",
          "name": "stdout",
          "text": [
            "Epoch [1138/3000]: Train loss: 0.0863, Valid loss: 0.1026\n"
          ]
        },
        {
          "output_type": "stream",
          "name": "stderr",
          "text": [
            "Epoch [1139/3000]: 100%|██████████| 4/4 [00:00<00:00, 111.54it/s, loss=0.0884]\n"
          ]
        },
        {
          "output_type": "stream",
          "name": "stdout",
          "text": [
            "Epoch [1139/3000]: Train loss: 0.0928, Valid loss: 0.1069\n"
          ]
        },
        {
          "output_type": "stream",
          "name": "stderr",
          "text": [
            "Epoch [1140/3000]: 100%|██████████| 4/4 [00:00<00:00, 114.91it/s, loss=0.0971]\n"
          ]
        },
        {
          "output_type": "stream",
          "name": "stdout",
          "text": [
            "Epoch [1140/3000]: Train loss: 0.0934, Valid loss: 0.1039\n"
          ]
        },
        {
          "output_type": "stream",
          "name": "stderr",
          "text": [
            "Epoch [1141/3000]: 100%|██████████| 4/4 [00:00<00:00, 126.07it/s, loss=0.0761]\n"
          ]
        },
        {
          "output_type": "stream",
          "name": "stdout",
          "text": [
            "Epoch [1141/3000]: Train loss: 0.0905, Valid loss: 0.1038\n"
          ]
        },
        {
          "output_type": "stream",
          "name": "stderr",
          "text": [
            "Epoch [1142/3000]: 100%|██████████| 4/4 [00:00<00:00, 121.28it/s, loss=0.0933]\n"
          ]
        },
        {
          "output_type": "stream",
          "name": "stdout",
          "text": [
            "Epoch [1142/3000]: Train loss: 0.0932, Valid loss: 0.1035\n"
          ]
        },
        {
          "output_type": "stream",
          "name": "stderr",
          "text": [
            "Epoch [1143/3000]: 100%|██████████| 4/4 [00:00<00:00, 94.76it/s, loss=0.106]\n"
          ]
        },
        {
          "output_type": "stream",
          "name": "stdout",
          "text": [
            "Epoch [1143/3000]: Train loss: 0.0943, Valid loss: 0.1025\n"
          ]
        },
        {
          "output_type": "stream",
          "name": "stderr",
          "text": [
            "Epoch [1144/3000]: 100%|██████████| 4/4 [00:00<00:00, 119.80it/s, loss=0.1]\n"
          ]
        },
        {
          "output_type": "stream",
          "name": "stdout",
          "text": [
            "Epoch [1144/3000]: Train loss: 0.0940, Valid loss: 0.1040\n"
          ]
        },
        {
          "output_type": "stream",
          "name": "stderr",
          "text": [
            "Epoch [1145/3000]: 100%|██████████| 4/4 [00:00<00:00, 120.89it/s, loss=0.0788]\n"
          ]
        },
        {
          "output_type": "stream",
          "name": "stdout",
          "text": [
            "Epoch [1145/3000]: Train loss: 0.0887, Valid loss: 0.1018\n"
          ]
        },
        {
          "output_type": "stream",
          "name": "stderr",
          "text": [
            "Epoch [1146/3000]: 100%|██████████| 4/4 [00:00<00:00, 90.89it/s, loss=0.0935]\n"
          ]
        },
        {
          "output_type": "stream",
          "name": "stdout",
          "text": [
            "Epoch [1146/3000]: Train loss: 0.0916, Valid loss: 0.1046\n"
          ]
        },
        {
          "output_type": "stream",
          "name": "stderr",
          "text": [
            "Epoch [1147/3000]: 100%|██████████| 4/4 [00:00<00:00, 130.06it/s, loss=0.0826]\n"
          ]
        },
        {
          "output_type": "stream",
          "name": "stdout",
          "text": [
            "Epoch [1147/3000]: Train loss: 0.0914, Valid loss: 0.1043\n"
          ]
        },
        {
          "output_type": "stream",
          "name": "stderr",
          "text": [
            "Epoch [1148/3000]: 100%|██████████| 4/4 [00:00<00:00, 128.29it/s, loss=0.117]\n"
          ]
        },
        {
          "output_type": "stream",
          "name": "stdout",
          "text": [
            "Epoch [1148/3000]: Train loss: 0.0979, Valid loss: 0.1053\n"
          ]
        },
        {
          "output_type": "stream",
          "name": "stderr",
          "text": [
            "Epoch [1149/3000]: 100%|██████████| 4/4 [00:00<00:00, 118.50it/s, loss=0.0941]\n"
          ]
        },
        {
          "output_type": "stream",
          "name": "stdout",
          "text": [
            "Epoch [1149/3000]: Train loss: 0.0933, Valid loss: 0.1077\n"
          ]
        },
        {
          "output_type": "stream",
          "name": "stderr",
          "text": [
            "Epoch [1150/3000]: 100%|██████████| 4/4 [00:00<00:00, 111.32it/s, loss=0.116]\n"
          ]
        },
        {
          "output_type": "stream",
          "name": "stdout",
          "text": [
            "Epoch [1150/3000]: Train loss: 0.0978, Valid loss: 0.1014\n"
          ]
        },
        {
          "output_type": "stream",
          "name": "stderr",
          "text": [
            "Epoch [1151/3000]: 100%|██████████| 4/4 [00:00<00:00, 124.14it/s, loss=0.118]\n"
          ]
        },
        {
          "output_type": "stream",
          "name": "stdout",
          "text": [
            "Epoch [1151/3000]: Train loss: 0.0983, Valid loss: 0.1049\n"
          ]
        },
        {
          "output_type": "stream",
          "name": "stderr",
          "text": [
            "Epoch [1152/3000]: 100%|██████████| 4/4 [00:00<00:00, 126.68it/s, loss=0.106]\n"
          ]
        },
        {
          "output_type": "stream",
          "name": "stdout",
          "text": [
            "Epoch [1152/3000]: Train loss: 0.0963, Valid loss: 0.1071\n"
          ]
        },
        {
          "output_type": "stream",
          "name": "stderr",
          "text": [
            "Epoch [1153/3000]: 100%|██████████| 4/4 [00:00<00:00, 91.05it/s, loss=0.0963]\n"
          ]
        },
        {
          "output_type": "stream",
          "name": "stdout",
          "text": [
            "Epoch [1153/3000]: Train loss: 0.0939, Valid loss: 0.1031\n"
          ]
        },
        {
          "output_type": "stream",
          "name": "stderr",
          "text": [
            "Epoch [1154/3000]: 100%|██████████| 4/4 [00:00<00:00, 114.25it/s, loss=0.0901]\n"
          ]
        },
        {
          "output_type": "stream",
          "name": "stdout",
          "text": [
            "Epoch [1154/3000]: Train loss: 0.0918, Valid loss: 0.1066\n"
          ]
        },
        {
          "output_type": "stream",
          "name": "stderr",
          "text": [
            "Epoch [1155/3000]: 100%|██████████| 4/4 [00:00<00:00, 114.54it/s, loss=0.134]\n"
          ]
        },
        {
          "output_type": "stream",
          "name": "stdout",
          "text": [
            "Epoch [1155/3000]: Train loss: 0.1028, Valid loss: 0.1029\n"
          ]
        },
        {
          "output_type": "stream",
          "name": "stderr",
          "text": [
            "Epoch [1156/3000]: 100%|██████████| 4/4 [00:00<00:00, 122.46it/s, loss=0.077]\n"
          ]
        },
        {
          "output_type": "stream",
          "name": "stdout",
          "text": [
            "Epoch [1156/3000]: Train loss: 0.0889, Valid loss: 0.1015\n"
          ]
        },
        {
          "output_type": "stream",
          "name": "stderr",
          "text": [
            "Epoch [1157/3000]: 100%|██████████| 4/4 [00:00<00:00, 110.81it/s, loss=0.082]\n"
          ]
        },
        {
          "output_type": "stream",
          "name": "stdout",
          "text": [
            "Epoch [1157/3000]: Train loss: 0.0907, Valid loss: 0.1066\n"
          ]
        },
        {
          "output_type": "stream",
          "name": "stderr",
          "text": [
            "Epoch [1158/3000]: 100%|██████████| 4/4 [00:00<00:00, 134.15it/s, loss=0.107]\n"
          ]
        },
        {
          "output_type": "stream",
          "name": "stdout",
          "text": [
            "Epoch [1158/3000]: Train loss: 0.0965, Valid loss: 0.1073\n"
          ]
        },
        {
          "output_type": "stream",
          "name": "stderr",
          "text": [
            "Epoch [1159/3000]: 100%|██████████| 4/4 [00:00<00:00, 108.15it/s, loss=0.139]\n"
          ]
        },
        {
          "output_type": "stream",
          "name": "stdout",
          "text": [
            "Epoch [1159/3000]: Train loss: 0.1022, Valid loss: 0.1032\n"
          ]
        },
        {
          "output_type": "stream",
          "name": "stderr",
          "text": [
            "Epoch [1160/3000]: 100%|██████████| 4/4 [00:00<00:00, 99.50it/s, loss=0.0893]\n"
          ]
        },
        {
          "output_type": "stream",
          "name": "stdout",
          "text": [
            "Epoch [1160/3000]: Train loss: 0.0905, Valid loss: 0.1021\n"
          ]
        },
        {
          "output_type": "stream",
          "name": "stderr",
          "text": [
            "Epoch [1161/3000]: 100%|██████████| 4/4 [00:00<00:00, 129.50it/s, loss=0.127]\n"
          ]
        },
        {
          "output_type": "stream",
          "name": "stdout",
          "text": [
            "Epoch [1161/3000]: Train loss: 0.1000, Valid loss: 0.1016\n"
          ]
        },
        {
          "output_type": "stream",
          "name": "stderr",
          "text": [
            "Epoch [1162/3000]: 100%|██████████| 4/4 [00:00<00:00, 120.03it/s, loss=0.0741]\n"
          ]
        },
        {
          "output_type": "stream",
          "name": "stdout",
          "text": [
            "Epoch [1162/3000]: Train loss: 0.0878, Valid loss: 0.1038\n"
          ]
        },
        {
          "output_type": "stream",
          "name": "stderr",
          "text": [
            "Epoch [1163/3000]: 100%|██████████| 4/4 [00:00<00:00, 113.52it/s, loss=0.0676]\n"
          ]
        },
        {
          "output_type": "stream",
          "name": "stdout",
          "text": [
            "Epoch [1163/3000]: Train loss: 0.0863, Valid loss: 0.1035\n"
          ]
        },
        {
          "output_type": "stream",
          "name": "stderr",
          "text": [
            "Epoch [1164/3000]: 100%|██████████| 4/4 [00:00<00:00, 109.46it/s, loss=0.0855]\n"
          ]
        },
        {
          "output_type": "stream",
          "name": "stdout",
          "text": [
            "Epoch [1164/3000]: Train loss: 0.0908, Valid loss: 0.1065\n"
          ]
        },
        {
          "output_type": "stream",
          "name": "stderr",
          "text": [
            "Epoch [1165/3000]: 100%|██████████| 4/4 [00:00<00:00, 118.27it/s, loss=0.0688]"
          ]
        },
        {
          "output_type": "stream",
          "name": "stdout",
          "text": [
            "Epoch [1165/3000]: Train loss: 0.0871, Valid loss: 0.1089\n",
            "\n",
            "Model is not improving, so we halt the training session.\n"
          ]
        },
        {
          "output_type": "stream",
          "name": "stderr",
          "text": [
            "\n"
          ]
        }
      ]
    },
    {
      "cell_type": "code",
      "source": [
        "print(device)"
      ],
      "metadata": {
        "id": "nfjj7fA0A8WY",
        "colab": {
          "base_uri": "https://localhost:8080/"
        },
        "outputId": "bfd923d6-7cb7-48c2-e826-52a2c3f6a97b"
      },
      "execution_count": 49,
      "outputs": [
        {
          "output_type": "stream",
          "name": "stdout",
          "text": [
            "cuda\n"
          ]
        }
      ]
    },
    {
      "cell_type": "code",
      "source": [
        "\n",
        "#%reload_ext tensorboard\n",
        "#%tensorboard --logdir=./runs/"
      ],
      "metadata": {
        "execution": {
          "iopub.status.busy": "2022-11-28T15:57:49.876146Z",
          "iopub.execute_input": "2022-11-28T15:57:49.876973Z",
          "iopub.status.idle": "2022-11-28T15:57:58.443999Z",
          "shell.execute_reply.started": "2022-11-28T15:57:49.876872Z",
          "shell.execute_reply": "2022-11-28T15:57:58.442610Z"
        },
        "trusted": true,
        "id": "5_EenKIu9_ei"
      },
      "execution_count": 50,
      "outputs": []
    },
    {
      "cell_type": "code",
      "source": [
        "def save_pred(preds, file):\n",
        "    ''' Save predictions to specified file '''\n",
        "    with open(file, 'w') as fp:\n",
        "        writer = csv.writer(fp)\n",
        "        writer.writerow(['x', 'y'])\n",
        "        for i, p in enumerate(preds):\n",
        "            writer.writerow([i, p])\n",
        "\n",
        "model = My_Model(input_dim=x_train.shape[1]).to(device)\n",
        "model.load_state_dict(torch.load(config['save_path']))\n",
        "preds = predict(test_loader, model, device) \n",
        "#save_pred(preds, 'submission.csv')"
      ],
      "metadata": {
        "trusted": true,
        "id": "nm91g5b69_ei",
        "colab": {
          "base_uri": "https://localhost:8080/"
        },
        "outputId": "d1da1d88-af3f-4711-aa31-d8e1cd6483ae"
      },
      "execution_count": 51,
      "outputs": [
        {
          "output_type": "stream",
          "name": "stderr",
          "text": [
            "100%|██████████| 1/1 [00:00<00:00, 574.09it/s]\n"
          ]
        }
      ]
    },
    {
      "cell_type": "code",
      "source": [
        "subx=pd.DataFrame(x_test,columns=['x'])\n",
        "suby=pd.DataFrame(preds,columns=['y'])\n",
        "sub=pd.concat([subx,suby],axis=1)\n",
        "sub.to_csv('submission.csv')"
      ],
      "metadata": {
        "id": "bC6KWgEs3yv_"
      },
      "execution_count": 52,
      "outputs": []
    },
    {
      "cell_type": "code",
      "source": [
        "tmp = pd.read_csv('sample.csv')#[[\"shop.4\",\"tested_positive.4\"]]\n",
        "tmp2 = pd.read_csv('submission.csv') \n",
        "import matplotlib.pyplot as plt\n",
        "ax = tmp.plot(kind='scatter',x=\"x\",y=\"y\") # bar can be replaced by \n",
        "\n",
        "tmp2.plot(ax=ax,x=\"x\",y=\"y\",color='red') # bar can be replaced by \n",
        "# scatter or line or even left as default\n",
        " \n",
        "plt.show()"
      ],
      "metadata": {
        "colab": {
          "base_uri": "https://localhost:8080/",
          "height": 279
        },
        "id": "TRLJam02MGqK",
        "outputId": "3e4749b7-6303-4bb9-fe06-daa3662e2f01"
      },
      "execution_count": 53,
      "outputs": [
        {
          "output_type": "display_data",
          "data": {
            "text/plain": [
              "<Figure size 432x288 with 1 Axes>"
            ],
            "image/png": "[encoded data removed]"
          },
          "metadata": {
            "needs_background": "light"
          }
        }
      ]
    }
  ]
}